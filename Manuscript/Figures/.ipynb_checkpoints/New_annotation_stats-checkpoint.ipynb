{
 "cells": [
  {
   "cell_type": "code",
   "execution_count": 1,
   "id": "63c1a290",
   "metadata": {
    "ExecuteTime": {
     "end_time": "2021-12-14T18:22:57.781520Z",
     "start_time": "2021-12-14T18:22:55.903230Z"
    }
   },
   "outputs": [],
   "source": [
    "import os\n",
    "import numpy as np\n",
    "import scipy\n",
    "from collections import Counter\n",
    "import sys\n",
    "from IPython.display import SVG\n",
    "import time\n",
    "import matplotlib.pyplot as plt\n",
    "import pandas as pd\n",
    "import seaborn as sns\n",
    "import itertools\n",
    "import matplotlib as ml\n",
    "import re"
   ]
  },
  {
   "cell_type": "code",
   "execution_count": 2,
   "id": "3753442c",
   "metadata": {
    "ExecuteTime": {
     "end_time": "2021-12-14T18:23:05.176982Z",
     "start_time": "2021-12-14T18:23:05.169293Z"
    }
   },
   "outputs": [],
   "source": [
    "%matplotlib inline\n",
    "from matplotlib import gridspec\n",
    "#font = {'family' : 'Sans', 'weight' : 'normal','size': 16}\n",
    "font = {'weight' : 'normal','size': 16}\n",
    "ml.rc('font', **font)\n",
    "#ml.rcParams['figure.figsize'] = (5.0, 5.0)\n",
    "ml.rcParams['text.usetex'] =False\n",
    "ml.rcParams['pdf.fonttype'] = 42\n",
    "ml.rcParams['ps.fonttype'] = 42\n",
    "ml.rc('font', family='serif',size=12)\n",
    "plt.rcParams['axes.spines.left'] = True\n",
    "plt.rcParams['axes.spines.right'] = False\n",
    "plt.rcParams['axes.spines.top'] = False\n",
    "plt.rcParams['axes.spines.bottom'] = True"
   ]
  },
  {
   "cell_type": "code",
   "execution_count": 13,
   "id": "2b8d0f58",
   "metadata": {
    "ExecuteTime": {
     "end_time": "2021-12-14T18:40:07.468800Z",
     "start_time": "2021-12-14T18:40:07.184705Z"
    }
   },
   "outputs": [
    {
     "data": {
      "text/html": [
       "<div>\n",
       "<style scoped>\n",
       "    .dataframe tbody tr th:only-of-type {\n",
       "        vertical-align: middle;\n",
       "    }\n",
       "\n",
       "    .dataframe tbody tr th {\n",
       "        vertical-align: top;\n",
       "    }\n",
       "\n",
       "    .dataframe thead th {\n",
       "        text-align: right;\n",
       "    }\n",
       "</style>\n",
       "<table border=\"1\" class=\"dataframe\">\n",
       "  <thead>\n",
       "    <tr style=\"text-align: right;\">\n",
       "      <th></th>\n",
       "      <th>0</th>\n",
       "      <th>1</th>\n",
       "      <th>2</th>\n",
       "      <th>3</th>\n",
       "      <th>4</th>\n",
       "      <th>5</th>\n",
       "      <th>6</th>\n",
       "      <th>7</th>\n",
       "      <th>8</th>\n",
       "      <th>feat_len</th>\n",
       "    </tr>\n",
       "  </thead>\n",
       "  <tbody>\n",
       "    <tr>\n",
       "      <th>0</th>\n",
       "      <td>LR999929.1</td>\n",
       "      <td>maker</td>\n",
       "      <td>mRNA</td>\n",
       "      <td>5718</td>\n",
       "      <td>11172</td>\n",
       "      <td>.</td>\n",
       "      <td>+</td>\n",
       "      <td>.</td>\n",
       "      <td>ID=Vcard_DToL03995-RA;Parent=Vcard_DToL03995;N...</td>\n",
       "      <td>5454</td>\n",
       "    </tr>\n",
       "    <tr>\n",
       "      <th>1</th>\n",
       "      <td>LR999929.1</td>\n",
       "      <td>maker</td>\n",
       "      <td>exon</td>\n",
       "      <td>5718</td>\n",
       "      <td>5927</td>\n",
       "      <td>.</td>\n",
       "      <td>+</td>\n",
       "      <td>.</td>\n",
       "      <td>ID=Vcard_DToL03995-RA:1;Parent=Vcard_DToL03995...</td>\n",
       "      <td>209</td>\n",
       "    </tr>\n",
       "    <tr>\n",
       "      <th>2</th>\n",
       "      <td>LR999929.1</td>\n",
       "      <td>maker</td>\n",
       "      <td>exon</td>\n",
       "      <td>6130</td>\n",
       "      <td>6445</td>\n",
       "      <td>.</td>\n",
       "      <td>+</td>\n",
       "      <td>.</td>\n",
       "      <td>ID=Vcard_DToL03995-RA:2;Parent=Vcard_DToL03995...</td>\n",
       "      <td>315</td>\n",
       "    </tr>\n",
       "    <tr>\n",
       "      <th>3</th>\n",
       "      <td>LR999929.1</td>\n",
       "      <td>maker</td>\n",
       "      <td>exon</td>\n",
       "      <td>6740</td>\n",
       "      <td>6926</td>\n",
       "      <td>.</td>\n",
       "      <td>+</td>\n",
       "      <td>.</td>\n",
       "      <td>ID=Vcard_DToL03995-RA:3;Parent=Vcard_DToL03995...</td>\n",
       "      <td>186</td>\n",
       "    </tr>\n",
       "    <tr>\n",
       "      <th>4</th>\n",
       "      <td>LR999929.1</td>\n",
       "      <td>maker</td>\n",
       "      <td>exon</td>\n",
       "      <td>7477</td>\n",
       "      <td>7703</td>\n",
       "      <td>.</td>\n",
       "      <td>+</td>\n",
       "      <td>.</td>\n",
       "      <td>ID=Vcard_DToL03995-RA:4;Parent=Vcard_DToL03995...</td>\n",
       "      <td>226</td>\n",
       "    </tr>\n",
       "    <tr>\n",
       "      <th>...</th>\n",
       "      <td>...</td>\n",
       "      <td>...</td>\n",
       "      <td>...</td>\n",
       "      <td>...</td>\n",
       "      <td>...</td>\n",
       "      <td>...</td>\n",
       "      <td>...</td>\n",
       "      <td>...</td>\n",
       "      <td>...</td>\n",
       "      <td>...</td>\n",
       "    </tr>\n",
       "    <tr>\n",
       "      <th>175356</th>\n",
       "      <td>LR999926.1</td>\n",
       "      <td>maker</td>\n",
       "      <td>CDS</td>\n",
       "      <td>16312713</td>\n",
       "      <td>16313049</td>\n",
       "      <td>.</td>\n",
       "      <td>-</td>\n",
       "      <td>0</td>\n",
       "      <td>ID=Vcard_DToL02698-RA:cds;Parent=Vcard_DToL026...</td>\n",
       "      <td>336</td>\n",
       "    </tr>\n",
       "    <tr>\n",
       "      <th>175357</th>\n",
       "      <td>LR999926.1</td>\n",
       "      <td>maker</td>\n",
       "      <td>CDS</td>\n",
       "      <td>16312534</td>\n",
       "      <td>16312682</td>\n",
       "      <td>.</td>\n",
       "      <td>-</td>\n",
       "      <td>2</td>\n",
       "      <td>ID=Vcard_DToL02698-RA:cds;Parent=Vcard_DToL026...</td>\n",
       "      <td>148</td>\n",
       "    </tr>\n",
       "    <tr>\n",
       "      <th>175358</th>\n",
       "      <td>LR999926.1</td>\n",
       "      <td>maker</td>\n",
       "      <td>CDS</td>\n",
       "      <td>16311735</td>\n",
       "      <td>16311899</td>\n",
       "      <td>.</td>\n",
       "      <td>-</td>\n",
       "      <td>0</td>\n",
       "      <td>ID=Vcard_DToL02698-RA:cds;Parent=Vcard_DToL026...</td>\n",
       "      <td>164</td>\n",
       "    </tr>\n",
       "    <tr>\n",
       "      <th>175359</th>\n",
       "      <td>LR999926.1</td>\n",
       "      <td>maker</td>\n",
       "      <td>CDS</td>\n",
       "      <td>16311464</td>\n",
       "      <td>16311617</td>\n",
       "      <td>.</td>\n",
       "      <td>-</td>\n",
       "      <td>0</td>\n",
       "      <td>ID=Vcard_DToL02698-RA:cds;Parent=Vcard_DToL026...</td>\n",
       "      <td>153</td>\n",
       "    </tr>\n",
       "    <tr>\n",
       "      <th>175360</th>\n",
       "      <td>LR999926.1</td>\n",
       "      <td>maker</td>\n",
       "      <td>CDS</td>\n",
       "      <td>16311133</td>\n",
       "      <td>16311395</td>\n",
       "      <td>.</td>\n",
       "      <td>-</td>\n",
       "      <td>2</td>\n",
       "      <td>ID=Vcard_DToL02698-RA:cds;Parent=Vcard_DToL026...</td>\n",
       "      <td>262</td>\n",
       "    </tr>\n",
       "  </tbody>\n",
       "</table>\n",
       "<p>175361 rows × 10 columns</p>\n",
       "</div>"
      ],
      "text/plain": [
       "                 0      1     2         3         4  5  6  7  \\\n",
       "0       LR999929.1  maker  mRNA      5718     11172  .  +  .   \n",
       "1       LR999929.1  maker  exon      5718      5927  .  +  .   \n",
       "2       LR999929.1  maker  exon      6130      6445  .  +  .   \n",
       "3       LR999929.1  maker  exon      6740      6926  .  +  .   \n",
       "4       LR999929.1  maker  exon      7477      7703  .  +  .   \n",
       "...            ...    ...   ...       ...       ... .. .. ..   \n",
       "175356  LR999926.1  maker   CDS  16312713  16313049  .  -  0   \n",
       "175357  LR999926.1  maker   CDS  16312534  16312682  .  -  2   \n",
       "175358  LR999926.1  maker   CDS  16311735  16311899  .  -  0   \n",
       "175359  LR999926.1  maker   CDS  16311464  16311617  .  -  0   \n",
       "175360  LR999926.1  maker   CDS  16311133  16311395  .  -  2   \n",
       "\n",
       "                                                        8  feat_len  \n",
       "0       ID=Vcard_DToL03995-RA;Parent=Vcard_DToL03995;N...      5454  \n",
       "1       ID=Vcard_DToL03995-RA:1;Parent=Vcard_DToL03995...       209  \n",
       "2       ID=Vcard_DToL03995-RA:2;Parent=Vcard_DToL03995...       315  \n",
       "3       ID=Vcard_DToL03995-RA:3;Parent=Vcard_DToL03995...       186  \n",
       "4       ID=Vcard_DToL03995-RA:4;Parent=Vcard_DToL03995...       226  \n",
       "...                                                   ...       ...  \n",
       "175356  ID=Vcard_DToL02698-RA:cds;Parent=Vcard_DToL026...       336  \n",
       "175357  ID=Vcard_DToL02698-RA:cds;Parent=Vcard_DToL026...       148  \n",
       "175358  ID=Vcard_DToL02698-RA:cds;Parent=Vcard_DToL026...       164  \n",
       "175359  ID=Vcard_DToL02698-RA:cds;Parent=Vcard_DToL026...       153  \n",
       "175360  ID=Vcard_DToL02698-RA:cds;Parent=Vcard_DToL026...       262  \n",
       "\n",
       "[175361 rows x 10 columns]"
      ]
     },
     "execution_count": 13,
     "metadata": {},
     "output_type": "execute_result"
    }
   ],
   "source": [
    "dfr2=pd.read_csv(\"/Users/dshipilina/GitHub/GenomeVanessa/AnnotationV2/makerrun3.all.stats.gff\",sep=\"\\t\",header=None)\n",
    "#dfr2 = dfr2.fillna(0)\n",
    "#cols = dfr2.columns.drop('chrom')\n",
    "#dfr2[cols] = dfr2[cols].apply(pd.to_numeric, errors='coerce')\n",
    "dfr2['feat_len']=dfr2[4]-dfr2[3]\n",
    "dfr2"
   ]
  },
  {
   "cell_type": "code",
   "execution_count": 39,
   "id": "3745620c",
   "metadata": {
    "ExecuteTime": {
     "end_time": "2021-12-14T19:01:31.222247Z",
     "start_time": "2021-12-14T19:01:24.837835Z"
    }
   },
   "outputs": [
    {
     "data": {
      "text/plain": [
       "(0.0, 5000.0)"
      ]
     },
     "execution_count": 39,
     "metadata": {},
     "output_type": "execute_result"
    },
    {
     "data": {
      "image/png": "[encoded data removed]",
      "text/plain": [
       "<Figure size 432x288 with 1 Axes>"
      ]
     },
     "metadata": {
      "needs_background": "light"
     },
     "output_type": "display_data"
    }
   ],
   "source": [
    "df_exon= dfr2.loc[dfr2[2] == 'exon']\n",
    "sns.histplot(df_exon['feat_len'], color=\"green\")\n",
    "plt.ylabel('Count')\n",
    "plt.xlabel('Length')\n",
    "plt.title('Exons', loc='center') #, pad=20)\n",
    "#plt.title(row['rep_name'], loc='center', pad=20)\n",
    "plt.xlim([0,5000])"
   ]
  },
  {
   "cell_type": "code",
   "execution_count": 32,
   "id": "d9db99fc",
   "metadata": {
    "ExecuteTime": {
     "end_time": "2021-12-14T18:58:00.997883Z",
     "start_time": "2021-12-14T18:58:00.114788Z"
    }
   },
   "outputs": [
    {
     "data": {
      "text/plain": [
       "Text(0.5, 0, 'Length')"
      ]
     },
     "execution_count": 32,
     "metadata": {},
     "output_type": "execute_result"
    },
    {
     "data": {
      "image/png": "[encoded data removed]",
      "text/plain": [
       "<Figure size 432x288 with 1 Axes>"
      ]
     },
     "metadata": {
      "needs_background": "light"
     },
     "output_type": "display_data"
    }
   ],
   "source": [
    "df_genes= dfr2.loc[dfr2[2] == 'mRNA']\n",
    "sns.histplot(df_genes['feat_len'], color=\"grey\")\n",
    "plt.title('Genes', loc='center')\n",
    "plt.ylabel('Count')\n",
    "plt.xlabel('Length')"
   ]
  },
  {
   "cell_type": "code",
   "execution_count": 30,
   "id": "dddf2178",
   "metadata": {
    "ExecuteTime": {
     "end_time": "2021-12-14T18:56:43.452118Z",
     "start_time": "2021-12-14T18:56:42.559653Z"
    }
   },
   "outputs": [
    {
     "data": {
      "text/plain": [
       "(0.0, 5000.0)"
      ]
     },
     "execution_count": 30,
     "metadata": {},
     "output_type": "execute_result"
    },
    {
     "data": {
      "image/png": "[encoded data removed]",
      "text/plain": [
       "<Figure size 432x288 with 1 Axes>"
      ]
     },
     "metadata": {
      "needs_background": "light"
     },
     "output_type": "display_data"
    }
   ],
   "source": [
    "df_genes= dfr2.loc[dfr2[2] == 'mRNA']\n",
    "sns.histplot(df_genes['feat_len'], color=\"grey\")\n",
    "plt.ylabel('Count')\n",
    "plt.xlabel('Length')\n",
    "plt.xlim([0,5000])"
   ]
  },
  {
   "cell_type": "code",
   "execution_count": 33,
   "id": "810bdb1c",
   "metadata": {
    "ExecuteTime": {
     "end_time": "2021-12-14T18:59:01.933689Z",
     "start_time": "2021-12-14T18:59:01.630701Z"
    }
   },
   "outputs": [
    {
     "data": {
      "text/plain": [
       "Text(0.5, 0, 'Length')"
      ]
     },
     "execution_count": 33,
     "metadata": {},
     "output_type": "execute_result"
    },
    {
     "data": {
      "image/png": "[encoded data removed]",
      "text/plain": [
       "<Figure size 432x288 with 1 Axes>"
      ]
     },
     "metadata": {
      "needs_background": "light"
     },
     "output_type": "display_data"
    }
   ],
   "source": [
    "df_genes= dfr2.loc[dfr2[2] == 'five_prime_UTR']\n",
    "sns.histplot(df_genes['feat_len'], color=\"pink\")\n",
    "plt.title('five_prime_UTR', loc='center')\n",
    "plt.ylabel('Count')\n",
    "plt.xlabel('Length')"
   ]
  },
  {
   "cell_type": "code",
   "execution_count": 37,
   "id": "e06c74f5",
   "metadata": {
    "ExecuteTime": {
     "end_time": "2021-12-14T19:00:37.339876Z",
     "start_time": "2021-12-14T19:00:37.049108Z"
    }
   },
   "outputs": [
    {
     "data": {
      "text/plain": [
       "Text(0.5, 0, 'Length')"
      ]
     },
     "execution_count": 37,
     "metadata": {},
     "output_type": "execute_result"
    },
    {
     "data": {
      "image/png": "[encoded data removed]",
      "text/plain": [
       "<Figure size 432x288 with 1 Axes>"
      ]
     },
     "metadata": {
      "needs_background": "light"
     },
     "output_type": "display_data"
    }
   ],
   "source": [
    "df_genes= dfr2.loc[dfr2[2] == 'three_prime_UTR']\n",
    "sns.histplot(df_genes['feat_len'], color=\"orange\")\n",
    "plt.title('three_prime_UTR', loc='center')\n",
    "plt.ylabel('Count')\n",
    "plt.xlabel('Length')"
   ]
  },
  {
   "cell_type": "code",
   "execution_count": null,
   "id": "4100b106",
   "metadata": {},
   "outputs": [],
   "source": []
  }
 ],
 "metadata": {
  "kernelspec": {
   "display_name": "Python 3 (ipykernel)",
   "language": "python",
   "name": "python3"
  },
  "language_info": {
   "codemirror_mode": {
    "name": "ipython",
    "version": 3
   },
   "file_extension": ".py",
   "mimetype": "text/x-python",
   "name": "python",
   "nbconvert_exporter": "python",
   "pygments_lexer": "ipython3",
   "version": "3.9.6"
  },
  "latex_envs": {
   "LaTeX_envs_menu_present": true,
   "autoclose": false,
   "autocomplete": true,
   "bibliofile": "biblio.bib",
   "cite_by": "apalike",
   "current_citInitial": 1,
   "eqLabelWithNumbers": true,
   "eqNumInitial": 1,
   "hotkeys": {
    "equation": "Ctrl-E",
    "itemize": "Ctrl-I"
   },
   "labels_anchors": false,
   "latex_user_defs": false,
   "report_style_numbering": false,
   "user_envs_cfg": false
  },
  "toc": {
   "base_numbering": 1,
   "nav_menu": {},
   "number_sections": true,
   "sideBar": true,
   "skip_h1_title": false,
   "title_cell": "Table of Contents",
   "title_sidebar": "Contents",
   "toc_cell": false,
   "toc_position": {},
   "toc_section_display": true,
   "toc_window_display": false
  }
 },
 "nbformat": 4,
 "nbformat_minor": 5
}
