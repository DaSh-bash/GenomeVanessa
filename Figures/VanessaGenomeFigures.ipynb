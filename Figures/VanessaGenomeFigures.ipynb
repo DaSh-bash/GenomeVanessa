{
 "cells": [
  {
   "cell_type": "code",
   "execution_count": 4,
   "metadata": {
    "ExecuteTime": {
     "end_time": "2021-08-17T07:50:19.245140Z",
     "start_time": "2021-08-17T07:50:18.370980Z"
    },
    "scrolled": true
   },
   "outputs": [],
   "source": [
    "import os\n",
    "import numpy as np\n",
    "import scipy\n",
    "from collections import Counter\n",
    "import sys\n",
    "from IPython.display import SVG\n",
    "import time\n",
    "import matplotlib.pyplot as plt\n",
    "import pandas as pd\n",
    "import seaborn as sns\n",
    "import itertools\n",
    "import matplotlib as ml\n",
    "import re"
   ]
  },
  {
   "cell_type": "code",
   "execution_count": 23,
   "metadata": {
    "ExecuteTime": {
     "end_time": "2021-08-17T08:03:52.265859Z",
     "start_time": "2021-08-17T08:03:52.259497Z"
    },
    "scrolled": true
   },
   "outputs": [],
   "source": [
    "%matplotlib inline\n",
    "font = {'family' : 'Sans', 'weight' : 'normal','size': 16}\n",
    "ml.rc('font', **font)\n",
    "#ml.rcParams['figure.figsize'] = (5.0, 5.0)\n",
    "ml.rcParams['text.usetex'] =False\n",
    "ml.rc('font', family='serif',size=12)\n",
    "plt.rcParams['axes.spines.left'] = True\n",
    "plt.rcParams['axes.spines.right'] = False\n",
    "plt.rcParams['axes.spines.top'] = False\n",
    "plt.rcParams['axes.spines.bottom'] = True"
   ]
  },
  {
   "cell_type": "markdown",
   "metadata": {
    "heading_collapsed": true
   },
   "source": [
    "#### Plotting BadiRate Results"
   ]
  },
  {
   "cell_type": "markdown",
   "metadata": {},
   "source": [
    "# Functions"
   ]
  },
  {
   "cell_type": "code",
   "execution_count": 40,
   "metadata": {},
   "outputs": [
    {
     "name": "stderr",
     "output_type": "stream",
     "text": [
      "/opt/anaconda3/lib/python3.8/site-packages/seaborn/_decorators.py:36: FutureWarning: Pass the following variables as keyword args: x, y. From version 0.12, the only valid positional argument will be `data`, and passing other arguments without an explicit keyword will result in an error or misinterpretation.\n",
      "  warnings.warn(\n"
     ]
    },
    {
     "data": {
      "image/png": "[encoded data removed]",
      "text/plain": [
       "<Figure size 864x360 with 1 Axes>"
      ]
     },
     "metadata": {
      "needs_background": "light"
     },
     "output_type": "display_data"
    }
   ],
   "source": [
    "#Reading the file\n",
    "\n",
    "#new = open(\"/Users/dshipilina/GitHub/GenomeVanessa/TopGO/BadiRate_summary.txt\").read()\n",
    "new = open(\"/Users/dariashipilina/Documents/GitHub/GenomeVanessa/TopGO/BadiRate_summary.txt\").read()\n",
    "split_ = new.split('\\n')\n",
    "#print(split_[2])\n",
    "eigve_array=[]\n",
    "#print(split_file2[2])\n",
    "for i in split_:\n",
    "    ii=i.split()\n",
    "    eigve_array+=[ii]\n",
    "\n",
    "df3=pd.DataFrame(eigve_array)\n",
    "df3.columns =[\"orthogroup\", \"N_genes\"]\n",
    "df3 = df3[:-1]\n",
    "#df3 = df3.apply(pd.to_numeric, errors='coerce')\n",
    "df3[\"N_genes\"] = pd.to_numeric(df3[\"N_genes\"], downcast=\"float\")\n",
    "df3\n",
    "\n",
    "\n",
    "#Setting up aspect ratio and axes\n",
    "\n",
    "ml.rcParams['figure.figsize'] = (12.0, 5.0)\n",
    "plt.xticks(rotation=90)\n",
    "plt.tick_params(axis='x', labelsize=7)\n",
    "plt.rcParams['axes.spines.left'] = True\n",
    "plt.rcParams['axes.spines.right'] = False\n",
    "plt.rcParams['axes.spines.top'] = False\n",
    "plt.rcParams['axes.spines.bottom'] = True\n",
    "plt.xlabel(\"Orthogroups\")\n",
    "plt.ylabel(\"Number of genes\")\n",
    "\n",
    "#Creating barplot\n",
    "\n",
    "#plt.bar(x,y) #,hue=df3[\"N_genes\"],palette=\"cool\")\n",
    "graph= sns.barplot(df3[\"orthogroup\"],df3[\"N_genes\"], color=\"#faab36\") #df3[\"N_genes\"])\n",
    "\n",
    "\n",
    "#Setting up differential transparency\n",
    "\n",
    "#df3[\"alpha\"] = np.where(df3['N_genes']<0, 1.0, 0.05)\n",
    "#sns.barplot(x=df3[\"orthogroup\"], y=df3[\"N_genes\"],data=df3[df3[\"alpha\"] == 0.05], color= \"#faab36\")\n",
    "#sns.barplot(x=df3[\"orthogroup\"], y=df3[\"N_genes\"],data=df3[df3[\"alpha\"] == 1.0], color= \"grey\")\n",
    "#sns.barplot(x=df3[\"orthogroup\"], y=df3[\"N_genes\"],data=df3[df3[\"alpha\"] == 1.0], alpha=1.0)\n",
    "#ax = sens.barplot(x=idx, y=values) # or use ax=your_axis_object\n",
    "\n",
    "for bar in graph.patches:\n",
    "    if bar.get_height() < 0:\n",
    "        bar.set_color('lightblue')    \n",
    "    else:\n",
    "        bar.set_color('orange')\n",
    "\n",
    "\n",
    "plt.xticks(rotation=90)\n",
    "plt.tick_params(axis='x', labelsize=7)\n",
    "plt.rcParams['axes.spines.left'] = True\n",
    "plt.rcParams['axes.spines.right'] = False\n",
    "plt.rcParams['axes.spines.top'] = False\n",
    "plt.rcParams['axes.spines.bottom'] = True\n",
    "plt.xlabel(\"Orthogroups\")\n",
    "plt.ylabel(\"Number of genes\")\n",
    "#Graph is created and stored in the variable 'graph'\n",
    "#graph = sns.barplot(x=\"sepal_width\",y=\"petal_width\",data=dataset)\n",
    "\n",
    "#Drawing a horizontal line at y=0\n",
    "#graph.axhline(0,linewidth=1,color=\"grey\") #,style=\"_\")\n",
    "\n",
    "#Saving the figure\n",
    "plt.savefig(\"/Users/dariashipilina/Documents/GitHub/GenomeVanessa/Figures/01_GOTerms/BadiRatestatsV2.pdf\",bbox_inches=\"tight\")\n",
    "plt.savefig(\"/Users/dariashipilina/Documents/GitHub/GenomeVanessa/Figures/01_GOTerms/BadiRatestatsV2.png\",bbox_inches=\"tight\")\n",
    "plt.show()\n"
   ]
  },
  {
   "cell_type": "markdown",
   "metadata": {},
   "source": [
    "#### Creating data frame for plotting window-based repeats"
   ]
  },
  {
   "cell_type": "code",
   "execution_count": 14,
   "metadata": {
    "ExecuteTime": {
     "end_time": "2021-08-17T07:59:45.805992Z",
     "start_time": "2021-08-17T07:59:45.798494Z"
    }
   },
   "outputs": [],
   "source": [
    "def make_repeat_df(path):\n",
    "    new = open(path).read()\n",
    "    split_ = new.split('\\n')\n",
    "    eigve_array=[]\n",
    "    for i in split_:\n",
    "        ii=re.split('\\ |\\t',i)\n",
    "        eigve_array+=[ii]\n",
    "\n",
    "    df4=pd.DataFrame(eigve_array[1:])\n",
    "    df4.columns =[\"chrom\", \"begin\", \"end\", \"count_rpt\", \"length_rpt\", \"count_SINE\",\"length_SINE\", \"count_DNA\", \"length_DNA\", \"count_TcM\",\"length_TcM\",\"count_LINE\", \"length_LINE\", \"count_LTR\", \"length_LTR\", \"count_nonLTR\", \"length_nonLTR\"]\n",
    "    df4 = df4[:-1]\n",
    "\n",
    "    df4.loc[df4[\"length_SINE\"] == '','length_SINE'] = 0\n",
    "    df4.loc[df4[\"length_TcM\"] == '','length_TcM'] = 0\n",
    "    \n",
    "    cols = df4.columns.drop('chrom')\n",
    "    df4[cols] = df4[cols].apply(pd.to_numeric, errors='coerce')\n",
    "    \n",
    "    df4['block_len']=df4[\"end\"]-df4[\"begin\"]\n",
    "    df4['per_length']=df4[\"length_rpt\"]/df4['block_len']*100\n",
    "    df4['per_nonLTR']=df4[\"length_nonLTR\"]/df4['block_len']*100\n",
    "    df4['per_LTRadd']=df4[\"length_LTR\"]/df4['block_len']*100\n",
    "    df4['per_DNAtransadd']=(df4[\"length_LTR\"]+df4[\"length_DNA\"])/df4['block_len']*100\n",
    "    df4['per_SINEadd']=(df4[\"length_LTR\"]+df4[\"length_DNA\"]+df4[\"length_SINE\"])/df4['block_len']*100\n",
    "    df4['per_LINEadd']=(df4[\"length_LTR\"]+df4[\"length_DNA\"]+df4[\"length_SINE\"]+df4[\"length_LINE\"])/df4['block_len']*100\n",
    "    \n",
    "    return df4"
   ]
  },
  {
   "cell_type": "code",
   "execution_count": 16,
   "metadata": {
    "ExecuteTime": {
     "end_time": "2021-08-17T08:00:07.803783Z",
     "start_time": "2021-08-17T08:00:07.767119Z"
    }
   },
   "outputs": [
    {
     "data": {
      "text/html": [
       "<div>\n",
       "<style scoped>\n",
       "    .dataframe tbody tr th:only-of-type {\n",
       "        vertical-align: middle;\n",
       "    }\n",
       "\n",
       "    .dataframe tbody tr th {\n",
       "        vertical-align: top;\n",
       "    }\n",
       "\n",
       "    .dataframe thead th {\n",
       "        text-align: right;\n",
       "    }\n",
       "</style>\n",
       "<table border=\"1\" class=\"dataframe\">\n",
       "  <thead>\n",
       "    <tr style=\"text-align: right;\">\n",
       "      <th></th>\n",
       "      <th>chrom</th>\n",
       "      <th>begin</th>\n",
       "      <th>end</th>\n",
       "      <th>count_rpt</th>\n",
       "      <th>length_rpt</th>\n",
       "      <th>count_SINE</th>\n",
       "      <th>length_SINE</th>\n",
       "      <th>count_DNA</th>\n",
       "      <th>length_DNA</th>\n",
       "      <th>count_TcM</th>\n",
       "      <th>...</th>\n",
       "      <th>length_LTR</th>\n",
       "      <th>count_nonLTR</th>\n",
       "      <th>length_nonLTR</th>\n",
       "      <th>block_len</th>\n",
       "      <th>per_length</th>\n",
       "      <th>per_nonLTR</th>\n",
       "      <th>per_LTRadd</th>\n",
       "      <th>per_DNAtransadd</th>\n",
       "      <th>per_SINEadd</th>\n",
       "      <th>per_LINEadd</th>\n",
       "    </tr>\n",
       "  </thead>\n",
       "  <tbody>\n",
       "    <tr>\n",
       "      <th>0</th>\n",
       "      <td>LR999928.1</td>\n",
       "      <td>1</td>\n",
       "      <td>100000</td>\n",
       "      <td>118</td>\n",
       "      <td>17373</td>\n",
       "      <td>8</td>\n",
       "      <td>1778</td>\n",
       "      <td>5</td>\n",
       "      <td>517</td>\n",
       "      <td>0</td>\n",
       "      <td>...</td>\n",
       "      <td>7948</td>\n",
       "      <td>13</td>\n",
       "      <td>3442</td>\n",
       "      <td>99999</td>\n",
       "      <td>17.373174</td>\n",
       "      <td>3.442034</td>\n",
       "      <td>7.948079</td>\n",
       "      <td>8.465085</td>\n",
       "      <td>10.243102</td>\n",
       "      <td>10.562106</td>\n",
       "    </tr>\n",
       "    <tr>\n",
       "      <th>1</th>\n",
       "      <td>LR999928.1</td>\n",
       "      <td>100001</td>\n",
       "      <td>200000</td>\n",
       "      <td>164</td>\n",
       "      <td>25045</td>\n",
       "      <td>25</td>\n",
       "      <td>4726</td>\n",
       "      <td>11</td>\n",
       "      <td>1460</td>\n",
       "      <td>0</td>\n",
       "      <td>...</td>\n",
       "      <td>8418</td>\n",
       "      <td>18</td>\n",
       "      <td>3966</td>\n",
       "      <td>99999</td>\n",
       "      <td>25.045250</td>\n",
       "      <td>3.966040</td>\n",
       "      <td>8.418084</td>\n",
       "      <td>9.878099</td>\n",
       "      <td>14.604146</td>\n",
       "      <td>15.255153</td>\n",
       "    </tr>\n",
       "    <tr>\n",
       "      <th>2</th>\n",
       "      <td>LR999928.1</td>\n",
       "      <td>200001</td>\n",
       "      <td>300000</td>\n",
       "      <td>189</td>\n",
       "      <td>27440</td>\n",
       "      <td>34</td>\n",
       "      <td>7538</td>\n",
       "      <td>12</td>\n",
       "      <td>1515</td>\n",
       "      <td>0</td>\n",
       "      <td>...</td>\n",
       "      <td>8110</td>\n",
       "      <td>13</td>\n",
       "      <td>3145</td>\n",
       "      <td>99999</td>\n",
       "      <td>27.440274</td>\n",
       "      <td>3.145031</td>\n",
       "      <td>8.110081</td>\n",
       "      <td>9.625096</td>\n",
       "      <td>17.163172</td>\n",
       "      <td>18.287183</td>\n",
       "    </tr>\n",
       "    <tr>\n",
       "      <th>3</th>\n",
       "      <td>LR999928.1</td>\n",
       "      <td>300001</td>\n",
       "      <td>400000</td>\n",
       "      <td>199</td>\n",
       "      <td>29241</td>\n",
       "      <td>42</td>\n",
       "      <td>8507</td>\n",
       "      <td>11</td>\n",
       "      <td>997</td>\n",
       "      <td>1</td>\n",
       "      <td>...</td>\n",
       "      <td>5345</td>\n",
       "      <td>26</td>\n",
       "      <td>4808</td>\n",
       "      <td>99999</td>\n",
       "      <td>29.241292</td>\n",
       "      <td>4.808048</td>\n",
       "      <td>5.345053</td>\n",
       "      <td>6.342063</td>\n",
       "      <td>14.849148</td>\n",
       "      <td>21.212212</td>\n",
       "    </tr>\n",
       "    <tr>\n",
       "      <th>4</th>\n",
       "      <td>LR999928.1</td>\n",
       "      <td>400001</td>\n",
       "      <td>500000</td>\n",
       "      <td>208</td>\n",
       "      <td>32433</td>\n",
       "      <td>32</td>\n",
       "      <td>5825</td>\n",
       "      <td>15</td>\n",
       "      <td>2237</td>\n",
       "      <td>0</td>\n",
       "      <td>...</td>\n",
       "      <td>8357</td>\n",
       "      <td>26</td>\n",
       "      <td>8140</td>\n",
       "      <td>99999</td>\n",
       "      <td>32.433324</td>\n",
       "      <td>8.140081</td>\n",
       "      <td>8.357084</td>\n",
       "      <td>10.594106</td>\n",
       "      <td>16.419164</td>\n",
       "      <td>19.596196</td>\n",
       "    </tr>\n",
       "    <tr>\n",
       "      <th>5</th>\n",
       "      <td>LR999928.1</td>\n",
       "      <td>500001</td>\n",
       "      <td>600000</td>\n",
       "      <td>216</td>\n",
       "      <td>27872</td>\n",
       "      <td>32</td>\n",
       "      <td>5718</td>\n",
       "      <td>23</td>\n",
       "      <td>2807</td>\n",
       "      <td>0</td>\n",
       "      <td>...</td>\n",
       "      <td>2745</td>\n",
       "      <td>17</td>\n",
       "      <td>2503</td>\n",
       "      <td>99999</td>\n",
       "      <td>27.872279</td>\n",
       "      <td>2.503025</td>\n",
       "      <td>2.745027</td>\n",
       "      <td>5.552056</td>\n",
       "      <td>11.270113</td>\n",
       "      <td>13.426134</td>\n",
       "    </tr>\n",
       "    <tr>\n",
       "      <th>6</th>\n",
       "      <td>LR999928.1</td>\n",
       "      <td>600001</td>\n",
       "      <td>700000</td>\n",
       "      <td>156</td>\n",
       "      <td>21099</td>\n",
       "      <td>37</td>\n",
       "      <td>6603</td>\n",
       "      <td>2</td>\n",
       "      <td>99</td>\n",
       "      <td>0</td>\n",
       "      <td>...</td>\n",
       "      <td>6052</td>\n",
       "      <td>18</td>\n",
       "      <td>5825</td>\n",
       "      <td>99999</td>\n",
       "      <td>21.099211</td>\n",
       "      <td>5.825058</td>\n",
       "      <td>6.052061</td>\n",
       "      <td>6.151062</td>\n",
       "      <td>12.754128</td>\n",
       "      <td>13.430134</td>\n",
       "    </tr>\n",
       "    <tr>\n",
       "      <th>7</th>\n",
       "      <td>LR999928.1</td>\n",
       "      <td>700001</td>\n",
       "      <td>800000</td>\n",
       "      <td>214</td>\n",
       "      <td>28823</td>\n",
       "      <td>53</td>\n",
       "      <td>10159</td>\n",
       "      <td>15</td>\n",
       "      <td>2549</td>\n",
       "      <td>4</td>\n",
       "      <td>...</td>\n",
       "      <td>5226</td>\n",
       "      <td>20</td>\n",
       "      <td>5036</td>\n",
       "      <td>99999</td>\n",
       "      <td>28.823288</td>\n",
       "      <td>5.036050</td>\n",
       "      <td>5.226052</td>\n",
       "      <td>7.775078</td>\n",
       "      <td>17.934179</td>\n",
       "      <td>19.399194</td>\n",
       "    </tr>\n",
       "    <tr>\n",
       "      <th>8</th>\n",
       "      <td>LR999928.1</td>\n",
       "      <td>800001</td>\n",
       "      <td>900000</td>\n",
       "      <td>175</td>\n",
       "      <td>27331</td>\n",
       "      <td>28</td>\n",
       "      <td>5522</td>\n",
       "      <td>13</td>\n",
       "      <td>1951</td>\n",
       "      <td>0</td>\n",
       "      <td>...</td>\n",
       "      <td>9389</td>\n",
       "      <td>21</td>\n",
       "      <td>3822</td>\n",
       "      <td>99999</td>\n",
       "      <td>27.331273</td>\n",
       "      <td>3.822038</td>\n",
       "      <td>9.389094</td>\n",
       "      <td>11.340113</td>\n",
       "      <td>16.862169</td>\n",
       "      <td>19.324193</td>\n",
       "    </tr>\n",
       "  </tbody>\n",
       "</table>\n",
       "<p>9 rows × 24 columns</p>\n",
       "</div>"
      ],
      "text/plain": [
       "        chrom   begin     end  count_rpt  length_rpt  count_SINE  length_SINE  \\\n",
       "0  LR999928.1       1  100000        118       17373           8         1778   \n",
       "1  LR999928.1  100001  200000        164       25045          25         4726   \n",
       "2  LR999928.1  200001  300000        189       27440          34         7538   \n",
       "3  LR999928.1  300001  400000        199       29241          42         8507   \n",
       "4  LR999928.1  400001  500000        208       32433          32         5825   \n",
       "5  LR999928.1  500001  600000        216       27872          32         5718   \n",
       "6  LR999928.1  600001  700000        156       21099          37         6603   \n",
       "7  LR999928.1  700001  800000        214       28823          53        10159   \n",
       "8  LR999928.1  800001  900000        175       27331          28         5522   \n",
       "\n",
       "   count_DNA  length_DNA  count_TcM  ...  length_LTR  count_nonLTR  \\\n",
       "0          5         517          0  ...        7948            13   \n",
       "1         11        1460          0  ...        8418            18   \n",
       "2         12        1515          0  ...        8110            13   \n",
       "3         11         997          1  ...        5345            26   \n",
       "4         15        2237          0  ...        8357            26   \n",
       "5         23        2807          0  ...        2745            17   \n",
       "6          2          99          0  ...        6052            18   \n",
       "7         15        2549          4  ...        5226            20   \n",
       "8         13        1951          0  ...        9389            21   \n",
       "\n",
       "   length_nonLTR  block_len  per_length  per_nonLTR  per_LTRadd  \\\n",
       "0           3442      99999   17.373174    3.442034    7.948079   \n",
       "1           3966      99999   25.045250    3.966040    8.418084   \n",
       "2           3145      99999   27.440274    3.145031    8.110081   \n",
       "3           4808      99999   29.241292    4.808048    5.345053   \n",
       "4           8140      99999   32.433324    8.140081    8.357084   \n",
       "5           2503      99999   27.872279    2.503025    2.745027   \n",
       "6           5825      99999   21.099211    5.825058    6.052061   \n",
       "7           5036      99999   28.823288    5.036050    5.226052   \n",
       "8           3822      99999   27.331273    3.822038    9.389094   \n",
       "\n",
       "   per_DNAtransadd  per_SINEadd  per_LINEadd  \n",
       "0         8.465085    10.243102    10.562106  \n",
       "1         9.878099    14.604146    15.255153  \n",
       "2         9.625096    17.163172    18.287183  \n",
       "3         6.342063    14.849148    21.212212  \n",
       "4        10.594106    16.419164    19.596196  \n",
       "5         5.552056    11.270113    13.426134  \n",
       "6         6.151062    12.754128    13.430134  \n",
       "7         7.775078    17.934179    19.399194  \n",
       "8        11.340113    16.862169    19.324193  \n",
       "\n",
       "[9 rows x 24 columns]"
      ]
     },
     "execution_count": 16,
     "metadata": {},
     "output_type": "execute_result"
    }
   ],
   "source": [
    "make_repeat_df(\"/Users/dshipilina/GitHub/GenomeVanessa/WindowBasedAnalysis/WindowedRepeatDensity/100k_counts/LR999928.1-repeat-count.out\")"
   ]
  },
  {
   "cell_type": "code",
   "execution_count": null,
   "metadata": {
    "collapsed": true,
    "scrolled": true
   },
   "outputs": [],
   "source": [
    "### OLD VERSION ###\n",
    "\n",
    "'''\n",
    "\n",
    "def make_rep_df(path):\n",
    "    new = open(path).read()\n",
    "    split_ = new.split('\\n')\n",
    "#print(split_[1])\n",
    "    eigve_array=[]\n",
    "#print(split_file2[2])\n",
    "    for i in split_:\n",
    "    #print(i)\n",
    "        ii=re.split('\\ |\\t',i)\n",
    "    #print(ii)\n",
    "        eigve_array+=[ii]\n",
    "\n",
    "    df4=pd.DataFrame(eigve_array[1:])\n",
    "    #df4 = df4[:]\n",
    "    df4.columns =[\"chrom\", \"begin\", \"end\", \"count_rpt\", \"length_rpt\", \"count_SINE\",\"length_SINE\", \"count_DNA\", \"length_DNA\", \"count_TcM\",\"length_TcM\",\"count_LINE\", \"length_LINE\", \"count_LTR\", \"length_LTR\", \"count_nonLTR\", \"length_nonLTR\"]\n",
    "    #df4 = df4.rename(columns=df4.iloc[0]).drop(df4.index[0])\n",
    "#df3 = df3.drop(labels=[171], axis=0)\n",
    "#df3.columns=['chrom','begin','end','repts']\n",
    "#df3 = df3.drop(labels=[171], axis=0)\n",
    "#df3[\"begin\"] = pd.to_numeric(df3[\"begin\"], downcast=\"float\")\n",
    "#df3[\"repts\"] = pd.to_numeric(df3[\"repts\"], downcast=\"float\")\n",
    "    df4 = df4[:-1]\n",
    "    df4 = df4[1:]\n",
    "#df3['count_SINE'].fillna(\"0\", inplace=True)\n",
    "    df4.loc[df4[\"length_SINE\"] == '','length_SINE'] = 0\n",
    "    df4.loc[df4[\"length_TcM\"] == '','length_TcM'] = 0\n",
    "    df4 = df4.apply(pd.to_numeric, errors='coerce')\n",
    "    df4['block_len']=df4[\"end\"]-df4[\"begin\"]\n",
    "    df4['per_length']=df4[\"length_rpt\"]/df4['block_len']*100\n",
    "    df4['per_nonLTR']=df4[\"length_nonLTR\"]/df4['block_len']*100\n",
    "    df4['per_LTRadd']=df4[\"length_LTR\"]/df4['block_len']*100\n",
    "    df4['per_DNAtransadd']=(df4[\"length_LTR\"]+df4[\"length_DNA\"])/df4['block_len']*100\n",
    "    df4['per_SINEadd']=(df4[\"length_LTR\"]+df4[\"length_DNA\"]+df4[\"length_SINE\"])/df4['block_len']*100\n",
    "    df4['per_LINEadd']=(df4[\"length_LTR\"]+df4[\"length_DNA\"]+df4[\"length_SINE\"]+df4[\"length_LINE\"])/df4['block_len']*100\n",
    "    #df4['SINEsum']=df4[\"length_SINE\"]+df4[\"DNAsum\"]\n",
    "    #df4['LINEsum']=df4[\"length_LINE\"]+df4[\"SINEsum\"]\n",
    "    \n",
    "    \n",
    "    #sns.barplot(x=df[\"begin\"], y=df[\"LINEsum\"] , color=\"purple\")\n",
    "    #sns.barplot(x=df[\"begin\"], y=df[\"SINEsum\"] , color=\"red\")\n",
    "    #sns.barplot(x=df[\"begin\"], y=df[\"DNAsum\"] , color=\"green\")\n",
    "    #sns.barplot(x=df[\"begin\"], y=df[\"length_LTR\"] , color=\"orange\")\n",
    "    #sns.barplot(x=df[\"begin\"], y=df[\"length_nonLTR\"] , color=\"blue\")\n",
    "    \n",
    "#df3.dtypes\n",
    "    return df4"
   ]
  },
  {
   "cell_type": "markdown",
   "metadata": {},
   "source": [
    "#### Plot repeat stacked bars"
   ]
  },
  {
   "cell_type": "code",
   "execution_count": 24,
   "metadata": {
    "ExecuteTime": {
     "end_time": "2021-08-17T08:03:59.002750Z",
     "start_time": "2021-08-17T08:03:58.994690Z"
    },
    "scrolled": true
   },
   "outputs": [],
   "source": [
    "def plot_rep_stack_bar(df,mg_num,chrnum): \n",
    "    ml.rcParams['figure.figsize'] = (mg_num, 1.5)\n",
    "    sns.barplot(x=df[\"begin\"], y=df[\"per_length\"] , color=\"lightgrey\")\n",
    "    plt.tick_params(axis='x', labelsize=1)\n",
    "    plt.rcParams['axes.spines.left'] = True\n",
    "    plt.rcParams['axes.spines.right'] = False\n",
    "    plt.rcParams['axes.spines.top'] = False\n",
    "    plt.rcParams['axes.spines.bottom'] = True\n",
    "    plt.xlabel(\"Position along the chromosome\")\n",
    "    plt.ylabel(\"Number of repeats\")\n",
    "    #plt.savefig(\"/Users/dshipilina/GitHub/repeat_40.png\",bbox_inches=\"tight\")\n",
    "    sns.barplot(x=df[\"begin\"], y=df[\"per_LINEadd\"] , color=\"purple\")\n",
    "    sns.barplot(x=df[\"begin\"], y=df[\"per_SINEadd\"] , color=\"red\")\n",
    "    sns.barplot(x=df[\"begin\"], y=df[\"per_DNAtransadd\"] , color=\"green\")\n",
    "    sns.barplot(x=df[\"begin\"], y=df[\"per_LTRadd\"] , color=\"orange\")\n",
    "    sns.barplot(x=df[\"begin\"], y=df[\"per_nonLTR\"] , color=\"blue\")\n",
    "    \n",
    "    \n",
    "    #df4['%nonLTR']=df4[\"length_nonLTR\"]/df4['block_len']*100\n",
    "    #df4['%LTRadd']=df4[\"length_LTR\"]/df4['block_len']*100\n",
    "    #df4['%DNAtransadd']=(df4[\"length_LTR\"]+df4[\"length_DNA\"])/df4['block_len']*100\n",
    "    #df4['%SINEadd']=(df4[\"length_LTR\"]+df4[\"length_DNA\"]+df4[\"length_SINE\"])/df4['block_len']*100\n",
    "    #df4['%LINEadd']=(df4[\"length_LTR\"]+df4[\"length_DNA\"]+df4[\"length_SINE\"]+df4[\"length_LINE\"])/df4['block_len']*100\n",
    "   \n",
    "\n",
    "    plt.xlabel(\"Position along the chromosome (100kb windows)\")\n",
    "    \n",
    "    #plt.xlabel(\" \")\n",
    "    plt.ylabel(\"% repeats\")\n",
    "    ax = plt.gca()\n",
    "    ax.axes.xaxis.set_ticks([])\n",
    "    x_axis = ax.axes.get_xaxis()\n",
    "    x_axis.set_visible(False)\n",
    "    ax.set_ylim([0,80])\n",
    "    #ax.axes.yaxis.set_ticks([])\n",
    "    #y_axis = ax.axes.get_yaxis()\n",
    "    #y_axis.set_visible(False)\n",
    "    #print(\"Blue LTR, orange non LTR\")\n",
    "    #plt.savefig(\"/Users/dshipilina/GitHub/GenomeVanessa/VanessaRepeat/repeat_\"+chrnum+\".pdf\",bbox_inches=\"tight\")\n",
    "    plt.show()"
   ]
  },
  {
   "cell_type": "code",
   "execution_count": 26,
   "metadata": {
    "ExecuteTime": {
     "end_time": "2021-08-17T08:05:32.580213Z",
     "start_time": "2021-08-17T08:05:32.271203Z"
    },
    "scrolled": true
   },
   "outputs": [
    {
     "data": {
      "image/png": "[encoded data removed]",
      "text/plain": [
       "<Figure size 288x108 with 1 Axes>"
      ]
     },
     "metadata": {
      "needs_background": "light"
     },
     "output_type": "display_data"
    }
   ],
   "source": [
    "plot_rep_stack_bar(make_repeat_df(\"/Users/dshipilina/GitHub/GenomeVanessa/WindowBasedAnalysis/WindowedRepeatDensity/100k_counts/LR999929.1-repeat-count.out\"),4,\"40\")"
   ]
  },
  {
   "cell_type": "markdown",
   "metadata": {},
   "source": [
    "#### Plotting window-based repeats"
   ]
  },
  {
   "cell_type": "code",
   "execution_count": null,
   "metadata": {
    "collapsed": true,
    "scrolled": true
   },
   "outputs": [],
   "source": [
    "import re\n",
    "new = open(\"/Users/dshipilina/GitHub/GenomeVanessa/VanessaRepeat/LR999925.1-repeat.out\").read()\n",
    "split_ = new.split('\\n')\n",
    "#print(split_[1])\n",
    "eigve_array=[]\n",
    "#print(split_file2[2])\n",
    "for i in split_:\n",
    "    #print(i)\n",
    "    ii=re.split('\\ |\\t',i)\n",
    "    #print(ii)\n",
    "    eigve_array+=[ii]\n",
    "\n",
    "df3=pd.DataFrame(eigve_array)\n",
    "df3 = df3.rename(columns=df3.iloc[0]).drop(df3.index[0])\n",
    "#df3 = df3.drop(labels=[171], axis=0)\n",
    "#df3.columns=['chrom','begin','end','repts']\n",
    "#df3 = df3.drop(labels=[171], axis=0)\n",
    "#df3[\"begin\"] = pd.to_numeric(df3[\"begin\"], downcast=\"float\")\n",
    "#df3[\"repts\"] = pd.to_numeric(df3[\"repts\"], downcast=\"float\")\n",
    "df3 = df3[:-1]\n",
    "#df3['count_SINE'].fillna(\"0\", inplace=True)\n",
    "df3.loc[df3[\"length_SINE\"] == '','length_SINE'] = 0\n",
    "df3.loc[df3[\"length_TcM\"] == '','length_TcM'] = 0\n",
    "df3 = df3.apply(pd.to_numeric, errors='coerce')\n",
    "df3['DNAsum']=df3[\"length_LTR\"]+df3[\"length_DNA\"]\n",
    "df3['SINEsum']=df3[\"length_SINE\"]+df3[\"DNAsum\"]\n",
    "df3['LINEsum']=df3[\"length_LINE\"]+df3[\"SINEsum\"]\n",
    "#df3.dtypes\n",
    "df3"
   ]
  },
  {
   "cell_type": "code",
   "execution_count": null,
   "metadata": {
    "collapsed": true,
    "scrolled": true
   },
   "outputs": [],
   "source": [
    "import re\n",
    "new = open(\"/Users/dshipilina/GitHub/GenomeVanessa/VanessaRepeat/LR999924_repeat.out\").read()\n",
    "split_ = new.split('\\n')\n",
    "#print(split_[1])\n",
    "eigve_array=[]\n",
    "#print(split_file2[2])\n",
    "for i in split_:\n",
    "    #print(i)\n",
    "    ii=re.split('\\ |\\t',i)\n",
    "    #print(ii)\n",
    "    eigve_array+=[ii]\n",
    "\n",
    "df4=pd.DataFrame(eigve_array)\n",
    "df4 = df4.rename(columns=df4.iloc[0]).drop(df4.index[0])\n",
    "#df3 = df3.drop(labels=[171], axis=0)\n",
    "#df3.columns=['chrom','begin','end','repts']\n",
    "#df3 = df3.drop(labels=[171], axis=0)\n",
    "#df3[\"begin\"] = pd.to_numeric(df3[\"begin\"], downcast=\"float\")\n",
    "#df3[\"repts\"] = pd.to_numeric(df3[\"repts\"], downcast=\"float\")\n",
    "df4 = df4[:-1]\n",
    "#df3['count_SINE'].fillna(\"0\", inplace=True)\n",
    "df4.loc[df4[\"length_SINE\"] == '','length_SINE'] = 0\n",
    "df4.loc[df4[\"length_TcM\"] == '','length_TcM'] = 0\n",
    "df4 = df4.apply(pd.to_numeric, errors='coerce')\n",
    "df4['DNAsum']=df4[\"length_LTR\"]+df4[\"length_DNA\"]\n",
    "df4['SINEsum']=df4[\"length_SINE\"]+df4[\"DNAsum\"]\n",
    "df4['LINEsum']=df4[\"length_LINE\"]+df4[\"SINEsum\"]\n",
    "#df3.dtypes\n",
    "df4"
   ]
  },
  {
   "cell_type": "code",
   "execution_count": null,
   "metadata": {
    "collapsed": true
   },
   "outputs": [],
   "source": [
    "make_rep_df(\"/Users/dshipilina/GitHub/GenomeVanessa/VanessaRepeat/LR999928.1-repeat.out\")\n",
    "plt.savefig(\"/Users/dshipilina/GitHub/LR999928.1-repeat.pdf\",bbox_inches=\"tight\")"
   ]
  },
  {
   "cell_type": "code",
   "execution_count": null,
   "metadata": {
    "collapsed": true,
    "scrolled": false
   },
   "outputs": [],
   "source": [
    "plot_rep_stack_bar(make_rep_df(\"/Users/dshipilina/GitHub/GenomeVanessa/VanessaRepeat/LR999924_repeat.out\"),17,\"24\")\n",
    "plot_rep_stack_bar(make_rep_df(\"/Users/dshipilina/GitHub/GenomeVanessa/VanessaRepeat/LR999925.1-repeat.out\"),16.6,\"25\")\n",
    "plot_rep_stack_bar(make_rep_df(\"/Users/dshipilina/GitHub/GenomeVanessa/VanessaRepeat/LR999926.1-repeat.out\"),16.3,\"26\")\n",
    "plot_rep_stack_bar(make_rep_df(\"/Users/dshipilina/GitHub/GenomeVanessa/VanessaRepeat/LR999927.1-repeat.out\"),16.1,\"27\")\n",
    "plot_rep_stack_bar(make_rep_df(\"/Users/dshipilina/GitHub/GenomeVanessa/VanessaRepeat/LR999928.1-repeat.out\"),16,\"28\")\n",
    "plot_rep_stack_bar(make_rep_df(\"/Users/dshipilina/GitHub/GenomeVanessa/VanessaRepeat/LR999929.1-repeat.out\"),15.9,\"29\")\n",
    "plot_rep_stack_bar(make_rep_df(\"/Users/dshipilina/GitHub/GenomeVanessa/VanessaRepeat/LR999930.1-repeat.out\"),15.7,\"30\")\n",
    "plot_rep_stack_bar(make_rep_df(\"/Users/dshipilina/GitHub/GenomeVanessa/VanessaRepeat/LR999931.1-repeat.out\"),15.5,\"31\")\n",
    "plot_rep_stack_bar(make_rep_df(\"/Users/dshipilina/GitHub/GenomeVanessa/VanessaRepeat/LR999932.1-repeat.out\"),15.4,\"32\")\n",
    "plot_rep_stack_bar(make_rep_df(\"/Users/dshipilina/GitHub/GenomeVanessa/VanessaRepeat/LR999933.1-repeat.out\"),14.9,\"33\")\n",
    "plot_rep_stack_bar(make_rep_df(\"/Users/dshipilina/GitHub/GenomeVanessa/VanessaRepeat/LR999934.1-repeat.out\"),14.8,\"34\")\n",
    "plot_rep_stack_bar(make_rep_df(\"/Users/dshipilina/GitHub/GenomeVanessa/VanessaRepeat/LR999935.1-repeat.out\"),14.8,\"35\")\n",
    "plot_rep_stack_bar(make_rep_df(\"/Users/dshipilina/GitHub/GenomeVanessa/VanessaRepeat/LR999936.1-repeat.out\"),14.6,\"36\")\n",
    "plot_rep_stack_bar(make_rep_df(\"/Users/dshipilina/GitHub/GenomeVanessa/VanessaRepeat/LR999937.1-repeat.out\"),13.9,\"37\")\n",
    "plot_rep_stack_bar(make_rep_df(\"/Users/dshipilina/GitHub/GenomeVanessa/VanessaRepeat/LR999938.1-repeat.out\"),13.8,\"38\")\n",
    "plot_rep_stack_bar(make_rep_df(\"/Users/dshipilina/GitHub/GenomeVanessa/VanessaRepeat/LR999939.1-repeat.out\"),13.7,\"39\")"
   ]
  },
  {
   "cell_type": "code",
   "execution_count": null,
   "metadata": {
    "collapsed": true
   },
   "outputs": [],
   "source": [
    "plot_rep_stack_bar(make_rep_df(\"/Users/dshipilina/GitHub/GenomeVanessa/VanessaRepeat/LR999940.1-repeat.out\"),13.8,\"40\")\n",
    "plot_rep_stack_bar(make_rep_df(\"/Users/dshipilina/GitHub/GenomeVanessa/VanessaRepeat/LR999941.1-repeat.out\"),13.7,\"41\")\n",
    "plot_rep_stack_bar(make_rep_df(\"/Users/dshipilina/GitHub/GenomeVanessa/VanessaRepeat/LR999942.1-repeat.out\"),13.5,\"42\")\n",
    "plot_rep_stack_bar(make_rep_df(\"/Users/dshipilina/GitHub/GenomeVanessa/VanessaRepeat/LR999943.1-repeat.out\"),13.2,\"43\")\n",
    "plot_rep_stack_bar(make_rep_df(\"/Users/dshipilina/GitHub/GenomeVanessa/VanessaRepeat/LR999944.1-repeat.out\"),12.9,\"44\")\n",
    "plot_rep_stack_bar(make_rep_df(\"/Users/dshipilina/GitHub/GenomeVanessa/VanessaRepeat/LR999945.1-repeat.out\"),12.8,\"45\")\n",
    "plot_rep_stack_bar(make_rep_df(\"/Users/dshipilina/GitHub/GenomeVanessa/VanessaRepeat/LR999946.1-repeat.out\"),12.6,\"46\")\n",
    "plot_rep_stack_bar(make_rep_df(\"/Users/dshipilina/GitHub/GenomeVanessa/VanessaRepeat/LR999947.1-repeat.out\"),11.7,\"47\")\n",
    "plot_rep_stack_bar(make_rep_df(\"/Users/dshipilina/GitHub/GenomeVanessa/VanessaRepeat/LR999948.1-repeat.out\"),11.3,\"48\")\n",
    "plot_rep_stack_bar(make_rep_df(\"/Users/dshipilina/GitHub/GenomeVanessa/VanessaRepeat/LR999949.1-repeat.out\"),11.2,\"49\")\n",
    "plot_rep_stack_bar(make_rep_df(\"/Users/dshipilina/GitHub/GenomeVanessa/VanessaRepeat/LR999950.1-repeat.out\"),9.9,\"50\")\n",
    "plot_rep_stack_bar(make_rep_df(\"/Users/dshipilina/GitHub/GenomeVanessa/VanessaRepeat/LR999951.1-repeat.out\"),9.8,\"51\")\n",
    "plot_rep_stack_bar(make_rep_df(\"/Users/dshipilina/GitHub/GenomeVanessa/VanessaRepeat/LR999952.1-repeat.out\"),8.2,\"52\")\n",
    "plot_rep_stack_bar(make_rep_df(\"/Users/dshipilina/GitHub/GenomeVanessa/VanessaRepeat/LR999953.1-repeat.out\"),8.2,\"53\")\n",
    "plot_rep_stack_bar(make_rep_df(\"/Users/dshipilina/GitHub/GenomeVanessa/VanessaRepeat/LR999954.1-repeat.out\"),7.4,\"54\")\n",
    "plot_rep_stack_bar(make_rep_df(\"/Users/dshipilina/GitHub/GenomeVanessa/VanessaRepeat/LR999955.1-repeat.out\"),6.2,\"55\")"
   ]
  },
  {
   "cell_type": "markdown",
   "metadata": {
    "collapsed": true,
    "heading_collapsed": true,
    "scrolled": true
   },
   "source": [
    "## Duplicated Genes Chromosome Total"
   ]
  },
  {
   "cell_type": "code",
   "execution_count": null,
   "metadata": {
    "collapsed": true,
    "hidden": true
   },
   "outputs": [],
   "source": [
    "'''\n",
    "import re\n",
    "new = open(\"/Users/dariashipilina/Documents/GitHub/GenomeVanessa/VanessaAnnotation/Gained_genes_per_chrom.tsv\").read()\n",
    "split_ = new.split('\\n')\n",
    "#print(split_[1])\n",
    "eigve_array=[]\n",
    "#print(split_file2[2])\n",
    "for i in split_:\n",
    "    #print(i\n",
    "    ii=re.split('\\ |\\t',i)\n",
    "    #print(ii)\n",
    "    eigve_array+=[ii]\n",
    "    \n",
    "pd.read_csv('c:/~/trainSetRel3.txt', sep='\\t')\n",
    "'''"
   ]
  },
  {
   "cell_type": "code",
   "execution_count": 42,
   "metadata": {
    "hidden": true
   },
   "outputs": [
    {
     "data": {
      "text/html": [
       "<div>\n",
       "<style scoped>\n",
       "    .dataframe tbody tr th:only-of-type {\n",
       "        vertical-align: middle;\n",
       "    }\n",
       "\n",
       "    .dataframe tbody tr th {\n",
       "        vertical-align: top;\n",
       "    }\n",
       "\n",
       "    .dataframe thead th {\n",
       "        text-align: right;\n",
       "    }\n",
       "</style>\n",
       "<table border=\"1\" class=\"dataframe\">\n",
       "  <thead>\n",
       "    <tr style=\"text-align: right;\">\n",
       "      <th></th>\n",
       "      <th>chrom</th>\n",
       "      <th>duplic_genes</th>\n",
       "    </tr>\n",
       "  </thead>\n",
       "  <tbody>\n",
       "    <tr>\n",
       "      <th>0</th>\n",
       "      <td>LR999924.1</td>\n",
       "      <td>10</td>\n",
       "    </tr>\n",
       "    <tr>\n",
       "      <th>1</th>\n",
       "      <td>LR999925.1</td>\n",
       "      <td>27</td>\n",
       "    </tr>\n",
       "    <tr>\n",
       "      <th>2</th>\n",
       "      <td>LR999926.1</td>\n",
       "      <td>23</td>\n",
       "    </tr>\n",
       "    <tr>\n",
       "      <th>3</th>\n",
       "      <td>LR999927.1</td>\n",
       "      <td>48</td>\n",
       "    </tr>\n",
       "    <tr>\n",
       "      <th>4</th>\n",
       "      <td>LR999928.1</td>\n",
       "      <td>14</td>\n",
       "    </tr>\n",
       "    <tr>\n",
       "      <th>5</th>\n",
       "      <td>LR999929.1</td>\n",
       "      <td>19</td>\n",
       "    </tr>\n",
       "    <tr>\n",
       "      <th>6</th>\n",
       "      <td>LR999930.1</td>\n",
       "      <td>15</td>\n",
       "    </tr>\n",
       "    <tr>\n",
       "      <th>7</th>\n",
       "      <td>LR999931.1</td>\n",
       "      <td>8</td>\n",
       "    </tr>\n",
       "    <tr>\n",
       "      <th>8</th>\n",
       "      <td>LR999932.1</td>\n",
       "      <td>16</td>\n",
       "    </tr>\n",
       "    <tr>\n",
       "      <th>9</th>\n",
       "      <td>LR999933.1</td>\n",
       "      <td>13</td>\n",
       "    </tr>\n",
       "    <tr>\n",
       "      <th>10</th>\n",
       "      <td>LR999934.1</td>\n",
       "      <td>47</td>\n",
       "    </tr>\n",
       "    <tr>\n",
       "      <th>11</th>\n",
       "      <td>LR999935.1</td>\n",
       "      <td>10</td>\n",
       "    </tr>\n",
       "    <tr>\n",
       "      <th>12</th>\n",
       "      <td>LR999936.1</td>\n",
       "      <td>18</td>\n",
       "    </tr>\n",
       "    <tr>\n",
       "      <th>13</th>\n",
       "      <td>LR999937.1</td>\n",
       "      <td>17</td>\n",
       "    </tr>\n",
       "    <tr>\n",
       "      <th>14</th>\n",
       "      <td>LR999938.1</td>\n",
       "      <td>16</td>\n",
       "    </tr>\n",
       "    <tr>\n",
       "      <th>15</th>\n",
       "      <td>LR999939.1</td>\n",
       "      <td>10</td>\n",
       "    </tr>\n",
       "    <tr>\n",
       "      <th>16</th>\n",
       "      <td>LR999940.1</td>\n",
       "      <td>175</td>\n",
       "    </tr>\n",
       "    <tr>\n",
       "      <th>17</th>\n",
       "      <td>LR999941.1</td>\n",
       "      <td>18</td>\n",
       "    </tr>\n",
       "    <tr>\n",
       "      <th>18</th>\n",
       "      <td>LR999942.1</td>\n",
       "      <td>28</td>\n",
       "    </tr>\n",
       "    <tr>\n",
       "      <th>19</th>\n",
       "      <td>LR999943.1</td>\n",
       "      <td>12</td>\n",
       "    </tr>\n",
       "    <tr>\n",
       "      <th>20</th>\n",
       "      <td>LR999944.1</td>\n",
       "      <td>15</td>\n",
       "    </tr>\n",
       "    <tr>\n",
       "      <th>21</th>\n",
       "      <td>LR999945.1</td>\n",
       "      <td>19</td>\n",
       "    </tr>\n",
       "    <tr>\n",
       "      <th>22</th>\n",
       "      <td>LR999946.1</td>\n",
       "      <td>13</td>\n",
       "    </tr>\n",
       "    <tr>\n",
       "      <th>23</th>\n",
       "      <td>LR999947.1</td>\n",
       "      <td>44</td>\n",
       "    </tr>\n",
       "    <tr>\n",
       "      <th>24</th>\n",
       "      <td>LR999948.1</td>\n",
       "      <td>14</td>\n",
       "    </tr>\n",
       "    <tr>\n",
       "      <th>25</th>\n",
       "      <td>LR999949.1</td>\n",
       "      <td>19</td>\n",
       "    </tr>\n",
       "    <tr>\n",
       "      <th>26</th>\n",
       "      <td>LR999950.1</td>\n",
       "      <td>12</td>\n",
       "    </tr>\n",
       "    <tr>\n",
       "      <th>27</th>\n",
       "      <td>LR999951.1</td>\n",
       "      <td>14</td>\n",
       "    </tr>\n",
       "    <tr>\n",
       "      <th>28</th>\n",
       "      <td>LR999952.1</td>\n",
       "      <td>16</td>\n",
       "    </tr>\n",
       "    <tr>\n",
       "      <th>29</th>\n",
       "      <td>LR999953.1</td>\n",
       "      <td>28</td>\n",
       "    </tr>\n",
       "    <tr>\n",
       "      <th>30</th>\n",
       "      <td>LR999954.1</td>\n",
       "      <td>14</td>\n",
       "    </tr>\n",
       "    <tr>\n",
       "      <th>31</th>\n",
       "      <td>LR999955.1</td>\n",
       "      <td>6</td>\n",
       "    </tr>\n",
       "  </tbody>\n",
       "</table>\n",
       "</div>"
      ],
      "text/plain": [
       "         chrom  duplic_genes\n",
       "0   LR999924.1            10\n",
       "1   LR999925.1            27\n",
       "2   LR999926.1            23\n",
       "3   LR999927.1            48\n",
       "4   LR999928.1            14\n",
       "5   LR999929.1            19\n",
       "6   LR999930.1            15\n",
       "7   LR999931.1             8\n",
       "8   LR999932.1            16\n",
       "9   LR999933.1            13\n",
       "10  LR999934.1            47\n",
       "11  LR999935.1            10\n",
       "12  LR999936.1            18\n",
       "13  LR999937.1            17\n",
       "14  LR999938.1            16\n",
       "15  LR999939.1            10\n",
       "16  LR999940.1           175\n",
       "17  LR999941.1            18\n",
       "18  LR999942.1            28\n",
       "19  LR999943.1            12\n",
       "20  LR999944.1            15\n",
       "21  LR999945.1            19\n",
       "22  LR999946.1            13\n",
       "23  LR999947.1            44\n",
       "24  LR999948.1            14\n",
       "25  LR999949.1            19\n",
       "26  LR999950.1            12\n",
       "27  LR999951.1            14\n",
       "28  LR999952.1            16\n",
       "29  LR999953.1            28\n",
       "30  LR999954.1            14\n",
       "31  LR999955.1             6"
      ]
     },
     "execution_count": 42,
     "metadata": {},
     "output_type": "execute_result"
    }
   ],
   "source": [
    "dfr=pd.read_csv(\"/Users/dariashipilina/Documents/GitHub/GenomeVanessa/WindowBasedAnalysis/Gained_genes_per_chrom.tsv\", sep='\\t', header=0)\n",
    "dfr.columns =[\"chrom\", \"duplic_genes\"]\n",
    "dfr"
   ]
  },
  {
   "cell_type": "code",
   "execution_count": 44,
   "metadata": {
    "hidden": true
   },
   "outputs": [
    {
     "data": {
      "image/png": "[encoded data removed]",
      "text/plain": [
       "<Figure size 720x360 with 1 Axes>"
      ]
     },
     "metadata": {
      "needs_background": "light"
     },
     "output_type": "display_data"
    }
   ],
   "source": [
    "ml.rcParams['figure.figsize'] = (10, 5)\n",
    "sns.barplot(x=dfr[\"chrom\"], y=dfr[\"duplic_genes\"] , color=\"purple\")\n",
    "plt.xticks(rotation=90)\n",
    "plt.xlabel(\"Chromosomes\")\n",
    "plt.ylabel(\"Number of gained genes\")\n",
    "plt.tick_params(axis='x', labelsize=10)\n",
    "#plt.savefig(\"/Users/dariashipilina/Documents/GitHub/GenomeVanessa/WindowBasedAnalysis/gained_genes.pdf\",bbox_inches=\"tight\")\n",
    "#plt.savefig(\"/Users/dariashipilina/Documents/GitHub/GenomeVanessa/WindowBasedAnalysis/gained_genes.jpg\",bbox_inches=\"tight\")"
   ]
  },
  {
   "cell_type": "markdown",
   "metadata": {
    "heading_collapsed": true
   },
   "source": [
    "## Window-based gains plot"
   ]
  },
  {
   "cell_type": "code",
   "execution_count": 7,
   "metadata": {
    "hidden": true
   },
   "outputs": [
    {
     "data": {
      "text/html": [
       "<div>\n",
       "<style scoped>\n",
       "    .dataframe tbody tr th:only-of-type {\n",
       "        vertical-align: middle;\n",
       "    }\n",
       "\n",
       "    .dataframe tbody tr th {\n",
       "        vertical-align: top;\n",
       "    }\n",
       "\n",
       "    .dataframe thead th {\n",
       "        text-align: right;\n",
       "    }\n",
       "</style>\n",
       "<table border=\"1\" class=\"dataframe\">\n",
       "  <thead>\n",
       "    <tr style=\"text-align: right;\">\n",
       "      <th></th>\n",
       "      <th>chrom</th>\n",
       "      <th>begin</th>\n",
       "      <th>end</th>\n",
       "      <th>count_gene</th>\n",
       "      <th>length_gene</th>\n",
       "    </tr>\n",
       "  </thead>\n",
       "  <tbody>\n",
       "    <tr>\n",
       "      <th>0</th>\n",
       "      <td>LR999924.1</td>\n",
       "      <td>1</td>\n",
       "      <td>100000</td>\n",
       "      <td>0</td>\n",
       "      <td>NaN</td>\n",
       "    </tr>\n",
       "    <tr>\n",
       "      <th>1</th>\n",
       "      <td>LR999924.1</td>\n",
       "      <td>100001</td>\n",
       "      <td>200000</td>\n",
       "      <td>2</td>\n",
       "      <td>16712.0</td>\n",
       "    </tr>\n",
       "    <tr>\n",
       "      <th>2</th>\n",
       "      <td>LR999924.1</td>\n",
       "      <td>200001</td>\n",
       "      <td>300000</td>\n",
       "      <td>2</td>\n",
       "      <td>17503.0</td>\n",
       "    </tr>\n",
       "    <tr>\n",
       "      <th>3</th>\n",
       "      <td>LR999924.1</td>\n",
       "      <td>300001</td>\n",
       "      <td>400000</td>\n",
       "      <td>5</td>\n",
       "      <td>9990.0</td>\n",
       "    </tr>\n",
       "    <tr>\n",
       "      <th>4</th>\n",
       "      <td>LR999924.1</td>\n",
       "      <td>400001</td>\n",
       "      <td>500000</td>\n",
       "      <td>4</td>\n",
       "      <td>31592.0</td>\n",
       "    </tr>\n",
       "    <tr>\n",
       "      <th>...</th>\n",
       "      <td>...</td>\n",
       "      <td>...</td>\n",
       "      <td>...</td>\n",
       "      <td>...</td>\n",
       "      <td>...</td>\n",
       "    </tr>\n",
       "    <tr>\n",
       "      <th>166</th>\n",
       "      <td>LR999924.1</td>\n",
       "      <td>16600001</td>\n",
       "      <td>16700000</td>\n",
       "      <td>4</td>\n",
       "      <td>13031.0</td>\n",
       "    </tr>\n",
       "    <tr>\n",
       "      <th>167</th>\n",
       "      <td>LR999924.1</td>\n",
       "      <td>16700001</td>\n",
       "      <td>16800000</td>\n",
       "      <td>0</td>\n",
       "      <td>NaN</td>\n",
       "    </tr>\n",
       "    <tr>\n",
       "      <th>168</th>\n",
       "      <td>LR999924.1</td>\n",
       "      <td>16800001</td>\n",
       "      <td>16900000</td>\n",
       "      <td>1</td>\n",
       "      <td>7402.0</td>\n",
       "    </tr>\n",
       "    <tr>\n",
       "      <th>169</th>\n",
       "      <td>LR999924.1</td>\n",
       "      <td>16900001</td>\n",
       "      <td>17000000</td>\n",
       "      <td>5</td>\n",
       "      <td>28169.0</td>\n",
       "    </tr>\n",
       "    <tr>\n",
       "      <th>170</th>\n",
       "      <td>LR999924.1</td>\n",
       "      <td>17000001</td>\n",
       "      <td>17040296</td>\n",
       "      <td>4</td>\n",
       "      <td>12093.0</td>\n",
       "    </tr>\n",
       "  </tbody>\n",
       "</table>\n",
       "<p>171 rows × 5 columns</p>\n",
       "</div>"
      ],
      "text/plain": [
       "          chrom     begin       end  count_gene  length_gene\n",
       "0    LR999924.1         1    100000           0          NaN\n",
       "1    LR999924.1    100001    200000           2      16712.0\n",
       "2    LR999924.1    200001    300000           2      17503.0\n",
       "3    LR999924.1    300001    400000           5       9990.0\n",
       "4    LR999924.1    400001    500000           4      31592.0\n",
       "..          ...       ...       ...         ...          ...\n",
       "166  LR999924.1  16600001  16700000           4      13031.0\n",
       "167  LR999924.1  16700001  16800000           0          NaN\n",
       "168  LR999924.1  16800001  16900000           1       7402.0\n",
       "169  LR999924.1  16900001  17000000           5      28169.0\n",
       "170  LR999924.1  17000001  17040296           4      12093.0\n",
       "\n",
       "[171 rows x 5 columns]"
      ]
     },
     "execution_count": 7,
     "metadata": {},
     "output_type": "execute_result"
    }
   ],
   "source": [
    "#dfr=pd.read_csv(\"/Users/dariashipilina/Documents/GitHub/GenomeVanessa/VanessaAnnotation/LR999924.1_gains.tsv\", sep=\"\\t\")\n",
    "dfr=pd.read_csv(\"/Users/dshipilina/GitHub/GenomeVanessa/WindowBasedAnalysis/WindowedGeneDensity/100kb_tmp_counts/LR999924.1-genecount.tsv\", sep=\" \")\n",
    "#dfr.columns =[\"chrom\", \"begin\", \"end\", \"gained_genes\"]\n",
    "dfr"
   ]
  },
  {
   "cell_type": "code",
   "execution_count": null,
   "metadata": {
    "collapsed": true,
    "hidden": true
   },
   "outputs": [],
   "source": [
    "import re\n",
    "new = open(\"/Users/dariashipilina/Documents/GitHub/GenomeVanessa/VanessaAnnotation/LR999925.1_gains.tsv\").read()\n",
    "split_ = new.split('\\n')\n",
    "#print(split_[1])\n",
    "eigve_array=[]\n",
    "#print(split_file2[2])\n",
    "for i in split_:\n",
    "    #print(i)\n",
    "    ii=i.split()\n",
    "    #print(ii)\n",
    "    eigve_array+=[ii]\n",
    "\n",
    "dfr=pd.DataFrame(eigve_array)\n",
    "#dfr = df4.rename(columns=df4.iloc[0]).drop(df4.index[0])\n",
    "#df3 = df3.drop(labels=[171], axis=0)\n",
    "dfr.columns=['chrom','begin','end','gains']\n",
    "#df3 = df3.drop(labels=[171], axis=0)\n",
    "#df3[\"begin\"] = pd.to_numeric(df3[\"begin\"], downcast=\"float\")\n",
    "#df3[\"repts\"] = pd.to_numeric(df3[\"repts\"], downcast=\"float\")\n",
    "#df4 = df4[:-1]\n",
    "#df3['count_SINE'].fillna(\"0\", inplace=True)\n",
    "#df4.loc[df4[\"length_SINE\"] == '','length_SINE'] = 0\n",
    "#df4.loc[df4[\"length_TcM\"] == '','length_TcM'] = 0\n",
    "dfr = dfr.apply(pd.to_numeric, errors='coerce')\n",
    "#df4['DNAsum']=df4[\"length_LTR\"]+df4[\"length_DNA\"]\n",
    "#df4['SINEsum']=df4[\"length_SINE\"]+df4[\"DNAsum\"]\n",
    "#df4['LINEsum']=df4[\"length_LINE\"]+df4[\"SINEsum\"]\n",
    "#df3.dtypes\n",
    "dfr"
   ]
  },
  {
   "cell_type": "code",
   "execution_count": null,
   "metadata": {
    "collapsed": true,
    "hidden": true
   },
   "outputs": [],
   "source": [
    "\n",
    "    ml.rcParams['figure.figsize'] = (17, 1.5)\n",
    "    sns.barplot(x=dfr[\"begin\"], y=dfr[\"gains\"] , color=\"grey\")\n",
    "    plt.tick_params(axis='x', labelsize=1)\n",
    "    plt.rcParams['axes.spines.left'] = True\n",
    "    plt.rcParams['axes.spines.right'] = False\n",
    "    plt.rcParams['axes.spines.top'] = False\n",
    "    plt.rcParams['axes.spines.bottom'] = True\n",
    "    plt.xlabel(\"Position along the chromosome\")\n",
    "    plt.ylabel(\"N genes\")\n",
    "    #plt.savefig(\"/Users/dshipilina/GitHub/repeat_40.png\",bbox_inches=\"tight\")\n",
    "    #sns.barplot(x=df[\"begin\"], y=df[\"per_LINEadd\"] , color=\"purple\")\n",
    "    #sns.barplot(x=df[\"begin\"], y=df[\"per_SINEadd\"] , color=\"red\")\n",
    "    #sns.barplot(x=df[\"begin\"], y=df[\"per_DNAtransadd\"] , color=\"green\")\n",
    "    #sns.barplot(x=df[\"begin\"], y=df[\"per_LTRadd\"] , color=\"orange\")\n",
    "    #sns.barplot(x=df[\"begin\"], y=df[\"per_nonLTR\"] , color=\"blue\")\n",
    "    \n",
    "    \n",
    "    #df4['%nonLTR']=df4[\"length_nonLTR\"]/df4['block_len']*100\n",
    "    #df4['%LTRadd']=df4[\"length_LTR\"]/df4['block_len']*100\n",
    "    #df4['%DNAtransadd']=(df4[\"length_LTR\"]+df4[\"length_DNA\"])/df4['block_len']*100\n",
    "    #df4['%SINEadd']=(df4[\"length_LTR\"]+df4[\"length_DNA\"]+df4[\"length_SINE\"])/df4['block_len']*100\n",
    "    #df4['%LINEadd']=(df4[\"length_LTR\"]+df4[\"length_DNA\"]+df4[\"length_SINE\"]+df4[\"length_LINE\"])/df4['block_len']*100\n",
    "   \n",
    "\n",
    "    #plt.xlabel(\"Position along the chromosome (100kb windows)\")\n",
    "    \n",
    "    #plt.xlabel(\" \")\n",
    "    #plt.ylabel(\"% repeats\")\n",
    "    ax = plt.gca()\n",
    "    #ax.axes.xaxis.set_ticks([])\n",
    "    #x_axis = ax.axes.get_xaxis()\n",
    "    #x_axis.set_visible(False)\n",
    "    ax.set_ylim([0,10])\n",
    "    ax.invert_yaxis()\n",
    "    #ax.axes.yaxis.set_ticks([])\n",
    "    #y_axis = ax.axes.get_yaxis()\n",
    "    #y_axis.set_visible(False)\n",
    "    #print(\"Blue LTR, orange non LTR\")\n",
    "    plt.savefig(\"/Users/dariashipilina/Documents/GitHub/GenomeVanessa/VanessaAnnotation/repeat_25.jpg\",bbox_inches=\"tight\")\n",
    "    plt.show()"
   ]
  },
  {
   "cell_type": "code",
   "execution_count": null,
   "metadata": {
    "collapsed": true,
    "hidden": true
   },
   "outputs": [],
   "source": [
    "new = open(\"/Users/dariashipilina/Documents/GitHub/GenomeVanessa/VanessaAnnotation/LR999924.1_gains.tsv\").read()\n",
    "split_ = new.split('\\n')\n",
    "#print(split_[1])\n",
    "eigve_array=[]\n",
    "#print(split_file2[2])\n",
    "for i in split_:\n",
    "    #print(i)\n",
    "    ii=i.split()\n",
    "    #print(ii)\n",
    "    eigve_array+=[ii]\n",
    "\n",
    "dfr=pd.DataFrame(eigve_array)\n",
    "#dfr = df4.rename(columns=df4.iloc[0]).drop(df4.index[0])\n",
    "#df3 = df3.drop(labels=[171], axis=0)\n",
    "dfr.columns=['chrom','begin','end','gains']\n",
    "#df3 = df3.drop(labels=[171], axis=0)\n",
    "#df3[\"begin\"] = pd.to_numeric(df3[\"begin\"], downcast=\"float\")\n",
    "#df3[\"repts\"] = pd.to_numeric(df3[\"repts\"], downcast=\"float\")\n",
    "#df4 = df4[:-1]\n",
    "#df3['count_SINE'].fillna(\"0\", inplace=True)\n",
    "#df4.loc[df4[\"length_SINE\"] == '','length_SINE'] = 0\n",
    "#df4.loc[df4[\"length_TcM\"] == '','length_TcM'] = 0\n",
    "dfr = dfr.apply(pd.to_numeric, errors='coerce')\n",
    "#df4['DNAsum']=df4[\"length_LTR\"]+df4[\"length_DNA\"]\n",
    "#df4['SINEsum']=df4[\"length_SINE\"]+df4[\"DNAsum\"]\n",
    "#df4['LINEsum']=df4[\"length_LINE\"]+df4[\"SINEsum\"]\n",
    "#df3.dtypes\n",
    "dfr"
   ]
  },
  {
   "cell_type": "code",
   "execution_count": null,
   "metadata": {
    "collapsed": true,
    "hidden": true
   },
   "outputs": [],
   "source": [
    "ml.rcParams['figure.figsize'] = (17, 1.5)\n",
    "    sns.barplot(x=dfr[\"begin\"], y=dfr[\"gains\"] , color=\"lightgrey\")\n",
    "    plt.tick_params(axis='x', labelsize=1)\n",
    "    plt.rcParams['axes.spines.left'] = True\n",
    "    plt.rcParams['axes.spines.right'] = False\n",
    "    plt.rcParams['axes.spines.top'] = False\n",
    "    plt.rcParams['axes.spines.bottom'] = True\n",
    "    plt.xlabel(\"Position along the chromosome\")\n",
    "    plt.ylabel(\"N genes\")\n",
    "    #plt.savefig(\"/Users/dshipilina/GitHub/repeat_40.png\",bbox_inches=\"tight\")\n",
    "    #sns.barplot(x=df[\"begin\"], y=df[\"per_LINEadd\"] , color=\"purple\")\n",
    "    #sns.barplot(x=df[\"begin\"], y=df[\"per_SINEadd\"] , color=\"red\")\n",
    "    #sns.barplot(x=df[\"begin\"], y=df[\"per_DNAtransadd\"] , color=\"green\")\n",
    "    #sns.barplot(x=df[\"begin\"], y=df[\"per_LTRadd\"] , color=\"orange\")\n",
    "    #sns.barplot(x=df[\"begin\"], y=df[\"per_nonLTR\"] , color=\"blue\")\n",
    "    \n",
    "    \n",
    "    #df4['%nonLTR']=df4[\"length_nonLTR\"]/df4['block_len']*100\n",
    "    #df4['%LTRadd']=df4[\"length_LTR\"]/df4['block_len']*100\n",
    "    #df4['%DNAtransadd']=(df4[\"length_LTR\"]+df4[\"length_DNA\"])/df4['block_len']*100\n",
    "    #df4['%SINEadd']=(df4[\"length_LTR\"]+df4[\"length_DNA\"]+df4[\"length_SINE\"])/df4['block_len']*100\n",
    "    #df4['%LINEadd']=(df4[\"length_LTR\"]+df4[\"length_DNA\"]+df4[\"length_SINE\"]+df4[\"length_LINE\"])/df4['block_len']*100\n",
    "   \n",
    "\n",
    "    plt.xlabel(\"Position along the chromosome (100kb windows)\")\n",
    "    \n",
    "    #plt.xlabel(\" \")\n",
    "    #plt.ylabel(\"% repeats\")\n",
    "    ax = plt.gca()\n",
    "    #ax.axes.xaxis.set_ticks([])\n",
    "    #x_axis = ax.axes.get_xaxis()\n",
    "    #x_axis.set_visible(False)\n",
    "    ax.set_ylim([0,10])\n",
    "    #ax.axes.yaxis.set_ticks([])\n",
    "    #y_axis = ax.axes.get_yaxis()\n",
    "    #y_axis.set_visible(False)\n",
    "    #print(\"Blue LTR, orange non LTR\")\n",
    "    #plt.savefig(\"/Users/dshipilina/GitHub/GenomeVanessa/VanessaRepeat/repeat_\"+chrnum+\".pdf\",bbox_inches=\"tight\")\n",
    "    plt.show()"
   ]
  },
  {
   "cell_type": "code",
   "execution_count": null,
   "metadata": {
    "collapsed": true,
    "hidden": true
   },
   "outputs": [],
   "source": [
    "ml.rcParams['figure.figsize'] = (10, 5)\n",
    "sns.barplot(x=dfr[\"chrom\"], y=dfr[\"duplic_genes\"] , color=\"purple\")\n",
    "plt.xticks(rotation=90)\n",
    "plt.xlabel(\"Chromosomes\")\n",
    "plt.ylabel(\"Number of gained genes\")\n",
    "plt.tick_params(axis='x', labelsize=10)\n",
    "plt.savefig(\"/Users/dariashipilina/Documents/GitHub/GenomeVanessa/VanessaAnnotation/gained_genes.pdf\",bbox_inches=\"tight\")\n",
    "plt.savefig(\"/Users/dariashipilina/Documents/GitHub/GenomeVanessa/VanessaAnnotation/gained_genes.jpg\",bbox_inches=\"tight\")"
   ]
  },
  {
   "cell_type": "markdown",
   "metadata": {},
   "source": [
    "## Gene density"
   ]
  },
  {
   "cell_type": "code",
   "execution_count": 29,
   "metadata": {
    "ExecuteTime": {
     "end_time": "2021-08-17T08:53:23.221641Z",
     "start_time": "2021-08-17T08:53:23.202911Z"
    }
   },
   "outputs": [
    {
     "data": {
      "text/html": [
       "<div>\n",
       "<style scoped>\n",
       "    .dataframe tbody tr th:only-of-type {\n",
       "        vertical-align: middle;\n",
       "    }\n",
       "\n",
       "    .dataframe tbody tr th {\n",
       "        vertical-align: top;\n",
       "    }\n",
       "\n",
       "    .dataframe thead th {\n",
       "        text-align: right;\n",
       "    }\n",
       "</style>\n",
       "<table border=\"1\" class=\"dataframe\">\n",
       "  <thead>\n",
       "    <tr style=\"text-align: right;\">\n",
       "      <th></th>\n",
       "      <th>chrom</th>\n",
       "      <th>begin</th>\n",
       "      <th>end</th>\n",
       "      <th>count_gene</th>\n",
       "      <th>length_gene</th>\n",
       "      <th>block_len</th>\n",
       "      <th>%length</th>\n",
       "    </tr>\n",
       "  </thead>\n",
       "  <tbody>\n",
       "    <tr>\n",
       "      <th>0</th>\n",
       "      <td>LR999924.1</td>\n",
       "      <td>1</td>\n",
       "      <td>100000</td>\n",
       "      <td>0</td>\n",
       "      <td>0.0</td>\n",
       "      <td>99999</td>\n",
       "      <td>0.000000</td>\n",
       "    </tr>\n",
       "    <tr>\n",
       "      <th>1</th>\n",
       "      <td>LR999924.1</td>\n",
       "      <td>100001</td>\n",
       "      <td>200000</td>\n",
       "      <td>2</td>\n",
       "      <td>16712.0</td>\n",
       "      <td>99999</td>\n",
       "      <td>16.712167</td>\n",
       "    </tr>\n",
       "    <tr>\n",
       "      <th>2</th>\n",
       "      <td>LR999924.1</td>\n",
       "      <td>200001</td>\n",
       "      <td>300000</td>\n",
       "      <td>2</td>\n",
       "      <td>17503.0</td>\n",
       "      <td>99999</td>\n",
       "      <td>17.503175</td>\n",
       "    </tr>\n",
       "    <tr>\n",
       "      <th>3</th>\n",
       "      <td>LR999924.1</td>\n",
       "      <td>300001</td>\n",
       "      <td>400000</td>\n",
       "      <td>5</td>\n",
       "      <td>9990.0</td>\n",
       "      <td>99999</td>\n",
       "      <td>9.990100</td>\n",
       "    </tr>\n",
       "    <tr>\n",
       "      <th>4</th>\n",
       "      <td>LR999924.1</td>\n",
       "      <td>400001</td>\n",
       "      <td>500000</td>\n",
       "      <td>4</td>\n",
       "      <td>31592.0</td>\n",
       "      <td>99999</td>\n",
       "      <td>31.592316</td>\n",
       "    </tr>\n",
       "    <tr>\n",
       "      <th>...</th>\n",
       "      <td>...</td>\n",
       "      <td>...</td>\n",
       "      <td>...</td>\n",
       "      <td>...</td>\n",
       "      <td>...</td>\n",
       "      <td>...</td>\n",
       "      <td>...</td>\n",
       "    </tr>\n",
       "    <tr>\n",
       "      <th>166</th>\n",
       "      <td>LR999924.1</td>\n",
       "      <td>16600001</td>\n",
       "      <td>16700000</td>\n",
       "      <td>4</td>\n",
       "      <td>13031.0</td>\n",
       "      <td>99999</td>\n",
       "      <td>13.031130</td>\n",
       "    </tr>\n",
       "    <tr>\n",
       "      <th>167</th>\n",
       "      <td>LR999924.1</td>\n",
       "      <td>16700001</td>\n",
       "      <td>16800000</td>\n",
       "      <td>0</td>\n",
       "      <td>0.0</td>\n",
       "      <td>99999</td>\n",
       "      <td>0.000000</td>\n",
       "    </tr>\n",
       "    <tr>\n",
       "      <th>168</th>\n",
       "      <td>LR999924.1</td>\n",
       "      <td>16800001</td>\n",
       "      <td>16900000</td>\n",
       "      <td>1</td>\n",
       "      <td>7402.0</td>\n",
       "      <td>99999</td>\n",
       "      <td>7.402074</td>\n",
       "    </tr>\n",
       "    <tr>\n",
       "      <th>169</th>\n",
       "      <td>LR999924.1</td>\n",
       "      <td>16900001</td>\n",
       "      <td>17000000</td>\n",
       "      <td>5</td>\n",
       "      <td>28169.0</td>\n",
       "      <td>99999</td>\n",
       "      <td>28.169282</td>\n",
       "    </tr>\n",
       "    <tr>\n",
       "      <th>170</th>\n",
       "      <td>LR999924.1</td>\n",
       "      <td>17000001</td>\n",
       "      <td>17040296</td>\n",
       "      <td>4</td>\n",
       "      <td>12093.0</td>\n",
       "      <td>40295</td>\n",
       "      <td>30.011168</td>\n",
       "    </tr>\n",
       "  </tbody>\n",
       "</table>\n",
       "<p>171 rows × 7 columns</p>\n",
       "</div>"
      ],
      "text/plain": [
       "          chrom     begin       end  count_gene  length_gene  block_len  \\\n",
       "0    LR999924.1         1    100000           0          0.0      99999   \n",
       "1    LR999924.1    100001    200000           2      16712.0      99999   \n",
       "2    LR999924.1    200001    300000           2      17503.0      99999   \n",
       "3    LR999924.1    300001    400000           5       9990.0      99999   \n",
       "4    LR999924.1    400001    500000           4      31592.0      99999   \n",
       "..          ...       ...       ...         ...          ...        ...   \n",
       "166  LR999924.1  16600001  16700000           4      13031.0      99999   \n",
       "167  LR999924.1  16700001  16800000           0          0.0      99999   \n",
       "168  LR999924.1  16800001  16900000           1       7402.0      99999   \n",
       "169  LR999924.1  16900001  17000000           5      28169.0      99999   \n",
       "170  LR999924.1  17000001  17040296           4      12093.0      40295   \n",
       "\n",
       "       %length  \n",
       "0     0.000000  \n",
       "1    16.712167  \n",
       "2    17.503175  \n",
       "3     9.990100  \n",
       "4    31.592316  \n",
       "..         ...  \n",
       "166  13.031130  \n",
       "167   0.000000  \n",
       "168   7.402074  \n",
       "169  28.169282  \n",
       "170  30.011168  \n",
       "\n",
       "[171 rows x 7 columns]"
      ]
     },
     "execution_count": 29,
     "metadata": {},
     "output_type": "execute_result"
    }
   ],
   "source": [
    "#dfr=pd.read_csv(\"/Users/dariashipilina/Documents/GitHub/GenomeVanessa/VanessaAnnotation/LR999924.1_gains.tsv\", sep=\"\\t\")\n",
    "dfr=pd.read_csv(\"/Users/dshipilina/GitHub/GenomeVanessa/WindowBasedAnalysis/WindowedGeneDensity/100kb_tmp_counts/LR999924.1-genecount.tsv\", sep=\" \")\n",
    "#dfr.columns =[\"chrom\", \"begin\", \"end\", \"gained_genes\"]\n",
    "dfr['length_gene'] = dfr['length_gene'].fillna(0)\n",
    "dfr['block_len']=dfr[\"end\"]-dfr[\"begin\"]\n",
    "dfr['%length']=dfr[\"length_gene\"]/dfr['block_len']*100\n",
    "#dfr.fillna(0)\n",
    "dfr"
   ]
  },
  {
   "cell_type": "code",
   "execution_count": 31,
   "metadata": {
    "ExecuteTime": {
     "end_time": "2021-08-17T08:53:35.695091Z",
     "start_time": "2021-08-17T08:53:35.674588Z"
    }
   },
   "outputs": [
    {
     "data": {
      "text/html": [
       "<div>\n",
       "<style scoped>\n",
       "    .dataframe tbody tr th:only-of-type {\n",
       "        vertical-align: middle;\n",
       "    }\n",
       "\n",
       "    .dataframe tbody tr th {\n",
       "        vertical-align: top;\n",
       "    }\n",
       "\n",
       "    .dataframe thead th {\n",
       "        text-align: right;\n",
       "    }\n",
       "</style>\n",
       "<table border=\"1\" class=\"dataframe\">\n",
       "  <thead>\n",
       "    <tr style=\"text-align: right;\">\n",
       "      <th></th>\n",
       "      <th>chrom</th>\n",
       "      <th>begin</th>\n",
       "      <th>end</th>\n",
       "      <th>count_gene_ex</th>\n",
       "      <th>length_gene_ex</th>\n",
       "      <th>block_len_ex</th>\n",
       "      <th>%length</th>\n",
       "    </tr>\n",
       "  </thead>\n",
       "  <tbody>\n",
       "    <tr>\n",
       "      <th>0</th>\n",
       "      <td>LR999924.1</td>\n",
       "      <td>1</td>\n",
       "      <td>100000</td>\n",
       "      <td>0</td>\n",
       "      <td>0.0</td>\n",
       "      <td>99999</td>\n",
       "      <td>0.0</td>\n",
       "    </tr>\n",
       "    <tr>\n",
       "      <th>1</th>\n",
       "      <td>LR999924.1</td>\n",
       "      <td>100001</td>\n",
       "      <td>200000</td>\n",
       "      <td>0</td>\n",
       "      <td>0.0</td>\n",
       "      <td>99999</td>\n",
       "      <td>0.0</td>\n",
       "    </tr>\n",
       "    <tr>\n",
       "      <th>2</th>\n",
       "      <td>LR999924.1</td>\n",
       "      <td>200001</td>\n",
       "      <td>300000</td>\n",
       "      <td>0</td>\n",
       "      <td>0.0</td>\n",
       "      <td>99999</td>\n",
       "      <td>0.0</td>\n",
       "    </tr>\n",
       "    <tr>\n",
       "      <th>3</th>\n",
       "      <td>LR999924.1</td>\n",
       "      <td>300001</td>\n",
       "      <td>400000</td>\n",
       "      <td>0</td>\n",
       "      <td>0.0</td>\n",
       "      <td>99999</td>\n",
       "      <td>0.0</td>\n",
       "    </tr>\n",
       "    <tr>\n",
       "      <th>4</th>\n",
       "      <td>LR999924.1</td>\n",
       "      <td>400001</td>\n",
       "      <td>500000</td>\n",
       "      <td>0</td>\n",
       "      <td>0.0</td>\n",
       "      <td>99999</td>\n",
       "      <td>0.0</td>\n",
       "    </tr>\n",
       "    <tr>\n",
       "      <th>...</th>\n",
       "      <td>...</td>\n",
       "      <td>...</td>\n",
       "      <td>...</td>\n",
       "      <td>...</td>\n",
       "      <td>...</td>\n",
       "      <td>...</td>\n",
       "      <td>...</td>\n",
       "    </tr>\n",
       "    <tr>\n",
       "      <th>166</th>\n",
       "      <td>LR999924.1</td>\n",
       "      <td>16600001</td>\n",
       "      <td>16700000</td>\n",
       "      <td>0</td>\n",
       "      <td>0.0</td>\n",
       "      <td>99999</td>\n",
       "      <td>0.0</td>\n",
       "    </tr>\n",
       "    <tr>\n",
       "      <th>167</th>\n",
       "      <td>LR999924.1</td>\n",
       "      <td>16700001</td>\n",
       "      <td>16800000</td>\n",
       "      <td>0</td>\n",
       "      <td>0.0</td>\n",
       "      <td>99999</td>\n",
       "      <td>0.0</td>\n",
       "    </tr>\n",
       "    <tr>\n",
       "      <th>168</th>\n",
       "      <td>LR999924.1</td>\n",
       "      <td>16800001</td>\n",
       "      <td>16900000</td>\n",
       "      <td>0</td>\n",
       "      <td>0.0</td>\n",
       "      <td>99999</td>\n",
       "      <td>0.0</td>\n",
       "    </tr>\n",
       "    <tr>\n",
       "      <th>169</th>\n",
       "      <td>LR999924.1</td>\n",
       "      <td>16900001</td>\n",
       "      <td>17000000</td>\n",
       "      <td>0</td>\n",
       "      <td>0.0</td>\n",
       "      <td>99999</td>\n",
       "      <td>0.0</td>\n",
       "    </tr>\n",
       "    <tr>\n",
       "      <th>170</th>\n",
       "      <td>LR999924.1</td>\n",
       "      <td>17000001</td>\n",
       "      <td>17040296</td>\n",
       "      <td>0</td>\n",
       "      <td>0.0</td>\n",
       "      <td>40295</td>\n",
       "      <td>0.0</td>\n",
       "    </tr>\n",
       "  </tbody>\n",
       "</table>\n",
       "<p>171 rows × 7 columns</p>\n",
       "</div>"
      ],
      "text/plain": [
       "          chrom     begin       end  count_gene_ex  length_gene_ex  \\\n",
       "0    LR999924.1         1    100000              0             0.0   \n",
       "1    LR999924.1    100001    200000              0             0.0   \n",
       "2    LR999924.1    200001    300000              0             0.0   \n",
       "3    LR999924.1    300001    400000              0             0.0   \n",
       "4    LR999924.1    400001    500000              0             0.0   \n",
       "..          ...       ...       ...            ...             ...   \n",
       "166  LR999924.1  16600001  16700000              0             0.0   \n",
       "167  LR999924.1  16700001  16800000              0             0.0   \n",
       "168  LR999924.1  16800001  16900000              0             0.0   \n",
       "169  LR999924.1  16900001  17000000              0             0.0   \n",
       "170  LR999924.1  17000001  17040296              0             0.0   \n",
       "\n",
       "     block_len_ex  %length  \n",
       "0           99999      0.0  \n",
       "1           99999      0.0  \n",
       "2           99999      0.0  \n",
       "3           99999      0.0  \n",
       "4           99999      0.0  \n",
       "..            ...      ...  \n",
       "166         99999      0.0  \n",
       "167         99999      0.0  \n",
       "168         99999      0.0  \n",
       "169         99999      0.0  \n",
       "170         40295      0.0  \n",
       "\n",
       "[171 rows x 7 columns]"
      ]
     },
     "execution_count": 31,
     "metadata": {},
     "output_type": "execute_result"
    }
   ],
   "source": [
    "#dfr=pd.read_csv(\"/Users/dariashipilina/Documents/GitHub/GenomeVanessa/VanessaAnnotation/LR999924.1_gains.tsv\", sep=\"\\t\")\n",
    "dfr2=pd.read_csv(\"/Users/dshipilina/GitHub/GenomeVanessa/WindowBasedAnalysis/WindowedGeneExpansionDensity/LR999924.1-geneexpcount.tsv\", sep=\" \")\n",
    "#dfr.columns =[\"chrom\", \"begin\", \"end\", \"gained_genes\"]\n",
    "dfr2['length_gene_ex'] = dfr2['length_gene_ex'].fillna(0)\n",
    "dfr2['block_len_ex']=dfr2[\"end\"]-dfr2[\"begin\"]\n",
    "dfr2['%length']=dfr2[\"length_gene_ex\"]/dfr2['block_len_ex']*100\n",
    "#dfr.fillna(0)\n",
    "dfr2"
   ]
  },
  {
   "cell_type": "code",
   "execution_count": 56,
   "metadata": {
    "ExecuteTime": {
     "end_time": "2021-08-17T09:03:37.258988Z",
     "start_time": "2021-08-17T09:03:37.246971Z"
    }
   },
   "outputs": [
    {
     "data": {
      "text/html": [
       "<div>\n",
       "<style scoped>\n",
       "    .dataframe tbody tr th:only-of-type {\n",
       "        vertical-align: middle;\n",
       "    }\n",
       "\n",
       "    .dataframe tbody tr th {\n",
       "        vertical-align: top;\n",
       "    }\n",
       "\n",
       "    .dataframe thead th {\n",
       "        text-align: right;\n",
       "    }\n",
       "</style>\n",
       "<table border=\"1\" class=\"dataframe\">\n",
       "  <thead>\n",
       "    <tr style=\"text-align: right;\">\n",
       "      <th></th>\n",
       "      <th>chrom</th>\n",
       "      <th>begin</th>\n",
       "      <th>end</th>\n",
       "      <th>count_gene_ex</th>\n",
       "      <th>length_gene_ex</th>\n",
       "      <th>block_len_ex</th>\n",
       "      <th>%length</th>\n",
       "    </tr>\n",
       "  </thead>\n",
       "  <tbody>\n",
       "    <tr>\n",
       "      <th>25</th>\n",
       "      <td>LR999924.1</td>\n",
       "      <td>2500001</td>\n",
       "      <td>2600000</td>\n",
       "      <td>0</td>\n",
       "      <td>0.0</td>\n",
       "      <td>99999</td>\n",
       "      <td>0.000000</td>\n",
       "    </tr>\n",
       "    <tr>\n",
       "      <th>26</th>\n",
       "      <td>LR999924.1</td>\n",
       "      <td>2600001</td>\n",
       "      <td>2700000</td>\n",
       "      <td>0</td>\n",
       "      <td>0.0</td>\n",
       "      <td>99999</td>\n",
       "      <td>0.000000</td>\n",
       "    </tr>\n",
       "    <tr>\n",
       "      <th>27</th>\n",
       "      <td>LR999924.1</td>\n",
       "      <td>2700001</td>\n",
       "      <td>2800000</td>\n",
       "      <td>0</td>\n",
       "      <td>0.0</td>\n",
       "      <td>99999</td>\n",
       "      <td>0.000000</td>\n",
       "    </tr>\n",
       "    <tr>\n",
       "      <th>28</th>\n",
       "      <td>LR999924.1</td>\n",
       "      <td>2800001</td>\n",
       "      <td>2900000</td>\n",
       "      <td>0</td>\n",
       "      <td>0.0</td>\n",
       "      <td>99999</td>\n",
       "      <td>0.000000</td>\n",
       "    </tr>\n",
       "    <tr>\n",
       "      <th>29</th>\n",
       "      <td>LR999924.1</td>\n",
       "      <td>2900001</td>\n",
       "      <td>3000000</td>\n",
       "      <td>0</td>\n",
       "      <td>0.0</td>\n",
       "      <td>99999</td>\n",
       "      <td>0.000000</td>\n",
       "    </tr>\n",
       "    <tr>\n",
       "      <th>30</th>\n",
       "      <td>LR999924.1</td>\n",
       "      <td>3000001</td>\n",
       "      <td>3100000</td>\n",
       "      <td>0</td>\n",
       "      <td>0.0</td>\n",
       "      <td>99999</td>\n",
       "      <td>0.000000</td>\n",
       "    </tr>\n",
       "    <tr>\n",
       "      <th>31</th>\n",
       "      <td>LR999924.1</td>\n",
       "      <td>3100001</td>\n",
       "      <td>3200000</td>\n",
       "      <td>0</td>\n",
       "      <td>0.0</td>\n",
       "      <td>99999</td>\n",
       "      <td>0.000000</td>\n",
       "    </tr>\n",
       "    <tr>\n",
       "      <th>32</th>\n",
       "      <td>LR999924.1</td>\n",
       "      <td>3200001</td>\n",
       "      <td>3300000</td>\n",
       "      <td>0</td>\n",
       "      <td>0.0</td>\n",
       "      <td>99999</td>\n",
       "      <td>0.000000</td>\n",
       "    </tr>\n",
       "    <tr>\n",
       "      <th>33</th>\n",
       "      <td>LR999924.1</td>\n",
       "      <td>3300001</td>\n",
       "      <td>3400000</td>\n",
       "      <td>0</td>\n",
       "      <td>0.0</td>\n",
       "      <td>99999</td>\n",
       "      <td>0.000000</td>\n",
       "    </tr>\n",
       "    <tr>\n",
       "      <th>34</th>\n",
       "      <td>LR999924.1</td>\n",
       "      <td>3400001</td>\n",
       "      <td>3500000</td>\n",
       "      <td>0</td>\n",
       "      <td>0.0</td>\n",
       "      <td>99999</td>\n",
       "      <td>0.000000</td>\n",
       "    </tr>\n",
       "    <tr>\n",
       "      <th>35</th>\n",
       "      <td>LR999924.1</td>\n",
       "      <td>3500001</td>\n",
       "      <td>3600000</td>\n",
       "      <td>0</td>\n",
       "      <td>0.0</td>\n",
       "      <td>99999</td>\n",
       "      <td>0.000000</td>\n",
       "    </tr>\n",
       "    <tr>\n",
       "      <th>36</th>\n",
       "      <td>LR999924.1</td>\n",
       "      <td>3600001</td>\n",
       "      <td>3700000</td>\n",
       "      <td>0</td>\n",
       "      <td>0.0</td>\n",
       "      <td>99999</td>\n",
       "      <td>0.000000</td>\n",
       "    </tr>\n",
       "    <tr>\n",
       "      <th>37</th>\n",
       "      <td>LR999924.1</td>\n",
       "      <td>3700001</td>\n",
       "      <td>3800000</td>\n",
       "      <td>0</td>\n",
       "      <td>0.0</td>\n",
       "      <td>99999</td>\n",
       "      <td>0.000000</td>\n",
       "    </tr>\n",
       "    <tr>\n",
       "      <th>38</th>\n",
       "      <td>LR999924.1</td>\n",
       "      <td>3800001</td>\n",
       "      <td>3900000</td>\n",
       "      <td>0</td>\n",
       "      <td>0.0</td>\n",
       "      <td>99999</td>\n",
       "      <td>0.000000</td>\n",
       "    </tr>\n",
       "    <tr>\n",
       "      <th>39</th>\n",
       "      <td>LR999924.1</td>\n",
       "      <td>3900001</td>\n",
       "      <td>4000000</td>\n",
       "      <td>0</td>\n",
       "      <td>0.0</td>\n",
       "      <td>99999</td>\n",
       "      <td>0.000000</td>\n",
       "    </tr>\n",
       "    <tr>\n",
       "      <th>40</th>\n",
       "      <td>LR999924.1</td>\n",
       "      <td>4000001</td>\n",
       "      <td>4100000</td>\n",
       "      <td>0</td>\n",
       "      <td>0.0</td>\n",
       "      <td>99999</td>\n",
       "      <td>0.000000</td>\n",
       "    </tr>\n",
       "    <tr>\n",
       "      <th>41</th>\n",
       "      <td>LR999924.1</td>\n",
       "      <td>4100001</td>\n",
       "      <td>4200000</td>\n",
       "      <td>0</td>\n",
       "      <td>0.0</td>\n",
       "      <td>99999</td>\n",
       "      <td>0.000000</td>\n",
       "    </tr>\n",
       "    <tr>\n",
       "      <th>42</th>\n",
       "      <td>LR999924.1</td>\n",
       "      <td>4200001</td>\n",
       "      <td>4300000</td>\n",
       "      <td>0</td>\n",
       "      <td>0.0</td>\n",
       "      <td>99999</td>\n",
       "      <td>0.000000</td>\n",
       "    </tr>\n",
       "    <tr>\n",
       "      <th>43</th>\n",
       "      <td>LR999924.1</td>\n",
       "      <td>4300001</td>\n",
       "      <td>4400000</td>\n",
       "      <td>1</td>\n",
       "      <td>4667.0</td>\n",
       "      <td>99999</td>\n",
       "      <td>4.667047</td>\n",
       "    </tr>\n",
       "    <tr>\n",
       "      <th>44</th>\n",
       "      <td>LR999924.1</td>\n",
       "      <td>4400001</td>\n",
       "      <td>4500000</td>\n",
       "      <td>0</td>\n",
       "      <td>0.0</td>\n",
       "      <td>99999</td>\n",
       "      <td>0.000000</td>\n",
       "    </tr>\n",
       "  </tbody>\n",
       "</table>\n",
       "</div>"
      ],
      "text/plain": [
       "         chrom    begin      end  count_gene_ex  length_gene_ex  block_len_ex  \\\n",
       "25  LR999924.1  2500001  2600000              0             0.0         99999   \n",
       "26  LR999924.1  2600001  2700000              0             0.0         99999   \n",
       "27  LR999924.1  2700001  2800000              0             0.0         99999   \n",
       "28  LR999924.1  2800001  2900000              0             0.0         99999   \n",
       "29  LR999924.1  2900001  3000000              0             0.0         99999   \n",
       "30  LR999924.1  3000001  3100000              0             0.0         99999   \n",
       "31  LR999924.1  3100001  3200000              0             0.0         99999   \n",
       "32  LR999924.1  3200001  3300000              0             0.0         99999   \n",
       "33  LR999924.1  3300001  3400000              0             0.0         99999   \n",
       "34  LR999924.1  3400001  3500000              0             0.0         99999   \n",
       "35  LR999924.1  3500001  3600000              0             0.0         99999   \n",
       "36  LR999924.1  3600001  3700000              0             0.0         99999   \n",
       "37  LR999924.1  3700001  3800000              0             0.0         99999   \n",
       "38  LR999924.1  3800001  3900000              0             0.0         99999   \n",
       "39  LR999924.1  3900001  4000000              0             0.0         99999   \n",
       "40  LR999924.1  4000001  4100000              0             0.0         99999   \n",
       "41  LR999924.1  4100001  4200000              0             0.0         99999   \n",
       "42  LR999924.1  4200001  4300000              0             0.0         99999   \n",
       "43  LR999924.1  4300001  4400000              1          4667.0         99999   \n",
       "44  LR999924.1  4400001  4500000              0             0.0         99999   \n",
       "\n",
       "     %length  \n",
       "25  0.000000  \n",
       "26  0.000000  \n",
       "27  0.000000  \n",
       "28  0.000000  \n",
       "29  0.000000  \n",
       "30  0.000000  \n",
       "31  0.000000  \n",
       "32  0.000000  \n",
       "33  0.000000  \n",
       "34  0.000000  \n",
       "35  0.000000  \n",
       "36  0.000000  \n",
       "37  0.000000  \n",
       "38  0.000000  \n",
       "39  0.000000  \n",
       "40  0.000000  \n",
       "41  0.000000  \n",
       "42  0.000000  \n",
       "43  4.667047  \n",
       "44  0.000000  "
      ]
     },
     "execution_count": 56,
     "metadata": {},
     "output_type": "execute_result"
    }
   ],
   "source": [
    "dfr2[25:45]"
   ]
  },
  {
   "cell_type": "code",
   "execution_count": 13,
   "metadata": {
    "ExecuteTime": {
     "end_time": "2021-08-17T07:40:21.624805Z",
     "start_time": "2021-08-17T07:40:21.621337Z"
    }
   },
   "outputs": [],
   "source": [
    "plt.rcParams['axes.spines.left'] = True\n",
    "plt.rcParams['axes.spines.right'] = False\n",
    "plt.rcParams['axes.spines.top'] = True\n",
    "plt.rcParams['axes.spines.bottom'] = False"
   ]
  },
  {
   "cell_type": "code",
   "execution_count": 15,
   "metadata": {
    "ExecuteTime": {
     "end_time": "2021-08-17T07:41:23.875352Z",
     "start_time": "2021-08-17T07:41:20.708570Z"
    }
   },
   "outputs": [
    {
     "data": {
      "text/plain": [
       "Text(0, 0.5, 'N genes')"
      ]
     },
     "execution_count": 15,
     "metadata": {},
     "output_type": "execute_result"
    },
    {
     "data": {
      "image/png": "[encoded data removed]",
      "text/plain": [
       "<Figure size 1224x108 with 1 Axes>"
      ]
     },
     "metadata": {
      "needs_background": "light"
     },
     "output_type": "display_data"
    }
   ],
   "source": [
    "ml.rcParams['figure.figsize'] = (17, 1.5)\n",
    "\n",
    "# Plotting gene density\n",
    "sns.barplot(x=dfr[\"begin\"], y=dfr[\"%length\"] , color=\"lightgrey\")\n",
    "plt.tick_params(axis='x', labelsize=1)\n",
    "ax = plt.gca()\n",
    "    #ax.axes.xaxis.set_ticks([])\n",
    "    #x_axis = ax.axes.get_xaxis()\n",
    "    #x_axis.set_visible(False)\n",
    "#ax.set_ylim([0,10])\n",
    "plt.rcParams['axes.spines.left'] = True\n",
    "plt.rcParams['axes.spines.right'] = False\n",
    "plt.rcParams['axes.spines.top'] = True\n",
    "plt.rcParams['axes.spines.bottom'] = False\n",
    "ax.invert_yaxis()\n",
    "\n",
    "# Plotting gains density\n",
    "sns.barplot(x=dfr2[\"begin\"], y=dfr2[\"%length\"] , color=\"grey\")\n",
    "plt.xlabel(\"Position along the chromosome\")\n",
    "plt.ylabel(\"N genes\")\n",
    "\n",
    "#plt.savefig(\"/Users/dshipilina/GitHub/GenomeVanessa/Figures/gene_dens_Z.pdf\",bbox_inches=\"tight\")\n",
    "#plt.savefig(\"/Users/dshipilina/GitHub/GenomeVanessa/Figures/gene_dens_Z.png\",bbox_inches=\"tight\")"
   ]
  },
  {
   "cell_type": "markdown",
   "metadata": {
    "ExecuteTime": {
     "end_time": "2021-08-17T08:52:16.023384Z",
     "start_time": "2021-08-17T08:52:16.020729Z"
    }
   },
   "source": [
    "### Combining plots"
   ]
  },
  {
   "cell_type": "code",
   "execution_count": 57,
   "metadata": {
    "ExecuteTime": {
     "end_time": "2021-08-17T09:04:16.109358Z",
     "start_time": "2021-08-17T09:04:15.692518Z"
    }
   },
   "outputs": [
    {
     "data": {
      "image/png": "[encoded data removed]",
      "text/plain": [
       "<Figure size 288x108 with 1 Axes>"
      ]
     },
     "metadata": {
      "needs_background": "light"
     },
     "output_type": "display_data"
    },
    {
     "data": {
      "text/plain": [
       "Text(0, 0.5, 'N genes')"
      ]
     },
     "execution_count": 57,
     "metadata": {},
     "output_type": "execute_result"
    },
    {
     "data": {
      "image/png": "[encoded data removed]",
      "text/plain": [
       "<Figure size 288x108 with 1 Axes>"
      ]
     },
     "metadata": {
      "needs_background": "light"
     },
     "output_type": "display_data"
    }
   ],
   "source": [
    "plt.rcParams['axes.spines.left'] = True\n",
    "plt.rcParams['axes.spines.right'] = False\n",
    "plt.rcParams['axes.spines.top'] = False\n",
    "plt.rcParams['axes.spines.bottom'] = False\n",
    "\n",
    "plot_rep_stack_bar(make_repeat_df(\"/Users/dshipilina/GitHub/GenomeVanessa/WindowBasedAnalysis/WindowedRepeatDensity/100k_counts/LR999929.1-repeat-count.out\"),4,\"40\")\n",
    "# Plotting gene density\n",
    "\n",
    "plt.rcParams['axes.spines.left'] = True\n",
    "plt.rcParams['axes.spines.right'] = False\n",
    "plt.rcParams['axes.spines.top'] = False\n",
    "plt.rcParams['axes.spines.bottom'] = False\n",
    "\n",
    "sns.barplot(x=dfr[\"begin\"][40:49], y=dfr[\"%length\"][40:49] , color=\"lightgrey\")\n",
    "plt.tick_params(axis='x', labelsize=1)\n",
    "ax = plt.gca()\n",
    "    #ax.axes.xaxis.set_ticks([])\n",
    "    #x_axis = ax.axes.get_xaxis()\n",
    "    #x_axis.set_visible(False)\n",
    "ax.axes.xaxis.set_ticks([])\n",
    "x_axis = ax.axes.get_xaxis()\n",
    "x_axis.set_visible(False)\n",
    "#ax.set_ylim([0,10])\n",
    "ax.invert_yaxis()\n",
    "\n",
    "# Plotting gains density\n",
    "sns.barplot(x=dfr2[\"begin\"][40:49], y=dfr2[\"%length\"][40:49] , color=\"grey\")\n",
    "plt.xlabel(\"Position along the chromosome\")\n",
    "plt.ylabel(\"N genes\")"
   ]
  },
  {
   "cell_type": "code",
   "execution_count": 58,
   "metadata": {
    "ExecuteTime": {
     "end_time": "2021-08-17T09:28:05.509286Z",
     "start_time": "2021-08-17T09:28:05.417014Z"
    }
   },
   "outputs": [
    {
     "data": {
      "text/plain": [
       "Text(0.5, 0.5, 'subplot 111')"
      ]
     },
     "execution_count": 58,
     "metadata": {},
     "output_type": "execute_result"
    },
    {
     "data": {
      "image/png": "[encoded data removed]",
      "text/plain": [
       "<Figure size 288x108 with 1 Axes>"
      ]
     },
     "metadata": {
      "needs_background": "light"
     },
     "output_type": "display_data"
    }
   ],
   "source": [
    "import matplotlib.pyplot as plt\n",
    "fig = plt.figure()\n",
    "coord = 111\n",
    "plt.subplot(coord)\n",
    "plt.annotate('subplot ' + str(coord), xy = (0.5, 0.5), va = 'center', ha = 'center')"
   ]
  },
  {
   "cell_type": "code",
   "execution_count": 75,
   "metadata": {
    "ExecuteTime": {
     "end_time": "2021-08-17T09:49:06.291295Z",
     "start_time": "2021-08-17T09:49:06.081230Z"
    }
   },
   "outputs": [
    {
     "data": {
      "image/png": "[encoded data removed]",
      "text/plain": [
       "<Figure size 288x108 with 3 Axes>"
      ]
     },
     "metadata": {
      "needs_background": "light"
     },
     "output_type": "display_data"
    }
   ],
   "source": [
    "import matplotlib.pyplot as plt\n",
    "fig = plt.figure(100)\n",
    "fig.add_subplot(111)\n",
    "fig.add_subplot(111)\n",
    "fig.add_subplot(111)\n",
    "\n",
    "plt.show()"
   ]
  },
  {
   "cell_type": "code",
   "execution_count": 59,
   "metadata": {
    "ExecuteTime": {
     "end_time": "2021-08-17T09:28:36.094294Z",
     "start_time": "2021-08-17T09:28:36.008597Z"
    }
   },
   "outputs": [
    {
     "data": {
      "text/plain": [
       "<AxesSubplot:>"
      ]
     },
     "execution_count": 59,
     "metadata": {},
     "output_type": "execute_result"
    },
    {
     "data": {
      "image/png": "[encoded data removed]",
      "text/plain": [
       "<Figure size 288x108 with 1 Axes>"
      ]
     },
     "metadata": {
      "needs_background": "light"
     },
     "output_type": "display_data"
    }
   ],
   "source": [
    "import matplotlib.pyplot as plt\n",
    "fig = plt.figure()\n",
    "plt.subplot(111)\n",
    "#plt.annotate('subplot ' + str(coord), xy = (0.5, 0.5), va = 'center', ha = 'center')"
   ]
  },
  {
   "cell_type": "code",
   "execution_count": 81,
   "metadata": {
    "ExecuteTime": {
     "end_time": "2021-08-17T09:54:06.544884Z",
     "start_time": "2021-08-17T09:54:06.275075Z"
    }
   },
   "outputs": [
    {
     "data": {
      "text/plain": [
       "<AxesSubplot:xlabel='begin', ylabel='%length'>"
      ]
     },
     "execution_count": 81,
     "metadata": {},
     "output_type": "execute_result"
    },
    {
     "data": {
      "image/png": "[encoded data removed]",
      "text/plain": [
       "<Figure size 1260x360 with 2 Axes>"
      ]
     },
     "metadata": {
      "needs_background": "light"
     },
     "output_type": "display_data"
    }
   ],
   "source": [
    "fig = plt.figure(figsize=(17.5, 5))\n",
    "#plt.subplots_adjust(bottom = 0., left = 0, top = 1., right = 1)\n",
    "\n",
    "# Create first axes, the top-left plot with green plot\n",
    "sub1 = fig.add_subplot(2,1,1) # two rows, two columns, fist cell\n",
    "sns.barplot(x=dfr[\"begin\"][40:49], y=dfr[\"%length\"][40:49] , color=\"lightgrey\")\n",
    "\n",
    "# Create second axes, the top-left plot with orange plot\n",
    "sub2 = fig.add_subplot(2,1,2) # two rows, two columns, second cell\n",
    "sns.barplot(x=dfr2[\"begin\"][40:49], y=dfr2[\"%length\"][40:49] , color=\"grey\")\n",
    "\n",
    "# Create third axes, a combination of third and fourth cell\n",
    "#sub3 = fig.add_subplot(2,1,2)\n",
    "#sub3 = fig.add_subplot(2,1,3)#(3,4)) # two rows, two colums, combined third and fourth cell\n"
   ]
  },
  {
   "cell_type": "code",
   "execution_count": 84,
   "metadata": {
    "ExecuteTime": {
     "end_time": "2021-08-17T09:57:11.185010Z",
     "start_time": "2021-08-17T09:57:10.862937Z"
    }
   },
   "outputs": [
    {
     "data": {
      "image/png": "[encoded data removed]",
      "text/plain": [
       "<Figure size 576x288 with 4 Axes>"
      ]
     },
     "metadata": {
      "needs_background": "light"
     },
     "output_type": "display_data"
    }
   ],
   "source": [
    "y_values = np.arange(0, 100, 1)\n",
    "two_d_array = np.random.random((100,1000))\n",
    "x_1 = y_values**2\n",
    "x_2 = y_values - 17 * y_values**2\n",
    "x_3 = y_values - 57\n",
    "\n",
    "\n",
    "fig, ax0 = plt.subplots(figsize=(8,4))\n",
    "ax0.pcolormesh(two_d_array, cmap = 'seismic')\n",
    "ax0.set_axis_off()\n",
    "\n",
    "gs0 = ml.gridspec.GridSpecFromSubplotSpec(1,3, subplot_spec=ax0)\n",
    "ax1 = fig.add_subplot(gs0[0])\n",
    "ax2 = fig.add_subplot(gs0[1])\n",
    "ax3 = fig.add_subplot(gs0[2])\n",
    "\n",
    "for ax in [ax1, ax2, ax3]:\n",
    "    ax.patch.set_visible(False)\n",
    "\n",
    "ax1.plot(x_1, y_values, color = 'k', linewidth = 4)\n",
    "ax2.plot(x_2, y_values, color = 'k', linewidth = 4)\n",
    "ax3.plot(x_3, y_values, color = 'k', linewidth = 4)\n",
    "\n",
    "\n",
    "plt.show()"
   ]
  },
  {
   "cell_type": "code",
   "execution_count": 102,
   "metadata": {
    "ExecuteTime": {
     "end_time": "2021-08-17T10:16:07.197641Z",
     "start_time": "2021-08-17T10:16:06.703087Z"
    }
   },
   "outputs": [
    {
     "data": {
      "text/plain": [
       "<Figure size 1260x360 with 0 Axes>"
      ]
     },
     "metadata": {},
     "output_type": "display_data"
    },
    {
     "data": {
      "image/png": "[encoded data removed]",
      "text/plain": [
       "<Figure size 576x288 with 3 Axes>"
      ]
     },
     "metadata": {
      "needs_background": "light"
     },
     "output_type": "display_data"
    },
    {
     "data": {
      "text/plain": [
       "<AxesSubplot:xlabel='begin', ylabel='%length'>"
      ]
     },
     "execution_count": 102,
     "metadata": {},
     "output_type": "execute_result"
    },
    {
     "data": {
      "image/png": "[encoded data removed]",
      "text/plain": [
       "<Figure size 288x108 with 1 Axes>"
      ]
     },
     "metadata": {
      "needs_background": "light"
     },
     "output_type": "display_data"
    }
   ],
   "source": [
    "#y_values = np.arange(0, 100, 1)\n",
    "#two_d_array = np.random.random((100,1000))\n",
    "#x_1 = y_values**2\n",
    "#x_2 = y_values - 17 * y_values**2\n",
    "#x_3 = y_values - 57\n",
    "\n",
    "\n",
    "fig = plt.figure(figsize=(17.5, 5))\n",
    "fig, ax0 = plt.subplots(figsize=(8,4))\n",
    "\n",
    "sub1 = fig.add_subplot(2,1,1)\n",
    "sns.barplot(x=dfr[\"begin\"][40:49], y=dfr[\"%length\"][40:49] , color=\"lightgrey\")\n",
    "\n",
    "gs0 = ml.gridspec.GridSpecFromSubplotSpec(1,1, subplot_spec=ax0)\n",
    "ax1 = fig.add_subplot(gs0[0])\n",
    "ax1=sns.barplot(x=dfr[\"begin\"][30:39], y=dfr[\"%length\"][30:39] , color=\"grey\")\n",
    "\n",
    "#fig, ax0 = plt.subplots(figsize=(8,4))\n",
    "#sub1 = fig.add_subplot(2,1,1) # two rows, two columns, fist cell\n",
    "#ax0=sns.barplot(x=dfr[\"begin\"][40:49], y=dfr[\"%length\"][40:49] , color=\"lightgrey\")\n",
    "\n",
    "#gs0 = ml.gridspec.GridSpecFromSubplotSpec(1,1, subplot_spec=ax0)\n",
    "#ax1 = fig.add_subplot(gs0[0])\n",
    "#ax1=sns.barplot(x=dfr[\"begin\"][30:39], y=dfr[\"%length\"][30:39] , color=\"grey\")\n",
    "#ax2 = fig.add_subplot(gs0[1])\n",
    "#ax3 = fig.add_subplot(gs0[2])\n",
    "\n",
    "for ax in [ax1, ax2, ax3]:\n",
    "    ax.patch.set_visible(False)\n",
    "\n",
    "#ax1.plot(x_1, y_values, color = 'k', linewidth = 4)\n",
    "#ax2.plot(x_2, y_values, color = 'k', linewidth = 4)\n",
    "#ax3.plot(x_3, y_values, color = 'k', linewidth = 4)\n",
    "\n",
    "\n",
    "plt.show()\n",
    "\n",
    "\n",
    "\n",
    "#fig = plt.figure(figsize=(17.5, 5))\n",
    "#plt.subplots_adjust(bottom = 0., left = 0, top = 1., right = 1)\n",
    "\n",
    "# Create first axes, the top-left plot with green plot\n",
    "#sub1 = fig.add_subplot(2,1,1) # two rows, two columns, fist cell\n",
    "#sns.barplot(x=dfr[\"begin\"][40:49], y=dfr[\"%length\"][40:49] , color=\"lightgrey\")\n",
    "\n",
    "# Create second axes, the top-left plot with orange plot\n",
    "sub2 = fig.add_subplot(2,1,2) # two rows, two columns, second cell\n",
    "sns.barplot(x=dfr2[\"begin\"][40:49], y=dfr2[\"%length\"][40:49] , color=\"grey\")\n",
    "\n",
    "# Create third axes, a combination of third and fourth cell\n",
    "#sub3 = fig.add_subplot(2,1,2)\n",
    "#sub3 = fig.add_subplot(2,1,3)#(3,4)) # two rows, two colums, combined third and fourth cell\n"
   ]
  },
  {
   "cell_type": "code",
   "execution_count": 110,
   "metadata": {
    "ExecuteTime": {
     "end_time": "2021-08-17T10:20:10.268654Z",
     "start_time": "2021-08-17T10:20:09.994562Z"
    }
   },
   "outputs": [
    {
     "data": {
      "text/plain": [
       "[<matplotlib.lines.Line2D at 0x1632ee130>]"
      ]
     },
     "execution_count": 110,
     "metadata": {},
     "output_type": "execute_result"
    },
    {
     "data": {
      "image/png": "[encoded data removed]",
      "text/plain": [
       "<Figure size 648x432 with 2 Axes>"
      ]
     },
     "metadata": {
      "needs_background": "light"
     },
     "output_type": "display_data"
    }
   ],
   "source": [
    "fig = plt.figure(figsize=(9, 6))\n",
    "\n",
    "#x = np.linspace(0., 5., 100)\n",
    "#y = np.sin(x)\n",
    "\n",
    "rows = 2\n",
    "columns = 1\n",
    "\n",
    "x = np.linspace(0., 5., 100)\n",
    "y = np.sin(x)\n",
    "\n",
    "grid = plt.GridSpec(rows, columns, wspace = .25, hspace = .25)\n",
    "\n",
    "plt.subplots_adjust(wspace= 0.25, hspace= 0.25)\n",
    "\n",
    "frgr= plt.subplot(grid[0, 0])\n",
    "#plt.annotate('sub1', xy = (0.5, -0.5), va = 'center', ha = 'center',  weight='bold', fontsize = 15)\n",
    "sns.barplot(x=dfr2[\"begin\"][40:49], y=dfr2[\"%length\"][40:49] , color=\"grey\")\n",
    "sns.barplot(x=dfr2[\"begin\"][30:39], y=dfr2[\"%length\"][30:39] , color=\"blue\")\n",
    "\n",
    "#plt.subplot(grid[0, 1])\n",
    "#plt.annotate('sub2', xy = (0.5, -0.5), va = 'center', ha = 'center',  weight='bold', fontsize = 15)\n",
    "#plt.plot(x, y)\n",
    "\n",
    "plt.subplot(grid[1, :])\n",
    "plt.annotate('sub3', xy = (0.5, -0.5), va = 'center', ha = 'center',  weight='bold', fontsize = 15)\n",
    "plt.plot(x, y)\n",
    "\n",
    "\n",
    "\n",
    "\n",
    "\n",
    "fig, ax0 = plt.subplots(figsize=(8,4))\n",
    "ax0.pcolormesh(two_d_array, cmap = 'seismic')\n",
    "ax0.set_axis_off()\n",
    "\n",
    "gs0 = ml.gridspec.GridSpecFromSubplotSpec(1,3, subplot_spec=ax0)\n",
    "ax1 = fig.add_subplot(gs0[0])\n",
    "ax2 = fig.add_subplot(gs0[1])\n",
    "ax3 = fig.add_subplot(gs0[2])\n",
    "\n",
    "for ax in [ax1, ax2, ax3]:\n",
    "    ax.patch.set_visible(False)\n",
    "\n",
    "ax1.plot(x_1, y_values, color = 'k', linewidth = 4)\n",
    "ax2.plot(x_2, y_values, color = 'k', linewidth = 4)\n",
    "ax3.plot(x_3, y_values, color = 'k', linewidth = 4)\n",
    "\n",
    "\n",
    "plt.show()"
   ]
  },
  {
   "cell_type": "code",
   "execution_count": 93,
   "metadata": {
    "ExecuteTime": {
     "end_time": "2021-08-17T10:03:23.546229Z",
     "start_time": "2021-08-17T10:03:23.453716Z"
    }
   },
   "outputs": [
    {
     "ename": "NameError",
     "evalue": "name 'sb' is not defined",
     "output_type": "error",
     "traceback": [
      "\u001b[0;31m---------------------------------------------------------------------------\u001b[0m",
      "\u001b[0;31mNameError\u001b[0m                                 Traceback (most recent call last)",
      "\u001b[0;32m/var/folders/pb/924jgkrd56g72s5bjmfv79sm0000gq/T/ipykernel_57751/167595083.py\u001b[0m in \u001b[0;36m<module>\u001b[0;34m\u001b[0m\n\u001b[1;32m      1\u001b[0m \u001b[0mfig\u001b[0m\u001b[0;34m,\u001b[0m \u001b[0max\u001b[0m \u001b[0;34m=\u001b[0m \u001b[0mplt\u001b[0m\u001b[0;34m.\u001b[0m\u001b[0msubplots\u001b[0m\u001b[0;34m(\u001b[0m\u001b[0;34m)\u001b[0m\u001b[0;34m\u001b[0m\u001b[0;34m\u001b[0m\u001b[0m\n\u001b[0;32m----> 2\u001b[0;31m \u001b[0msb\u001b[0m\u001b[0;34m.\u001b[0m\u001b[0mregplot\u001b[0m\u001b[0;34m(\u001b[0m\u001b[0mx\u001b[0m\u001b[0;34m=\u001b[0m\u001b[0;34m'round'\u001b[0m\u001b[0;34m,\u001b[0m \u001b[0my\u001b[0m\u001b[0;34m=\u001b[0m\u001b[0;34m'money'\u001b[0m\u001b[0;34m,\u001b[0m \u001b[0mdata\u001b[0m\u001b[0;34m=\u001b[0m\u001b[0mfirm\u001b[0m\u001b[0;34m,\u001b[0m \u001b[0max\u001b[0m\u001b[0;34m=\u001b[0m\u001b[0max\u001b[0m\u001b[0;34m)\u001b[0m\u001b[0;34m\u001b[0m\u001b[0;34m\u001b[0m\u001b[0m\n\u001b[0m\u001b[1;32m      3\u001b[0m \u001b[0max2\u001b[0m \u001b[0;34m=\u001b[0m \u001b[0max\u001b[0m\u001b[0;34m.\u001b[0m\u001b[0mtwinx\u001b[0m\u001b[0;34m(\u001b[0m\u001b[0;34m)\u001b[0m\u001b[0;34m\u001b[0m\u001b[0;34m\u001b[0m\u001b[0m\n\u001b[1;32m      4\u001b[0m \u001b[0msb\u001b[0m\u001b[0;34m.\u001b[0m\u001b[0mregplot\u001b[0m\u001b[0;34m(\u001b[0m\u001b[0mx\u001b[0m\u001b[0;34m=\u001b[0m\u001b[0;34m'round'\u001b[0m\u001b[0;34m,\u001b[0m \u001b[0my\u001b[0m\u001b[0;34m=\u001b[0m\u001b[0;34m'dead'\u001b[0m\u001b[0;34m,\u001b[0m \u001b[0mdata\u001b[0m\u001b[0;34m=\u001b[0m\u001b[0mfirm\u001b[0m\u001b[0;34m,\u001b[0m \u001b[0max\u001b[0m\u001b[0;34m=\u001b[0m\u001b[0max2\u001b[0m\u001b[0;34m,\u001b[0m \u001b[0mcolor\u001b[0m\u001b[0;34m=\u001b[0m\u001b[0;34m'r'\u001b[0m\u001b[0;34m)\u001b[0m\u001b[0;34m\u001b[0m\u001b[0;34m\u001b[0m\u001b[0m\n\u001b[1;32m      5\u001b[0m \u001b[0msb\u001b[0m\u001b[0;34m.\u001b[0m\u001b[0mplt\u001b[0m\u001b[0;34m.\u001b[0m\u001b[0mshow\u001b[0m\u001b[0;34m(\u001b[0m\u001b[0;34m)\u001b[0m\u001b[0;34m\u001b[0m\u001b[0;34m\u001b[0m\u001b[0m\n",
      "\u001b[0;31mNameError\u001b[0m: name 'sb' is not defined"
     ]
    },
    {
     "data": {
      "image/png": "[encoded data removed]",
      "text/plain": [
       "<Figure size 288x108 with 1 Axes>"
      ]
     },
     "metadata": {
      "needs_background": "light"
     },
     "output_type": "display_data"
    }
   ],
   "source": [
    "    fig, ax = plt.subplots()\n",
    "    sb.regplot(x='round', y='money', data=firm, ax=ax)\n",
    "    ax2 = ax.twinx()\n",
    "    sb.regplot(x='round', y='dead', data=firm, ax=ax2, color='r')\n",
    "    sb.plt.show()"
   ]
  },
  {
   "cell_type": "code",
   "execution_count": 79,
   "metadata": {
    "ExecuteTime": {
     "end_time": "2021-08-17T09:53:22.022494Z",
     "start_time": "2021-08-17T09:53:21.733165Z"
    }
   },
   "outputs": [
    {
     "data": {
      "text/plain": [
       "[<matplotlib.lines.Line2D at 0x15fb811c0>]"
      ]
     },
     "execution_count": 79,
     "metadata": {},
     "output_type": "execute_result"
    },
    {
     "data": {
      "image/png": "[encoded data removed]",
      "text/plain": [
       "<Figure size 648x432 with 3 Axes>"
      ]
     },
     "metadata": {
      "needs_background": "light"
     },
     "output_type": "display_data"
    }
   ],
   "source": []
  },
  {
   "cell_type": "code",
   "execution_count": 71,
   "metadata": {
    "ExecuteTime": {
     "end_time": "2021-08-17T09:45:41.500240Z",
     "start_time": "2021-08-17T09:45:41.353263Z"
    }
   },
   "outputs": [
    {
     "data": {
      "image/png": "[encoded data removed]",
      "text/plain": [
       "<Figure size 288x108 with 2 Axes>"
      ]
     },
     "metadata": {
      "needs_background": "light"
     },
     "output_type": "display_data"
    }
   ],
   "source": [
    "import matplotlib.pyplot as plt\n",
    "from mpl_toolkits.axes_grid1.inset_locator import inset_axes\n",
    "\n",
    "fig, ax= plt.subplots()\n",
    "\n",
    "inset_axes = inset_axes(ax,\n",
    "                    width=1,                     # inch\n",
    "                    height=1,                    # inch\n",
    "                    bbox_transform=ax.transData, # data coordinates\n",
    "                    bbox_to_anchor=(250,0.0),    # data coordinates\n",
    "                    loc=3)                       # loc=lower left corner\n",
    "\n",
    "ax.axis([0,500,-.1,.1])\n",
    "plt.show()"
   ]
  },
  {
   "cell_type": "code",
   "execution_count": 42,
   "metadata": {
    "ExecuteTime": {
     "end_time": "2021-08-17T08:57:28.273048Z",
     "start_time": "2021-08-17T08:57:28.269701Z"
    }
   },
   "outputs": [],
   "source": [
    "plt.rcParams['axes.spines.left'] = False\n",
    "plt.rcParams['axes.spines.right'] = False\n",
    "plt.rcParams['axes.spines.top'] = True\n",
    "plt.rcParams['axes.spines.bottom'] = False"
   ]
  },
  {
   "cell_type": "markdown",
   "metadata": {},
   "source": [
    "## Orthogroup evolution"
   ]
  },
  {
   "cell_type": "code",
   "execution_count": 2,
   "metadata": {},
   "outputs": [],
   "source": [
    "chrom = ['LR999924.1', 'LR999925.1', 'LR999925.1']"
   ]
  },
  {
   "cell_type": "code",
   "execution_count": 1,
   "metadata": {},
   "outputs": [
    {
     "ename": "FileNotFoundError",
     "evalue": "[Errno 2] No such file or directory: '/Users/dariashipilina/Documents/GitHub/GenomeVanessa/OrthogroupSpatialAnanlysis/Orthogroup_Abundance_top20.tsv'",
     "output_type": "error",
     "traceback": [
      "\u001b[0;31m---------------------------------------------------------------------------\u001b[0m",
      "\u001b[0;31mFileNotFoundError\u001b[0m                         Traceback (most recent call last)",
      "\u001b[0;32m/var/folders/pb/924jgkrd56g72s5bjmfv79sm0000gq/T/ipykernel_11745/3995196700.py\u001b[0m in \u001b[0;36m<module>\u001b[0;34m\u001b[0m\n\u001b[1;32m      1\u001b[0m \u001b[0;31m# create dataframe\u001b[0m\u001b[0;34m\u001b[0m\u001b[0;34m\u001b[0m\u001b[0;34m\u001b[0m\u001b[0m\n\u001b[1;32m      2\u001b[0m \u001b[0;34m\u001b[0m\u001b[0m\n\u001b[0;32m----> 3\u001b[0;31m \u001b[0mnew\u001b[0m \u001b[0;34m=\u001b[0m \u001b[0mopen\u001b[0m\u001b[0;34m(\u001b[0m\u001b[0;34m\"/Users/dariashipilina/Documents/GitHub/GenomeVanessa/OrthogroupSpatialAnanlysis/Orthogroup_Abundance_top20.tsv\"\u001b[0m\u001b[0;34m)\u001b[0m\u001b[0;34m.\u001b[0m\u001b[0mread\u001b[0m\u001b[0;34m(\u001b[0m\u001b[0;34m)\u001b[0m\u001b[0;34m\u001b[0m\u001b[0;34m\u001b[0m\u001b[0m\n\u001b[0m\u001b[1;32m      4\u001b[0m \u001b[0msplit_\u001b[0m \u001b[0;34m=\u001b[0m \u001b[0mnew\u001b[0m\u001b[0;34m.\u001b[0m\u001b[0msplit\u001b[0m\u001b[0;34m(\u001b[0m\u001b[0;34m'\\n'\u001b[0m\u001b[0;34m)\u001b[0m\u001b[0;34m\u001b[0m\u001b[0;34m\u001b[0m\u001b[0m\n\u001b[1;32m      5\u001b[0m \u001b[0;31m#print(split_[1])\u001b[0m\u001b[0;34m\u001b[0m\u001b[0;34m\u001b[0m\u001b[0;34m\u001b[0m\u001b[0m\n",
      "\u001b[0;31mFileNotFoundError\u001b[0m: [Errno 2] No such file or directory: '/Users/dariashipilina/Documents/GitHub/GenomeVanessa/OrthogroupSpatialAnanlysis/Orthogroup_Abundance_top20.tsv'"
     ]
    }
   ],
   "source": [
    "# create dataframe\n",
    "\n",
    "new = open(\"/Users/dariashipilina/Documents/GitHub/GenomeVanessa/OrthogroupSpatialAnanlysis/Orthogroup_Abundance_top20.tsv\").read()\n",
    "split_ = new.split('\\n')\n",
    "#print(split_[1])\n",
    "eigve_array=[]\n",
    "#print(split_file2[2])\n",
    "for i in split_:\n",
    "    #print(i)\n",
    "    ii=i.split()\n",
    "    #print(ii)\n",
    "    eigve_array+=[ii]\n",
    "\n",
    "dfr=pd.DataFrame(eigve_array)\n",
    "new_header = dfr.iloc[0] #grab the first row for the header\n",
    "dfr = dfr[1:] #take the data less the header row\n",
    "print(dfr[0])\n",
    "dfr.columns = new_header\n",
    "dfr = dfr.loc[ : , dfr.columns != 'chrom'].apply(pd.to_numeric, errors='coerce')\n",
    "dfr = dfr[:-1]\n",
    "dfr"
   ]
  },
  {
   "cell_type": "code",
   "execution_count": 141,
   "metadata": {},
   "outputs": [
    {
     "name": "stdout",
     "output_type": "stream",
     "text": [
      "['LR999924.1' 'LR999925.1' 'LR999926.1' 'LR999927.1' 'LR999928.1'\n",
      " 'LR999929.1' 'LR999930.1' 'LR999931.1' 'LR999932.1' 'LR999933.1'\n",
      " 'LR999934.1' 'LR999935.1' 'LR999936.1' 'LR999937.1' 'LR999938.1'\n",
      " 'LR999939.1' 'LR999940.1' 'LR999941.1' 'LR999942.1' 'LR999943.1'\n",
      " 'LR999944.1' 'LR999945.1' 'LR999946.1' 'LR999947.1' 'LR999948.1'\n",
      " 'LR999949.1' 'LR999950.1' 'LR999951.1' 'LR999952.1' 'LR999953.1'\n",
      " 'LR999954.1' 'LR999955.1']\n",
      "#393b79\n",
      "#393b79\n",
      "#5254a3\n",
      "#6b6ecf\n",
      "#9c9ede\n",
      "#637939\n",
      "#8ca252\n",
      "#b5cf6b\n",
      "#cedb9c\n",
      "#8c6d31\n",
      "#bd9e39\n",
      "#e7ba52\n",
      "#e7cb94\n",
      "#843c39\n",
      "#ad494a\n",
      "#d6616b\n",
      "#e7969c\n",
      "#7b4173\n",
      "#a55194\n",
      "#ce6dbd\n",
      "#de9ed6\n",
      "['#393b79', '#5254a3', '#6b6ecf', '#9c9ede', '#637939', '#8ca252', '#b5cf6b', '#cedb9c', '#8c6d31', '#bd9e39', '#e7ba52', '#e7cb94', '#843c39', '#ad494a', '#d6616b', '#e7969c', '#7b4173', '#a55194', '#ce6dbd', '#de9ed6']\n"
     ]
    },
    {
     "data": {
      "image/png": "[encoded data removed]",
      "text/plain": [
       "<Figure size 1080x360 with 1 Axes>"
      ]
     },
     "metadata": {
      "needs_background": "light"
     },
     "output_type": "display_data"
    }
   ],
   "source": [
    "new = open(\"/Users/dariashipilina/Documents/GitHub/GenomeVanessa/OrthogroupSpatialAnanlysis/Orthogroup_Abundance_top20.tsv\").read()\n",
    "split_ = new.split('\\n')\n",
    "#print(split_[1])\n",
    "eigve_array=[]\n",
    "#print(split_file2[2])\n",
    "for i in split_:\n",
    "    #print(i)\n",
    "    ii=i.split()\n",
    "    #print(ii)\n",
    "    eigve_array+=[ii]\n",
    "\n",
    "df=pd.DataFrame(eigve_array)\n",
    "df\n",
    "\n",
    "#print(eigve_array[0][1:])\n",
    "og_names=eigve_array[0][1:]\n",
    "\n",
    "#print(eigve_array[0:10][1])\n",
    "#arr = np.array(eigve_array)\n",
    "#print(arr[0:1][0:1])\n",
    "\n",
    "#arr= np.array(dfr[0])\n",
    "#N = 3\n",
    "\n",
    "#ind = np.arange(3) # the x locations for the groups\n",
    "#labels=['LR999924.1','LR999925.1','LR999926.1','LR999927.1','LR999928.1'] \n",
    "\n",
    "\n",
    "chroms= np.array(df[0][1:33])\n",
    "print(chroms)\n",
    "labels=chroms\n",
    "#print#01019', 'OG0000231', 'OG0001542', 'OG0001328', 'OG0000081', 'OG0001548', 'OG0001331', 'OG0003727', 'OG0001974', 'OG0000600', 'OG0001817', 'OG0001329']\n",
    "#OG0000231\n",
    "#OG1=[1,0,0]\n",
    "#color=['#8dd3c7','#ffffb3','#bebada','#fb8072','#80b1d3','#fdb462','#b3de69','#fccde5','#d9d9d9','#bc80bd','#ccebc5','#ffed6f']\n",
    "#color=['#a6cee3','#1f78b4','#b2df8a','#33a02c','#fb9a99','#e31a1c','#fdbf6f','#ff7f00','#cab2d6','#6a3d9a','#ffff99','#b15928']\n",
    "#color=['#543005','#8c510a','#bf812d','#dfc27d','#f6e8c3','#f5f5f5','#c7eae5','#80cdc1','#35978f','#01665e','#003c30']\n",
    "#color=['#7f3b08','#b35806','#e08214','#fdb863','#fee0b6','#f7f7f7','#d8daeb','#b2abd2','#8073ac','#542788','#2d004b']\n",
    "print(color[0])\n",
    "\n",
    "\n",
    "#OG0000473\tOG0000082\tOG0001335\tOG0001019\tOG0000231\tOG0001542\tOG0001328\tOG0000081\n",
    "plt.rcParams['axes.spines.left'] = True\n",
    "plt.rcParams['axes.spines.right'] = False\n",
    "plt.rcParams['axes.spines.top'] = False\n",
    "plt.rcParams['axes.spines.bottom'] = True\n",
    "\n",
    "#cm = plt.cm.get_cmap('Vega20c')\n",
    "\n",
    "from pylab import *\n",
    "\n",
    "cmap = cm.get_cmap('tab20b', 20)    # PiYG\n",
    "colors=[]\n",
    "\n",
    "for i in range(cmap.N):\n",
    "    rgba = cmap(i)\n",
    "    # rgb2hex accepts rgb or rgba\n",
    "    print(matplotlib.colors.rgb2hex(rgba))\n",
    "    colors+=[matplotlib.colors.rgb2hex(rgba)]\n",
    "\n",
    "print(colors)\n",
    "color=colors\n",
    "    \n",
    "width = 0.6\n",
    "fig = plt.figure()\n",
    "ax = fig.add_axes([0,0,1,1])\n",
    "ax.bar(labels, dfr['OG0000004'], width, color=color[0])\n",
    "ax.bar(labels, dfr['OG0000009'], width,bottom=dfr['OG0000004'], color=color[10])\n",
    "ax.bar(labels, dfr['OG0000020'], width,bottom=dfr['OG0000009'], color=color[6])\n",
    "\n",
    "\n",
    "\n",
    "\n",
    "#ax.bar(labels, dfr['OG0000074'][0:5], width,bottom=dfr['OG0000020'][0:5], color=color[9])\n",
    "#ax.bar(labels, dfr['OG0000072'][0:5], width,bottom=dfr['OG0000074'][0:5], color=color[3])\n",
    "#ax.bar(labels, dfr['OG0000473'][0:5], width,bottom=dfr['OG0000072'][0:5], color=color[5])\n",
    "#ax.bar(labels, dfr['OG0000082'][0:5], width,bottom=dfr['OG0000473'][0:5], color=color[2])\n",
    "#ax.bar(labels, dfr['OG0001335'][0:5], width,bottom=dfr['OG0000082'][0:5], color=color[8])\n",
    "#ax.bar(labels, dfr['OG0001019'][0:5], width,bottom=dfr['OG0001335'][0:5], color=color[6])\n",
    "#ax.bar(labels, dfr['OG0000231'][0:5], width,bottom=dfr['OG0001019'][0:5], color=color[4])\n",
    "#ax.bar(labels, dfr['OG0001542'][0:5], width,bottom=dfr['OG0000231'][0:5], color=color[7])\n",
    "#ax.bar(labels, dfr['OG0001328'][0:5], width,bottom=dfr['OG0001542'][0:5], color=color[0])\n",
    "#ax.bar(labels, dfr['OG0000081'][0:5], width,bottom=dfr['OG0001328'][0:5], color=color[10])\n",
    "#ax.bar(labels, dfr['OG0000072'][0:5], width,bottom=dfr['OG0000074'][0:5], color=color[3])\n",
    "#ax.bar(labels, dfr['OG0000072'][0:5], width,bottom=dfr['OG0000074'][0:5], color=color[3])\n",
    "#ax.bar(labels, dfr['OG0000072'][0:5], width,bottom=dfr['OG0000074'][0:5], color=color[3])\n",
    "#ax.bar(labels, dfr['OG0000072'][0:5], width,bottom=dfr['OG0000074'][0:5], color=color[3])\n",
    "#ax.bar(labels, OG3, width,bottom=df['OG0005756'], color='g')\n",
    "#ax.bar(labels, OG4, width,bottom=df['OG0000473'], color='y')\n",
    "ax.set_ylabel('Number of genes')#orientation=u'vertical'\n",
    "ml.rcParams['figure.figsize'] = (15.0, 5.0)\n",
    "#ax.set_title('Scores by group and gender')\n",
    "#ax.set_xticks(ind, ('G1', 'G2', 'G3', 'G4', 'G5'))\n",
    "#ax.set_yticks(np.arange(0, 81, 10))\n",
    "\n",
    "plt.xticks(rotation=90)\n",
    "ax.legend(labels=og_names)\n",
    "plt.show()"
   ]
  },
  {
   "cell_type": "code",
   "execution_count": 178,
   "metadata": {},
   "outputs": [
    {
     "data": {
      "image/png": "[encoded data removed]",
      "text/plain": [
       "<Figure size 720x360 with 1 Axes>"
      ]
     },
     "metadata": {
      "needs_background": "light"
     },
     "output_type": "display_data"
    }
   ],
   "source": [
    "new = open(\"/Users/dariashipilina/Documents/GitHub/GenomeVanessa/OrthogroupSpatialAnanlysis/Orthogroup_Abundance_top20.tsv\").read()\n",
    "split_ = new.split('\\n')\n",
    "#print(split_[1])\n",
    "eigve_array=[]\n",
    "#print(split_file2[2])\n",
    "for i in split_:\n",
    "    #print(i)\n",
    "    ii=i.split()\n",
    "    #print(ii)\n",
    "    eigve_array+=[ii]\n",
    "\n",
    "df=pd.DataFrame(eigve_array)\n",
    "df\n",
    "\n",
    "#print(eigve_array[0][1:])\n",
    "og_names=eigve_array[0][1:]\n",
    "\n",
    "#print(eigve_array[0:10][1])\n",
    "#arr = np.array(eigve_array)\n",
    "#print(arr[0:1][0:1])\n",
    "\n",
    "#arr= np.array(dfr[0])\n",
    "#N = 3\n",
    "\n",
    "#ind = np.arange(3) # the x locations for the groups\n",
    "#labels=['LR999924.1','LR999925.1','LR999926.1','LR999927.1','LR999928.1'] \n",
    "\n",
    "\n",
    "chroms= np.array(df[0][1:33])\n",
    "#print(chroms)\n",
    "labels=chroms\n",
    "#print#01019', 'OG0000231', 'OG0001542', 'OG0001328', 'OG0000081', 'OG0001548', 'OG0001331', 'OG0003727', 'OG0001974', 'OG0000600', 'OG0001817', 'OG0001329']\n",
    "#OG0000231\n",
    "#OG1=[1,0,0]\n",
    "#color=['#8dd3c7','#ffffb3','#bebada','#fb8072','#80b1d3','#fdb462','#b3de69','#fccde5','#d9d9d9','#bc80bd','#ccebc5','#ffed6f']\n",
    "#color=['#a6cee3','#1f78b4','#b2df8a','#33a02c','#fb9a99','#e31a1c','#fdbf6f','#ff7f00','#cab2d6','#6a3d9a','#ffff99','#b15928']\n",
    "#color=['#543005','#8c510a','#bf812d','#dfc27d','#f6e8c3','#f5f5f5','#c7eae5','#80cdc1','#35978f','#01665e','#003c30']\n",
    "#color=['#7f3b08','#b35806','#e08214','#fdb863','#fee0b6','#f7f7f7','#d8daeb','#b2abd2','#8073ac','#542788','#2d004b']\n",
    "#print(color[0])\n",
    "\n",
    "\n",
    "#OG0000473\tOG0000082\tOG0001335\tOG0001019\tOG0000231\tOG0001542\tOG0001328\tOG0000081\n",
    "plt.rcParams['axes.spines.left'] = True\n",
    "plt.rcParams['axes.spines.right'] = False\n",
    "plt.rcParams['axes.spines.top'] = False\n",
    "plt.rcParams['axes.spines.bottom'] = True\n",
    "\n",
    "#cm = plt.cm.get_cmap('Vega20c')\n",
    "\n",
    "from pylab import *\n",
    "\n",
    "cmap = cm.get_cmap('YlOrBr_r', 23)\n",
    "#cmap = cm.get_cmap('Set1', 23) # PiYG\n",
    "colors=[]\n",
    "\n",
    "for i in range(cmap.N):\n",
    "    rgba = cmap(i)\n",
    "    # rgb2hex accepts rgb or rgba\n",
    "    #print(matplotlib.colors.rgb2hex(rgba))\n",
    "    colors+=[matplotlib.colors.rgb2hex(rgba)]\n",
    "\n",
    "#print(colors)\n",
    "color=colors\n",
    "    \n",
    "width = 0.85\n",
    "fig = plt.figure()\n",
    "ax = fig.add_axes([0,0,1,1])\n",
    "ax.bar(labels, dfr['OG0000004'], width, color=color[0])\n",
    "for j in arange(19):\n",
    "    #print(dfr[og_names[j+1]])\n",
    "    ax.bar(labels, dfr[og_names[j+1]], width,bottom=dfr[og_names[j]], color=color[j])\n",
    "#ax.bar(labels, dfr['OG0000009'], width,bottom=dfr['OG0000004'], color=color[10])\n",
    "#ax.bar(labels, dfr['OG0000020'], width,bottom=dfr['OG0000009'], color=color[6])\n",
    "\n",
    "\n",
    "#for j in arange(83):\n",
    "   # ax.bar(labels, dfr[og_names[j+1]], width,bottom=dfr['OG0000004'], color=color[10])\n",
    "    \n",
    "\n",
    "\n",
    "#ax.bar(labels, dfr['OG0000074'][0:5], width,bottom=dfr['OG0000020'][0:5], color=color[9])\n",
    "#ax.bar(labels, dfr['OG0000072'][0:5], width,bottom=dfr['OG0000074'][0:5], color=color[3])\n",
    "#ax.bar(labels, dfr['OG0000473'][0:5], width,bottom=dfr['OG0000072'][0:5], color=color[5])\n",
    "#ax.bar(labels, dfr['OG0000082'][0:5], width,bottom=dfr['OG0000473'][0:5], color=color[2])\n",
    "#ax.bar(labels, dfr['OG0001335'][0:5], width,bottom=dfr['OG0000082'][0:5], color=color[8])\n",
    "#ax.bar(labels, dfr['OG0001019'][0:5], width,bottom=dfr['OG0001335'][0:5], color=color[6])\n",
    "#ax.bar(labels, dfr['OG0000231'][0:5], width,bottom=dfr['OG0001019'][0:5], color=color[4])\n",
    "#ax.bar(labels, dfr['OG0001542'][0:5], width,bottom=dfr['OG0000231'][0:5], color=color[7])\n",
    "#ax.bar(labels, dfr['OG0001328'][0:5], width,bottom=dfr['OG0001542'][0:5], color=color[0])\n",
    "#ax.bar(labels, dfr['OG0000081'][0:5], width,bottom=dfr['OG0001328'][0:5], color=color[10])\n",
    "#ax.bar(labels, dfr['OG0000072'][0:5], width,bottom=dfr['OG0000074'][0:5], color=color[3])\n",
    "#ax.bar(labels, dfr['OG0000072'][0:5], width,bottom=dfr['OG0000074'][0:5], color=color[3])\n",
    "#ax.bar(labels, dfr['OG0000072'][0:5], width,bottom=dfr['OG0000074'][0:5], color=color[3])\n",
    "#ax.bar(labels, dfr['OG0000072'][0:5], width,bottom=dfr['OG0000074'][0:5], color=color[3])\n",
    "#ax.bar(labels, OG3, width,bottom=df['OG0005756'], color='g')\n",
    "#ax.bar(labels, OG4, width,bottom=df['OG0000473'], color='y')\n",
    "ax.set_ylabel('Number of genes')#orientation=u'vertical'\n",
    "ml.rcParams['figure.figsize'] = (10.0, 5.0)\n",
    "#ax.legend(loc='center left', bbox_to_anchor=(1, 0.5))\n",
    "#ax.legend(loc='upper center', bbox_to_anchor=(0.5, -0.05),\n",
    "          #fancybox=True, shadow=True, ncol=5)\n",
    "#plt.legend(loc='best')#, bbox_to_anchor=(0.5, 0., 0.5, 0.5))\n",
    "#plt.legend(frameon=False)\n",
    "#ax.set_title('Scores by group and gender')\n",
    "#ax.set_xticks(ind, ('G1', 'G2', 'G3', 'G4', 'G5'))\n",
    "#ax.set_yticks(np.arange(0, 81, 10))\n",
    "\n",
    "\n",
    "plt.xticks(rotation=90)\n",
    "plt.yticks(rotation=90)\n",
    "ax.legend(labels=og_names)\n",
    "\n",
    "plt.savefig(\"/Users/dariashipilina/Documents/GitHub/GenomeVanessa/Figures/01_GOTerms/spatial_ortho.pdf\",bbox_inches=\"tight\")\n",
    "plt.savefig(\"/Users/dariashipilina/Documents/GitHub/GenomeVanessa/Figures/01_GOTerms/spatial_ortho.png\",bbox_inches=\"tight\")\n",
    "\n",
    "plt.show()"
   ]
  },
  {
   "cell_type": "code",
   "execution_count": 182,
   "metadata": {},
   "outputs": [
    {
     "data": {
      "image/png": "[encoded data removed]",
      "text/plain": [
       "<Figure size 720x360 with 1 Axes>"
      ]
     },
     "metadata": {
      "needs_background": "light"
     },
     "output_type": "display_data"
    }
   ],
   "source": [
    "new = open(\"/Users/dariashipilina/Documents/GitHub/GenomeVanessa/OrthogroupSpatialAnanlysis/Orthogroup_Abundance_top20.tsv\").read()\n",
    "split_ = new.split('\\n')\n",
    "#print(split_[1])\n",
    "eigve_array=[]\n",
    "#print(split_file2[2])\n",
    "for i in split_:\n",
    "    #print(i)\n",
    "    ii=i.split()\n",
    "    #print(ii)\n",
    "    eigve_array+=[ii]\n",
    "\n",
    "df=pd.DataFrame(eigve_array)\n",
    "og_names=eigve_array[0][1:]\n",
    "chroms= np.array(df[0][1:33])\n",
    "\n",
    "labels=chroms\n",
    "\n",
    "#color=['#8dd3c7','#ffffb3','#bebada','#fb8072','#80b1d3','#fdb462','#b3de69','#fccde5','#d9d9d9','#bc80bd','#ccebc5','#ffed6f']\n",
    "#color=['#a6cee3','#1f78b4','#b2df8a','#33a02c','#fb9a99','#e31a1c','#fdbf6f','#ff7f00','#cab2d6','#6a3d9a','#ffff99','#b15928']\n",
    "#color=['#543005','#8c510a','#bf812d','#dfc27d','#f6e8c3','#f5f5f5','#c7eae5','#80cdc1','#35978f','#01665e','#003c30']\n",
    "#color=['#7f3b08','#b35806','#e08214','#fdb863','#fee0b6','#f7f7f7','#d8daeb','#b2abd2','#8073ac','#542788','#2d004b']\n",
    "\n",
    "plt.rcParams['axes.spines.left'] = True\n",
    "plt.rcParams['axes.spines.right'] = False\n",
    "plt.rcParams['axes.spines.top'] = False\n",
    "plt.rcParams['axes.spines.bottom'] = True\n",
    "\n",
    "\n",
    "from pylab import *\n",
    "\n",
    "cmap = cm.get_cmap('tab20c', 20)\n",
    "#cmap = cm.get_cmap('Set1', 23) # PiYG\n",
    "colors=[]\n",
    "\n",
    "for i in range(cmap.N):\n",
    "    rgba = cmap(i)\n",
    "    # rgb2hex accepts rgb or rgba\n",
    "    #print(matplotlib.colors.rgb2hex(rgba))\n",
    "    colors+=[matplotlib.colors.rgb2hex(rgba)]\n",
    "\n",
    "#print(colors)\n",
    "color=colors\n",
    "    \n",
    "width = 0.85\n",
    "fig = plt.figure()\n",
    "ax = fig.add_axes([0,0,1,1])\n",
    "ax.bar(labels, dfr['OG0000004'], width, color=color[0])\n",
    "for j in arange(19):\n",
    "    #print(dfr[og_names[j+1]])\n",
    "    ax.bar(labels, dfr[og_names[j+1]], width,bottom=dfr[og_names[j]], color=color[j])\n",
    "ax.set_ylabel('Number of genes')#orientation=u'vertical'\n",
    "ml.rcParams['figure.figsize'] = (10.0, 5.0)\n",
    "\n",
    "plt.xticks(rotation=90)\n",
    "plt.yticks(rotation=90)\n",
    "ax.legend(labels=og_names)\n",
    "\n",
    "plt.savefig(\"/Users/dariashipilina/Documents/GitHub/GenomeVanessa/Figures/01_GOTerms/spatial_ortho_color2.pdf\",bbox_inches=\"tight\")\n",
    "plt.savefig(\"/Users/dariashipilina/Documents/GitHub/GenomeVanessa/Figures/01_GOTerms/spatial_ortho_color2.png\",bbox_inches=\"tight\")\n",
    "\n",
    "plt.show()"
   ]
  },
  {
   "cell_type": "code",
   "execution_count": 108,
   "metadata": {},
   "outputs": [
    {
     "name": "stdout",
     "output_type": "stream",
     "text": [
      "['LR999924.1' 'LR999925.1' 'LR999926.1' 'LR999927.1' 'LR999928.1'\n",
      " 'LR999929.1' 'LR999930.1' 'LR999931.1' 'LR999932.1' 'LR999933.1'\n",
      " 'LR999934.1' 'LR999935.1' 'LR999936.1' 'LR999937.1' 'LR999938.1'\n",
      " 'LR999939.1' 'LR999940.1' 'LR999941.1' 'LR999942.1' 'LR999943.1'\n",
      " 'LR999944.1' 'LR999945.1' 'LR999946.1' 'LR999947.1' 'LR999948.1'\n",
      " 'LR999949.1' 'LR999950.1' 'LR999951.1' 'LR999952.1' 'LR999953.1'\n",
      " 'LR999954.1']\n",
      "1     LR999924.1\n",
      "2     LR999925.1\n",
      "3     LR999926.1\n",
      "4     LR999927.1\n",
      "5     LR999928.1\n",
      "6     LR999929.1\n",
      "7     LR999930.1\n",
      "8     LR999931.1\n",
      "9     LR999932.1\n",
      "10    LR999933.1\n",
      "11    LR999934.1\n",
      "12    LR999935.1\n",
      "13    LR999936.1\n",
      "14    LR999937.1\n",
      "15    LR999938.1\n",
      "16    LR999939.1\n",
      "17    LR999940.1\n",
      "18    LR999941.1\n",
      "19    LR999942.1\n",
      "20    LR999943.1\n",
      "21    LR999944.1\n",
      "22    LR999945.1\n",
      "23    LR999946.1\n",
      "24    LR999947.1\n",
      "25    LR999948.1\n",
      "26    LR999949.1\n",
      "27    LR999950.1\n",
      "28    LR999951.1\n",
      "29    LR999952.1\n",
      "30    LR999953.1\n",
      "31    LR999954.1\n",
      "Name: 0, dtype: object\n"
     ]
    },
    {
     "name": "stderr",
     "output_type": "stream",
     "text": [
      "<ipython-input-108-c83cd6848526>:19: VisibleDeprecationWarning: Creating an ndarray from ragged nested sequences (which is a list-or-tuple of lists-or-tuples-or ndarrays with different lengths or shapes) is deprecated. If you meant to do this, you must specify 'dtype=object' when creating the ndarray\n",
      "  arr = np.array(eigve_array)\n"
     ]
    }
   ],
   "source": [
    "new = open(\"/Users/dariashipilina/Documents/GitHub/GenomeVanessa/OrthogroupSpatialAnanlysis/Orthogroup_Abundance_top20.tsv\").read()\n",
    "split_ = new.split('\\n')\n",
    "#print(split_[1])\n",
    "eigve_array=[]\n",
    "#print(split_file2[2])\n",
    "for i in split_:\n",
    "    #print(i)\n",
    "    ii=i.split()\n",
    "    #print(ii)\n",
    "    eigve_array+=[ii]\n",
    "\n",
    "df=pd.DataFrame(eigve_array)\n",
    "df\n",
    "\n",
    "#print(eigve_array[0][1:])\n",
    "og_names=eigve_array[0][1:]\n",
    "\n",
    "#print(eigve_array[0:10][1])\n",
    "arr = np.array(eigve_array)\n",
    "#print(arr[0:1][0:1])\n",
    "\n",
    "chroms= np.array(df[0][1:32])\n",
    "print(chroms)\n",
    "print(df[0][1:32])\n",
    "#N = 3\n",
    "#menMeans = (20, 35, 30, 35, 27)\n",
    "#womenMeans = (25, 32, 34, 20, 25)\n",
    "#ind = np.arange(3) # the x locations for the groups\n",
    "#labels=['LR999924.1','LR999925.1','LR999926.1','LR999927.1','LR999928.1'] \n",
    "#labels=dfr[0]\n",
    "#print(labels)"
   ]
  },
  {
   "cell_type": "code",
   "execution_count": 52,
   "metadata": {},
   "outputs": [
    {
     "name": "stdout",
     "output_type": "stream",
     "text": [
      "#ffffb3\n"
     ]
    }
   ],
   "source": [
    "#88CCEE,#CC6677,#DDCC77,#117733,#332288,#AA4499,#44AA99,#999933,#882255,#661100,#6699CC,#888888\n",
    "\n",
    "color=['#8dd3c7','#ffffb3','#bebada','#fb8072','#80b1d3','#fdb462','#b3de69','#fccde5','#d9d9d9','#bc80bd','#ccebc5','#ffed6f']\n",
    "print(color[0])"
   ]
  },
  {
   "cell_type": "code",
   "execution_count": 3,
   "metadata": {},
   "outputs": [
    {
     "data": {
      "text/plain": [
       "0    1\n",
       "1    0\n",
       "2    0\n",
       "Name: OG0000231, dtype: int64"
      ]
     },
     "execution_count": 3,
     "metadata": {},
     "output_type": "execute_result"
    }
   ],
   "source": [
    "#OG0000231\n",
    "OG1=(1,0,0)\n",
    "#OG0005756\n",
    "OG2=[2,0,0]\n",
    "#OG0000473\n",
    "OG3=[1,2,2]\n",
    "#OG0000072\n",
    "OG4=[1,2,2]\n",
    "\n",
    "# Calling DataFrame constructor after zipping\n",
    "# both lists, with columns specified\n",
    "df = pd.DataFrame(list(zip(OG1,OG2,OG3,OG4)),\n",
    "               columns =['OG0000231','OG0005756','OG0000473','OG0000072'])\n",
    "df['OG0000231']"
   ]
  },
  {
   "cell_type": "code",
   "execution_count": 4,
   "metadata": {},
   "outputs": [
    {
     "data": {
      "image/png": "[encoded data removed]",
      "text/plain": [
       "<Figure size 432x288 with 1 Axes>"
      ]
     },
     "metadata": {
      "needs_background": "light"
     },
     "output_type": "display_data"
    }
   ],
   "source": [
    "#N = 3\n",
    "#menMeans = (20, 35, 30, 35, 27)\n",
    "#womenMeans = (25, 32, 34, 20, 25)\n",
    "#ind = np.arange(3) # the x locations for the groups\n",
    "labels = ['Chrom24', 'Chrom25', 'Chrom26']\n",
    "#OG0000231\n",
    "#OG1=[1,0,0]\n",
    "\n",
    "width = 0.8\n",
    "fig = plt.figure()\n",
    "ax = fig.add_axes([0,0,1,1])\n",
    "ax.bar(labels, OG1, width, color='r')\n",
    "ax.bar(labels, OG2, width,bottom=df['OG0000231'], color='b', orientation=u'vertical')\n",
    "ax.bar(labels, OG3, width,bottom=df['OG0005756'], color='g')\n",
    "ax.bar(labels, OG4, width,bottom=df['OG0000473'], color='y')\n",
    "ax.set_ylabel('Number of genes')#orientation=u'vertical'\n",
    "#ax.set_title('Scores by group and gender')\n",
    "#ax.set_xticks(ind, ('G1', 'G2', 'G3', 'G4', 'G5'))\n",
    "#ax.set_yticks(np.arange(0, 81, 10))\n",
    "ax.legend(labels=['OG1', 'OG2', 'OG3', 'OG4'])\n",
    "plt.show()"
   ]
  },
  {
   "cell_type": "markdown",
   "metadata": {},
   "source": [
    "#### Development"
   ]
  },
  {
   "cell_type": "code",
   "execution_count": null,
   "metadata": {
    "collapsed": true,
    "scrolled": true
   },
   "outputs": [],
   "source": [
    "cols = df3.columns.drop(df3['chrom'])\n",
    "cols\n",
    "df3 = df3.apply(pd.to_numeric, errors='coerce')\n",
    "\n",
    "df3.dtypes"
   ]
  },
  {
   "cell_type": "code",
   "execution_count": null,
   "metadata": {
    "collapsed": true,
    "scrolled": true
   },
   "outputs": [],
   "source": [
    "path3=\"/Users/dshipilina/GitHub/AfricanDivide/ChromLR24.repeat.out\""
   ]
  },
  {
   "cell_type": "code",
   "execution_count": null,
   "metadata": {
    "collapsed": true,
    "scrolled": true
   },
   "outputs": [],
   "source": [
    "df=make_repeat_df(\"/Users/dshipilina/GitHub/AfricanDivide/ChromLR24.repeat.out\")\n",
    "df3=make_repeat_df(\"/Users/dshipilina/GitHub/AfricanDivide/ChromLR40.repeat.out\")"
   ]
  },
  {
   "cell_type": "code",
   "execution_count": null,
   "metadata": {
    "collapsed": true,
    "scrolled": true
   },
   "outputs": [],
   "source": [
    "ml.rcParams['figure.figsize'] = (13, 1.5)\n",
    "sns.barplot(x=df3[\"begin\"], y=df3[\"repts\"] , color=\"lightgrey\")\n",
    "#plt.xticks(rotation=90)\n",
    "plt.tick_params(axis='x', labelsize=0)\n",
    "plt.rcParams['axes.spines.left'] = True\n",
    "plt.rcParams['axes.spines.right'] = False\n",
    "plt.rcParams['axes.spines.top'] = False\n",
    "plt.rcParams['axes.spines.bottom'] = True\n",
    "plt.xlabel(\"Position along the Z chromosome LR999924\")\n",
    "plt.ylabel(\"Number of repeats\")\n",
    "#plt.savefig(\"/Users/dshipilina/GitHub/repeat_24.png\",bbox_inches=\"tight\")\n",
    "plt.show()\n",
    "\n",
    "ml.rcParams['figure.figsize'] = (17, 1.5)\n",
    "sns.barplot(x=df[\"begin\"], y=df[\"repts\"] , color=\"lightgrey\")\n",
    "#plt.xticks(rotation=90)\n",
    "plt.tick_params(axis='x', labelsize=1)\n",
    "plt.rcParams['axes.spines.left'] = True\n",
    "plt.rcParams['axes.spines.right'] = False\n",
    "plt.rcParams['axes.spines.top'] = False\n",
    "plt.rcParams['axes.spines.bottom'] = True\n",
    "plt.xlabel(\"Position along the W chromosome LR999940\")\n",
    "plt.ylabel(\"Number of repeats\")\n",
    "#plt.savefig(\"/Users/dshipilina/GitHub/repeat_40.png\",bbox_inches=\"tight\")\n",
    "plt.show()\n",
    "\n",
    "#\"#faab36\", \"#249ea0\""
   ]
  },
  {
   "cell_type": "code",
   "execution_count": null,
   "metadata": {
    "collapsed": true,
    "scrolled": true
   },
   "outputs": [],
   "source": [
    "ml.rcParams['figure.figsize'] = (17, 1.5)\n",
    "sns.barplot(x=df[\"begin\"], y=df[\"repts\"] , color=\"lightgrey\")\n",
    "#plt.xticks(rotation=90)\n",
    "plt.tick_params(axis='x', labelsize=1)\n",
    "plt.rcParams['axes.spines.left'] = True\n",
    "plt.rcParams['axes.spines.right'] = False\n",
    "plt.rcParams['axes.spines.top'] = False\n",
    "plt.rcParams['axes.spines.bottom'] = True\n",
    "plt.xlabel(\"Position along the W chromosome LR999940\")\n",
    "plt.ylabel(\"Number of repeats\")\n",
    "#plt.savefig(\"/Users/dshipilina/GitHub/repeat_40.png\",bbox_inches=\"tight\")\n",
    "plt.show()"
   ]
  },
  {
   "cell_type": "code",
   "execution_count": null,
   "metadata": {
    "collapsed": true,
    "scrolled": true
   },
   "outputs": [],
   "source": [
    "def make_repeat_df(path):    \n",
    "    new2 = open(\"/Users/dshipilina/GitHub/AfricanDivide/ChromLR24.repeat.out\").read()\n",
    "    split_ = new2.split('\\n')\n",
    "    #print(split_[2])\n",
    "    eigve2_array=[]\n",
    "    #print(split_file2[2])\n",
    "    for i in split_:\n",
    "        ii=i.split()\n",
    "        eigve2_array+=[ii]\n",
    "\n",
    "    df=pd.DataFrame(eigve2_array)\n",
    "    df.columns=['chrom','begin','end','repts']\n",
    "    #df = df.drop(labels=[138], axis=0)\n",
    "    df[\"begin\"] = pd.to_numeric(df[\"begin\"], downcast=\"float\")\n",
    "    df[\"repts\"] = pd.to_numeric(df[\"repts\"], downcast=\"float\")\n",
    "    df = df[:-1]\n",
    "    return df"
   ]
  },
  {
   "cell_type": "code",
   "execution_count": null,
   "metadata": {
    "collapsed": true,
    "scrolled": true
   },
   "outputs": [],
   "source": [
    "def plot_repeats(df,mg_num): \n",
    "    ml.rcParams['figure.figsize'] = (mg_num, 1.5)\n",
    "    sns.barplot(x=df[\"begin\"], y=df[\"repts\"] , color=\"lightgrey\")\n",
    "    #plt.xticks(rotation=90)\n",
    "    plt.tick_params(axis='x', labelsize=1)\n",
    "    #plt.xticks(\" \")\n",
    "    plt.rcParams['axes.spines.left'] = True\n",
    "    plt.rcParams['axes.spines.right'] = False\n",
    "    plt.rcParams['axes.spines.top'] = False\n",
    "    plt.rcParams['axes.spines.bottom'] = True\n",
    "    #plt.xaxis.label.set_visible(False)\n",
    "    plt.xlabel('') #\"Position along the Z chromosome LR999924\")\n",
    "    plt.ylabel(\"Number of repeats\")\n",
    "    #plt.savefig(\"/Users/dshipilina/GitHub/repeat_24.png\",bbox_inches=\"tight\")\n",
    "    plt.show()"
   ]
  },
  {
   "cell_type": "code",
   "execution_count": null,
   "metadata": {
    "collapsed": true,
    "scrolled": true
   },
   "outputs": [],
   "source": [
    "plot_repeats(df3,13.8)\n",
    "plot_repeats(df,17)"
   ]
  },
  {
   "cell_type": "markdown",
   "metadata": {},
   "source": [
    "# PCA\n"
   ]
  },
  {
   "cell_type": "code",
   "execution_count": null,
   "metadata": {
    "collapsed": true,
    "scrolled": true
   },
   "outputs": [],
   "source": [
    "dfx"
   ]
  },
  {
   "cell_type": "markdown",
   "metadata": {
    "heading_collapsed": true
   },
   "source": [
    "## Dataset 1: Variants w/o singletons and doubletons "
   ]
  },
  {
   "cell_type": "markdown",
   "metadata": {
    "hidden": true
   },
   "source": [
    "First, PCA analysis was preformed for the data with only necessary filtering to retain maximum coverage.\n",
    "Short summary of filtering:\n",
    "- Input file from Aurora: `cardui_migrdiv_indv.vcf.gz`\n",
    "- Maximum missing % of individuals: 0.3\n",
    "- Minor allele frequency cutoff fixed to 0.006: which correspond to removing singletons only in dataset of 347 individuals \n",
    "- Variant depth set to maximum possible: 4 (see justification in Evernote)\n"
   ]
  },
  {
   "cell_type": "markdown",
   "metadata": {
    "heading_collapsed": true,
    "hidden": true
   },
   "source": [
    "### Creating data frames"
   ]
  },
  {
   "cell_type": "code",
   "execution_count": null,
   "metadata": {
    "collapsed": true,
    "hidden": true,
    "scrolled": false
   },
   "outputs": [],
   "source": [
    "eigvec = open(\"/Users/dshipilina/GitHub/AfricanDivide/PCA/vanessa.fullSFS.eigenvec\").read()\n",
    "split_eig = eigvec.split('\\n')\n",
    "eigvec_array=[]\n",
    "#print(split_file2[2])\n",
    "for i in split_eig:\n",
    "    ii=i.split()\n",
    "    eigvec_array+=[ii]\n",
    "    \n",
    "#print(eigvec_array[2])\n",
    "    \n",
    "popid = open(\"/Users/dshipilina/GitHub/AfricanDivide/popmap1.txt\").read()\n",
    "split_popid = popid.split('\\n')\n",
    "#print(txt2)\n",
    "popID_array=[]\n",
    "#print(split_file2[2])\n",
    "for i in split_popid:\n",
    "    ii=i.split()\n",
    "    popID_array+=[ii]\n",
    "\n",
    "df = pd.DataFrame(eigvec_array) # , columns = [\"ScaffoldID\", \"N_BUSCOs\",\"BUSCOs_coverage\", ])\n",
    "#remove extra labels and extra PCs\n",
    "df =df.drop(df.columns[[0,11,12,13,14,15,16,17,18,19,20,21]], axis=1)\n",
    "#remove empty row\n",
    "df = df.drop(labels=[347], axis=0)\n",
    "#rename columns\n",
    "df.columns=[\"FullID\", \"PCA1\",\"PCA2\",\"PCA3\",\"PCA4\",\"PCA5\",\"PCA6\",\"PCA7\",\"PCA8\",\"PCA9\"]\n",
    "cols = [\"PCA1\",\"PCA2\",\"PCA3\",\"PCA4\",\"PCA5\",\"PCA6\",\"PCA7\",\"PCA8\",\"PCA9\"]\n",
    "df[cols] = df[cols].apply(pd.to_numeric, errors='coerce', axis=1)\n",
    "#df[\"PCA1\"] = pd.to_numeric(df[\"PCA1\"], downcast=\"float\")\n",
    "#df[\"PCA2\"] = pd.to_numeric(df[\"PCA2\"], downcast=\"float\")\n",
    "#df[\"PCA3\"] = pd.to_numeric(df[\"PCA3\"], downcast=\"float\")\n",
    "\n",
    "#splitting names\n",
    "#print(df[\"FullID\"])\n",
    "dftmp=df[\"FullID\"].str.split('_',expand=True)\n",
    "#print(dftmp)\n",
    "dftmp.columns=[\"Location\", \"SampleID\"]\n",
    "dftmp\n",
    "\n",
    "#getting population IDs\n",
    "dftmp2 = pd.DataFrame(popID_array)\n",
    "dftmp2.columns=[\"pop\",\"popID\"]\n",
    "dftmp2\n",
    "\n",
    "#combining table\n",
    "df = pd.concat([dftmp,dftmp2,df],axis=1)\n",
    "df = df.drop(labels=[347], axis=0)\n",
    "df"
   ]
  },
  {
   "cell_type": "markdown",
   "metadata": {
    "heading_collapsed": true,
    "hidden": true
   },
   "source": [
    "### Plotting"
   ]
  },
  {
   "cell_type": "code",
   "execution_count": 11,
   "metadata": {
    "hidden": true,
    "scrolled": true
   },
   "outputs": [
    {
     "ename": "FileNotFoundError",
     "evalue": "[Errno 2] No such file or directory: '/Users/dariashipilina/GitHub/AfricanDivide/PCA/vanessa.fullSFS.eigenval'",
     "output_type": "error",
     "traceback": [
      "\u001b[0;31m---------------------------------------------------------------------------\u001b[0m",
      "\u001b[0;31mFileNotFoundError\u001b[0m                         Traceback (most recent call last)",
      "\u001b[0;32m<ipython-input-11-dfdb3529ae54>\u001b[0m in \u001b[0;36m<module>\u001b[0;34m\u001b[0m\n\u001b[1;32m      1\u001b[0m \u001b[0;31m#print(df['loc'])\u001b[0m\u001b[0;34m\u001b[0m\u001b[0;34m\u001b[0m\u001b[0;34m\u001b[0m\u001b[0m\n\u001b[0;32m----> 2\u001b[0;31m \u001b[0meigval\u001b[0m \u001b[0;34m=\u001b[0m \u001b[0mopen\u001b[0m\u001b[0;34m(\u001b[0m\u001b[0;34m\"/Users/dariashipilina/GitHub/AfricanDivide/PCA/vanessa.fullSFS.eigenval\"\u001b[0m\u001b[0;34m)\u001b[0m\u001b[0;34m.\u001b[0m\u001b[0mread\u001b[0m\u001b[0;34m(\u001b[0m\u001b[0;34m)\u001b[0m\u001b[0;34m\u001b[0m\u001b[0;34m\u001b[0m\u001b[0m\n\u001b[0m\u001b[1;32m      3\u001b[0m \u001b[0;31m#eigval = open(\"/Users/dshipilina/GitHub/AfricanDivide/PCA/vanessa.fullSFS.eigenval\").read()\u001b[0m\u001b[0;34m\u001b[0m\u001b[0;34m\u001b[0m\u001b[0;34m\u001b[0m\u001b[0m\n\u001b[1;32m      4\u001b[0m \u001b[0msplit_eigval\u001b[0m \u001b[0;34m=\u001b[0m \u001b[0meigval\u001b[0m\u001b[0;34m.\u001b[0m\u001b[0msplit\u001b[0m\u001b[0;34m(\u001b[0m\u001b[0;34m'\\n'\u001b[0m\u001b[0;34m)\u001b[0m\u001b[0;34m\u001b[0m\u001b[0;34m\u001b[0m\u001b[0m\n\u001b[1;32m      5\u001b[0m \u001b[0;31m#print(split_eigval[2])\u001b[0m\u001b[0;34m\u001b[0m\u001b[0;34m\u001b[0m\u001b[0;34m\u001b[0m\u001b[0m\n",
      "\u001b[0;31mFileNotFoundError\u001b[0m: [Errno 2] No such file or directory: '/Users/dariashipilina/GitHub/AfricanDivide/PCA/vanessa.fullSFS.eigenval'"
     ]
    }
   ],
   "source": [
    "#print(df['loc'])\n",
    "eigval = open(\"/Users/dariashipilina/GitHub/AfricanDivide/PCA/vanessa.fullSFS.eigenval\").read()\n",
    "#eigval = open(\"/Users/dshipilina/GitHub/AfricanDivide/PCA/vanessa.fullSFS.eigenval\").read()\n",
    "split_eigval = eigval.split('\\n')\n",
    "#print(split_eigval[2])\n",
    "\n",
    "\n",
    "flatui = [\"#faab36\", \"#249ea0\", \"#fd5900\", \"#005f60\"]\n",
    "sns.set_palette(flatui)\n",
    "sns.palplot(sns.color_palette())\n",
    "plt.show()\n",
    "\n",
    "#ax = sns.violinplot(x=\"Contents\", y=\"Flavour\", data=rd, color=\"lol\", inner=\"box\")\n",
    "\n",
    "#df[\"alpha\"] = np.where(df['popID']==\"NHE\", 1.0, 0.05)\n",
    "#df\n",
    "\n",
    "#sns.scatterplot(x=df['PCA1'], y=df['PCA2'],hue=df['popID'],\n",
    "                    # data=df[df[\"alpha\"] == 0.05], alpha=0.4)\n",
    "#sns.scatterplot(x=df['PCA1'], y=df['PCA2'], hue=df['popID'],data=df[df[\"alpha\"] == 1.0], alpha=1.0)\n",
    "\n",
    "#plt.show()\n",
    "sns.scatterplot(x=df['PCA1'], y=df['PCA2'], hue=df['popID'], s=40) #,alpha=0.4) #,kwargs={\"color\":\"darkred\",\"alpha\":0.3,\"s\":200})#,palette=\"dark\")\n",
    "sns.despine(offset=2, trim=True)\n",
    "plt.ylabel(\"PCA 2 (\"+ (split_eigval[1])+\"%)\")\n",
    "plt.xlabel(\"PCA 1 (\"+split_eigval[0]+\"%)\")\n",
    "ml.rcParams['figure.figsize'] = (7.0, 7.0)\n",
    "plt.legend(loc='best', bbox_to_anchor=(0.5, 0., 0.5, 0.5))\n",
    "plt.legend(frameon=False)\n",
    "#plt.savefig(\"/Users/dshipilina/GitHub/AfricanDivide/PCA/PCA_fullSFS_all.pdf\",bbox_inches=\"tight\")\n",
    "#plt.savefig(\"/Users/dshipilina/GitHub/AfricanDivide/PCA/PCA_fullSFS_all.png\",bbox_inches=\"tight\")\n",
    "plt.show()\n",
    "\n",
    "\n",
    "df[\"alpha\"] = np.where(df['popID']==\"NHE\", 0, 1)\n",
    "data=df[df[\"alpha\"] == 1]\n",
    "sns.scatterplot(x=data['PCA1'], y=data['PCA2'], hue=data['popID'])\n",
    "#plt.savefig(\"/Users/dshipilina/GitHub/AfricanDivide/PCA/PCA_fullSFS_all.pdf\",bbox_inches=\"tight\")\n",
    "#plt.savefig(\"/Users/dshipilina/GitHub/AfricanDivide/PCA/PCA_fullSFS_all.png\",bbox_inches=\"tight\")\n",
    "plt.show()\n",
    "\n",
    "#sns.scatterplot(x=df['PCA1'], y=df['PCA2'], hue=df['popID'],data=df[df[\"alpha\"] == 1.0], alpha=1.0)\n",
    "#sns.scatterplot(x=df['PCA1'], y=df['PCA2'], hue=df['popID'], s=40) #,alpha=0.4) #,kwargs={\"color\":\"darkred\",\"alpha\":0.3,\"s\":200})#,palette=\"dark\")\n",
    "#sns.despine(offset=2, trim=True)\n",
    "#plt.ylabel(\"PCA 2 (\"+ (split_eigval[1])+\"%)\")\n",
    "#plt.xlabel(\"PCA 1 (\"+split_eigval[0]+\"%)\")\n",
    "#ml.rcParams['figure.figsize'] = (7.0, 7.0)\n",
    "#plt.legend(loc='best', bbox_to_anchor=(0.5, 0., 0.5, 0.5))\n",
    "#plt.legend(frameon=False)\n",
    "#plt.savefig(\"/Users/dshipilina/GitHub/AfricanDivide/PCA/PCA_fullSFS_all.pdf\",bbox_inches=\"tight\")\n",
    "#plt.savefig(\"/Users/dshipilina/GitHub/AfricanDivide/PCA/PCA_fullSFS_all.png\",bbox_inches=\"tight\")\n",
    "#plt.show()\n",
    "\n",
    "\n",
    "\n",
    "\n",
    "\n",
    "#df\n",
    "\n",
    "#plt.plot(df['PCA1'], df['PCA2'],'o')#,palette=\"dark\")\n",
    "#sns.barplot(x=chroname, y=repcov) #, palette=\"deep\") #, ax=ax3)\n",
    "#plt.xticks(rotation=90)\n",
    "#plt.axis('off')\n",
    "#plt.xticks([0,100,200,300],[])\n",
    "#plt.xticks([0,100,200,300],[\"0\",\"100\",\"200\",\"300\"])\n",
    "#xtic=np.linspace(-0.075,0.015, num=4)\n",
    "#plt.xticks(xtic,[])\n",
    "#plt.xaxis.set_major_locator(plt.MaxNLocator(3))\n",
    "#plt.axis('equal')\n",
    "#plt.yticks([0,100,200,300],[])\n",
    "#plt.yticks()\n",
    "#plt.xaxis.set_tick_params(width=3)\n",
    "\n",
    "#plt.savefig(\"/Users/dshipilina/GitHub/AfricanDivide/PCA/PCA_rare_noLD_4pops_outlremoved.pdf\",bbox_inches=\"tight\")\n",
    "#plt.savefig(\"/Users/dshipilina/GitHub/AfricanDivide/PCA/PCA_rare_noLD_4pops_outlremoved.png\",bbox_inches=\"tight\")\n",
    "#plt.show()\n",
    "#print(np.linspace(-0.075,0.015, num=4))"
   ]
  },
  {
   "cell_type": "markdown",
   "metadata": {},
   "source": [
    "## Dataset 1: Variants w/o singletons and doubletons, no LD"
   ]
  },
  {
   "cell_type": "markdown",
   "metadata": {},
   "source": [
    "We observe distinct outliers in Southern Hemisphere, all belonging to Namibia sampling site. Such pattern, along with excessive grouping of other populations may be an effect of LD in the sample. Here we attempt to correct for LD, removing SNPs, where r^2>0.2 on 50Kb overlapping blocks (performed in plink)."
   ]
  },
  {
   "cell_type": "markdown",
   "metadata": {
    "heading_collapsed": true
   },
   "source": [
    "### Creating data frames"
   ]
  },
  {
   "cell_type": "code",
   "execution_count": null,
   "metadata": {
    "collapsed": true,
    "hidden": true,
    "scrolled": false
   },
   "outputs": [],
   "source": [
    "eigvec = open(\"/Users/dshipilina/GitHub/AfricanDivide/vanessa.fullSFS.noLD.eigenvec\").read()\n",
    "split_eig = eigvec.split('\\n')\n",
    "eigvec_array=[]\n",
    "#print(split_file2[2])\n",
    "for i in split_eig:\n",
    "    ii=i.split()\n",
    "    eigvec_array+=[ii]\n",
    "    \n",
    "#print(eigvec_array[2])\n",
    "    \n",
    "popid = open(\"/Users/dshipilina/GitHub/AfricanDivide/popmap1.txt\").read()\n",
    "split_popid = popid.split('\\n')\n",
    "#print(txt2)\n",
    "popID_array=[]\n",
    "#print(split_file2[2])\n",
    "for i in split_popid:\n",
    "    ii=i.split()\n",
    "    popID_array+=[ii]\n",
    "\n",
    "df = pd.DataFrame(eigvec_array) # , columns = [\"ScaffoldID\", \"N_BUSCOs\",\"BUSCOs_coverage\", ])\n",
    "#remove extra labels and extra PCs\n",
    "df =df.drop(df.columns[[0,11,12,13,14,15,16,17,18,19,20,21]], axis=1)\n",
    "#remove empty row\n",
    "df = df.drop(labels=[347], axis=0)\n",
    "#rename columns\n",
    "df.columns=[\"FullID\", \"PCA1\",\"PCA2\",\"PCA3\",\"PCA4\",\"PCA5\",\"PCA6\",\"PCA7\",\"PCA8\",\"PCA9\"]\n",
    "cols = [\"PCA1\",\"PCA2\",\"PCA3\",\"PCA4\",\"PCA5\",\"PCA6\",\"PCA7\",\"PCA8\",\"PCA9\"]\n",
    "df[cols] = df[cols].apply(pd.to_numeric, errors='coerce', axis=1)\n",
    "#df[\"PCA1\"] = pd.to_numeric(df[\"PCA1\"], downcast=\"float\")\n",
    "#df[\"PCA2\"] = pd.to_numeric(df[\"PCA2\"], downcast=\"float\")\n",
    "#df[\"PCA3\"] = pd.to_numeric(df[\"PCA3\"], downcast=\"float\")\n",
    "\n",
    "#splitting names\n",
    "#print(df[\"FullID\"])\n",
    "dftmp=df[\"FullID\"].str.split('_',expand=True)\n",
    "#print(dftmp)\n",
    "dftmp.columns=[\"Location\", \"SampleID\"]\n",
    "dftmp\n",
    "\n",
    "#getting population IDs\n",
    "dftmp2 = pd.DataFrame(popID_array)\n",
    "dftmp2.columns=[\"pop\",\"popID\"]\n",
    "dftmp2\n",
    "\n",
    "#combining table\n",
    "df = pd.concat([dftmp,dftmp2,df],axis=1)\n",
    "df = df.drop(labels=[347], axis=0)\n",
    "df"
   ]
  },
  {
   "cell_type": "markdown",
   "metadata": {},
   "source": [
    "### Plotting"
   ]
  },
  {
   "cell_type": "code",
   "execution_count": null,
   "metadata": {
    "collapsed": true,
    "scrolled": false
   },
   "outputs": [],
   "source": [
    "#print(df['loc'])\n",
    "eigval = open(\"/Users/dshipilina/GitHub/AfricanDivide/vanessa.fullSFS.noLD.eigenval\").read()\n",
    "split_eigval = eigval.split('\\n')\n",
    "#print(split_eigval[2])\n",
    "\n",
    "\n",
    "cardui = [\"#faab36\", \"#249ea0\", \"#fd5900\", \"#005f60\"]\n",
    "sns.set_palette(cardui)\n",
    "sns.palplot(sns.color_palette())\n",
    "plt.savefig(\"/Users/dshipilina/GitHub/AfricanDivide/PCA/color_scheme.png\",bbox_inches=\"tight\")\n",
    "plt.show()\n",
    "\n",
    "#ax = sns.violinplot(x=\"Contents\", y=\"Flavour\", data=rd, color=\"lol\", inner=\"box\")\n",
    "\n",
    "#df[\"alpha\"] = np.where(df['popID']==\"NHE\", 1.0, 0.05)\n",
    "#df\n",
    "\n",
    "#sns.scatterplot(x=df['PCA1'], y=df['PCA2'],hue=df['popID'],\n",
    "                    # data=df[df[\"alpha\"] == 0.05], alpha=0.4)\n",
    "#sns.scatterplot(x=df['PCA1'], y=df['PCA2'], hue=df['popID'],data=df[df[\"alpha\"] == 1.0], alpha=1.0)\n",
    "\n",
    "#plt.show()\n",
    "sns.scatterplot(x=df['PCA1'], y=df['PCA2'], hue=df['popID'], s=40,alpha=.8) #,alpha=0.4) #,kwargs={\"color\":\"darkred\",\"alpha\":0.3,\"s\":200})#,palette=\"dark\")\n",
    "sns.despine(offset=0, trim=False)\n",
    "plt.ylabel(\"PCA 2 (\"+ (split_eigval[1])+\"%)\")\n",
    "plt.xlabel(\"PCA 1 (\"+split_eigval[0]+\"%)\")\n",
    "ml.rcParams['figure.figsize'] = (7.0, 7.0)\n",
    "plt.legend(loc='best', bbox_to_anchor=(0.5, 0., 0.5, 0.5))\n",
    "plt.legend(frameon=False)\n",
    "plt.savefig(\"/Users/dshipilina/GitHub/AfricanDivide/PCA/PCA_fullSFS_noLD.pdf\",bbox_inches=\"tight\")\n",
    "plt.savefig(\"/Users/dshipilina/GitHub/AfricanDivide/PCA/PCA_fullSFS_noLD.png\",bbox_inches=\"tight\")\n",
    "plt.show()\n",
    "\n",
    "df[\"alpha\"] = np.where(df['popID']==\"NHE\", 0, 1)\n",
    "data=df[df[\"alpha\"] == 1]\n",
    "sns.scatterplot(x=data['PCA1'], y=data['PCA2'], hue=data['popID'])\n",
    "plt.ylabel(\"PCA 2 (\"+ (split_eigval[1])+\"%)\")\n",
    "plt.xlabel(\"PCA 1 (\"+split_eigval[0]+\"%)\")\n",
    "#sns.despine(offset=0, trim=True)\n",
    "plt.savefig(\"/Users/dshipilina/GitHub/AfricanDivide/PCA/PCA_fullSFS_noNHE.pdf\",bbox_inches=\"tight\")\n",
    "plt.savefig(\"/Users/dshipilina/GitHub/AfricanDivide/PCA/PCA_fullSFS_noNHE.png\",bbox_inches=\"tight\")\n",
    "plt.show()\n",
    "\n",
    "#df[\"alpha\"] = np.where(dfnor, 0, 1)\n",
    "data=df.loc[(df[\"popID\"] == \"SH\") | (df[\"popID\"] == \"SHEA\")]\n",
    "sns.scatterplot(x=data['PCA1'], y=data['PCA2'], hue=data['popID'], palette=\"YlOrBr\",alpha=.7,s=40)\n",
    "plt.ylabel(\"PCA 2 (\"+ (split_eigval[1])+\"%)\")\n",
    "plt.xlabel(\"PCA 1 (\"+split_eigval[0]+\"%)\")\n",
    "plt.show()\n",
    "data=df.loc[(df[\"popID\"] == \"SH\") | (df[\"popID\"] == \"SHEA\")]\n",
    "sns.scatterplot(x=data['PCA2'], y=data['PCA3'], hue=data['popID'], palette=\"YlOrBr\",alpha=.7,s=40)\n",
    "plt.ylabel(\"PCA 3 (\"+ (split_eigval[2])+\"%)\")\n",
    "plt.xlabel(\"PCA 2 (\"+split_eigval[1]+\"%)\")\n",
    "#sns.scatterplot(x=north['PCA1'], y=north['PCA2'], hue=north['popID'])\n",
    "#north"
   ]
  },
  {
   "cell_type": "code",
   "execution_count": null,
   "metadata": {
    "collapsed": true,
    "scrolled": false
   },
   "outputs": [],
   "source": [
    "#fig_dims = (6, 6)\n",
    "ml.rcParams['figure.figsize'] = (14.0, 7.0)\n",
    "fig, axs = plt.subplots(ncols=2)#,figsize=fig_dims)\n",
    "sns.scatterplot(x=data['PCA1'], y=data['PCA2'], hue=data['popID'], palette=\"YlOrBr\",alpha=.8,s=60, ax=axs[0])\n",
    "sns.scatterplot(x=data2['PCA2'], y=data2['PCA3'], hue=data2['popID'], palette=\"YlOrBr\",alpha=.8,s=60,ax=axs[1])\n",
    "#sns.boxplot(x='education',y='wage', data=df_melt, ax=axs[2])\n",
    "plt.savefig(\"/Users/dshipilina/GitHub/AfricanDivide/PCA/PCA_fullSFS_SouthPC123.pdf\",bbox_inches=\"tight\")\n",
    "plt.savefig(\"/Users/dshipilina/GitHub/AfricanDivide/PCA/PCA_fullSFS_SouthPC123.png\",bbox_inches=\"tight\")"
   ]
  },
  {
   "cell_type": "code",
   "execution_count": null,
   "metadata": {
    "collapsed": true,
    "scrolled": true
   },
   "outputs": [],
   "source": [
    "#fig_dims = (6, 6)\n",
    "#sns.set_palette(\"muted\")\n",
    " \n",
    "ml.rcParams['figure.figsize'] = (14.0, 7.0)\n",
    "fig, axs = plt.subplots(ncols=2)#,figsize=fig_dims)\n",
    "sns.scatterplot(x=data['PCA1'], y=data['PCA2'], hue=data['Location'],palette=\"tab10\",s=60, ax=axs[0])\n",
    "sns.scatterplot(x=data2['PCA2'], y=data2['PCA3'], hue=data2['Location'], palette=\"tab10\",s=60,ax=axs[1])\n",
    "#sns.boxplot(x='education',y='wage', data=df_melt, ax=axs[2])\n",
    "plt.savefig(\"/Users/dshipilina/GitHub/AfricanDivide/PCA/PCA_fullSFS_SouthLocs.pdf\",bbox_inches=\"tight\")\n",
    "plt.savefig(\"/Users/dshipilina/GitHub/AfricanDivide/PCA/PCA_fullSFS_SouthLocs.png\",bbox_inches=\"tight\")"
   ]
  },
  {
   "cell_type": "code",
   "execution_count": null,
   "metadata": {
    "collapsed": true,
    "scrolled": false
   },
   "outputs": [],
   "source": [
    "#fig_dims = (6, 6)\n",
    "data_north=df.loc[(df[\"popID\"] == \"NHE\") | (df[\"popID\"] == \"NHEA\")]\n",
    "\n",
    "ml.rcParams['figure.figsize'] = (14.0, 7.0)\n",
    "fig, axs = plt.subplots(ncols=2)#,figsize=fig_dims)\n",
    "sns.scatterplot(x=data_north['PCA1'], y=data_north['PCA2'], hue=data_north['popID'], palette=\"YlOrBr\",alpha=.8,s=60, ax=axs[0])\n",
    "sns.scatterplot(x=data_north['PCA2'], y=data_north['PCA3'], hue=data_north['popID'], palette=\"YlOrBr\",alpha=.8,s=60,ax=axs[1])\n",
    "#sns.boxplot(x='education',y='wage', data=df_melt, ax=axs[2])\n",
    "plt.savefig(\"/Users/dshipilina/GitHub/AfricanDivide/PCA/PCA_fullSFS_North.pdf\",bbox_inches=\"tight\")\n",
    "plt.savefig(\"/Users/dshipilina/GitHub/AfricanDivide/PCA/PCA_fullSFS_North.png\",bbox_inches=\"tight\") \n",
    "plt.show()\n",
    "    \n",
    "ml.rcParams['figure.figsize'] = (9.0, 9.0)\n",
    "#fig, axs = plt.subplots(ncols=2)#,figsize=fig_dims)\n",
    "#plt.legend(bbox_to_anchor=(0., 1.02, 1., .102), loc='lower left',\n",
    "         # ncol=5, mode=\"expand\", borderaxespad=0.4)\n",
    "sns.scatterplot(x=data_north['PCA1'], y=data_north['PCA2'], hue=data_north['Location'],palette=\"cubehelix\",s=30)\n",
    "plt.legend(bbox_to_anchor=(0., 1.02, 1., .102), loc='lower left', ncol=5, mode=\"expand\", borderaxespad=0.4)\n",
    "#plt.legend(loc='center left', bbox_to_anchor=(1, 0.5), ncol=2, mode=\"expand\", borderaxespad=0.4)\n",
    "#sns.scatterplot(x=data_north['PCA2'], y=data_north['PCA3'], hue=data_north['Location'], palette=\"tab10\",s=60,ax=axs[1])\n",
    "#plt.legend(loc='center left', bbox_to_anchor=(1, 0.5), ncol=2, mode=\"expand\", borderaxespad=0.4)\n",
    "#sns.boxplot(x='education',y='wage', data=df_melt, ax=axs[2])\n",
    "plt.savefig(\"/Users/dshipilina/GitHub/AfricanDivide/PCA/PCA_fullSFS_NorthLocs.pdf\",bbox_inches=\"tight\")\n",
    "plt.savefig(\"/Users/dshipilina/GitHub/AfricanDivide/PCA/PCA_fullSFS_NorthLocs.png\",bbox_inches=\"tight\")"
   ]
  },
  {
   "cell_type": "code",
   "execution_count": null,
   "metadata": {
    "collapsed": true,
    "scrolled": false
   },
   "outputs": [],
   "source": [
    "#data3=df.loc[(df[\"popID\"] == \"NHE\") | (df[\"popID\"] == \"NHEA\")]\n",
    "df.loc[df[\"PCA2\"] >= 0.2]\n",
    "#174 158 249\n",
    "df.loc[df[\"PCA2\"] <= -0.15]"
   ]
  },
  {
   "cell_type": "code",
   "execution_count": null,
   "metadata": {
    "collapsed": true,
    "scrolled": true
   },
   "outputs": [],
   "source": [
    "data = df.drop(labels=[174,158,249], axis=0)\n",
    "data_north=data.loc[(data[\"popID\"] == \"NHE\")]\n",
    "data_north\n",
    "\n",
    "ml.rcParams['figure.figsize'] = (9.0, 9.0)\n",
    "#fig, axs = plt.subplots(ncols=2)#,figsize=fig_dims)\n",
    "#plt.legend(bbox_to_anchor=(0., 1.02, 1., .102), loc='lower left',\n",
    "         # ncol=5, mode=\"expand\", borderaxespad=0.4)\n",
    "sns.scatterplot(x=data_north['PCA1'], y=data_north['PCA2'], hue=data_north['Location'],palette=\"icefire\",s=40)\n",
    "plt.legend(bbox_to_anchor=(0., 1.02, 1., .102), loc='lower left', ncol=5, mode=\"expand\", borderaxespad=0.4)\n",
    "#plt.legend(loc='center left', bbox_to_anchor=(1, 0.5), ncol=2, mode=\"expand\", borderaxespad=0.4)\n",
    "#sns.scatterplot(x=data_north['PCA2'], y=data_north['PCA3'], hue=data_north['Location'], palette=\"tab10\",s=60,ax=axs[1])\n",
    "#plt.legend(loc='center left', bbox_to_anchor=(1, 0.5), ncol=2, mode=\"expand\", borderaxespad=0.4)\n",
    "#sns.boxplot(x='education',y='wage', data=df_melt, ax=axs[2])\n",
    "plt.savefig(\"/Users/dshipilina/GitHub/AfricanDivide/PCA/PCA_fullSFS_NorthEzoom.pdf\",bbox_inches=\"tight\")\n",
    "plt.savefig(\"/Users/dshipilina/GitHub/AfricanDivide/PCA/PCA_fullSFS_NorthEzoom.png\",bbox_inches=\"tight\")"
   ]
  },
  {
   "cell_type": "markdown",
   "metadata": {
    "heading_collapsed": true
   },
   "source": [
    "## Dataset 2: Rare variants, no LD (Aurora)"
   ]
  },
  {
   "cell_type": "markdown",
   "metadata": {
    "hidden": true
   },
   "source": [
    "Here we briefly check population structure based on rare variants (MAF: 0.001-0.010, MAC: 1-4)"
   ]
  },
  {
   "cell_type": "markdown",
   "metadata": {
    "hidden": true
   },
   "source": [
    "### Creating data frames"
   ]
  },
  {
   "cell_type": "code",
   "execution_count": null,
   "metadata": {
    "collapsed": true,
    "hidden": true,
    "scrolled": false
   },
   "outputs": [],
   "source": [
    "eigvec = open(\"/Users/dshipilina/GitHub/AfricanDivide/PCA/vanessa.noLD.eigenvec\").read()\n",
    "#eigvec = open(\"/Users/dshipilina/GitHub/AfricanDivide/PCA/vanessa.fullSFS.eigenvec\").read()\n",
    "split_eig = eigvec.split('\\n')\n",
    "eigvec_array=[]\n",
    "#print(split_file2[2])\n",
    "for i in split_eig:\n",
    "    ii=i.split()\n",
    "    eigvec_array+=[ii]\n",
    "    \n",
    "#print(eigvec_array[2])\n",
    "    \n",
    "popid = open(\"/Users/dshipilina/GitHub/AfricanDivide/popmap1.txt\").read()\n",
    "split_popid = popid.split('\\n')\n",
    "#print(txt2)\n",
    "popID_array=[]\n",
    "#print(split_file2[2])\n",
    "for i in split_popid:\n",
    "    ii=i.split()\n",
    "    popID_array+=[ii]\n",
    "\n",
    "df = pd.DataFrame(eigvec_array) # , columns = [\"ScaffoldID\", \"N_BUSCOs\",\"BUSCOs_coverage\", ])\n",
    "#remove extra labels and extra PCs\n",
    "df =df.drop(df.columns[[0,11,12,13,14,15,16,17,18,19,20,21]], axis=1)\n",
    "#remove empty row\n",
    "df = df.drop(labels=[347], axis=0)\n",
    "#rename columns\n",
    "df.columns=[\"FullID\", \"PCA1\",\"PCA2\",\"PCA3\",\"PCA4\",\"PCA5\",\"PCA6\",\"PCA7\",\"PCA8\",\"PCA9\"]\n",
    "cols = [\"PCA1\",\"PCA2\",\"PCA3\",\"PCA4\",\"PCA5\",\"PCA6\",\"PCA7\",\"PCA8\",\"PCA9\"]\n",
    "df[cols] = df[cols].apply(pd.to_numeric, errors='coerce', axis=1)\n",
    "#df[\"PCA1\"] = pd.to_numeric(df[\"PCA1\"], downcast=\"float\")\n",
    "#df[\"PCA2\"] = pd.to_numeric(df[\"PCA2\"], downcast=\"float\")\n",
    "#df[\"PCA3\"] = pd.to_numeric(df[\"PCA3\"], downcast=\"float\")\n",
    "\n",
    "#splitting names\n",
    "#print(df[\"FullID\"])\n",
    "dftmp=df[\"FullID\"].str.split('_',expand=True)\n",
    "#print(dftmp)\n",
    "dftmp.columns=[\"Location\", \"SampleID\"]\n",
    "dftmp\n",
    "\n",
    "#getting population IDs\n",
    "dftmp2 = pd.DataFrame(popID_array)\n",
    "dftmp2.columns=[\"pop\",\"popID\"]\n",
    "dftmp2\n",
    "\n",
    "#combining table\n",
    "df = pd.concat([dftmp,dftmp2,df],axis=1)\n",
    "df = df.drop(labels=[347], axis=0)\n"
   ]
  },
  {
   "cell_type": "markdown",
   "metadata": {
    "hidden": true
   },
   "source": [
    "### Plotting"
   ]
  },
  {
   "cell_type": "code",
   "execution_count": null,
   "metadata": {
    "collapsed": true,
    "hidden": true,
    "scrolled": true
   },
   "outputs": [],
   "source": []
  },
  {
   "cell_type": "code",
   "execution_count": null,
   "metadata": {
    "collapsed": true,
    "hidden": true,
    "scrolled": true
   },
   "outputs": [],
   "source": [
    "flatui = [\"#faab36\", \"#249ea0\", \"#fd5900\", \"#005f60\"]\n",
    "sns.set_palette(flatui)\n",
    "sns.scatterplot(x=df['PCA1'], y=df['PCA2'], hue=df['popID'], s=40) #,alpha=0.4) #,kwargs={\"color\":\"darkred\",\"alpha\":0.3,\"s\":200})#,palette=\"dark\")\n",
    "sns.despine(offset=2, trim=True)\n",
    "plt.ylabel(\"PCA 2 (\"+ (split_eigval[1])+\"%)\")\n",
    "plt.xlabel(\"PCA 1 (\"+split_eigval[0]+\"%)\")\n",
    "ml.rcParams['figure.figsize'] = (7.0, 7.0)\n",
    "plt.legend(loc='best', bbox_to_anchor=(0.5, 0., 0.5, 0.5))\n",
    "plt.legend(frameon=False)\n",
    "plt.savefig(\"/Users/dshipilina/GitHub/AfricanDivide/PCA/PCA_rare_all.pdf\",bbox_inches=\"tight\")\n",
    "plt.savefig(\"/Users/dshipilina/GitHub/AfricanDivide/PCA/PCA_rare_all.png\",bbox_inches=\"tight\")\n",
    "plt.show()"
   ]
  },
  {
   "cell_type": "code",
   "execution_count": null,
   "metadata": {
    "collapsed": true,
    "hidden": true,
    "scrolled": false
   },
   "outputs": [],
   "source": [
    "eigvec = open(\"/Users/dshipilina/GitHub/AfricanDivide/PCA/vanessa.noLD.eigenvec\").read()\n",
    "split_eig = eigvec.split('\\n')\n",
    "eigvec_array=[]\n",
    "#print(split_file2[2])\n",
    "for i in split_eig:\n",
    "    ii=i.split()\n",
    "    eigvec_array+=[ii]\n",
    "    \n",
    "#print(eigvec_array[2])\n",
    "    \n",
    "popid = open(\"/Users/dshipilina/GitHub/AfricanDivide/popmap1.txt\").read()\n",
    "split_popid = popid.split('\\n')\n",
    "#print(txt2)\n",
    "popID_array=[]\n",
    "#print(split_file2[2])\n",
    "for i in split_popid:\n",
    "    ii=i.split()\n",
    "    popID_array+=[ii]\n",
    "\n",
    "df = pd.DataFrame(eigvec_array) # , columns = [\"ScaffoldID\", \"N_BUSCOs\",\"BUSCOs_coverage\", ])\n",
    "#remove extra labels and extra PCs\n",
    "df =df.drop(df.columns[[0,11,12,13,14,15,16,17,18,19,20,21]], axis=1)\n",
    "#remove empty row\n",
    "df = df.drop(labels=[347], axis=0)\n",
    "#rename columns\n",
    "df.columns=[\"FullID\", \"PCA1\",\"PCA2\",\"PCA3\",\"PCA4\",\"PCA5\",\"PCA6\",\"PCA7\",\"PCA8\",\"PCA9\"]\n",
    "df[\"PCA1\"] = pd.to_numeric(df[\"PCA1\"], downcast=\"float\")\n",
    "df[\"PCA2\"] = pd.to_numeric(df[\"PCA2\"], downcast=\"float\")\n",
    "df[\"PCA3\"] = pd.to_numeric(df[\"PCA3\"], downcast=\"float\")\n",
    "\n",
    "#splitting names\n",
    "#print(df[\"FullID\"])\n",
    "dftmp=df[\"FullID\"].str.split('_',expand=True)\n",
    "#print(dftmp)\n",
    "dftmp.columns=[\"Location\", \"SampleID\"]\n",
    "dftmp\n",
    "\n",
    "#getting population IDs\n",
    "dftmp2 = pd.DataFrame(popID_array)\n",
    "dftmp2.columns=[\"pop\",\"popID\"]\n",
    "#dftmp2 =dftmp2.drop(dftmp2.columns[0], axis=1)\n",
    "#dftmp2[\"hem\"] = dftmp2['popID'] \n",
    "#dftmp2=dftmp2[\"hem\"].str.split('H',expand=True)\n",
    "#dftmp2 =dftmp2.drop(dftmp2.columns[1], axis=1)\n",
    "#dftmp2.columns=[\"hem\"]\n",
    "dftmp2\n",
    "\n",
    "#combining table\n",
    "df = pd.concat([dftmp,dftmp2,df],axis=1)\n",
    "#remove outliers\n",
    "#df = df.drop(labels=[347,241,148], axis=0)\n",
    "df[0:50]"
   ]
  },
  {
   "cell_type": "code",
   "execution_count": null,
   "metadata": {
    "collapsed": true,
    "hidden": true,
    "scrolled": false
   },
   "outputs": [],
   "source": [
    "#print(df['loc'])\n",
    "#df = df.drop(labels=[241,148], axis=0)\n",
    "eigval = open(\"/Users/dshipilina/GitHub/AfricanDivide/PCA/vanessa.noLD.eigenval\").read()\n",
    "split_eigval = eigval.split('\\n')\n",
    "print(split_eigval[2])\n",
    "\n",
    "sns.scatterplot(x=df['PCA1'], y=df['PCA2'], hue=df['popID'])#,palette=\"dark\")\n",
    "#plt.plot(df['PCA1'], df['PCA2'],'o')#,palette=\"dark\")\n",
    "#sns.barplot(x=chroname, y=repcov) #, palette=\"deep\") #, ax=ax3)\n",
    "plt.ylabel(\"PCA 2 (\"+ (split_eigval[1])+\"%)\")\n",
    "plt.xlabel(\"PCA 1 (\"+split_eigval[0]+\"%)\")\n",
    "#plt.xticks(rotation=90)\n",
    "#plt.axis('off')\n",
    "#plt.xticks([0,100,200,300],[])\n",
    "#plt.xticks([0,100,200,300],[\"0\",\"100\",\"200\",\"300\"])\n",
    "#xtic=np.linspace(-0.075,0.015, num=4)\n",
    "#plt.xticks(xtic,[])\n",
    "#plt.xaxis.set_major_locator(plt.MaxNLocator(3))\n",
    "#plt.axis('equal')\n",
    "#plt.yticks([0,100,200,300],[])\n",
    "#plt.yticks()\n",
    "#plt.xaxis.set_tick_params(width=3)\n",
    "ml.rcParams['figure.figsize'] = (5.0, 5.0)\n",
    "#plt.legend(loc='center left') #mode=\"expand\") #loc='center left', bbox_to_anchor=(1, 0.5),\n",
    "           #ncol=2, mode=\"expand\", borderaxespad=0.4)\n",
    "plt.legend(loc='lower left')#, bbox_to_anchor=(0.5, 0., 0.5, 0.5))\n",
    "#plt.legend(bbox_to_anchor=(0., 1.0, 1., .102), loc='lower left') #,\n",
    "          #ncol=2, mode=\"expand\", borderaxespad=0.4)\n",
    "plt.rcParams['axes.spines.left'] = True\n",
    "plt.rcParams['axes.spines.right'] = False\n",
    "plt.rcParams['axes.spines.top'] = False\n",
    "plt.rcParams['axes.spines.bottom'] = True\n",
    "#plt.legend([])\n",
    "#plt.legend('',frameon=False)\n",
    "plt.savefig(\"/Users/dshipilina/GitHub/AfricanDivide/PCA/PCA_rare_noLD_outlremoved.pdf\",bbox_inches=\"tight\")\n",
    "plt.savefig(\"/Users/dshipilina/GitHub/AfricanDivide/PCA/PCA_rare_noLD_outlremoved.png\",bbox_inches=\"tight\")\n",
    "#plt.show()\n",
    "#print(np.linspace(-0.075,0.015, num=4))"
   ]
  },
  {
   "cell_type": "code",
   "execution_count": null,
   "metadata": {
    "collapsed": true,
    "hidden": true,
    "scrolled": true
   },
   "outputs": [],
   "source": [
    "#Check outliers\n",
    "\n",
    "#df['PCA1'].max()\n",
    "print(df['PCA1'].idxmin(axis = 0))\n",
    "print(df['PCA2'].idxmin(axis = 0))"
   ]
  },
  {
   "cell_type": "markdown",
   "metadata": {},
   "source": [
    "## Dataset 3"
   ]
  },
  {
   "cell_type": "code",
   "execution_count": null,
   "metadata": {
    "collapsed": true,
    "scrolled": false
   },
   "outputs": [],
   "source": [
    "eigvec = open(\"/Users/dshipilina/GitHub/AfricanDivide/vanessa.noMAF.noLD.eigenvec\").read()\n",
    "split_eig = eigvec.split('\\n')\n",
    "eigvec_array=[]\n",
    "#print(split_file2[2])\n",
    "for i in split_eig:\n",
    "    ii=i.split()\n",
    "    eigvec_array+=[ii]\n",
    "    \n",
    "#print(eigvec_array[2])\n",
    "    \n",
    "popid = open(\"/Users/dshipilina/GitHub/AfricanDivide/popmap1.txt\").read()\n",
    "split_popid = popid.split('\\n')\n",
    "#print(txt2)\n",
    "popID_array=[]\n",
    "#print(split_file2[2])\n",
    "for i in split_popid:\n",
    "    ii=i.split()\n",
    "    popID_array+=[ii]\n",
    "\n",
    "df = pd.DataFrame(eigvec_array) # , columns = [\"ScaffoldID\", \"N_BUSCOs\",\"BUSCOs_coverage\", ])\n",
    "#remove extra labels and extra PCs\n",
    "df =df.drop(df.columns[[0,11,12,13,14,15,16,17,18,19,20,21]], axis=1)\n",
    "#remove empty row\n",
    "df = df.drop(labels=[347], axis=0)\n",
    "#rename columns\n",
    "df.columns=[\"FullID\", \"PCA1\",\"PCA2\",\"PCA3\",\"PCA4\",\"PCA5\",\"PCA6\",\"PCA7\",\"PCA8\",\"PCA9\"]\n",
    "cols = [\"PCA1\",\"PCA2\",\"PCA3\",\"PCA4\",\"PCA5\",\"PCA6\",\"PCA7\",\"PCA8\",\"PCA9\"]\n",
    "df[cols] = df[cols].apply(pd.to_numeric, errors='coerce', axis=1)\n",
    "#df[\"PCA1\"] = pd.to_numeric(df[\"PCA1\"], downcast=\"float\")\n",
    "#df[\"PCA2\"] = pd.to_numeric(df[\"PCA2\"], downcast=\"float\")\n",
    "#df[\"PCA3\"] = pd.to_numeric(df[\"PCA3\"], downcast=\"float\")\n",
    "\n",
    "#splitting names\n",
    "#print(df[\"FullID\"])\n",
    "dftmp=df[\"FullID\"].str.split('_',expand=True)\n",
    "#print(dftmp)\n",
    "dftmp.columns=[\"Location\", \"SampleID\"]\n",
    "dftmp\n",
    "\n",
    "#getting population IDs\n",
    "dftmp2 = pd.DataFrame(popID_array)\n",
    "dftmp2.columns=[\"pop\",\"popID\"]\n",
    "dftmp2\n",
    "\n",
    "#combining table\n",
    "df = pd.concat([dftmp,dftmp2,df],axis=1)\n",
    "df = df.drop(labels=[347], axis=0)\n",
    "df"
   ]
  },
  {
   "cell_type": "code",
   "execution_count": null,
   "metadata": {
    "collapsed": true,
    "scrolled": true
   },
   "outputs": [],
   "source": [
    "#print(df['loc'])\n",
    "eigval = open(\"/Users/dshipilina/GitHub/AfricanDivide/vanessa.noMAF.noLD.eigenval\").read()\n",
    "split_eigval = eigval.split('\\n')\n",
    "#print(split_eigval[2])\n",
    "\n",
    "\n",
    "cardui = [\"#faab36\", \"#249ea0\", \"#fd5900\", \"#005f60\"]\n",
    "sns.set_palette(cardui)\n",
    "#sns.palplot(sns.color_palette())\n",
    "#plt.savefig(\"/Users/dshipilina/GitHub/AfricanDivide/PCA/color_scheme.png\",bbox_inches=\"tight\")\n",
    "plt.show()\n",
    "\n",
    "#ax = sns.violinplot(x=\"Contents\", y=\"Flavour\", data=rd, color=\"lol\", inner=\"box\")\n",
    "\n",
    "#df[\"alpha\"] = np.where(df['popID']==\"NHE\", 1.0, 0.05)\n",
    "#df\n",
    "\n",
    "#sns.scatterplot(x=df['PCA1'], y=df['PCA2'],hue=df['popID'],\n",
    "                    # data=df[df[\"alpha\"] == 0.05], alpha=0.4)\n",
    "#sns.scatterplot(x=df['PCA1'], y=df['PCA2'], hue=df['popID'],data=df[df[\"alpha\"] == 1.0], alpha=1.0)\n",
    "\n",
    "#plt.show()\n",
    "sns.scatterplot(x=df['PCA1'], y=df['PCA2'], color='grey')\n",
    "sns.scatterplot(xout, yout, color='orange', s=80)#, hue=df['popID'], s=20,alpha=.8) #,alpha=0.4) #,kwargs={\"color\":\"darkred\",\"alpha\":0.3,\"s\":200})#,palette=\"dark\")\n",
    "sns.despine(offset=0, trim=False)\n",
    "plt.ylabel(\"PCA 2 (\"+ (split_eigval[1])+\"%)\")\n",
    "plt.xlabel(\"PCA 1 (\"+split_eigval[0]+\"%)\")\n",
    "ml.rcParams['figure.figsize'] = (9.0, 9.0)\n",
    "plt.legend(loc='best', bbox_to_anchor=(0.5, 0., 0.5, 0.5))\n",
    "plt.legend(frameon=False)\n",
    "#plt.text(df['PCA1'],df['PCA2'],\"TOT\", color='red')\n",
    "plt.text(xout,yout,\"15D327\",size=16)#, color='red')\n",
    "#plt.savefig(\"/Users/dshipilina/GitHub/AfricanDivide/PCA/PCA_noMAF_noLD.pdf\",bbox_inches=\"tight\")\n",
    "#plt.savefig(\"/Users/dshipilina/GitHub/AfricanDivide/PCA/PCA_noMAF_noLD.png\",bbox_inches=\"tight\")\n",
    "plt.show()"
   ]
  },
  {
   "cell_type": "code",
   "execution_count": null,
   "metadata": {
    "collapsed": true,
    "scrolled": true
   },
   "outputs": [],
   "source": [
    "#dot labler\n",
    "xout=df['PCA1'][df[\"FullID\"]=='Namibia_15D327']\n",
    "yout=df['PCA2'][df[\"FullID\"]=='Namibia_15D327']"
   ]
  },
  {
   "cell_type": "markdown",
   "metadata": {},
   "source": [
    "# ADMIXTURE"
   ]
  },
  {
   "cell_type": "code",
   "execution_count": 1,
   "metadata": {
    "scrolled": true
   },
   "outputs": [
    {
     "ename": "FileNotFoundError",
     "evalue": "[Errno 2] No such file or directory: '/Users/dshipilina/GitHub/AfricanDivide/ADMIXTURE/cardui_migrdiv_indv_rarev_md25.2.Q'",
     "output_type": "error",
     "traceback": [
      "\u001b[0;31m---------------------------------------------------------------------------\u001b[0m",
      "\u001b[0;31mFileNotFoundError\u001b[0m                         Traceback (most recent call last)",
      "\u001b[0;32m<ipython-input-1-adcbb404a172>\u001b[0m in \u001b[0;36m<module>\u001b[0;34m\u001b[0m\n\u001b[0;32m----> 1\u001b[0;31m \u001b[0mnew\u001b[0m \u001b[0;34m=\u001b[0m \u001b[0mopen\u001b[0m\u001b[0;34m(\u001b[0m\u001b[0;34m\"/Users/dshipilina/GitHub/AfricanDivide/ADMIXTURE/cardui_migrdiv_indv_rarev_md25.2.Q\"\u001b[0m\u001b[0;34m)\u001b[0m\u001b[0;34m.\u001b[0m\u001b[0mread\u001b[0m\u001b[0;34m(\u001b[0m\u001b[0;34m)\u001b[0m\u001b[0;34m\u001b[0m\u001b[0;34m\u001b[0m\u001b[0m\n\u001b[0m\u001b[1;32m      2\u001b[0m \u001b[0msplit_\u001b[0m \u001b[0;34m=\u001b[0m \u001b[0mnew\u001b[0m\u001b[0;34m.\u001b[0m\u001b[0msplit\u001b[0m\u001b[0;34m(\u001b[0m\u001b[0;34m'\\n'\u001b[0m\u001b[0;34m)\u001b[0m\u001b[0;34m\u001b[0m\u001b[0;34m\u001b[0m\u001b[0m\n\u001b[1;32m      3\u001b[0m \u001b[0mprint\u001b[0m\u001b[0;34m(\u001b[0m\u001b[0msplit_\u001b[0m\u001b[0;34m[\u001b[0m\u001b[0;36m2\u001b[0m\u001b[0;34m]\u001b[0m\u001b[0;34m)\u001b[0m\u001b[0;34m\u001b[0m\u001b[0;34m\u001b[0m\u001b[0m\n\u001b[1;32m      4\u001b[0m \u001b[0meigve_array\u001b[0m\u001b[0;34m=\u001b[0m\u001b[0;34m[\u001b[0m\u001b[0;34m]\u001b[0m\u001b[0;34m\u001b[0m\u001b[0;34m\u001b[0m\u001b[0m\n\u001b[1;32m      5\u001b[0m \u001b[0;31m#print(split_file2[2])\u001b[0m\u001b[0;34m\u001b[0m\u001b[0;34m\u001b[0m\u001b[0;34m\u001b[0m\u001b[0m\n",
      "\u001b[0;31mFileNotFoundError\u001b[0m: [Errno 2] No such file or directory: '/Users/dshipilina/GitHub/AfricanDivide/ADMIXTURE/cardui_migrdiv_indv_rarev_md25.2.Q'"
     ]
    }
   ],
   "source": [
    "new = open(\"/Users/dshipilina/GitHub/AfricanDivide/ADMIXTURE/cardui_migrdiv_indv_rarev_md25.2.Q\").read()\n",
    "split_ = new.split('\\n')\n",
    "print(split_[2])\n",
    "eigve_array=[]\n",
    "#print(split_file2[2])\n",
    "for i in split_:\n",
    "    ii=i.split()\n",
    "    eigve_array+=[ii]\n",
    "\n",
    "df3=pd.DataFrame(eigve_array)\n",
    "df3.columns=['pop1','pop2']\n",
    "df3\n",
    "\n",
    "df4= pd.concat([df3,df],axis=1)\n",
    "#print(df4)\n",
    "df4[\"pop2\"] = pd.to_numeric(df4[\"pop2\"], downcast=\"float\")\n",
    "df4[\"pop1\"] = pd.to_numeric(df4[\"pop1\"], downcast=\"float\")\n",
    "#df4.sort_values(by=[\"pop2\"], inplace=True)\n",
    "df4 = df4.sort_values([\"popID\", \"pop1\",\"Location\"], ascending = (False, True,True))\n",
    "#print(df)\n",
    "df4 = df4.drop(labels=[347], axis=0)\n",
    "df4[100:150]"
   ]
  },
  {
   "cell_type": "code",
   "execution_count": null,
   "metadata": {
    "collapsed": true,
    "scrolled": true
   },
   "outputs": [],
   "source": [
    "ml.rcParams['figure.figsize'] = (32, 5)\n",
    "#index = range(len(df4[\"FullID\"]))\n",
    "plt.bar(df4[\"FullID\"],height=1)#,width=0.98)\n",
    "#plt.bar(df4[\"FullID\"],df4[\"pop1\"])#,width=0.98)\n",
    "#index = range(len(df4[\"FullID\"]))\n",
    "#plt.xticks(index, df4[\"FullID\"])  # set the X ticks and labels\n",
    "#sns.barplot(x=df4[\"FullID\"][0:50], y=np.ones(50), dodge=False) #,color='darkblue')#,edgecolor=\"darkblue\")\n",
    "sns.barplot(x=df4[\"FullID\"], y=df4[\"pop1\"], color='lightblue')\n",
    "plt.xticks(rotation=90)\n",
    "plt.tick_params(axis='x', labelsize=7)\n",
    "plt.rcParams['axes.spines.left'] = False\n",
    "plt.rcParams['axes.spines.right'] = True\n",
    "plt.rcParams['axes.spines.top'] = False\n",
    "plt.rcParams['axes.spines.bottom'] = True\n",
    "plt.xlabel(\"SHEA  SH   NHEA  NHE\")\n",
    "plt.ylabel(\"inferred allele frequences\")\n",
    "\n",
    "# show the graph\n",
    "#plt.savefig(\"/Users/dshipilina/GitHub/AfricanDivide/admixtureK2_v4.pdf\",bbox_inches=\"tight\")\n",
    "#plt.show"
   ]
  },
  {
   "cell_type": "code",
   "execution_count": null,
   "metadata": {
    "collapsed": true,
    "scrolled": true
   },
   "outputs": [],
   "source": [
    "sns.barplot(x=df3[\"\"], y=df4[\"pop1\"], color='lightblue')"
   ]
  },
  {
   "cell_type": "code",
   "execution_count": null,
   "metadata": {
    "collapsed": true,
    "scrolled": true
   },
   "outputs": [],
   "source": [
    "# new = open(\"/Users/dshipilina/GitHub/AfricanDivide/cardui_migrdiv_indv_rarev_md25.2.Q\").read()\n",
    "# split_ = new.split('\\n')\n",
    "# print(split_[2])\n",
    "# eigve_array=[]\n",
    "# #print(split_file2[2])\n",
    "# for i in split_:\n",
    "#     ii=i.split()\n",
    "#     eigve_array+=[ii]\n",
    "\n",
    "# df3=pd.DataFrame(eigve_array)\n",
    "# df3.columns=['pop1','pop2']\n",
    "# df3\n",
    "\n",
    "# df4= pd.concat([df3,df],axis=1)\n",
    "# #print(df4)\n",
    "# #df4[\"pop2\"] = pd.to_numeric(df4[\"pop2\"], downcast=\"float\")\n",
    "# df4[\"pop1\"] = pd.to_numeric(df4[\"pop1\"], downcast=\"float\")\n",
    "# #df4.sort_values(by=[\"pop2\"], inplace=True)\n",
    "# df4.sort_values([\"pop\", \"popID\"])#, ascending = (False, True))\n",
    "# #print(df)\n",
    "# #df4 = df4.drop(labels=[347], axis=0)\n",
    "# df4[167:190]"
   ]
  },
  {
   "cell_type": "code",
   "execution_count": null,
   "metadata": {
    "collapsed": true,
    "scrolled": true
   },
   "outputs": [],
   "source": [
    "# ml.rcParams['figure.figsize'] = (30, 5)\n",
    "# #index = range(len(df4[\"FullID\"]))\n",
    "# plt.bar(df5[\"FullID\"],height=1)#,width=0.98)\n",
    "# #plt.bar(df4[\"FullID\"],df4[\"pop1\"])#,width=0.98)\n",
    "# #index = range(len(df4[\"FullID\"]))\n",
    "# #plt.xticks(index, df4[\"FullID\"])  # set the X ticks and labels\n",
    "# #sns.barplot(x=df4[\"FullID\"][0:50], y=np.ones(50), dodge=False) #,color='darkblue')#,edgecolor=\"darkblue\")\n",
    "# sns.barplot(x=df5[\"FullID\"], y=df5[\"pop1\"], color='lightblue')\n",
    "# plt.xticks(rotation=90)\n",
    "# plt.tick_params(axis='x', labelsize=8)\n",
    "# plt.rcParams['axes.spines.left'] = False\n",
    "# #plt.rcParams['axes.spines.right'] = False\n",
    "# plt.rcParams['axes.spines.top'] = False\n",
    "# #plt.rcParams['axes.spines.bottom'] = False\n",
    "# plt.xlabel(\"\")\n",
    "# plt.ylabel(\"inferred allele frequences\")\n",
    "# index = range(len(df5[\"FullID\"]))\n",
    "# plt.xticks(index, df5[\"FullID\"])\n",
    "\n",
    "# # show the graph\n",
    "# plt.savefig(\"/Users/dshipilina/GitHub/AfricanDivide/admixtureK2_v5.pdf\",bbox_inches=\"tight\")\n",
    "# plt.show"
   ]
  },
  {
   "cell_type": "code",
   "execution_count": null,
   "metadata": {
    "collapsed": true,
    "scrolled": true
   },
   "outputs": [],
   "source": [
    "# new = open(\"/Users/dshipilina/GitHub/AfricanDivide/cardui_migrdiv_indv_rarev_md25.2.Q\").read()\n",
    "# split_ = new.split('\\n')\n",
    "# print(split_[2])\n",
    "# eigve_array=[]\n",
    "# #print(split_file2[2])\n",
    "# for i in split_:\n",
    "#     ii=i.split()\n",
    "#     eigve_array+=[ii]\n",
    "\n",
    "# df3=pd.DataFrame(eigve_array)\n",
    "# df3.columns=['pop1','pop2']\n",
    "# df3\n",
    "\n",
    "# df4= pd.concat([df3,df],axis=1)\n",
    "# print(df4)\n",
    "# df4[\"pop2\"] = pd.to_numeric(df4[\"pop2\"], downcast=\"float\")\n",
    "# df4[\"pop1\"] = pd.to_numeric(df4[\"pop1\"], downcast=\"float\")\n",
    "# df4.sort_values(by=[\"pop2\"], inplace=True)\n",
    "# print(df4)\n",
    "# #sns.axes_style(\"whitegrid\")\n",
    "# ml.rcParams['figure.figsize'] = (30, 5)\n",
    "# plt.bar(df4[\"FullID\"],height=1)#,width=0.98)\n",
    "# plt.bar(df4[\"FullID\"],df4[\"pop1\"])#,width=0.98)\n",
    "# index = range(len(df4[\"FullID\"]))\n",
    "# plt.xticks(index, df4[\"FullID\"])  # set the X ticks and labels\n",
    "# #bar1 = sns.barplot(x=df4[\"FullID\"][0:50], y=np.ones(50), dodge=False) #,color='darkblue')#,edgecolor=\"darkblue\")\n",
    "# #bar2 = sns.barplot(x=df4[\"FullID\"], y=df4[\"pop1\"], color='lightblue',edgecolor=\"none\")\n",
    "# plt.xticks(rotation=90)\n",
    "# plt.tick_params(axis='x', labelsize=6)\n",
    "# #plt.rcParams['axes.spines.left'] = False\n",
    "# plt.rcParams['axes.spines.right'] = False\n",
    "# #plt.rcParams['axes.spines.top'] = False\n",
    "# plt.rcParams['axes.spines.bottom'] = False\n",
    "\n",
    "# #plt.show()  \n",
    "\n",
    "# #plt.bar(df4[\"FullID\"],height=1)\n",
    "\n",
    "# #print(df4[\"pop1\"])\n",
    "# #tips = sns.load_dataset(\"tips\")\n",
    "# #tips\n",
    "                         \n",
    "\n",
    "# # bar chart 2 -> bottom bars (group of 'smoker=Yes')\n",
    "# #bar2 = sns.barplot(x=\"day\", y=\"total_bill\", data=smoker, color='lightblue')\n",
    "\n",
    "# # add legend\n",
    "# #top_bar = mpatches.Patch(color='darkblue', label='smoker = No')\n",
    "# #bottom_bar = mpatches.Patch(color='lightblue', label='smoker = Yes')\n",
    "# #plt.legend(handles=[top_bar, bottom_bar])\n",
    "\n",
    "# # show the graph\n",
    "# #plt.show()\n",
    "# plt.savefig(\"/Users/dshipilina/GitHub/AfricanDivide/admixtureK2_3.pdf\",bbox_inches=\"tight\")"
   ]
  }
 ],
 "metadata": {
  "kernelspec": {
   "display_name": "Python 3 (ipykernel)",
   "language": "python",
   "name": "python3"
  },
  "language_info": {
   "codemirror_mode": {
    "name": "ipython",
    "version": 3
   },
   "file_extension": ".py",
   "mimetype": "text/x-python",
   "name": "python",
   "nbconvert_exporter": "python",
   "pygments_lexer": "ipython3",
   "version": "3.9.6"
  },
  "latex_envs": {
   "LaTeX_envs_menu_present": true,
   "autoclose": false,
   "autocomplete": true,
   "bibliofile": "biblio.bib",
   "cite_by": "apalike",
   "current_citInitial": 1,
   "eqLabelWithNumbers": true,
   "eqNumInitial": 1,
   "hotkeys": {
    "equation": "Ctrl-E",
    "itemize": "Ctrl-I"
   },
   "labels_anchors": false,
   "latex_user_defs": false,
   "report_style_numbering": false,
   "user_envs_cfg": false
  },
  "toc": {
   "base_numbering": 1,
   "nav_menu": {
    "height": "395px",
    "width": "410px"
   },
   "number_sections": false,
   "sideBar": true,
   "skip_h1_title": false,
   "title_cell": "Table of Contents",
   "title_sidebar": "Contents",
   "toc_cell": false,
   "toc_position": {
    "height": "calc(100% - 180px)",
    "left": "10px",
    "top": "150px",
    "width": "389px"
   },
   "toc_section_display": true,
   "toc_window_display": true
  }
 },
 "nbformat": 4,
 "nbformat_minor": 2
}
