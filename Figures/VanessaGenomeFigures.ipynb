{
 "cells": [
  {
   "cell_type": "code",
   "execution_count": 8,
   "metadata": {
    "collapsed": true,
    "scrolled": true
   },
   "outputs": [],
   "source": [
    "import os\n",
    "import numpy as np\n",
    "import scipy\n",
    "from collections import Counter\n",
    "import sys\n",
    "from IPython.display import SVG\n",
    "import time\n",
    "import matplotlib.pyplot as plt\n",
    "import pandas as pd\n",
    "import seaborn as sns\n",
    "import itertools\n",
    "import matplotlib as ml\n",
    "import re"
   ]
  },
  {
   "cell_type": "code",
   "execution_count": 9,
   "metadata": {
    "collapsed": true,
    "scrolled": true
   },
   "outputs": [],
   "source": [
    "%matplotlib inline\n",
    "font = {'family' : 'Sans', 'weight' : 'normal','size': 16}\n",
    "ml.rc('font', **font)\n",
    "ml.rcParams['figure.figsize'] = (5.0, 5.0)\n",
    "ml.rcParams['text.usetex'] =False\n",
    "ml.rc('font', family='serif',size=12)"
   ]
  },
  {
   "cell_type": "markdown",
   "metadata": {},
   "source": [
    "# Functions"
   ]
  },
  {
   "cell_type": "markdown",
   "metadata": {},
   "source": [
    "#### Plotting BadiRate Results"
   ]
  },
  {
   "cell_type": "code",
   "execution_count": 40,
   "metadata": {},
   "outputs": [
    {
     "name": "stderr",
     "output_type": "stream",
     "text": [
      "/opt/anaconda3/lib/python3.8/site-packages/seaborn/_decorators.py:36: FutureWarning: Pass the following variables as keyword args: x, y. From version 0.12, the only valid positional argument will be `data`, and passing other arguments without an explicit keyword will result in an error or misinterpretation.\n",
      "  warnings.warn(\n"
     ]
    },
    {
     "data": {
      "image/png": "[encoded data removed]",
      "text/plain": [
       "<Figure size 864x360 with 1 Axes>"
      ]
     },
     "metadata": {
      "needs_background": "light"
     },
     "output_type": "display_data"
    }
   ],
   "source": [
    "#Reading the file\n",
    "\n",
    "#new = open(\"/Users/dshipilina/GitHub/GenomeVanessa/TopGO/BadiRate_summary.txt\").read()\n",
    "new = open(\"/Users/dariashipilina/Documents/GitHub/GenomeVanessa/TopGO/BadiRate_summary.txt\").read()\n",
    "split_ = new.split('\\n')\n",
    "#print(split_[2])\n",
    "eigve_array=[]\n",
    "#print(split_file2[2])\n",
    "for i in split_:\n",
    "    ii=i.split()\n",
    "    eigve_array+=[ii]\n",
    "\n",
    "df3=pd.DataFrame(eigve_array)\n",
    "df3.columns =[\"orthogroup\", \"N_genes\"]\n",
    "df3 = df3[:-1]\n",
    "#df3 = df3.apply(pd.to_numeric, errors='coerce')\n",
    "df3[\"N_genes\"] = pd.to_numeric(df3[\"N_genes\"], downcast=\"float\")\n",
    "df3\n",
    "\n",
    "\n",
    "#Setting up aspect ratio and axes\n",
    "\n",
    "ml.rcParams['figure.figsize'] = (12.0, 5.0)\n",
    "plt.xticks(rotation=90)\n",
    "plt.tick_params(axis='x', labelsize=7)\n",
    "plt.rcParams['axes.spines.left'] = True\n",
    "plt.rcParams['axes.spines.right'] = False\n",
    "plt.rcParams['axes.spines.top'] = False\n",
    "plt.rcParams['axes.spines.bottom'] = True\n",
    "plt.xlabel(\"Orthogroups\")\n",
    "plt.ylabel(\"Number of genes\")\n",
    "\n",
    "#Creating barplot\n",
    "\n",
    "#plt.bar(x,y) #,hue=df3[\"N_genes\"],palette=\"cool\")\n",
    "graph= sns.barplot(df3[\"orthogroup\"],df3[\"N_genes\"], color=\"#faab36\") #df3[\"N_genes\"])\n",
    "\n",
    "\n",
    "#Setting up differential transparency\n",
    "\n",
    "#df3[\"alpha\"] = np.where(df3['N_genes']<0, 1.0, 0.05)\n",
    "#sns.barplot(x=df3[\"orthogroup\"], y=df3[\"N_genes\"],data=df3[df3[\"alpha\"] == 0.05], color= \"#faab36\")\n",
    "#sns.barplot(x=df3[\"orthogroup\"], y=df3[\"N_genes\"],data=df3[df3[\"alpha\"] == 1.0], color= \"grey\")\n",
    "#sns.barplot(x=df3[\"orthogroup\"], y=df3[\"N_genes\"],data=df3[df3[\"alpha\"] == 1.0], alpha=1.0)\n",
    "#ax = sens.barplot(x=idx, y=values) # or use ax=your_axis_object\n",
    "\n",
    "for bar in graph.patches:\n",
    "    if bar.get_height() < 0:\n",
    "        bar.set_color('lightblue')    \n",
    "    else:\n",
    "        bar.set_color('orange')\n",
    "\n",
    "\n",
    "plt.xticks(rotation=90)\n",
    "plt.tick_params(axis='x', labelsize=7)\n",
    "plt.rcParams['axes.spines.left'] = True\n",
    "plt.rcParams['axes.spines.right'] = False\n",
    "plt.rcParams['axes.spines.top'] = False\n",
    "plt.rcParams['axes.spines.bottom'] = True\n",
    "plt.xlabel(\"Orthogroups\")\n",
    "plt.ylabel(\"Number of genes\")\n",
    "#Graph is created and stored in the variable 'graph'\n",
    "#graph = sns.barplot(x=\"sepal_width\",y=\"petal_width\",data=dataset)\n",
    "\n",
    "#Drawing a horizontal line at y=0\n",
    "#graph.axhline(0,linewidth=1,color=\"grey\") #,style=\"_\")\n",
    "\n",
    "#Saving the figure\n",
    "plt.savefig(\"/Users/dariashipilina/Documents/GitHub/GenomeVanessa/Figures/01_GOTerms/BadiRatestatsV2.pdf\",bbox_inches=\"tight\")\n",
    "plt.savefig(\"/Users/dariashipilina/Documents/GitHub/GenomeVanessa/Figures/01_GOTerms/BadiRatestatsV2.png\",bbox_inches=\"tight\")\n",
    "plt.show()\n"
   ]
  },
  {
   "cell_type": "markdown",
   "metadata": {},
   "source": [
    "#### Creating data frame for plotting window-based repeats"
   ]
  },
  {
   "cell_type": "code",
   "execution_count": null,
   "metadata": {
    "collapsed": true
   },
   "outputs": [],
   "source": [
    "def make_repeat_2_df(path):\n",
    "    new = open(path).read()\n",
    "    split_ = new.split('\\n')\n",
    "#print(split_[1])\n",
    "    eigve_array=[]\n",
    "#print(split_file2[2])\n",
    "    for i in split_:\n",
    "        #print(i)\n",
    "        ii=re.split('\\ |\\t',i)\n",
    "        #print(ii)\n",
    "        eigve_array+=[ii]\n",
    "\n",
    "    df4=pd.DataFrame(eigve_array[1:])\n",
    "    #df4 = df4[:]\n",
    "    df4.columns =[\"chrom\", \"begin\", \"end\", \"count_rpt\", \"length_rpt\", \"count_SINE\",\"length_SINE\", \"count_DNA\", \"length_DNA\", \"count_TcM\",\"length_TcM\",\"count_LINE\", \"length_LINE\", \"count_LTR\", \"length_LTR\", \"count_nonLTR\", \"length_nonLTR\"]\n",
    "    #df4 = df4.rename(columns=df4.iloc[0]).drop(df4.index[0])\n",
    "#df3 = df3.drop(labels=[171], axis=0)\n",
    "#df3.columns=['chrom','begin','end','repts']\n",
    "#df3 = df3.drop(labels=[171], axis=0)\n",
    "#df3[\"begin\"] = pd.to_numeric(df3[\"begin\"], downcast=\"float\")\n",
    "#df3[\"repts\"] = pd.to_numeric(df3[\"repts\"], downcast=\"float\")\n",
    "    df4 = df4[:-1]\n",
    "    df4 = df4[1:]\n",
    "#df3['count_SINE'].fillna(\"0\", inplace=True)\n",
    "    df4.loc[df4[\"length_SINE\"] == '','length_SINE'] = 0\n",
    "    df4.loc[df4[\"length_TcM\"] == '','length_TcM'] = 0\n",
    "    df4 = df4.apply(pd.to_numeric, errors='coerce')\n",
    "    df4['block_len']=df4[\"end\"]-df4[\"begin\"]\n",
    "    df4['per_length']=df4[\"length_rpt\"]/df4['block_len']*100\n",
    "    df4['per_nonLTR']=df4[\"length_nonLTR\"]/df4['block_len']*100\n",
    "    df4['per_LTRadd']=df4[\"length_LTR\"]/df4['block_len']*100\n",
    "    df4['per_DNAtransadd']=(df4[\"length_LTR\"]+df4[\"length_DNA\"])/df4['block_len']*100\n",
    "    df4['per_SINEadd']=(df4[\"length_LTR\"]+df4[\"length_DNA\"]+df4[\"length_SINE\"])/df4['block_len']*100\n",
    "    df4['per_LINEadd']=(df4[\"length_LTR\"]+df4[\"length_DNA\"]+df4[\"length_SINE\"]+df4[\"length_LINE\"])/df4['block_len']*100\n",
    "    #df4['SINEsum']=df4[\"length_SINE\"]+df4[\"DNAsum\"]\n",
    "    #df4['LINEsum']=df4[\"length_LINE\"]+df4[\"SINEsum\"]\n",
    "    \n",
    "    \n",
    "    #sns.barplot(x=df[\"begin\"], y=df[\"LINEsum\"] , color=\"purple\")\n",
    "    #sns.barplot(x=df[\"begin\"], y=df[\"SINEsum\"] , color=\"red\")\n",
    "    #sns.barplot(x=df[\"begin\"], y=df[\"DNAsum\"] , color=\"green\")\n",
    "    #sns.barplot(x=df[\"begin\"], y=df[\"length_LTR\"] , color=\"orange\")\n",
    "    #sns.barplot(x=df[\"begin\"], y=df[\"length_nonLTR\"] , color=\"blue\")\n",
    "    \n",
    "#df3.dtypes\n",
    "    return df4\n",
    "\n",
    "make_repeat_2_df(\"/Users/dshipilina/GitHub/GenomeVanessa/VanessaRepeat/LR999929.1-repeat.out\")"
   ]
  },
  {
   "cell_type": "code",
   "execution_count": null,
   "metadata": {
    "collapsed": true,
    "scrolled": true
   },
   "outputs": [],
   "source": [
    "def make_rep_df(path):\n",
    "    new = open(path).read()\n",
    "    split_ = new.split('\\n')\n",
    "#print(split_[1])\n",
    "    eigve_array=[]\n",
    "#print(split_file2[2])\n",
    "    for i in split_:\n",
    "    #print(i)\n",
    "        ii=re.split('\\ |\\t',i)\n",
    "    #print(ii)\n",
    "        eigve_array+=[ii]\n",
    "\n",
    "    df4=pd.DataFrame(eigve_array[1:])\n",
    "    #df4 = df4[:]\n",
    "    df4.columns =[\"chrom\", \"begin\", \"end\", \"count_rpt\", \"length_rpt\", \"count_SINE\",\"length_SINE\", \"count_DNA\", \"length_DNA\", \"count_TcM\",\"length_TcM\",\"count_LINE\", \"length_LINE\", \"count_LTR\", \"length_LTR\", \"count_nonLTR\", \"length_nonLTR\"]\n",
    "    #df4 = df4.rename(columns=df4.iloc[0]).drop(df4.index[0])\n",
    "#df3 = df3.drop(labels=[171], axis=0)\n",
    "#df3.columns=['chrom','begin','end','repts']\n",
    "#df3 = df3.drop(labels=[171], axis=0)\n",
    "#df3[\"begin\"] = pd.to_numeric(df3[\"begin\"], downcast=\"float\")\n",
    "#df3[\"repts\"] = pd.to_numeric(df3[\"repts\"], downcast=\"float\")\n",
    "    df4 = df4[:-1]\n",
    "    df4 = df4[1:]\n",
    "#df3['count_SINE'].fillna(\"0\", inplace=True)\n",
    "    df4.loc[df4[\"length_SINE\"] == '','length_SINE'] = 0\n",
    "    df4.loc[df4[\"length_TcM\"] == '','length_TcM'] = 0\n",
    "    df4 = df4.apply(pd.to_numeric, errors='coerce')\n",
    "    df4['block_len']=df4[\"end\"]-df4[\"begin\"]\n",
    "    df4['per_length']=df4[\"length_rpt\"]/df4['block_len']*100\n",
    "    df4['per_nonLTR']=df4[\"length_nonLTR\"]/df4['block_len']*100\n",
    "    df4['per_LTRadd']=df4[\"length_LTR\"]/df4['block_len']*100\n",
    "    df4['per_DNAtransadd']=(df4[\"length_LTR\"]+df4[\"length_DNA\"])/df4['block_len']*100\n",
    "    df4['per_SINEadd']=(df4[\"length_LTR\"]+df4[\"length_DNA\"]+df4[\"length_SINE\"])/df4['block_len']*100\n",
    "    df4['per_LINEadd']=(df4[\"length_LTR\"]+df4[\"length_DNA\"]+df4[\"length_SINE\"]+df4[\"length_LINE\"])/df4['block_len']*100\n",
    "    #df4['SINEsum']=df4[\"length_SINE\"]+df4[\"DNAsum\"]\n",
    "    #df4['LINEsum']=df4[\"length_LINE\"]+df4[\"SINEsum\"]\n",
    "    \n",
    "    \n",
    "    #sns.barplot(x=df[\"begin\"], y=df[\"LINEsum\"] , color=\"purple\")\n",
    "    #sns.barplot(x=df[\"begin\"], y=df[\"SINEsum\"] , color=\"red\")\n",
    "    #sns.barplot(x=df[\"begin\"], y=df[\"DNAsum\"] , color=\"green\")\n",
    "    #sns.barplot(x=df[\"begin\"], y=df[\"length_LTR\"] , color=\"orange\")\n",
    "    #sns.barplot(x=df[\"begin\"], y=df[\"length_nonLTR\"] , color=\"blue\")\n",
    "    \n",
    "#df3.dtypes\n",
    "    return df4"
   ]
  },
  {
   "cell_type": "markdown",
   "metadata": {},
   "source": [
    "#### Plot repeat stacked bars"
   ]
  },
  {
   "cell_type": "code",
   "execution_count": null,
   "metadata": {
    "collapsed": true,
    "scrolled": true
   },
   "outputs": [],
   "source": [
    "def plot_rep_stack_bar(df,mg_num,chrnum): \n",
    "    ml.rcParams['figure.figsize'] = (mg_num, 1.5)\n",
    "    sns.barplot(x=df[\"begin\"], y=df[\"per_length\"] , color=\"lightgrey\")\n",
    "    plt.tick_params(axis='x', labelsize=1)\n",
    "    plt.rcParams['axes.spines.left'] = True\n",
    "    plt.rcParams['axes.spines.right'] = False\n",
    "    plt.rcParams['axes.spines.top'] = False\n",
    "    plt.rcParams['axes.spines.bottom'] = True\n",
    "    plt.xlabel(\"Position along the chromosome\")\n",
    "    plt.ylabel(\"Number of repeats\")\n",
    "    #plt.savefig(\"/Users/dshipilina/GitHub/repeat_40.png\",bbox_inches=\"tight\")\n",
    "    sns.barplot(x=df[\"begin\"], y=df[\"per_LINEadd\"] , color=\"purple\")\n",
    "    sns.barplot(x=df[\"begin\"], y=df[\"per_SINEadd\"] , color=\"red\")\n",
    "    sns.barplot(x=df[\"begin\"], y=df[\"per_DNAtransadd\"] , color=\"green\")\n",
    "    sns.barplot(x=df[\"begin\"], y=df[\"per_LTRadd\"] , color=\"orange\")\n",
    "    sns.barplot(x=df[\"begin\"], y=df[\"per_nonLTR\"] , color=\"blue\")\n",
    "    \n",
    "    \n",
    "    #df4['%nonLTR']=df4[\"length_nonLTR\"]/df4['block_len']*100\n",
    "    #df4['%LTRadd']=df4[\"length_LTR\"]/df4['block_len']*100\n",
    "    #df4['%DNAtransadd']=(df4[\"length_LTR\"]+df4[\"length_DNA\"])/df4['block_len']*100\n",
    "    #df4['%SINEadd']=(df4[\"length_LTR\"]+df4[\"length_DNA\"]+df4[\"length_SINE\"])/df4['block_len']*100\n",
    "    #df4['%LINEadd']=(df4[\"length_LTR\"]+df4[\"length_DNA\"]+df4[\"length_SINE\"]+df4[\"length_LINE\"])/df4['block_len']*100\n",
    "   \n",
    "\n",
    "    plt.xlabel(\"Position along the chromosome (100kb windows)\")\n",
    "    \n",
    "    #plt.xlabel(\" \")\n",
    "    plt.ylabel(\"% repeats\")\n",
    "    ax = plt.gca()\n",
    "    ax.axes.xaxis.set_ticks([])\n",
    "    x_axis = ax.axes.get_xaxis()\n",
    "    x_axis.set_visible(False)\n",
    "    ax.set_ylim([0,80])\n",
    "    #ax.axes.yaxis.set_ticks([])\n",
    "    #y_axis = ax.axes.get_yaxis()\n",
    "    #y_axis.set_visible(False)\n",
    "    #print(\"Blue LTR, orange non LTR\")\n",
    "    plt.savefig(\"/Users/dshipilina/GitHub/GenomeVanessa/VanessaRepeat/repeat_\"+chrnum+\".pdf\",bbox_inches=\"tight\")\n",
    "    plt.show()"
   ]
  },
  {
   "cell_type": "markdown",
   "metadata": {},
   "source": [
    "#### Plotting window-based repeats"
   ]
  },
  {
   "cell_type": "code",
   "execution_count": null,
   "metadata": {
    "collapsed": true,
    "scrolled": true
   },
   "outputs": [],
   "source": [
    "new = open(\"/Users/dshipilina/GitHub/AfricanDivide/ChromLR24.repeat.out\").read()\n",
    "split_ = new.split('\\n')\n",
    "print(split_[2])\n",
    "eigve_array=[]\n",
    "#print(split_file2[2])\n",
    "for i in split_:\n",
    "    ii=i.split()\n",
    "    eigve_array+=[ii]\n",
    "\n",
    "df3=pd.DataFrame(eigve_array)\n",
    "df3.columns=['chrom','begin','end','repts']\n",
    "df3 = df3.drop(labels=[171], axis=0)\n",
    "df3[\"begin\"] = pd.to_numeric(df3[\"begin\"], downcast=\"float\")\n",
    "df3[\"repts\"] = pd.to_numeric(df3[\"repts\"], downcast=\"float\")\n",
    "df3\n",
    "\n",
    "#df4= pd.concat([df3,df],axis=1)\n",
    "#print(df4)\n",
    "#df4[\"pop2\"] = pd.to_numeric(df4[\"pop2\"], downcast=\"float\")\n",
    "#df4[\"pop1\"] = pd.to_numeric(df4[\"pop1\"], downcast=\"float\")\n",
    "#df4.sort_values(by=[\"pop2\"], inplace=True)\n",
    "#df4 = df4.sort_values([\"popID\", \"pop1\",\"Location\"], ascending = (False, True,True))\n",
    "#print(df)\n",
    "#df4 = df4.drop(labels=[347], axis=0)\n",
    "#df4[100:150]"
   ]
  },
  {
   "cell_type": "code",
   "execution_count": null,
   "metadata": {
    "collapsed": true,
    "scrolled": true
   },
   "outputs": [],
   "source": [
    "def make_repeat_df(path):    \n",
    "    new2 = open(path).read()\n",
    "    split_ = new2.split('\\n')\n",
    "    #print(split_[2])\n",
    "    eigve2_array=[]\n",
    "    #print(split_file2[2])\n",
    "    for i in split_:\n",
    "        ii=i.split()\n",
    "        eigve2_array+=[ii]\n",
    "\n",
    "    df=pd.DataFrame(eigve2_array)\n",
    "    df.columns=['chrom','begin','end','repts']\n",
    "    #df = df.drop(labels=[138], axis=0)\n",
    "    df[\"begin\"] = pd.to_numeric(df[\"begin\"], downcast=\"float\")\n",
    "    df[\"repts\"] = pd.to_numeric(df[\"repts\"], downcast=\"float\")\n",
    "    df = df[:-1]\n",
    "    return df"
   ]
  },
  {
   "cell_type": "code",
   "execution_count": null,
   "metadata": {
    "collapsed": true,
    "scrolled": true
   },
   "outputs": [],
   "source": [
    "df25=make_repeat_2_df(\"/Users/dshipilina/GitHub/GenomeVanessa/VanessaRepeat/LR999925.1-repeat.out\")\n",
    "df25"
   ]
  },
  {
   "cell_type": "code",
   "execution_count": null,
   "metadata": {
    "collapsed": true,
    "scrolled": true
   },
   "outputs": [],
   "source": [
    "import re\n",
    "new = open(\"/Users/dshipilina/GitHub/GenomeVanessa/VanessaRepeat/LR999925.1-repeat.out\").read()\n",
    "split_ = new.split('\\n')\n",
    "#print(split_[1])\n",
    "eigve_array=[]\n",
    "#print(split_file2[2])\n",
    "for i in split_:\n",
    "    #print(i)\n",
    "    ii=re.split('\\ |\\t',i)\n",
    "    #print(ii)\n",
    "    eigve_array+=[ii]\n",
    "\n",
    "df3=pd.DataFrame(eigve_array)\n",
    "df3 = df3.rename(columns=df3.iloc[0]).drop(df3.index[0])\n",
    "#df3 = df3.drop(labels=[171], axis=0)\n",
    "#df3.columns=['chrom','begin','end','repts']\n",
    "#df3 = df3.drop(labels=[171], axis=0)\n",
    "#df3[\"begin\"] = pd.to_numeric(df3[\"begin\"], downcast=\"float\")\n",
    "#df3[\"repts\"] = pd.to_numeric(df3[\"repts\"], downcast=\"float\")\n",
    "df3 = df3[:-1]\n",
    "#df3['count_SINE'].fillna(\"0\", inplace=True)\n",
    "df3.loc[df3[\"length_SINE\"] == '','length_SINE'] = 0\n",
    "df3.loc[df3[\"length_TcM\"] == '','length_TcM'] = 0\n",
    "df3 = df3.apply(pd.to_numeric, errors='coerce')\n",
    "df3['DNAsum']=df3[\"length_LTR\"]+df3[\"length_DNA\"]\n",
    "df3['SINEsum']=df3[\"length_SINE\"]+df3[\"DNAsum\"]\n",
    "df3['LINEsum']=df3[\"length_LINE\"]+df3[\"SINEsum\"]\n",
    "#df3.dtypes\n",
    "df3"
   ]
  },
  {
   "cell_type": "code",
   "execution_count": null,
   "metadata": {
    "collapsed": true,
    "scrolled": true
   },
   "outputs": [],
   "source": [
    "import re\n",
    "new = open(\"/Users/dshipilina/GitHub/GenomeVanessa/VanessaRepeat/LR999924_repeat.out\").read()\n",
    "split_ = new.split('\\n')\n",
    "#print(split_[1])\n",
    "eigve_array=[]\n",
    "#print(split_file2[2])\n",
    "for i in split_:\n",
    "    #print(i)\n",
    "    ii=re.split('\\ |\\t',i)\n",
    "    #print(ii)\n",
    "    eigve_array+=[ii]\n",
    "\n",
    "df4=pd.DataFrame(eigve_array)\n",
    "df4 = df4.rename(columns=df4.iloc[0]).drop(df4.index[0])\n",
    "#df3 = df3.drop(labels=[171], axis=0)\n",
    "#df3.columns=['chrom','begin','end','repts']\n",
    "#df3 = df3.drop(labels=[171], axis=0)\n",
    "#df3[\"begin\"] = pd.to_numeric(df3[\"begin\"], downcast=\"float\")\n",
    "#df3[\"repts\"] = pd.to_numeric(df3[\"repts\"], downcast=\"float\")\n",
    "df4 = df4[:-1]\n",
    "#df3['count_SINE'].fillna(\"0\", inplace=True)\n",
    "df4.loc[df4[\"length_SINE\"] == '','length_SINE'] = 0\n",
    "df4.loc[df4[\"length_TcM\"] == '','length_TcM'] = 0\n",
    "df4 = df4.apply(pd.to_numeric, errors='coerce')\n",
    "df4['DNAsum']=df4[\"length_LTR\"]+df4[\"length_DNA\"]\n",
    "df4['SINEsum']=df4[\"length_SINE\"]+df4[\"DNAsum\"]\n",
    "df4['LINEsum']=df4[\"length_LINE\"]+df4[\"SINEsum\"]\n",
    "#df3.dtypes\n",
    "df4"
   ]
  },
  {
   "cell_type": "code",
   "execution_count": null,
   "metadata": {
    "collapsed": true,
    "scrolled": true
   },
   "outputs": [],
   "source": [
    "#df3['DNAsum']=df3[\"length_LTR\"]+df3[\"length_DNA\"]\n",
    "#df3['SINEsum']=df3[\"length_SINE\"]+df3[\"DNAsum\"]\n",
    "df3['LINEsum']=df3[\"length_LINE\"]+df3[\"SINEsum\"]\n",
    "df3"
   ]
  },
  {
   "cell_type": "code",
   "execution_count": null,
   "metadata": {
    "collapsed": true,
    "scrolled": true
   },
   "outputs": [],
   "source": [
    "#x = np.arange(0, 10, 0.01)\n",
    "plt.subplot(2, 2, 1)\n",
    "plot_rep_stack_bar(make_rep_df(\"/Users/dshipilina/GitHub/GenomeVanessa/VanessaRepeat/LR999924_repeat.out\"),16.4)\n",
    "  \n",
    "plt.subplot(2, 2, 2)\n",
    "plot_rep_stack_bar(make_rep_df(\"/Users/dshipilina/GitHub/GenomeVanessa/VanessaRepeat/LR999925.1-repeat.out\"),16.4)\n",
    "\n",
    "plt.subplot(2, 2, 3)\n",
    "plot_rep_stack_bar(make_rep_df(\"/Users/dshipilina/GitHub/GenomeVanessa/VanessaRepeat/LR999926.1-repeat.out\"),16.4)\n",
    "\n",
    "plt.subplot(2, 2, 4)\n",
    "plot_rep_stack_bar(make_rep_df(\"/Users/dshipilina/GitHub/GenomeVanessa/VanessaRepeat/LR999927.1-repeat.out\"),16.4)\n",
    "\n",
    "#plt.subplot(2, 2, 5)\n",
    "#plot_rep_stack_bar(make_rep_df(\"/Users/dshipilina/GitHub/GenomeVanessa/VanessaRepeat/LR999928.1-repeat.out\"),16.4)\n",
    "\n",
    "'''\n",
    "plt.subplot(5, 2, 6)\n",
    "plot_rep_stack_bar(make_rep_df(\"/Users/dshipilina/GitHub/GenomeVanessa/VanessaRepeat/LR999929.1-repeat.out\"),16.4)\n",
    "\n",
    "plt.subplot(5, 2, 7)\n",
    "plot_rep_stack_bar(make_rep_df(\"/Users/dshipilina/GitHub/GenomeVanessa/VanessaRepeat/LR999930.1-repeat.out\"),16.4)\n",
    "\n",
    "plt.subplot(5, 2, 8)\n",
    "plot_rep_stack_bar(make_rep_df(\"/Users/dshipilina/GitHub/GenomeVanessa/VanessaRepeat/LR999931.1-repeat.out\"),16.4)\n",
    "\n",
    "plt.subplot(5, 2, 9)\n",
    "plot_rep_stack_bar(make_rep_df(\"/Users/dshipilina/GitHub/GenomeVanessa/VanessaRepeat/LR999932.1-repeat.out\"),16.4)\n",
    "\n",
    "plt.subplot(5, 2, 10)\n",
    "plot_rep_stack_bar(make_rep_df(\"/Users/dshipilina/GitHub/GenomeVanessa/VanessaRepeat/LR999933.1-repeat.out\"),16.4)\n",
    "  \n",
    "#plt.subplot(2, 2, 3)\n",
    "#plt.plot(x, x)\n",
    "  \n",
    "#plt.subplot(2, 2, 4)\n",
    "#plt.plot(x, 5-x)\n",
    "  \n",
    "plt.show()\n",
    "\n",
    "'''"
   ]
  },
  {
   "cell_type": "code",
   "execution_count": null,
   "metadata": {
    "collapsed": true
   },
   "outputs": [],
   "source": [
    "#fig, axs = plt.subplots(2, 2)\n",
    "#axs[0, 0]=plot_rep_stack_bar(make_rep_df(\"/Users/dshipilina/GitHub/GenomeVanessa/VanessaRepeat/LR999924_repeat.out\"),16.4)\n",
    "#axs[0, 0].set_title('Axis [0, 0]')\n",
    "#axs[0, 1]=plot_rep_stack_bar(make_rep_df(\"/Users/dshipilina/GitHub/GenomeVanessa/VanessaRepeat/LR999925.1-repeat.out\"),16.4)\n",
    "#axs[0, 1].set_title('Axis [0, 1]')\n",
    "#axs[1, 0]=plot_rep_stack_bar(make_rep_df(\"/Users/dshipilina/GitHub/GenomeVanessa/VanessaRepeat/LR999926.1-repeat.out\"),16.4)\n",
    "#axs[1, 0].set_title('Axis [1, 0]')\n",
    "#axs[1, 1]=plot_rep_stack_bar(make_rep_df(\"/Users/dshipilina/GitHub/GenomeVanessa/VanessaRepeat/LR999927.1-repeat.out\"),16.4)\n",
    "#axs[1, 1].set_title('Axis [1, 1]')\n",
    "\n",
    "fig, ((ax1, ax2), (ax3, ax4)) = plt.subplots(2, 2)\n",
    "fig.suptitle('Sharing x per column, y per row')\n",
    "ax1=plot_rep_stack_bar(make_rep_df(\"/Users/dshipilina/GitHub/GenomeVanessa/VanessaRepeat/LR999926.1-repeat.out\"),16.4)\n",
    "ax2=plot_rep_stack_bar(make_rep_df(\"/Users/dshipilina/GitHub/GenomeVanessa/VanessaRepeat/LR999926.1-repeat.out\"),16.4)\n",
    "#ax3=plot_rep_stack_bar(make_rep_df(\"/Users/dshipilina/GitHub/GenomeVanessa/VanessaRepeat/LR999926.1-repeat.out\"),16.4)\n",
    "#ax4=plot_rep_stack_bar(make_rep_df(\"/Users/dshipilina/GitHub/GenomeVanessa/VanessaRepeat/LR999926.1-repeat.out\"),16.4)"
   ]
  },
  {
   "cell_type": "code",
   "execution_count": null,
   "metadata": {
    "collapsed": true
   },
   "outputs": [],
   "source": [
    "x = np.linspace(0, 2 * np.pi, 400)\n",
    "y = np.sin(x ** 2)\n",
    "\n",
    "fig, axs = plt.subplots(2, 2)\n",
    "axs[0, 0].plot(x, y)\n",
    "axs[0, 0].set_title('Axis [0, 0]')\n",
    "axs[0, 1].plot(x, y, 'tab:orange')\n",
    "axs[0, 1].set_title('Axis [0, 1]')\n",
    "axs[1, 0].plot(x, -y, 'tab:green')\n",
    "axs[1, 0].set_title('Axis [1, 0]')\n",
    "axs[1, 1].plot(x, -y, 'tab:red')\n",
    "axs[1, 1].set_title('Axis [1, 1]')\n",
    "\n",
    "for ax in axs.flat:\n",
    "    ax.set(xlabel='x-label', ylabel='y-label')\n",
    "\n",
    "# Hide x labels and tick labels for top plots and y ticks for right plots.\n",
    "for ax in axs.flat:\n",
    "    ax.label_outer()"
   ]
  },
  {
   "cell_type": "code",
   "execution_count": null,
   "metadata": {
    "collapsed": true
   },
   "outputs": [],
   "source": [
    "make_rep_df(\"/Users/dshipilina/GitHub/GenomeVanessa/VanessaRepeat/LR999928.1-repeat.out\")\n",
    "plt.savefig(\"/Users/dshipilina/GitHub/LR999928.1-repeat.pdf\",bbox_inches=\"tight\")"
   ]
  },
  {
   "cell_type": "code",
   "execution_count": null,
   "metadata": {
    "collapsed": true,
    "scrolled": false
   },
   "outputs": [],
   "source": [
    "plot_rep_stack_bar(make_rep_df(\"/Users/dshipilina/GitHub/GenomeVanessa/VanessaRepeat/LR999924_repeat.out\"),17,\"24\")\n",
    "plot_rep_stack_bar(make_rep_df(\"/Users/dshipilina/GitHub/GenomeVanessa/VanessaRepeat/LR999925.1-repeat.out\"),16.6,\"25\")\n",
    "plot_rep_stack_bar(make_rep_df(\"/Users/dshipilina/GitHub/GenomeVanessa/VanessaRepeat/LR999926.1-repeat.out\"),16.3,\"26\")\n",
    "plot_rep_stack_bar(make_rep_df(\"/Users/dshipilina/GitHub/GenomeVanessa/VanessaRepeat/LR999927.1-repeat.out\"),16.1,\"27\")\n",
    "plot_rep_stack_bar(make_rep_df(\"/Users/dshipilina/GitHub/GenomeVanessa/VanessaRepeat/LR999928.1-repeat.out\"),16,\"28\")\n",
    "plot_rep_stack_bar(make_rep_df(\"/Users/dshipilina/GitHub/GenomeVanessa/VanessaRepeat/LR999929.1-repeat.out\"),15.9,\"29\")\n",
    "plot_rep_stack_bar(make_rep_df(\"/Users/dshipilina/GitHub/GenomeVanessa/VanessaRepeat/LR999930.1-repeat.out\"),15.7,\"30\")\n",
    "plot_rep_stack_bar(make_rep_df(\"/Users/dshipilina/GitHub/GenomeVanessa/VanessaRepeat/LR999931.1-repeat.out\"),15.5,\"31\")\n",
    "plot_rep_stack_bar(make_rep_df(\"/Users/dshipilina/GitHub/GenomeVanessa/VanessaRepeat/LR999932.1-repeat.out\"),15.4,\"32\")\n",
    "plot_rep_stack_bar(make_rep_df(\"/Users/dshipilina/GitHub/GenomeVanessa/VanessaRepeat/LR999933.1-repeat.out\"),14.9,\"33\")\n",
    "plot_rep_stack_bar(make_rep_df(\"/Users/dshipilina/GitHub/GenomeVanessa/VanessaRepeat/LR999934.1-repeat.out\"),14.8,\"34\")\n",
    "plot_rep_stack_bar(make_rep_df(\"/Users/dshipilina/GitHub/GenomeVanessa/VanessaRepeat/LR999935.1-repeat.out\"),14.8,\"35\")\n",
    "plot_rep_stack_bar(make_rep_df(\"/Users/dshipilina/GitHub/GenomeVanessa/VanessaRepeat/LR999936.1-repeat.out\"),14.6,\"36\")\n",
    "plot_rep_stack_bar(make_rep_df(\"/Users/dshipilina/GitHub/GenomeVanessa/VanessaRepeat/LR999937.1-repeat.out\"),13.9,\"37\")\n",
    "plot_rep_stack_bar(make_rep_df(\"/Users/dshipilina/GitHub/GenomeVanessa/VanessaRepeat/LR999938.1-repeat.out\"),13.8,\"38\")\n",
    "plot_rep_stack_bar(make_rep_df(\"/Users/dshipilina/GitHub/GenomeVanessa/VanessaRepeat/LR999939.1-repeat.out\"),13.7,\"39\")"
   ]
  },
  {
   "cell_type": "code",
   "execution_count": null,
   "metadata": {
    "collapsed": true
   },
   "outputs": [],
   "source": [
    "plot_rep_stack_bar(make_rep_df(\"/Users/dshipilina/GitHub/GenomeVanessa/VanessaRepeat/LR999940.1-repeat.out\"),13.8,\"40\")\n",
    "plot_rep_stack_bar(make_rep_df(\"/Users/dshipilina/GitHub/GenomeVanessa/VanessaRepeat/LR999941.1-repeat.out\"),13.7,\"41\")\n",
    "plot_rep_stack_bar(make_rep_df(\"/Users/dshipilina/GitHub/GenomeVanessa/VanessaRepeat/LR999942.1-repeat.out\"),13.5,\"42\")\n",
    "plot_rep_stack_bar(make_rep_df(\"/Users/dshipilina/GitHub/GenomeVanessa/VanessaRepeat/LR999943.1-repeat.out\"),13.2,\"43\")\n",
    "plot_rep_stack_bar(make_rep_df(\"/Users/dshipilina/GitHub/GenomeVanessa/VanessaRepeat/LR999944.1-repeat.out\"),12.9,\"44\")\n",
    "plot_rep_stack_bar(make_rep_df(\"/Users/dshipilina/GitHub/GenomeVanessa/VanessaRepeat/LR999945.1-repeat.out\"),12.8,\"45\")\n",
    "plot_rep_stack_bar(make_rep_df(\"/Users/dshipilina/GitHub/GenomeVanessa/VanessaRepeat/LR999946.1-repeat.out\"),12.6,\"46\")\n",
    "plot_rep_stack_bar(make_rep_df(\"/Users/dshipilina/GitHub/GenomeVanessa/VanessaRepeat/LR999947.1-repeat.out\"),11.7,\"47\")\n",
    "plot_rep_stack_bar(make_rep_df(\"/Users/dshipilina/GitHub/GenomeVanessa/VanessaRepeat/LR999948.1-repeat.out\"),11.3,\"48\")\n",
    "plot_rep_stack_bar(make_rep_df(\"/Users/dshipilina/GitHub/GenomeVanessa/VanessaRepeat/LR999949.1-repeat.out\"),11.2,\"49\")\n",
    "plot_rep_stack_bar(make_rep_df(\"/Users/dshipilina/GitHub/GenomeVanessa/VanessaRepeat/LR999950.1-repeat.out\"),9.9,\"50\")\n",
    "plot_rep_stack_bar(make_rep_df(\"/Users/dshipilina/GitHub/GenomeVanessa/VanessaRepeat/LR999951.1-repeat.out\"),9.8,\"51\")\n",
    "plot_rep_stack_bar(make_rep_df(\"/Users/dshipilina/GitHub/GenomeVanessa/VanessaRepeat/LR999952.1-repeat.out\"),8.2,\"52\")\n",
    "plot_rep_stack_bar(make_rep_df(\"/Users/dshipilina/GitHub/GenomeVanessa/VanessaRepeat/LR999953.1-repeat.out\"),8.2,\"53\")\n",
    "plot_rep_stack_bar(make_rep_df(\"/Users/dshipilina/GitHub/GenomeVanessa/VanessaRepeat/LR999954.1-repeat.out\"),7.4,\"54\")\n",
    "plot_rep_stack_bar(make_rep_df(\"/Users/dshipilina/GitHub/GenomeVanessa/VanessaRepeat/LR999955.1-repeat.out\"),6.2,\"55\")"
   ]
  },
  {
   "cell_type": "code",
   "execution_count": null,
   "metadata": {
    "collapsed": true
   },
   "outputs": [],
   "source": [
    "plot_repeats_stacked_bar(make_repeat_2_df(\"/Users/dshipilina/GitHub/GenomeVanessa/VanessaRepeat/LR999924_repeat.out\"),16)\n",
    "plot_repeats_stacked_bar(make_repeat_2_df(\"/Users/dshipilina/GitHub/GenomeVanessa/VanessaRepeat/LR999925.1-repeat.out\"),16)\n",
    "plot_repeats_stacked_bar(make_repeat_2_df(\"/Users/dshipilina/GitHub/GenomeVanessa/VanessaRepeat/LR999926.1-repeat.out\"),16)\n",
    "plot_repeats_stacked_bar(make_repeat_2_df(\"/Users/dshipilina/GitHub/GenomeVanessa/VanessaRepeat/LR999927.1-repeat.out\"),16)\n",
    "plot_repeats_stacked_bar(make_repeat_2_df(\"/Users/dshipilina/GitHub/GenomeVanessa/VanessaRepeat/LR999928.1-repeat.out\"),16)\n",
    "plot_repeats_stacked_bar(make_repeat_2_df(\"/Users/dshipilina/GitHub/GenomeVanessa/VanessaRepeat/LR999929.1-repeat.out\"),16)\n",
    "plot_repeats_stacked_bar(make_repeat_2_df(\"/Users/dshipilina/GitHub/GenomeVanessa/VanessaRepeat/LR999930.1-repeat.out\"),16)\n",
    "plot_repeats_stacked_bar(make_repeat_2_df(\"/Users/dshipilina/GitHub/GenomeVanessa/VanessaRepeat/LR999931.1-repeat.out\"),16)\n",
    "plot_repeats_stacked_bar(make_repeat_2_df(\"/Users/dshipilina/GitHub/GenomeVanessa/VanessaRepeat/LR999932.1-repeat.out\"),16)\n",
    "plot_repeats_stacked_bar(make_repeat_2_df(\"/Users/dshipilina/GitHub/GenomeVanessa/VanessaRepeat/LR999933.1-repeat.out\"),16)\n",
    "plot_repeats_stacked_bar(make_repeat_2_df(\"/Users/dshipilina/GitHub/GenomeVanessa/VanessaRepeat/LR999934.1-repeat.out\"),16)\n",
    "plot_repeats_stacked_bar(make_repeat_2_df(\"/Users/dshipilina/GitHub/GenomeVanessa/VanessaRepeat/LR999935.1-repeat.out\"),16)\n",
    "plot_repeats_stacked_bar(make_repeat_2_df(\"/Users/dshipilina/GitHub/GenomeVanessa/VanessaRepeat/LR999936.1-repeat.out\"),16)\n",
    "plot_repeats_stacked_bar(make_repeat_2_df(\"/Users/dshipilina/GitHub/GenomeVanessa/VanessaRepeat/LR999937.1-repeat.out\"),16)"
   ]
  },
  {
   "cell_type": "code",
   "execution_count": null,
   "metadata": {
    "collapsed": true,
    "scrolled": true
   },
   "outputs": [],
   "source": [
    "ml.rcParams['figure.figsize'] = (17, 3)\n",
    "sns.barplot(x=df3[\"begin\"], y=df3[\"length_rpt\"] , color=\"lightgrey\")\n",
    "#plt.xticks(rotation=90)\n",
    "plt.tick_params(axis='x', labelsize=1)\n",
    "plt.rcParams['axes.spines.left'] = True\n",
    "plt.rcParams['axes.spines.right'] = False\n",
    "plt.rcParams['axes.spines.top'] = False\n",
    "plt.rcParams['axes.spines.bottom'] = True\n",
    "plt.xlabel(\"Position along the chromosome\")\n",
    "plt.ylabel(\"Number of repeats\")\n",
    "#plt.savefig(\"/Users/dshipilina/GitHub/repeat_40.png\",bbox_inches=\"tight\")\n",
    "sns.barplot(x=df3[\"begin\"], y=df3[\"LINEsum\"] , color=\"purple\")\n",
    "sns.barplot(x=df3[\"begin\"], y=df3[\"SINEsum\"] , color=\"red\")\n",
    "sns.barplot(x=df3[\"begin\"], y=df3[\"DNAsum\"] , color=\"green\")\n",
    "#sns.barplot(x=df3[\"begin\"], y=df3[\"length_nonLTR\"] , color=\"blue\")\n",
    "sns.barplot(x=df3[\"begin\"], y=df3[\"length_LTR\"] , color=\"orange\")\n",
    "sns.barplot(x=df3[\"begin\"], y=df3[\"length_nonLTR\"] , color=\"blue\")\n",
    "\n",
    "plt.xlabel(\"Position along the chromosome (100kb windows)\")\n",
    "plt.ylabel(\"Total repeat length\")\n",
    "ax = plt.gca()\n",
    "ax.axes.xaxis.set_ticks([])\n",
    "#ax.axes.yaxis.set_ticks([])\n",
    "print(\"Blue LTR, orange non LTR\")\n",
    "plt.show()"
   ]
  },
  {
   "cell_type": "code",
   "execution_count": null,
   "metadata": {
    "collapsed": true,
    "scrolled": true
   },
   "outputs": [],
   "source": [
    "df3.dtypes"
   ]
  },
  {
   "cell_type": "markdown",
   "metadata": {
    "collapsed": true,
    "scrolled": true
   },
   "source": [
    "#### Duplicated Genes Chromosome Total"
   ]
  },
  {
   "cell_type": "code",
   "execution_count": null,
   "metadata": {
    "collapsed": true
   },
   "outputs": [],
   "source": [
    "'''\n",
    "import re\n",
    "new = open(\"/Users/dariashipilina/Documents/GitHub/GenomeVanessa/VanessaAnnotation/Gained_genes_per_chrom.tsv\").read()\n",
    "split_ = new.split('\\n')\n",
    "#print(split_[1])\n",
    "eigve_array=[]\n",
    "#print(split_file2[2])\n",
    "for i in split_:\n",
    "    #print(i)\n",
    "    ii=re.split('\\ |\\t',i)\n",
    "    #print(ii)\n",
    "    eigve_array+=[ii]\n",
    "    \n",
    "pd.read_csv('c:/~/trainSetRel3.txt', sep='\\t')\n",
    "'''"
   ]
  },
  {
   "cell_type": "code",
   "execution_count": 42,
   "metadata": {},
   "outputs": [
    {
     "data": {
      "text/html": [
       "<div>\n",
       "<style scoped>\n",
       "    .dataframe tbody tr th:only-of-type {\n",
       "        vertical-align: middle;\n",
       "    }\n",
       "\n",
       "    .dataframe tbody tr th {\n",
       "        vertical-align: top;\n",
       "    }\n",
       "\n",
       "    .dataframe thead th {\n",
       "        text-align: right;\n",
       "    }\n",
       "</style>\n",
       "<table border=\"1\" class=\"dataframe\">\n",
       "  <thead>\n",
       "    <tr style=\"text-align: right;\">\n",
       "      <th></th>\n",
       "      <th>chrom</th>\n",
       "      <th>duplic_genes</th>\n",
       "    </tr>\n",
       "  </thead>\n",
       "  <tbody>\n",
       "    <tr>\n",
       "      <th>0</th>\n",
       "      <td>LR999924.1</td>\n",
       "      <td>10</td>\n",
       "    </tr>\n",
       "    <tr>\n",
       "      <th>1</th>\n",
       "      <td>LR999925.1</td>\n",
       "      <td>27</td>\n",
       "    </tr>\n",
       "    <tr>\n",
       "      <th>2</th>\n",
       "      <td>LR999926.1</td>\n",
       "      <td>23</td>\n",
       "    </tr>\n",
       "    <tr>\n",
       "      <th>3</th>\n",
       "      <td>LR999927.1</td>\n",
       "      <td>48</td>\n",
       "    </tr>\n",
       "    <tr>\n",
       "      <th>4</th>\n",
       "      <td>LR999928.1</td>\n",
       "      <td>14</td>\n",
       "    </tr>\n",
       "    <tr>\n",
       "      <th>5</th>\n",
       "      <td>LR999929.1</td>\n",
       "      <td>19</td>\n",
       "    </tr>\n",
       "    <tr>\n",
       "      <th>6</th>\n",
       "      <td>LR999930.1</td>\n",
       "      <td>15</td>\n",
       "    </tr>\n",
       "    <tr>\n",
       "      <th>7</th>\n",
       "      <td>LR999931.1</td>\n",
       "      <td>8</td>\n",
       "    </tr>\n",
       "    <tr>\n",
       "      <th>8</th>\n",
       "      <td>LR999932.1</td>\n",
       "      <td>16</td>\n",
       "    </tr>\n",
       "    <tr>\n",
       "      <th>9</th>\n",
       "      <td>LR999933.1</td>\n",
       "      <td>13</td>\n",
       "    </tr>\n",
       "    <tr>\n",
       "      <th>10</th>\n",
       "      <td>LR999934.1</td>\n",
       "      <td>47</td>\n",
       "    </tr>\n",
       "    <tr>\n",
       "      <th>11</th>\n",
       "      <td>LR999935.1</td>\n",
       "      <td>10</td>\n",
       "    </tr>\n",
       "    <tr>\n",
       "      <th>12</th>\n",
       "      <td>LR999936.1</td>\n",
       "      <td>18</td>\n",
       "    </tr>\n",
       "    <tr>\n",
       "      <th>13</th>\n",
       "      <td>LR999937.1</td>\n",
       "      <td>17</td>\n",
       "    </tr>\n",
       "    <tr>\n",
       "      <th>14</th>\n",
       "      <td>LR999938.1</td>\n",
       "      <td>16</td>\n",
       "    </tr>\n",
       "    <tr>\n",
       "      <th>15</th>\n",
       "      <td>LR999939.1</td>\n",
       "      <td>10</td>\n",
       "    </tr>\n",
       "    <tr>\n",
       "      <th>16</th>\n",
       "      <td>LR999940.1</td>\n",
       "      <td>175</td>\n",
       "    </tr>\n",
       "    <tr>\n",
       "      <th>17</th>\n",
       "      <td>LR999941.1</td>\n",
       "      <td>18</td>\n",
       "    </tr>\n",
       "    <tr>\n",
       "      <th>18</th>\n",
       "      <td>LR999942.1</td>\n",
       "      <td>28</td>\n",
       "    </tr>\n",
       "    <tr>\n",
       "      <th>19</th>\n",
       "      <td>LR999943.1</td>\n",
       "      <td>12</td>\n",
       "    </tr>\n",
       "    <tr>\n",
       "      <th>20</th>\n",
       "      <td>LR999944.1</td>\n",
       "      <td>15</td>\n",
       "    </tr>\n",
       "    <tr>\n",
       "      <th>21</th>\n",
       "      <td>LR999945.1</td>\n",
       "      <td>19</td>\n",
       "    </tr>\n",
       "    <tr>\n",
       "      <th>22</th>\n",
       "      <td>LR999946.1</td>\n",
       "      <td>13</td>\n",
       "    </tr>\n",
       "    <tr>\n",
       "      <th>23</th>\n",
       "      <td>LR999947.1</td>\n",
       "      <td>44</td>\n",
       "    </tr>\n",
       "    <tr>\n",
       "      <th>24</th>\n",
       "      <td>LR999948.1</td>\n",
       "      <td>14</td>\n",
       "    </tr>\n",
       "    <tr>\n",
       "      <th>25</th>\n",
       "      <td>LR999949.1</td>\n",
       "      <td>19</td>\n",
       "    </tr>\n",
       "    <tr>\n",
       "      <th>26</th>\n",
       "      <td>LR999950.1</td>\n",
       "      <td>12</td>\n",
       "    </tr>\n",
       "    <tr>\n",
       "      <th>27</th>\n",
       "      <td>LR999951.1</td>\n",
       "      <td>14</td>\n",
       "    </tr>\n",
       "    <tr>\n",
       "      <th>28</th>\n",
       "      <td>LR999952.1</td>\n",
       "      <td>16</td>\n",
       "    </tr>\n",
       "    <tr>\n",
       "      <th>29</th>\n",
       "      <td>LR999953.1</td>\n",
       "      <td>28</td>\n",
       "    </tr>\n",
       "    <tr>\n",
       "      <th>30</th>\n",
       "      <td>LR999954.1</td>\n",
       "      <td>14</td>\n",
       "    </tr>\n",
       "    <tr>\n",
       "      <th>31</th>\n",
       "      <td>LR999955.1</td>\n",
       "      <td>6</td>\n",
       "    </tr>\n",
       "  </tbody>\n",
       "</table>\n",
       "</div>"
      ],
      "text/plain": [
       "         chrom  duplic_genes\n",
       "0   LR999924.1            10\n",
       "1   LR999925.1            27\n",
       "2   LR999926.1            23\n",
       "3   LR999927.1            48\n",
       "4   LR999928.1            14\n",
       "5   LR999929.1            19\n",
       "6   LR999930.1            15\n",
       "7   LR999931.1             8\n",
       "8   LR999932.1            16\n",
       "9   LR999933.1            13\n",
       "10  LR999934.1            47\n",
       "11  LR999935.1            10\n",
       "12  LR999936.1            18\n",
       "13  LR999937.1            17\n",
       "14  LR999938.1            16\n",
       "15  LR999939.1            10\n",
       "16  LR999940.1           175\n",
       "17  LR999941.1            18\n",
       "18  LR999942.1            28\n",
       "19  LR999943.1            12\n",
       "20  LR999944.1            15\n",
       "21  LR999945.1            19\n",
       "22  LR999946.1            13\n",
       "23  LR999947.1            44\n",
       "24  LR999948.1            14\n",
       "25  LR999949.1            19\n",
       "26  LR999950.1            12\n",
       "27  LR999951.1            14\n",
       "28  LR999952.1            16\n",
       "29  LR999953.1            28\n",
       "30  LR999954.1            14\n",
       "31  LR999955.1             6"
      ]
     },
     "execution_count": 42,
     "metadata": {},
     "output_type": "execute_result"
    }
   ],
   "source": [
    "dfr=pd.read_csv(\"/Users/dariashipilina/Documents/GitHub/GenomeVanessa/WindowBasedAnalysis/Gained_genes_per_chrom.tsv\", sep='\\t', header=0)\n",
    "dfr.columns =[\"chrom\", \"duplic_genes\"]\n",
    "dfr"
   ]
  },
  {
   "cell_type": "code",
   "execution_count": 44,
   "metadata": {},
   "outputs": [
    {
     "data": {
      "image/png": "[encoded data removed]",
      "text/plain": [
       "<Figure size 720x360 with 1 Axes>"
      ]
     },
     "metadata": {
      "needs_background": "light"
     },
     "output_type": "display_data"
    }
   ],
   "source": [
    "ml.rcParams['figure.figsize'] = (10, 5)\n",
    "sns.barplot(x=dfr[\"chrom\"], y=dfr[\"duplic_genes\"] , color=\"purple\")\n",
    "plt.xticks(rotation=90)\n",
    "plt.xlabel(\"Chromosomes\")\n",
    "plt.ylabel(\"Number of gained genes\")\n",
    "plt.tick_params(axis='x', labelsize=10)\n",
    "#plt.savefig(\"/Users/dariashipilina/Documents/GitHub/GenomeVanessa/WindowBasedAnalysis/gained_genes.pdf\",bbox_inches=\"tight\")\n",
    "#plt.savefig(\"/Users/dariashipilina/Documents/GitHub/GenomeVanessa/WindowBasedAnalysis/gained_genes.jpg\",bbox_inches=\"tight\")"
   ]
  },
  {
   "cell_type": "markdown",
   "metadata": {},
   "source": [
    "#### Window-based gains plot"
   ]
  },
  {
   "cell_type": "code",
   "execution_count": null,
   "metadata": {
    "collapsed": true
   },
   "outputs": [],
   "source": [
    "dfr=pd.read_csv(\"/Users/dariashipilina/Documents/GitHub/GenomeVanessa/VanessaAnnotation/LR999924.1_gains.tsv\", sep=\"\\t\")\n",
    "dfr.columns =[\"chrom\", \"begin\", \"end\", \"gained_genes\"]\n",
    "dfr"
   ]
  },
  {
   "cell_type": "code",
   "execution_count": null,
   "metadata": {
    "collapsed": true
   },
   "outputs": [],
   "source": [
    "import re\n",
    "new = open(\"/Users/dariashipilina/Documents/GitHub/GenomeVanessa/VanessaAnnotation/LR999925.1_gains.tsv\").read()\n",
    "split_ = new.split('\\n')\n",
    "#print(split_[1])\n",
    "eigve_array=[]\n",
    "#print(split_file2[2])\n",
    "for i in split_:\n",
    "    #print(i)\n",
    "    ii=i.split()\n",
    "    #print(ii)\n",
    "    eigve_array+=[ii]\n",
    "\n",
    "dfr=pd.DataFrame(eigve_array)\n",
    "#dfr = df4.rename(columns=df4.iloc[0]).drop(df4.index[0])\n",
    "#df3 = df3.drop(labels=[171], axis=0)\n",
    "dfr.columns=['chrom','begin','end','gains']\n",
    "#df3 = df3.drop(labels=[171], axis=0)\n",
    "#df3[\"begin\"] = pd.to_numeric(df3[\"begin\"], downcast=\"float\")\n",
    "#df3[\"repts\"] = pd.to_numeric(df3[\"repts\"], downcast=\"float\")\n",
    "#df4 = df4[:-1]\n",
    "#df3['count_SINE'].fillna(\"0\", inplace=True)\n",
    "#df4.loc[df4[\"length_SINE\"] == '','length_SINE'] = 0\n",
    "#df4.loc[df4[\"length_TcM\"] == '','length_TcM'] = 0\n",
    "dfr = dfr.apply(pd.to_numeric, errors='coerce')\n",
    "#df4['DNAsum']=df4[\"length_LTR\"]+df4[\"length_DNA\"]\n",
    "#df4['SINEsum']=df4[\"length_SINE\"]+df4[\"DNAsum\"]\n",
    "#df4['LINEsum']=df4[\"length_LINE\"]+df4[\"SINEsum\"]\n",
    "#df3.dtypes\n",
    "dfr"
   ]
  },
  {
   "cell_type": "code",
   "execution_count": null,
   "metadata": {
    "collapsed": true
   },
   "outputs": [],
   "source": [
    "\n",
    "    ml.rcParams['figure.figsize'] = (17, 1.5)\n",
    "    sns.barplot(x=dfr[\"begin\"], y=dfr[\"gains\"] , color=\"grey\")\n",
    "    plt.tick_params(axis='x', labelsize=1)\n",
    "    plt.rcParams['axes.spines.left'] = True\n",
    "    plt.rcParams['axes.spines.right'] = False\n",
    "    plt.rcParams['axes.spines.top'] = False\n",
    "    plt.rcParams['axes.spines.bottom'] = True\n",
    "    plt.xlabel(\"Position along the chromosome\")\n",
    "    plt.ylabel(\"N genes\")\n",
    "    #plt.savefig(\"/Users/dshipilina/GitHub/repeat_40.png\",bbox_inches=\"tight\")\n",
    "    #sns.barplot(x=df[\"begin\"], y=df[\"per_LINEadd\"] , color=\"purple\")\n",
    "    #sns.barplot(x=df[\"begin\"], y=df[\"per_SINEadd\"] , color=\"red\")\n",
    "    #sns.barplot(x=df[\"begin\"], y=df[\"per_DNAtransadd\"] , color=\"green\")\n",
    "    #sns.barplot(x=df[\"begin\"], y=df[\"per_LTRadd\"] , color=\"orange\")\n",
    "    #sns.barplot(x=df[\"begin\"], y=df[\"per_nonLTR\"] , color=\"blue\")\n",
    "    \n",
    "    \n",
    "    #df4['%nonLTR']=df4[\"length_nonLTR\"]/df4['block_len']*100\n",
    "    #df4['%LTRadd']=df4[\"length_LTR\"]/df4['block_len']*100\n",
    "    #df4['%DNAtransadd']=(df4[\"length_LTR\"]+df4[\"length_DNA\"])/df4['block_len']*100\n",
    "    #df4['%SINEadd']=(df4[\"length_LTR\"]+df4[\"length_DNA\"]+df4[\"length_SINE\"])/df4['block_len']*100\n",
    "    #df4['%LINEadd']=(df4[\"length_LTR\"]+df4[\"length_DNA\"]+df4[\"length_SINE\"]+df4[\"length_LINE\"])/df4['block_len']*100\n",
    "   \n",
    "\n",
    "    #plt.xlabel(\"Position along the chromosome (100kb windows)\")\n",
    "    \n",
    "    #plt.xlabel(\" \")\n",
    "    #plt.ylabel(\"% repeats\")\n",
    "    ax = plt.gca()\n",
    "    #ax.axes.xaxis.set_ticks([])\n",
    "    #x_axis = ax.axes.get_xaxis()\n",
    "    #x_axis.set_visible(False)\n",
    "    ax.set_ylim([0,10])\n",
    "    ax.invert_yaxis()\n",
    "    #ax.axes.yaxis.set_ticks([])\n",
    "    #y_axis = ax.axes.get_yaxis()\n",
    "    #y_axis.set_visible(False)\n",
    "    #print(\"Blue LTR, orange non LTR\")\n",
    "    plt.savefig(\"/Users/dariashipilina/Documents/GitHub/GenomeVanessa/VanessaAnnotation/repeat_25.jpg\",bbox_inches=\"tight\")\n",
    "    plt.show()"
   ]
  },
  {
   "cell_type": "code",
   "execution_count": null,
   "metadata": {
    "collapsed": true
   },
   "outputs": [],
   "source": [
    "new = open(\"/Users/dariashipilina/Documents/GitHub/GenomeVanessa/VanessaAnnotation/LR999924.1_gains.tsv\").read()\n",
    "split_ = new.split('\\n')\n",
    "#print(split_[1])\n",
    "eigve_array=[]\n",
    "#print(split_file2[2])\n",
    "for i in split_:\n",
    "    #print(i)\n",
    "    ii=i.split()\n",
    "    #print(ii)\n",
    "    eigve_array+=[ii]\n",
    "\n",
    "dfr=pd.DataFrame(eigve_array)\n",
    "#dfr = df4.rename(columns=df4.iloc[0]).drop(df4.index[0])\n",
    "#df3 = df3.drop(labels=[171], axis=0)\n",
    "dfr.columns=['chrom','begin','end','gains']\n",
    "#df3 = df3.drop(labels=[171], axis=0)\n",
    "#df3[\"begin\"] = pd.to_numeric(df3[\"begin\"], downcast=\"float\")\n",
    "#df3[\"repts\"] = pd.to_numeric(df3[\"repts\"], downcast=\"float\")\n",
    "#df4 = df4[:-1]\n",
    "#df3['count_SINE'].fillna(\"0\", inplace=True)\n",
    "#df4.loc[df4[\"length_SINE\"] == '','length_SINE'] = 0\n",
    "#df4.loc[df4[\"length_TcM\"] == '','length_TcM'] = 0\n",
    "dfr = dfr.apply(pd.to_numeric, errors='coerce')\n",
    "#df4['DNAsum']=df4[\"length_LTR\"]+df4[\"length_DNA\"]\n",
    "#df4['SINEsum']=df4[\"length_SINE\"]+df4[\"DNAsum\"]\n",
    "#df4['LINEsum']=df4[\"length_LINE\"]+df4[\"SINEsum\"]\n",
    "#df3.dtypes\n",
    "dfr"
   ]
  },
  {
   "cell_type": "code",
   "execution_count": null,
   "metadata": {
    "collapsed": true
   },
   "outputs": [],
   "source": [
    "ml.rcParams['figure.figsize'] = (17, 1.5)\n",
    "    sns.barplot(x=dfr[\"begin\"], y=dfr[\"gains\"] , color=\"lightgrey\")\n",
    "    plt.tick_params(axis='x', labelsize=1)\n",
    "    plt.rcParams['axes.spines.left'] = True\n",
    "    plt.rcParams['axes.spines.right'] = False\n",
    "    plt.rcParams['axes.spines.top'] = False\n",
    "    plt.rcParams['axes.spines.bottom'] = True\n",
    "    plt.xlabel(\"Position along the chromosome\")\n",
    "    plt.ylabel(\"N genes\")\n",
    "    #plt.savefig(\"/Users/dshipilina/GitHub/repeat_40.png\",bbox_inches=\"tight\")\n",
    "    #sns.barplot(x=df[\"begin\"], y=df[\"per_LINEadd\"] , color=\"purple\")\n",
    "    #sns.barplot(x=df[\"begin\"], y=df[\"per_SINEadd\"] , color=\"red\")\n",
    "    #sns.barplot(x=df[\"begin\"], y=df[\"per_DNAtransadd\"] , color=\"green\")\n",
    "    #sns.barplot(x=df[\"begin\"], y=df[\"per_LTRadd\"] , color=\"orange\")\n",
    "    #sns.barplot(x=df[\"begin\"], y=df[\"per_nonLTR\"] , color=\"blue\")\n",
    "    \n",
    "    \n",
    "    #df4['%nonLTR']=df4[\"length_nonLTR\"]/df4['block_len']*100\n",
    "    #df4['%LTRadd']=df4[\"length_LTR\"]/df4['block_len']*100\n",
    "    #df4['%DNAtransadd']=(df4[\"length_LTR\"]+df4[\"length_DNA\"])/df4['block_len']*100\n",
    "    #df4['%SINEadd']=(df4[\"length_LTR\"]+df4[\"length_DNA\"]+df4[\"length_SINE\"])/df4['block_len']*100\n",
    "    #df4['%LINEadd']=(df4[\"length_LTR\"]+df4[\"length_DNA\"]+df4[\"length_SINE\"]+df4[\"length_LINE\"])/df4['block_len']*100\n",
    "   \n",
    "\n",
    "    plt.xlabel(\"Position along the chromosome (100kb windows)\")\n",
    "    \n",
    "    #plt.xlabel(\" \")\n",
    "    #plt.ylabel(\"% repeats\")\n",
    "    ax = plt.gca()\n",
    "    #ax.axes.xaxis.set_ticks([])\n",
    "    #x_axis = ax.axes.get_xaxis()\n",
    "    #x_axis.set_visible(False)\n",
    "    ax.set_ylim([0,10])\n",
    "    #ax.axes.yaxis.set_ticks([])\n",
    "    #y_axis = ax.axes.get_yaxis()\n",
    "    #y_axis.set_visible(False)\n",
    "    #print(\"Blue LTR, orange non LTR\")\n",
    "    #plt.savefig(\"/Users/dshipilina/GitHub/GenomeVanessa/VanessaRepeat/repeat_\"+chrnum+\".pdf\",bbox_inches=\"tight\")\n",
    "    plt.show()"
   ]
  },
  {
   "cell_type": "code",
   "execution_count": null,
   "metadata": {
    "collapsed": true
   },
   "outputs": [],
   "source": [
    "ml.rcParams['figure.figsize'] = (10, 5)\n",
    "sns.barplot(x=dfr[\"chrom\"], y=dfr[\"duplic_genes\"] , color=\"purple\")\n",
    "plt.xticks(rotation=90)\n",
    "plt.xlabel(\"Chromosomes\")\n",
    "plt.ylabel(\"Number of gained genes\")\n",
    "plt.tick_params(axis='x', labelsize=10)\n",
    "plt.savefig(\"/Users/dariashipilina/Documents/GitHub/GenomeVanessa/VanessaAnnotation/gained_genes.pdf\",bbox_inches=\"tight\")\n",
    "plt.savefig(\"/Users/dariashipilina/Documents/GitHub/GenomeVanessa/VanessaAnnotation/gained_genes.jpg\",bbox_inches=\"tight\")"
   ]
  },
  {
   "cell_type": "markdown",
   "metadata": {},
   "source": [
    "## Orthogroup evolution"
   ]
  },
  {
   "cell_type": "code",
   "execution_count": 1,
   "metadata": {
    "collapsed": true
   },
   "outputs": [],
   "source": [
    "chrom = ['LR999924.1', 'LR999925.1', 'LR999925.1']"
   ]
  },
  {
   "cell_type": "code",
   "execution_count": 21,
   "metadata": {},
   "outputs": [
    {
     "data": {
      "text/plain": [
       "0    1\n",
       "1    0\n",
       "2    0\n",
       "Name: OG0000231, dtype: int64"
      ]
     },
     "execution_count": 21,
     "metadata": {},
     "output_type": "execute_result"
    }
   ],
   "source": [
    "#OG0000231\n",
    "OG1=(1,0,0)\n",
    "#OG0005756\n",
    "OG2=[2,0,1]\n",
    "#OG0000473\n",
    "OG3=[1,2,2]\n",
    "#OG0000072\n",
    "OG4=[1,2,5]\n",
    "\n",
    "# Calling DataFrame constructor after zipping\n",
    "# both lists, with columns specified\n",
    "df = pd.DataFrame(list(zip(OG1,OG2,OG3,OG4)),\n",
    "               columns =['OG0000231','OG0005756','OG0000473','OG0000072'])\n",
    "df['OG0000231']"
   ]
  },
  {
   "cell_type": "code",
   "execution_count": 36,
   "metadata": {},
   "outputs": [
    {
     "data": {
      "image/png": "[encoded data removed]",
      "text/plain": [
       "<matplotlib.figure.Figure at 0x124ae1e48>"
      ]
     },
     "metadata": {},
     "output_type": "display_data"
    }
   ],
   "source": [
    "#N = 3\n",
    "#menMeans = (20, 35, 30, 35, 27)\n",
    "#womenMeans = (25, 32, 34, 20, 25)\n",
    "#ind = np.arange(3) # the x locations for the groups\n",
    "labels = ['Chrom24', 'Chrom25', 'Chrom26']\n",
    "#OG0000231\n",
    "#OG1=[1,0,0]\n",
    "\n",
    "width = 0.8\n",
    "fig = plt.figure()\n",
    "ax = fig.add_axes([0,0,1,1])\n",
    "ax.bar(labels, OG1, width, color='r')\n",
    "ax.bar(labels, OG2, width,bottom=df['OG0000231'], color='b', orientation=u'vertical')\n",
    "ax.bar(labels, OG3, width,bottom=df['OG0005756'], color='g')\n",
    "ax.bar(labels, OG4, width,bottom=df['OG0000473'], color='y')\n",
    "ax.set_ylabel('Number of genes')#orientation=u'vertical'\n",
    "#ax.set_title('Scores by group and gender')\n",
    "#ax.set_xticks(ind, ('G1', 'G2', 'G3', 'G4', 'G5'))\n",
    "#ax.set_yticks(np.arange(0, 81, 10))\n",
    "ax.legend(labels=['OG1', 'OG2', 'OG3', 'OG4'])\n",
    "plt.show()"
   ]
  },
  {
   "cell_type": "code",
   "execution_count": 1,
   "metadata": {},
   "outputs": [
    {
     "name": "stderr",
     "output_type": "stream",
     "text": [
      "IOPub data rate exceeded.\n",
      "The notebook server will temporarily stop sending output\n",
      "to the client in order to avoid crashing it.\n",
      "To change this limit, set the config variable\n",
      "`--NotebookApp.iopub_data_rate_limit`.\n"
     ]
    },
    {
     "data": {
      "application/vnd.plotly.v1+json": {
       "config": {
        "plotlyServerURL": "https://plot.ly"
       },
       "data": [
        {
         "alignmentgroup": "True",
         "hovertemplate": "variable=gold<br>nation=%{x}<br>value=%{y}<extra></extra>",
         "legendgroup": "gold",
         "marker": {
          "color": "#636efa",
          "pattern": {
           "shape": ""
          }
         },
         "name": "gold",
         "offsetgroup": "gold",
         "orientation": "v",
         "showlegend": true,
         "textposition": "auto",
         "type": "bar",
         "x": [
          "South Korea",
          "China",
          "Canada"
         ],
         "xaxis": "x",
         "y": [
          24,
          10,
          9
         ],
         "yaxis": "y"
        },
        {
         "alignmentgroup": "True",
         "hovertemplate": "variable=silver<br>nation=%{x}<br>value=%{y}<extra></extra>",
         "legendgroup": "silver",
         "marker": {
          "color": "#EF553B",
          "pattern": {
           "shape": ""
          }
         },
         "name": "silver",
         "offsetgroup": "silver",
         "orientation": "v",
         "showlegend": true,
         "textposition": "auto",
         "type": "bar",
         "x": [
          "South Korea",
          "China",
          "Canada"
         ],
         "xaxis": "x",
         "y": [
          13,
          15,
          12
         ],
         "yaxis": "y"
        },
        {
         "alignmentgroup": "True",
         "hovertemplate": "variable=bronze<br>nation=%{x}<br>value=%{y}<extra></extra>",
         "legendgroup": "bronze",
         "marker": {
          "color": "#00cc96",
          "pattern": {
           "shape": ""
          }
         },
         "name": "bronze",
         "offsetgroup": "bronze",
         "orientation": "v",
         "showlegend": true,
         "textposition": "auto",
         "type": "bar",
         "x": [
          "South Korea",
          "China",
          "Canada"
         ],
         "xaxis": "x",
         "y": [
          11,
          8,
          12
         ],
         "yaxis": "y"
        }
       ],
       "layout": {
        "barmode": "relative",
        "legend": {
         "title": {
          "text": "variable"
         },
         "tracegroupgap": 0
        },
        "template": {
         "data": {
          "bar": [
           {
            "error_x": {
             "color": "#2a3f5f"
            },
            "error_y": {
             "color": "#2a3f5f"
            },
            "marker": {
             "line": {
              "color": "#E5ECF6",
              "width": 0.5
             },
             "pattern": {
              "fillmode": "overlay",
              "size": 10,
              "solidity": 0.2
             }
            },
            "type": "bar"
           }
          ],
          "barpolar": [
           {
            "marker": {
             "line": {
              "color": "#E5ECF6",
              "width": 0.5
             },
             "pattern": {
              "fillmode": "overlay",
              "size": 10,
              "solidity": 0.2
             }
            },
            "type": "barpolar"
           }
          ],
          "carpet": [
           {
            "aaxis": {
             "endlinecolor": "#2a3f5f",
             "gridcolor": "white",
             "linecolor": "white",
             "minorgridcolor": "white",
             "startlinecolor": "#2a3f5f"
            },
            "baxis": {
             "endlinecolor": "#2a3f5f",
             "gridcolor": "white",
             "linecolor": "white",
             "minorgridcolor": "white",
             "startlinecolor": "#2a3f5f"
            },
            "type": "carpet"
           }
          ],
          "choropleth": [
           {
            "colorbar": {
             "outlinewidth": 0,
             "ticks": ""
            },
            "type": "choropleth"
           }
          ],
          "contour": [
           {
            "colorbar": {
             "outlinewidth": 0,
             "ticks": ""
            },
            "colorscale": [
             [
              0,
              "#0d0887"
             ],
             [
              0.1111111111111111,
              "#46039f"
             ],
             [
              0.2222222222222222,
              "#7201a8"
             ],
             [
              0.3333333333333333,
              "#9c179e"
             ],
             [
              0.4444444444444444,
              "#bd3786"
             ],
             [
              0.5555555555555556,
              "#d8576b"
             ],
             [
              0.6666666666666666,
              "#ed7953"
             ],
             [
              0.7777777777777778,
              "#fb9f3a"
             ],
             [
              0.8888888888888888,
              "#fdca26"
             ],
             [
              1,
              "#f0f921"
             ]
            ],
            "type": "contour"
           }
          ],
          "contourcarpet": [
           {
            "colorbar": {
             "outlinewidth": 0,
             "ticks": ""
            },
            "type": "contourcarpet"
           }
          ],
          "heatmap": [
           {
            "colorbar": {
             "outlinewidth": 0,
             "ticks": ""
            },
            "colorscale": [
             [
              0,
              "#0d0887"
             ],
             [
              0.1111111111111111,
              "#46039f"
             ],
             [
              0.2222222222222222,
              "#7201a8"
             ],
             [
              0.3333333333333333,
              "#9c179e"
             ],
             [
              0.4444444444444444,
              "#bd3786"
             ],
             [
              0.5555555555555556,
              "#d8576b"
             ],
             [
              0.6666666666666666,
              "#ed7953"
             ],
             [
              0.7777777777777778,
              "#fb9f3a"
             ],
             [
              0.8888888888888888,
              "#fdca26"
             ],
             [
              1,
              "#f0f921"
             ]
            ],
            "type": "heatmap"
           }
          ],
          "heatmapgl": [
           {
            "colorbar": {
             "outlinewidth": 0,
             "ticks": ""
            },
            "colorscale": [
             [
              0,
              "#0d0887"
             ],
             [
              0.1111111111111111,
              "#46039f"
             ],
             [
              0.2222222222222222,
              "#7201a8"
             ],
             [
              0.3333333333333333,
              "#9c179e"
             ],
             [
              0.4444444444444444,
              "#bd3786"
             ],
             [
              0.5555555555555556,
              "#d8576b"
             ],
             [
              0.6666666666666666,
              "#ed7953"
             ],
             [
              0.7777777777777778,
              "#fb9f3a"
             ],
             [
              0.8888888888888888,
              "#fdca26"
             ],
             [
              1,
              "#f0f921"
             ]
            ],
            "type": "heatmapgl"
           }
          ],
          "histogram": [
           {
            "marker": {
             "pattern": {
              "fillmode": "overlay",
              "size": 10,
              "solidity": 0.2
             }
            },
            "type": "histogram"
           }
          ],
          "histogram2d": [
           {
            "colorbar": {
             "outlinewidth": 0,
             "ticks": ""
            },
            "colorscale": [
             [
              0,
              "#0d0887"
             ],
             [
              0.1111111111111111,
              "#46039f"
             ],
             [
              0.2222222222222222,
              "#7201a8"
             ],
             [
              0.3333333333333333,
              "#9c179e"
             ],
             [
              0.4444444444444444,
              "#bd3786"
             ],
             [
              0.5555555555555556,
              "#d8576b"
             ],
             [
              0.6666666666666666,
              "#ed7953"
             ],
             [
              0.7777777777777778,
              "#fb9f3a"
             ],
             [
              0.8888888888888888,
              "#fdca26"
             ],
             [
              1,
              "#f0f921"
             ]
            ],
            "type": "histogram2d"
           }
          ],
          "histogram2dcontour": [
           {
            "colorbar": {
             "outlinewidth": 0,
             "ticks": ""
            },
            "colorscale": [
             [
              0,
              "#0d0887"
             ],
             [
              0.1111111111111111,
              "#46039f"
             ],
             [
              0.2222222222222222,
              "#7201a8"
             ],
             [
              0.3333333333333333,
              "#9c179e"
             ],
             [
              0.4444444444444444,
              "#bd3786"
             ],
             [
              0.5555555555555556,
              "#d8576b"
             ],
             [
              0.6666666666666666,
              "#ed7953"
             ],
             [
              0.7777777777777778,
              "#fb9f3a"
             ],
             [
              0.8888888888888888,
              "#fdca26"
             ],
             [
              1,
              "#f0f921"
             ]
            ],
            "type": "histogram2dcontour"
           }
          ],
          "mesh3d": [
           {
            "colorbar": {
             "outlinewidth": 0,
             "ticks": ""
            },
            "type": "mesh3d"
           }
          ],
          "parcoords": [
           {
            "line": {
             "colorbar": {
              "outlinewidth": 0,
              "ticks": ""
             }
            },
            "type": "parcoords"
           }
          ],
          "pie": [
           {
            "automargin": true,
            "type": "pie"
           }
          ],
          "scatter": [
           {
            "marker": {
             "colorbar": {
              "outlinewidth": 0,
              "ticks": ""
             }
            },
            "type": "scatter"
           }
          ],
          "scatter3d": [
           {
            "line": {
             "colorbar": {
              "outlinewidth": 0,
              "ticks": ""
             }
            },
            "marker": {
             "colorbar": {
              "outlinewidth": 0,
              "ticks": ""
             }
            },
            "type": "scatter3d"
           }
          ],
          "scattercarpet": [
           {
            "marker": {
             "colorbar": {
              "outlinewidth": 0,
              "ticks": ""
             }
            },
            "type": "scattercarpet"
           }
          ],
          "scattergeo": [
           {
            "marker": {
             "colorbar": {
              "outlinewidth": 0,
              "ticks": ""
             }
            },
            "type": "scattergeo"
           }
          ],
          "scattergl": [
           {
            "marker": {
             "colorbar": {
              "outlinewidth": 0,
              "ticks": ""
             }
            },
            "type": "scattergl"
           }
          ],
          "scattermapbox": [
           {
            "marker": {
             "colorbar": {
              "outlinewidth": 0,
              "ticks": ""
             }
            },
            "type": "scattermapbox"
           }
          ],
          "scatterpolar": [
           {
            "marker": {
             "colorbar": {
              "outlinewidth": 0,
              "ticks": ""
             }
            },
            "type": "scatterpolar"
           }
          ],
          "scatterpolargl": [
           {
            "marker": {
             "colorbar": {
              "outlinewidth": 0,
              "ticks": ""
             }
            },
            "type": "scatterpolargl"
           }
          ],
          "scatterternary": [
           {
            "marker": {
             "colorbar": {
              "outlinewidth": 0,
              "ticks": ""
             }
            },
            "type": "scatterternary"
           }
          ],
          "surface": [
           {
            "colorbar": {
             "outlinewidth": 0,
             "ticks": ""
            },
            "colorscale": [
             [
              0,
              "#0d0887"
             ],
             [
              0.1111111111111111,
              "#46039f"
             ],
             [
              0.2222222222222222,
              "#7201a8"
             ],
             [
              0.3333333333333333,
              "#9c179e"
             ],
             [
              0.4444444444444444,
              "#bd3786"
             ],
             [
              0.5555555555555556,
              "#d8576b"
             ],
             [
              0.6666666666666666,
              "#ed7953"
             ],
             [
              0.7777777777777778,
              "#fb9f3a"
             ],
             [
              0.8888888888888888,
              "#fdca26"
             ],
             [
              1,
              "#f0f921"
             ]
            ],
            "type": "surface"
           }
          ],
          "table": [
           {
            "cells": {
             "fill": {
              "color": "#EBF0F8"
             },
             "line": {
              "color": "white"
             }
            },
            "header": {
             "fill": {
              "color": "#C8D4E3"
             },
             "line": {
              "color": "white"
             }
            },
            "type": "table"
           }
          ]
         },
         "layout": {
          "annotationdefaults": {
           "arrowcolor": "#2a3f5f",
           "arrowhead": 0,
           "arrowwidth": 1
          },
          "autotypenumbers": "strict",
          "coloraxis": {
           "colorbar": {
            "outlinewidth": 0,
            "ticks": ""
           }
          },
          "colorscale": {
           "diverging": [
            [
             0,
             "#8e0152"
            ],
            [
             0.1,
             "#c51b7d"
            ],
            [
             0.2,
             "#de77ae"
            ],
            [
             0.3,
             "#f1b6da"
            ],
            [
             0.4,
             "#fde0ef"
            ],
            [
             0.5,
             "#f7f7f7"
            ],
            [
             0.6,
             "#e6f5d0"
            ],
            [
             0.7,
             "#b8e186"
            ],
            [
             0.8,
             "#7fbc41"
            ],
            [
             0.9,
             "#4d9221"
            ],
            [
             1,
             "#276419"
            ]
           ],
           "sequential": [
            [
             0,
             "#0d0887"
            ],
            [
             0.1111111111111111,
             "#46039f"
            ],
            [
             0.2222222222222222,
             "#7201a8"
            ],
            [
             0.3333333333333333,
             "#9c179e"
            ],
            [
             0.4444444444444444,
             "#bd3786"
            ],
            [
             0.5555555555555556,
             "#d8576b"
            ],
            [
             0.6666666666666666,
             "#ed7953"
            ],
            [
             0.7777777777777778,
             "#fb9f3a"
            ],
            [
             0.8888888888888888,
             "#fdca26"
            ],
            [
             1,
             "#f0f921"
            ]
           ],
           "sequentialminus": [
            [
             0,
             "#0d0887"
            ],
            [
             0.1111111111111111,
             "#46039f"
            ],
            [
             0.2222222222222222,
             "#7201a8"
            ],
            [
             0.3333333333333333,
             "#9c179e"
            ],
            [
             0.4444444444444444,
             "#bd3786"
            ],
            [
             0.5555555555555556,
             "#d8576b"
            ],
            [
             0.6666666666666666,
             "#ed7953"
            ],
            [
             0.7777777777777778,
             "#fb9f3a"
            ],
            [
             0.8888888888888888,
             "#fdca26"
            ],
            [
             1,
             "#f0f921"
            ]
           ]
          },
          "colorway": [
           "#636efa",
           "#EF553B",
           "#00cc96",
           "#ab63fa",
           "#FFA15A",
           "#19d3f3",
           "#FF6692",
           "#B6E880",
           "#FF97FF",
           "#FECB52"
          ],
          "font": {
           "color": "#2a3f5f"
          },
          "geo": {
           "bgcolor": "white",
           "lakecolor": "white",
           "landcolor": "#E5ECF6",
           "showlakes": true,
           "showland": true,
           "subunitcolor": "white"
          },
          "hoverlabel": {
           "align": "left"
          },
          "hovermode": "closest",
          "mapbox": {
           "style": "light"
          },
          "paper_bgcolor": "white",
          "plot_bgcolor": "#E5ECF6",
          "polar": {
           "angularaxis": {
            "gridcolor": "white",
            "linecolor": "white",
            "ticks": ""
           },
           "bgcolor": "#E5ECF6",
           "radialaxis": {
            "gridcolor": "white",
            "linecolor": "white",
            "ticks": ""
           }
          },
          "scene": {
           "xaxis": {
            "backgroundcolor": "#E5ECF6",
            "gridcolor": "white",
            "gridwidth": 2,
            "linecolor": "white",
            "showbackground": true,
            "ticks": "",
            "zerolinecolor": "white"
           },
           "yaxis": {
            "backgroundcolor": "#E5ECF6",
            "gridcolor": "white",
            "gridwidth": 2,
            "linecolor": "white",
            "showbackground": true,
            "ticks": "",
            "zerolinecolor": "white"
           },
           "zaxis": {
            "backgroundcolor": "#E5ECF6",
            "gridcolor": "white",
            "gridwidth": 2,
            "linecolor": "white",
            "showbackground": true,
            "ticks": "",
            "zerolinecolor": "white"
           }
          },
          "shapedefaults": {
           "line": {
            "color": "#2a3f5f"
           }
          },
          "ternary": {
           "aaxis": {
            "gridcolor": "white",
            "linecolor": "white",
            "ticks": ""
           },
           "baxis": {
            "gridcolor": "white",
            "linecolor": "white",
            "ticks": ""
           },
           "bgcolor": "#E5ECF6",
           "caxis": {
            "gridcolor": "white",
            "linecolor": "white",
            "ticks": ""
           }
          },
          "title": {
           "x": 0.05
          },
          "xaxis": {
           "automargin": true,
           "gridcolor": "white",
           "linecolor": "white",
           "ticks": "",
           "title": {
            "standoff": 15
           },
           "zerolinecolor": "white",
           "zerolinewidth": 2
          },
          "yaxis": {
           "automargin": true,
           "gridcolor": "white",
           "linecolor": "white",
           "ticks": "",
           "title": {
            "standoff": 15
           },
           "zerolinecolor": "white",
           "zerolinewidth": 2
          }
         }
        },
        "title": {
         "text": "Wide-Form Input"
        },
        "xaxis": {
         "anchor": "y",
         "domain": [
          0,
          1
         ],
         "title": {
          "text": "nation"
         }
        },
        "yaxis": {
         "anchor": "x",
         "domain": [
          0,
          1
         ],
         "title": {
          "text": "value"
         }
        }
       }
      },
      "text/html": [
       "<div>                            <div id=\"7b452d17-c473-489e-8571-3f2be2c5df8b\" class=\"plotly-graph-div\" style=\"height:525px; width:100%;\"></div>            <script type=\"text/javascript\">                require([\"plotly\"], function(Plotly) {                    window.PLOTLYENV=window.PLOTLYENV || {};                                    if (document.getElementById(\"7b452d17-c473-489e-8571-3f2be2c5df8b\")) {                    Plotly.newPlot(                        \"7b452d17-c473-489e-8571-3f2be2c5df8b\",                        [{\"alignmentgroup\":\"True\",\"hovertemplate\":\"variable=gold<br>nation=%{x}<br>value=%{y}<extra></extra>\",\"legendgroup\":\"gold\",\"marker\":{\"color\":\"#636efa\",\"pattern\":{\"shape\":\"\"}},\"name\":\"gold\",\"offsetgroup\":\"gold\",\"orientation\":\"v\",\"showlegend\":true,\"textposition\":\"auto\",\"type\":\"bar\",\"x\":[\"South Korea\",\"China\",\"Canada\"],\"xaxis\":\"x\",\"y\":[24,10,9],\"yaxis\":\"y\"},{\"alignmentgroup\":\"True\",\"hovertemplate\":\"variable=silver<br>nation=%{x}<br>value=%{y}<extra></extra>\",\"legendgroup\":\"silver\",\"marker\":{\"color\":\"#EF553B\",\"pattern\":{\"shape\":\"\"}},\"name\":\"silver\",\"offsetgroup\":\"silver\",\"orientation\":\"v\",\"showlegend\":true,\"textposition\":\"auto\",\"type\":\"bar\",\"x\":[\"South Korea\",\"China\",\"Canada\"],\"xaxis\":\"x\",\"y\":[13,15,12],\"yaxis\":\"y\"},{\"alignmentgroup\":\"True\",\"hovertemplate\":\"variable=bronze<br>nation=%{x}<br>value=%{y}<extra></extra>\",\"legendgroup\":\"bronze\",\"marker\":{\"color\":\"#00cc96\",\"pattern\":{\"shape\":\"\"}},\"name\":\"bronze\",\"offsetgroup\":\"bronze\",\"orientation\":\"v\",\"showlegend\":true,\"textposition\":\"auto\",\"type\":\"bar\",\"x\":[\"South Korea\",\"China\",\"Canada\"],\"xaxis\":\"x\",\"y\":[11,8,12],\"yaxis\":\"y\"}],                        {\"barmode\":\"relative\",\"legend\":{\"title\":{\"text\":\"variable\"},\"tracegroupgap\":0},\"template\":{\"data\":{\"bar\":[{\"error_x\":{\"color\":\"#2a3f5f\"},\"error_y\":{\"color\":\"#2a3f5f\"},\"marker\":{\"line\":{\"color\":\"#E5ECF6\",\"width\":0.5},\"pattern\":{\"fillmode\":\"overlay\",\"size\":10,\"solidity\":0.2}},\"type\":\"bar\"}],\"barpolar\":[{\"marker\":{\"line\":{\"color\":\"#E5ECF6\",\"width\":0.5},\"pattern\":{\"fillmode\":\"overlay\",\"size\":10,\"solidity\":0.2}},\"type\":\"barpolar\"}],\"carpet\":[{\"aaxis\":{\"endlinecolor\":\"#2a3f5f\",\"gridcolor\":\"white\",\"linecolor\":\"white\",\"minorgridcolor\":\"white\",\"startlinecolor\":\"#2a3f5f\"},\"baxis\":{\"endlinecolor\":\"#2a3f5f\",\"gridcolor\":\"white\",\"linecolor\":\"white\",\"minorgridcolor\":\"white\",\"startlinecolor\":\"#2a3f5f\"},\"type\":\"carpet\"}],\"choropleth\":[{\"colorbar\":{\"outlinewidth\":0,\"ticks\":\"\"},\"type\":\"choropleth\"}],\"contour\":[{\"colorbar\":{\"outlinewidth\":0,\"ticks\":\"\"},\"colorscale\":[[0.0,\"#0d0887\"],[0.1111111111111111,\"#46039f\"],[0.2222222222222222,\"#7201a8\"],[0.3333333333333333,\"#9c179e\"],[0.4444444444444444,\"#bd3786\"],[0.5555555555555556,\"#d8576b\"],[0.6666666666666666,\"#ed7953\"],[0.7777777777777778,\"#fb9f3a\"],[0.8888888888888888,\"#fdca26\"],[1.0,\"#f0f921\"]],\"type\":\"contour\"}],\"contourcarpet\":[{\"colorbar\":{\"outlinewidth\":0,\"ticks\":\"\"},\"type\":\"contourcarpet\"}],\"heatmap\":[{\"colorbar\":{\"outlinewidth\":0,\"ticks\":\"\"},\"colorscale\":[[0.0,\"#0d0887\"],[0.1111111111111111,\"#46039f\"],[0.2222222222222222,\"#7201a8\"],[0.3333333333333333,\"#9c179e\"],[0.4444444444444444,\"#bd3786\"],[0.5555555555555556,\"#d8576b\"],[0.6666666666666666,\"#ed7953\"],[0.7777777777777778,\"#fb9f3a\"],[0.8888888888888888,\"#fdca26\"],[1.0,\"#f0f921\"]],\"type\":\"heatmap\"}],\"heatmapgl\":[{\"colorbar\":{\"outlinewidth\":0,\"ticks\":\"\"},\"colorscale\":[[0.0,\"#0d0887\"],[0.1111111111111111,\"#46039f\"],[0.2222222222222222,\"#7201a8\"],[0.3333333333333333,\"#9c179e\"],[0.4444444444444444,\"#bd3786\"],[0.5555555555555556,\"#d8576b\"],[0.6666666666666666,\"#ed7953\"],[0.7777777777777778,\"#fb9f3a\"],[0.8888888888888888,\"#fdca26\"],[1.0,\"#f0f921\"]],\"type\":\"heatmapgl\"}],\"histogram\":[{\"marker\":{\"pattern\":{\"fillmode\":\"overlay\",\"size\":10,\"solidity\":0.2}},\"type\":\"histogram\"}],\"histogram2d\":[{\"colorbar\":{\"outlinewidth\":0,\"ticks\":\"\"},\"colorscale\":[[0.0,\"#0d0887\"],[0.1111111111111111,\"#46039f\"],[0.2222222222222222,\"#7201a8\"],[0.3333333333333333,\"#9c179e\"],[0.4444444444444444,\"#bd3786\"],[0.5555555555555556,\"#d8576b\"],[0.6666666666666666,\"#ed7953\"],[0.7777777777777778,\"#fb9f3a\"],[0.8888888888888888,\"#fdca26\"],[1.0,\"#f0f921\"]],\"type\":\"histogram2d\"}],\"histogram2dcontour\":[{\"colorbar\":{\"outlinewidth\":0,\"ticks\":\"\"},\"colorscale\":[[0.0,\"#0d0887\"],[0.1111111111111111,\"#46039f\"],[0.2222222222222222,\"#7201a8\"],[0.3333333333333333,\"#9c179e\"],[0.4444444444444444,\"#bd3786\"],[0.5555555555555556,\"#d8576b\"],[0.6666666666666666,\"#ed7953\"],[0.7777777777777778,\"#fb9f3a\"],[0.8888888888888888,\"#fdca26\"],[1.0,\"#f0f921\"]],\"type\":\"histogram2dcontour\"}],\"mesh3d\":[{\"colorbar\":{\"outlinewidth\":0,\"ticks\":\"\"},\"type\":\"mesh3d\"}],\"parcoords\":[{\"line\":{\"colorbar\":{\"outlinewidth\":0,\"ticks\":\"\"}},\"type\":\"parcoords\"}],\"pie\":[{\"automargin\":true,\"type\":\"pie\"}],\"scatter\":[{\"marker\":{\"colorbar\":{\"outlinewidth\":0,\"ticks\":\"\"}},\"type\":\"scatter\"}],\"scatter3d\":[{\"line\":{\"colorbar\":{\"outlinewidth\":0,\"ticks\":\"\"}},\"marker\":{\"colorbar\":{\"outlinewidth\":0,\"ticks\":\"\"}},\"type\":\"scatter3d\"}],\"scattercarpet\":[{\"marker\":{\"colorbar\":{\"outlinewidth\":0,\"ticks\":\"\"}},\"type\":\"scattercarpet\"}],\"scattergeo\":[{\"marker\":{\"colorbar\":{\"outlinewidth\":0,\"ticks\":\"\"}},\"type\":\"scattergeo\"}],\"scattergl\":[{\"marker\":{\"colorbar\":{\"outlinewidth\":0,\"ticks\":\"\"}},\"type\":\"scattergl\"}],\"scattermapbox\":[{\"marker\":{\"colorbar\":{\"outlinewidth\":0,\"ticks\":\"\"}},\"type\":\"scattermapbox\"}],\"scatterpolar\":[{\"marker\":{\"colorbar\":{\"outlinewidth\":0,\"ticks\":\"\"}},\"type\":\"scatterpolar\"}],\"scatterpolargl\":[{\"marker\":{\"colorbar\":{\"outlinewidth\":0,\"ticks\":\"\"}},\"type\":\"scatterpolargl\"}],\"scatterternary\":[{\"marker\":{\"colorbar\":{\"outlinewidth\":0,\"ticks\":\"\"}},\"type\":\"scatterternary\"}],\"surface\":[{\"colorbar\":{\"outlinewidth\":0,\"ticks\":\"\"},\"colorscale\":[[0.0,\"#0d0887\"],[0.1111111111111111,\"#46039f\"],[0.2222222222222222,\"#7201a8\"],[0.3333333333333333,\"#9c179e\"],[0.4444444444444444,\"#bd3786\"],[0.5555555555555556,\"#d8576b\"],[0.6666666666666666,\"#ed7953\"],[0.7777777777777778,\"#fb9f3a\"],[0.8888888888888888,\"#fdca26\"],[1.0,\"#f0f921\"]],\"type\":\"surface\"}],\"table\":[{\"cells\":{\"fill\":{\"color\":\"#EBF0F8\"},\"line\":{\"color\":\"white\"}},\"header\":{\"fill\":{\"color\":\"#C8D4E3\"},\"line\":{\"color\":\"white\"}},\"type\":\"table\"}]},\"layout\":{\"annotationdefaults\":{\"arrowcolor\":\"#2a3f5f\",\"arrowhead\":0,\"arrowwidth\":1},\"autotypenumbers\":\"strict\",\"coloraxis\":{\"colorbar\":{\"outlinewidth\":0,\"ticks\":\"\"}},\"colorscale\":{\"diverging\":[[0,\"#8e0152\"],[0.1,\"#c51b7d\"],[0.2,\"#de77ae\"],[0.3,\"#f1b6da\"],[0.4,\"#fde0ef\"],[0.5,\"#f7f7f7\"],[0.6,\"#e6f5d0\"],[0.7,\"#b8e186\"],[0.8,\"#7fbc41\"],[0.9,\"#4d9221\"],[1,\"#276419\"]],\"sequential\":[[0.0,\"#0d0887\"],[0.1111111111111111,\"#46039f\"],[0.2222222222222222,\"#7201a8\"],[0.3333333333333333,\"#9c179e\"],[0.4444444444444444,\"#bd3786\"],[0.5555555555555556,\"#d8576b\"],[0.6666666666666666,\"#ed7953\"],[0.7777777777777778,\"#fb9f3a\"],[0.8888888888888888,\"#fdca26\"],[1.0,\"#f0f921\"]],\"sequentialminus\":[[0.0,\"#0d0887\"],[0.1111111111111111,\"#46039f\"],[0.2222222222222222,\"#7201a8\"],[0.3333333333333333,\"#9c179e\"],[0.4444444444444444,\"#bd3786\"],[0.5555555555555556,\"#d8576b\"],[0.6666666666666666,\"#ed7953\"],[0.7777777777777778,\"#fb9f3a\"],[0.8888888888888888,\"#fdca26\"],[1.0,\"#f0f921\"]]},\"colorway\":[\"#636efa\",\"#EF553B\",\"#00cc96\",\"#ab63fa\",\"#FFA15A\",\"#19d3f3\",\"#FF6692\",\"#B6E880\",\"#FF97FF\",\"#FECB52\"],\"font\":{\"color\":\"#2a3f5f\"},\"geo\":{\"bgcolor\":\"white\",\"lakecolor\":\"white\",\"landcolor\":\"#E5ECF6\",\"showlakes\":true,\"showland\":true,\"subunitcolor\":\"white\"},\"hoverlabel\":{\"align\":\"left\"},\"hovermode\":\"closest\",\"mapbox\":{\"style\":\"light\"},\"paper_bgcolor\":\"white\",\"plot_bgcolor\":\"#E5ECF6\",\"polar\":{\"angularaxis\":{\"gridcolor\":\"white\",\"linecolor\":\"white\",\"ticks\":\"\"},\"bgcolor\":\"#E5ECF6\",\"radialaxis\":{\"gridcolor\":\"white\",\"linecolor\":\"white\",\"ticks\":\"\"}},\"scene\":{\"xaxis\":{\"backgroundcolor\":\"#E5ECF6\",\"gridcolor\":\"white\",\"gridwidth\":2,\"linecolor\":\"white\",\"showbackground\":true,\"ticks\":\"\",\"zerolinecolor\":\"white\"},\"yaxis\":{\"backgroundcolor\":\"#E5ECF6\",\"gridcolor\":\"white\",\"gridwidth\":2,\"linecolor\":\"white\",\"showbackground\":true,\"ticks\":\"\",\"zerolinecolor\":\"white\"},\"zaxis\":{\"backgroundcolor\":\"#E5ECF6\",\"gridcolor\":\"white\",\"gridwidth\":2,\"linecolor\":\"white\",\"showbackground\":true,\"ticks\":\"\",\"zerolinecolor\":\"white\"}},\"shapedefaults\":{\"line\":{\"color\":\"#2a3f5f\"}},\"ternary\":{\"aaxis\":{\"gridcolor\":\"white\",\"linecolor\":\"white\",\"ticks\":\"\"},\"baxis\":{\"gridcolor\":\"white\",\"linecolor\":\"white\",\"ticks\":\"\"},\"bgcolor\":\"#E5ECF6\",\"caxis\":{\"gridcolor\":\"white\",\"linecolor\":\"white\",\"ticks\":\"\"}},\"title\":{\"x\":0.05},\"xaxis\":{\"automargin\":true,\"gridcolor\":\"white\",\"linecolor\":\"white\",\"ticks\":\"\",\"title\":{\"standoff\":15},\"zerolinecolor\":\"white\",\"zerolinewidth\":2},\"yaxis\":{\"automargin\":true,\"gridcolor\":\"white\",\"linecolor\":\"white\",\"ticks\":\"\",\"title\":{\"standoff\":15},\"zerolinecolor\":\"white\",\"zerolinewidth\":2}}},\"title\":{\"text\":\"Wide-Form Input\"},\"xaxis\":{\"anchor\":\"y\",\"domain\":[0.0,1.0],\"title\":{\"text\":\"nation\"}},\"yaxis\":{\"anchor\":\"x\",\"domain\":[0.0,1.0],\"title\":{\"text\":\"value\"}}},                        {\"responsive\": true}                    ).then(function(){\n",
       "                            \n",
       "var gd = document.getElementById('7b452d17-c473-489e-8571-3f2be2c5df8b');\n",
       "var x = new MutationObserver(function (mutations, observer) {{\n",
       "        var display = window.getComputedStyle(gd).display;\n",
       "        if (!display || display === 'none') {{\n",
       "            console.log([gd, 'removed!']);\n",
       "            Plotly.purge(gd);\n",
       "            observer.disconnect();\n",
       "        }}\n",
       "}});\n",
       "\n",
       "// Listen for the removal of the full notebook cells\n",
       "var notebookContainer = gd.closest('#notebook-container');\n",
       "if (notebookContainer) {{\n",
       "    x.observe(notebookContainer, {childList: true});\n",
       "}}\n",
       "\n",
       "// Listen for the clearing of the current output cell\n",
       "var outputEl = gd.closest('.output');\n",
       "if (outputEl) {{\n",
       "    x.observe(outputEl, {childList: true});\n",
       "}}\n",
       "\n",
       "                        })                };                });            </script>        </div>"
      ]
     },
     "metadata": {},
     "output_type": "display_data"
    }
   ],
   "source": [
    "import plotly.express as px\n",
    "\n",
    "wide_df = px.data.medals_wide()\n",
    "\n",
    "fig = px.bar(wide_df, x=\"nation\", y=[\"gold\", \"silver\", \"bronze\"], title=\"Wide-Form Input\")\n",
    "fig.show()"
   ]
  },
  {
   "cell_type": "code",
   "execution_count": 3,
   "metadata": {},
   "outputs": [
    {
     "data": {
      "application/vnd.plotly.v1+json": {
       "config": {
        "plotlyServerURL": "https://plot.ly"
       },
       "data": [
        {
         "hovertemplate": "x=%{x}<br>y=%{y}<extra></extra>",
         "legendgroup": "",
         "marker": {
          "color": "#636efa",
          "symbol": "circle"
         },
         "mode": "markers",
         "name": "",
         "orientation": "v",
         "showlegend": false,
         "type": "scatter",
         "x": [
          0,
          1,
          2,
          3,
          4
         ],
         "xaxis": "x",
         "y": [
          0,
          1,
          4,
          9,
          16
         ],
         "yaxis": "y"
        }
       ],
       "layout": {
        "legend": {
         "tracegroupgap": 0
        },
        "margin": {
         "t": 60
        },
        "template": {
         "data": {
          "bar": [
           {
            "error_x": {
             "color": "#2a3f5f"
            },
            "error_y": {
             "color": "#2a3f5f"
            },
            "marker": {
             "line": {
              "color": "#E5ECF6",
              "width": 0.5
             },
             "pattern": {
              "fillmode": "overlay",
              "size": 10,
              "solidity": 0.2
             }
            },
            "type": "bar"
           }
          ],
          "barpolar": [
           {
            "marker": {
             "line": {
              "color": "#E5ECF6",
              "width": 0.5
             },
             "pattern": {
              "fillmode": "overlay",
              "size": 10,
              "solidity": 0.2
             }
            },
            "type": "barpolar"
           }
          ],
          "carpet": [
           {
            "aaxis": {
             "endlinecolor": "#2a3f5f",
             "gridcolor": "white",
             "linecolor": "white",
             "minorgridcolor": "white",
             "startlinecolor": "#2a3f5f"
            },
            "baxis": {
             "endlinecolor": "#2a3f5f",
             "gridcolor": "white",
             "linecolor": "white",
             "minorgridcolor": "white",
             "startlinecolor": "#2a3f5f"
            },
            "type": "carpet"
           }
          ],
          "choropleth": [
           {
            "colorbar": {
             "outlinewidth": 0,
             "ticks": ""
            },
            "type": "choropleth"
           }
          ],
          "contour": [
           {
            "colorbar": {
             "outlinewidth": 0,
             "ticks": ""
            },
            "colorscale": [
             [
              0,
              "#0d0887"
             ],
             [
              0.1111111111111111,
              "#46039f"
             ],
             [
              0.2222222222222222,
              "#7201a8"
             ],
             [
              0.3333333333333333,
              "#9c179e"
             ],
             [
              0.4444444444444444,
              "#bd3786"
             ],
             [
              0.5555555555555556,
              "#d8576b"
             ],
             [
              0.6666666666666666,
              "#ed7953"
             ],
             [
              0.7777777777777778,
              "#fb9f3a"
             ],
             [
              0.8888888888888888,
              "#fdca26"
             ],
             [
              1,
              "#f0f921"
             ]
            ],
            "type": "contour"
           }
          ],
          "contourcarpet": [
           {
            "colorbar": {
             "outlinewidth": 0,
             "ticks": ""
            },
            "type": "contourcarpet"
           }
          ],
          "heatmap": [
           {
            "colorbar": {
             "outlinewidth": 0,
             "ticks": ""
            },
            "colorscale": [
             [
              0,
              "#0d0887"
             ],
             [
              0.1111111111111111,
              "#46039f"
             ],
             [
              0.2222222222222222,
              "#7201a8"
             ],
             [
              0.3333333333333333,
              "#9c179e"
             ],
             [
              0.4444444444444444,
              "#bd3786"
             ],
             [
              0.5555555555555556,
              "#d8576b"
             ],
             [
              0.6666666666666666,
              "#ed7953"
             ],
             [
              0.7777777777777778,
              "#fb9f3a"
             ],
             [
              0.8888888888888888,
              "#fdca26"
             ],
             [
              1,
              "#f0f921"
             ]
            ],
            "type": "heatmap"
           }
          ],
          "heatmapgl": [
           {
            "colorbar": {
             "outlinewidth": 0,
             "ticks": ""
            },
            "colorscale": [
             [
              0,
              "#0d0887"
             ],
             [
              0.1111111111111111,
              "#46039f"
             ],
             [
              0.2222222222222222,
              "#7201a8"
             ],
             [
              0.3333333333333333,
              "#9c179e"
             ],
             [
              0.4444444444444444,
              "#bd3786"
             ],
             [
              0.5555555555555556,
              "#d8576b"
             ],
             [
              0.6666666666666666,
              "#ed7953"
             ],
             [
              0.7777777777777778,
              "#fb9f3a"
             ],
             [
              0.8888888888888888,
              "#fdca26"
             ],
             [
              1,
              "#f0f921"
             ]
            ],
            "type": "heatmapgl"
           }
          ],
          "histogram": [
           {
            "marker": {
             "pattern": {
              "fillmode": "overlay",
              "size": 10,
              "solidity": 0.2
             }
            },
            "type": "histogram"
           }
          ],
          "histogram2d": [
           {
            "colorbar": {
             "outlinewidth": 0,
             "ticks": ""
            },
            "colorscale": [
             [
              0,
              "#0d0887"
             ],
             [
              0.1111111111111111,
              "#46039f"
             ],
             [
              0.2222222222222222,
              "#7201a8"
             ],
             [
              0.3333333333333333,
              "#9c179e"
             ],
             [
              0.4444444444444444,
              "#bd3786"
             ],
             [
              0.5555555555555556,
              "#d8576b"
             ],
             [
              0.6666666666666666,
              "#ed7953"
             ],
             [
              0.7777777777777778,
              "#fb9f3a"
             ],
             [
              0.8888888888888888,
              "#fdca26"
             ],
             [
              1,
              "#f0f921"
             ]
            ],
            "type": "histogram2d"
           }
          ],
          "histogram2dcontour": [
           {
            "colorbar": {
             "outlinewidth": 0,
             "ticks": ""
            },
            "colorscale": [
             [
              0,
              "#0d0887"
             ],
             [
              0.1111111111111111,
              "#46039f"
             ],
             [
              0.2222222222222222,
              "#7201a8"
             ],
             [
              0.3333333333333333,
              "#9c179e"
             ],
             [
              0.4444444444444444,
              "#bd3786"
             ],
             [
              0.5555555555555556,
              "#d8576b"
             ],
             [
              0.6666666666666666,
              "#ed7953"
             ],
             [
              0.7777777777777778,
              "#fb9f3a"
             ],
             [
              0.8888888888888888,
              "#fdca26"
             ],
             [
              1,
              "#f0f921"
             ]
            ],
            "type": "histogram2dcontour"
           }
          ],
          "mesh3d": [
           {
            "colorbar": {
             "outlinewidth": 0,
             "ticks": ""
            },
            "type": "mesh3d"
           }
          ],
          "parcoords": [
           {
            "line": {
             "colorbar": {
              "outlinewidth": 0,
              "ticks": ""
             }
            },
            "type": "parcoords"
           }
          ],
          "pie": [
           {
            "automargin": true,
            "type": "pie"
           }
          ],
          "scatter": [
           {
            "marker": {
             "colorbar": {
              "outlinewidth": 0,
              "ticks": ""
             }
            },
            "type": "scatter"
           }
          ],
          "scatter3d": [
           {
            "line": {
             "colorbar": {
              "outlinewidth": 0,
              "ticks": ""
             }
            },
            "marker": {
             "colorbar": {
              "outlinewidth": 0,
              "ticks": ""
             }
            },
            "type": "scatter3d"
           }
          ],
          "scattercarpet": [
           {
            "marker": {
             "colorbar": {
              "outlinewidth": 0,
              "ticks": ""
             }
            },
            "type": "scattercarpet"
           }
          ],
          "scattergeo": [
           {
            "marker": {
             "colorbar": {
              "outlinewidth": 0,
              "ticks": ""
             }
            },
            "type": "scattergeo"
           }
          ],
          "scattergl": [
           {
            "marker": {
             "colorbar": {
              "outlinewidth": 0,
              "ticks": ""
             }
            },
            "type": "scattergl"
           }
          ],
          "scattermapbox": [
           {
            "marker": {
             "colorbar": {
              "outlinewidth": 0,
              "ticks": ""
             }
            },
            "type": "scattermapbox"
           }
          ],
          "scatterpolar": [
           {
            "marker": {
             "colorbar": {
              "outlinewidth": 0,
              "ticks": ""
             }
            },
            "type": "scatterpolar"
           }
          ],
          "scatterpolargl": [
           {
            "marker": {
             "colorbar": {
              "outlinewidth": 0,
              "ticks": ""
             }
            },
            "type": "scatterpolargl"
           }
          ],
          "scatterternary": [
           {
            "marker": {
             "colorbar": {
              "outlinewidth": 0,
              "ticks": ""
             }
            },
            "type": "scatterternary"
           }
          ],
          "surface": [
           {
            "colorbar": {
             "outlinewidth": 0,
             "ticks": ""
            },
            "colorscale": [
             [
              0,
              "#0d0887"
             ],
             [
              0.1111111111111111,
              "#46039f"
             ],
             [
              0.2222222222222222,
              "#7201a8"
             ],
             [
              0.3333333333333333,
              "#9c179e"
             ],
             [
              0.4444444444444444,
              "#bd3786"
             ],
             [
              0.5555555555555556,
              "#d8576b"
             ],
             [
              0.6666666666666666,
              "#ed7953"
             ],
             [
              0.7777777777777778,
              "#fb9f3a"
             ],
             [
              0.8888888888888888,
              "#fdca26"
             ],
             [
              1,
              "#f0f921"
             ]
            ],
            "type": "surface"
           }
          ],
          "table": [
           {
            "cells": {
             "fill": {
              "color": "#EBF0F8"
             },
             "line": {
              "color": "white"
             }
            },
            "header": {
             "fill": {
              "color": "#C8D4E3"
             },
             "line": {
              "color": "white"
             }
            },
            "type": "table"
           }
          ]
         },
         "layout": {
          "annotationdefaults": {
           "arrowcolor": "#2a3f5f",
           "arrowhead": 0,
           "arrowwidth": 1
          },
          "autotypenumbers": "strict",
          "coloraxis": {
           "colorbar": {
            "outlinewidth": 0,
            "ticks": ""
           }
          },
          "colorscale": {
           "diverging": [
            [
             0,
             "#8e0152"
            ],
            [
             0.1,
             "#c51b7d"
            ],
            [
             0.2,
             "#de77ae"
            ],
            [
             0.3,
             "#f1b6da"
            ],
            [
             0.4,
             "#fde0ef"
            ],
            [
             0.5,
             "#f7f7f7"
            ],
            [
             0.6,
             "#e6f5d0"
            ],
            [
             0.7,
             "#b8e186"
            ],
            [
             0.8,
             "#7fbc41"
            ],
            [
             0.9,
             "#4d9221"
            ],
            [
             1,
             "#276419"
            ]
           ],
           "sequential": [
            [
             0,
             "#0d0887"
            ],
            [
             0.1111111111111111,
             "#46039f"
            ],
            [
             0.2222222222222222,
             "#7201a8"
            ],
            [
             0.3333333333333333,
             "#9c179e"
            ],
            [
             0.4444444444444444,
             "#bd3786"
            ],
            [
             0.5555555555555556,
             "#d8576b"
            ],
            [
             0.6666666666666666,
             "#ed7953"
            ],
            [
             0.7777777777777778,
             "#fb9f3a"
            ],
            [
             0.8888888888888888,
             "#fdca26"
            ],
            [
             1,
             "#f0f921"
            ]
           ],
           "sequentialminus": [
            [
             0,
             "#0d0887"
            ],
            [
             0.1111111111111111,
             "#46039f"
            ],
            [
             0.2222222222222222,
             "#7201a8"
            ],
            [
             0.3333333333333333,
             "#9c179e"
            ],
            [
             0.4444444444444444,
             "#bd3786"
            ],
            [
             0.5555555555555556,
             "#d8576b"
            ],
            [
             0.6666666666666666,
             "#ed7953"
            ],
            [
             0.7777777777777778,
             "#fb9f3a"
            ],
            [
             0.8888888888888888,
             "#fdca26"
            ],
            [
             1,
             "#f0f921"
            ]
           ]
          },
          "colorway": [
           "#636efa",
           "#EF553B",
           "#00cc96",
           "#ab63fa",
           "#FFA15A",
           "#19d3f3",
           "#FF6692",
           "#B6E880",
           "#FF97FF",
           "#FECB52"
          ],
          "font": {
           "color": "#2a3f5f"
          },
          "geo": {
           "bgcolor": "white",
           "lakecolor": "white",
           "landcolor": "#E5ECF6",
           "showlakes": true,
           "showland": true,
           "subunitcolor": "white"
          },
          "hoverlabel": {
           "align": "left"
          },
          "hovermode": "closest",
          "mapbox": {
           "style": "light"
          },
          "paper_bgcolor": "white",
          "plot_bgcolor": "#E5ECF6",
          "polar": {
           "angularaxis": {
            "gridcolor": "white",
            "linecolor": "white",
            "ticks": ""
           },
           "bgcolor": "#E5ECF6",
           "radialaxis": {
            "gridcolor": "white",
            "linecolor": "white",
            "ticks": ""
           }
          },
          "scene": {
           "xaxis": {
            "backgroundcolor": "#E5ECF6",
            "gridcolor": "white",
            "gridwidth": 2,
            "linecolor": "white",
            "showbackground": true,
            "ticks": "",
            "zerolinecolor": "white"
           },
           "yaxis": {
            "backgroundcolor": "#E5ECF6",
            "gridcolor": "white",
            "gridwidth": 2,
            "linecolor": "white",
            "showbackground": true,
            "ticks": "",
            "zerolinecolor": "white"
           },
           "zaxis": {
            "backgroundcolor": "#E5ECF6",
            "gridcolor": "white",
            "gridwidth": 2,
            "linecolor": "white",
            "showbackground": true,
            "ticks": "",
            "zerolinecolor": "white"
           }
          },
          "shapedefaults": {
           "line": {
            "color": "#2a3f5f"
           }
          },
          "ternary": {
           "aaxis": {
            "gridcolor": "white",
            "linecolor": "white",
            "ticks": ""
           },
           "baxis": {
            "gridcolor": "white",
            "linecolor": "white",
            "ticks": ""
           },
           "bgcolor": "#E5ECF6",
           "caxis": {
            "gridcolor": "white",
            "linecolor": "white",
            "ticks": ""
           }
          },
          "title": {
           "x": 0.05
          },
          "xaxis": {
           "automargin": true,
           "gridcolor": "white",
           "linecolor": "white",
           "ticks": "",
           "title": {
            "standoff": 15
           },
           "zerolinecolor": "white",
           "zerolinewidth": 2
          },
          "yaxis": {
           "automargin": true,
           "gridcolor": "white",
           "linecolor": "white",
           "ticks": "",
           "title": {
            "standoff": 15
           },
           "zerolinecolor": "white",
           "zerolinewidth": 2
          }
         }
        },
        "xaxis": {
         "anchor": "y",
         "domain": [
          0,
          1
         ],
         "title": {
          "text": "x"
         }
        },
        "yaxis": {
         "anchor": "x",
         "domain": [
          0,
          1
         ],
         "title": {
          "text": "y"
         }
        }
       }
      },
      "text/html": [
       "<div>                            <div id=\"4f7037b6-6f56-47d4-8a17-293f4bdf5d1a\" class=\"plotly-graph-div\" style=\"height:525px; width:100%;\"></div>            <script type=\"text/javascript\">                require([\"plotly\"], function(Plotly) {                    window.PLOTLYENV=window.PLOTLYENV || {};                                    if (document.getElementById(\"4f7037b6-6f56-47d4-8a17-293f4bdf5d1a\")) {                    Plotly.newPlot(                        \"4f7037b6-6f56-47d4-8a17-293f4bdf5d1a\",                        [{\"hovertemplate\":\"x=%{x}<br>y=%{y}<extra></extra>\",\"legendgroup\":\"\",\"marker\":{\"color\":\"#636efa\",\"symbol\":\"circle\"},\"mode\":\"markers\",\"name\":\"\",\"orientation\":\"v\",\"showlegend\":false,\"type\":\"scatter\",\"x\":[0,1,2,3,4],\"xaxis\":\"x\",\"y\":[0,1,4,9,16],\"yaxis\":\"y\"}],                        {\"legend\":{\"tracegroupgap\":0},\"margin\":{\"t\":60},\"template\":{\"data\":{\"bar\":[{\"error_x\":{\"color\":\"#2a3f5f\"},\"error_y\":{\"color\":\"#2a3f5f\"},\"marker\":{\"line\":{\"color\":\"#E5ECF6\",\"width\":0.5},\"pattern\":{\"fillmode\":\"overlay\",\"size\":10,\"solidity\":0.2}},\"type\":\"bar\"}],\"barpolar\":[{\"marker\":{\"line\":{\"color\":\"#E5ECF6\",\"width\":0.5},\"pattern\":{\"fillmode\":\"overlay\",\"size\":10,\"solidity\":0.2}},\"type\":\"barpolar\"}],\"carpet\":[{\"aaxis\":{\"endlinecolor\":\"#2a3f5f\",\"gridcolor\":\"white\",\"linecolor\":\"white\",\"minorgridcolor\":\"white\",\"startlinecolor\":\"#2a3f5f\"},\"baxis\":{\"endlinecolor\":\"#2a3f5f\",\"gridcolor\":\"white\",\"linecolor\":\"white\",\"minorgridcolor\":\"white\",\"startlinecolor\":\"#2a3f5f\"},\"type\":\"carpet\"}],\"choropleth\":[{\"colorbar\":{\"outlinewidth\":0,\"ticks\":\"\"},\"type\":\"choropleth\"}],\"contour\":[{\"colorbar\":{\"outlinewidth\":0,\"ticks\":\"\"},\"colorscale\":[[0.0,\"#0d0887\"],[0.1111111111111111,\"#46039f\"],[0.2222222222222222,\"#7201a8\"],[0.3333333333333333,\"#9c179e\"],[0.4444444444444444,\"#bd3786\"],[0.5555555555555556,\"#d8576b\"],[0.6666666666666666,\"#ed7953\"],[0.7777777777777778,\"#fb9f3a\"],[0.8888888888888888,\"#fdca26\"],[1.0,\"#f0f921\"]],\"type\":\"contour\"}],\"contourcarpet\":[{\"colorbar\":{\"outlinewidth\":0,\"ticks\":\"\"},\"type\":\"contourcarpet\"}],\"heatmap\":[{\"colorbar\":{\"outlinewidth\":0,\"ticks\":\"\"},\"colorscale\":[[0.0,\"#0d0887\"],[0.1111111111111111,\"#46039f\"],[0.2222222222222222,\"#7201a8\"],[0.3333333333333333,\"#9c179e\"],[0.4444444444444444,\"#bd3786\"],[0.5555555555555556,\"#d8576b\"],[0.6666666666666666,\"#ed7953\"],[0.7777777777777778,\"#fb9f3a\"],[0.8888888888888888,\"#fdca26\"],[1.0,\"#f0f921\"]],\"type\":\"heatmap\"}],\"heatmapgl\":[{\"colorbar\":{\"outlinewidth\":0,\"ticks\":\"\"},\"colorscale\":[[0.0,\"#0d0887\"],[0.1111111111111111,\"#46039f\"],[0.2222222222222222,\"#7201a8\"],[0.3333333333333333,\"#9c179e\"],[0.4444444444444444,\"#bd3786\"],[0.5555555555555556,\"#d8576b\"],[0.6666666666666666,\"#ed7953\"],[0.7777777777777778,\"#fb9f3a\"],[0.8888888888888888,\"#fdca26\"],[1.0,\"#f0f921\"]],\"type\":\"heatmapgl\"}],\"histogram\":[{\"marker\":{\"pattern\":{\"fillmode\":\"overlay\",\"size\":10,\"solidity\":0.2}},\"type\":\"histogram\"}],\"histogram2d\":[{\"colorbar\":{\"outlinewidth\":0,\"ticks\":\"\"},\"colorscale\":[[0.0,\"#0d0887\"],[0.1111111111111111,\"#46039f\"],[0.2222222222222222,\"#7201a8\"],[0.3333333333333333,\"#9c179e\"],[0.4444444444444444,\"#bd3786\"],[0.5555555555555556,\"#d8576b\"],[0.6666666666666666,\"#ed7953\"],[0.7777777777777778,\"#fb9f3a\"],[0.8888888888888888,\"#fdca26\"],[1.0,\"#f0f921\"]],\"type\":\"histogram2d\"}],\"histogram2dcontour\":[{\"colorbar\":{\"outlinewidth\":0,\"ticks\":\"\"},\"colorscale\":[[0.0,\"#0d0887\"],[0.1111111111111111,\"#46039f\"],[0.2222222222222222,\"#7201a8\"],[0.3333333333333333,\"#9c179e\"],[0.4444444444444444,\"#bd3786\"],[0.5555555555555556,\"#d8576b\"],[0.6666666666666666,\"#ed7953\"],[0.7777777777777778,\"#fb9f3a\"],[0.8888888888888888,\"#fdca26\"],[1.0,\"#f0f921\"]],\"type\":\"histogram2dcontour\"}],\"mesh3d\":[{\"colorbar\":{\"outlinewidth\":0,\"ticks\":\"\"},\"type\":\"mesh3d\"}],\"parcoords\":[{\"line\":{\"colorbar\":{\"outlinewidth\":0,\"ticks\":\"\"}},\"type\":\"parcoords\"}],\"pie\":[{\"automargin\":true,\"type\":\"pie\"}],\"scatter\":[{\"marker\":{\"colorbar\":{\"outlinewidth\":0,\"ticks\":\"\"}},\"type\":\"scatter\"}],\"scatter3d\":[{\"line\":{\"colorbar\":{\"outlinewidth\":0,\"ticks\":\"\"}},\"marker\":{\"colorbar\":{\"outlinewidth\":0,\"ticks\":\"\"}},\"type\":\"scatter3d\"}],\"scattercarpet\":[{\"marker\":{\"colorbar\":{\"outlinewidth\":0,\"ticks\":\"\"}},\"type\":\"scattercarpet\"}],\"scattergeo\":[{\"marker\":{\"colorbar\":{\"outlinewidth\":0,\"ticks\":\"\"}},\"type\":\"scattergeo\"}],\"scattergl\":[{\"marker\":{\"colorbar\":{\"outlinewidth\":0,\"ticks\":\"\"}},\"type\":\"scattergl\"}],\"scattermapbox\":[{\"marker\":{\"colorbar\":{\"outlinewidth\":0,\"ticks\":\"\"}},\"type\":\"scattermapbox\"}],\"scatterpolar\":[{\"marker\":{\"colorbar\":{\"outlinewidth\":0,\"ticks\":\"\"}},\"type\":\"scatterpolar\"}],\"scatterpolargl\":[{\"marker\":{\"colorbar\":{\"outlinewidth\":0,\"ticks\":\"\"}},\"type\":\"scatterpolargl\"}],\"scatterternary\":[{\"marker\":{\"colorbar\":{\"outlinewidth\":0,\"ticks\":\"\"}},\"type\":\"scatterternary\"}],\"surface\":[{\"colorbar\":{\"outlinewidth\":0,\"ticks\":\"\"},\"colorscale\":[[0.0,\"#0d0887\"],[0.1111111111111111,\"#46039f\"],[0.2222222222222222,\"#7201a8\"],[0.3333333333333333,\"#9c179e\"],[0.4444444444444444,\"#bd3786\"],[0.5555555555555556,\"#d8576b\"],[0.6666666666666666,\"#ed7953\"],[0.7777777777777778,\"#fb9f3a\"],[0.8888888888888888,\"#fdca26\"],[1.0,\"#f0f921\"]],\"type\":\"surface\"}],\"table\":[{\"cells\":{\"fill\":{\"color\":\"#EBF0F8\"},\"line\":{\"color\":\"white\"}},\"header\":{\"fill\":{\"color\":\"#C8D4E3\"},\"line\":{\"color\":\"white\"}},\"type\":\"table\"}]},\"layout\":{\"annotationdefaults\":{\"arrowcolor\":\"#2a3f5f\",\"arrowhead\":0,\"arrowwidth\":1},\"autotypenumbers\":\"strict\",\"coloraxis\":{\"colorbar\":{\"outlinewidth\":0,\"ticks\":\"\"}},\"colorscale\":{\"diverging\":[[0,\"#8e0152\"],[0.1,\"#c51b7d\"],[0.2,\"#de77ae\"],[0.3,\"#f1b6da\"],[0.4,\"#fde0ef\"],[0.5,\"#f7f7f7\"],[0.6,\"#e6f5d0\"],[0.7,\"#b8e186\"],[0.8,\"#7fbc41\"],[0.9,\"#4d9221\"],[1,\"#276419\"]],\"sequential\":[[0.0,\"#0d0887\"],[0.1111111111111111,\"#46039f\"],[0.2222222222222222,\"#7201a8\"],[0.3333333333333333,\"#9c179e\"],[0.4444444444444444,\"#bd3786\"],[0.5555555555555556,\"#d8576b\"],[0.6666666666666666,\"#ed7953\"],[0.7777777777777778,\"#fb9f3a\"],[0.8888888888888888,\"#fdca26\"],[1.0,\"#f0f921\"]],\"sequentialminus\":[[0.0,\"#0d0887\"],[0.1111111111111111,\"#46039f\"],[0.2222222222222222,\"#7201a8\"],[0.3333333333333333,\"#9c179e\"],[0.4444444444444444,\"#bd3786\"],[0.5555555555555556,\"#d8576b\"],[0.6666666666666666,\"#ed7953\"],[0.7777777777777778,\"#fb9f3a\"],[0.8888888888888888,\"#fdca26\"],[1.0,\"#f0f921\"]]},\"colorway\":[\"#636efa\",\"#EF553B\",\"#00cc96\",\"#ab63fa\",\"#FFA15A\",\"#19d3f3\",\"#FF6692\",\"#B6E880\",\"#FF97FF\",\"#FECB52\"],\"font\":{\"color\":\"#2a3f5f\"},\"geo\":{\"bgcolor\":\"white\",\"lakecolor\":\"white\",\"landcolor\":\"#E5ECF6\",\"showlakes\":true,\"showland\":true,\"subunitcolor\":\"white\"},\"hoverlabel\":{\"align\":\"left\"},\"hovermode\":\"closest\",\"mapbox\":{\"style\":\"light\"},\"paper_bgcolor\":\"white\",\"plot_bgcolor\":\"#E5ECF6\",\"polar\":{\"angularaxis\":{\"gridcolor\":\"white\",\"linecolor\":\"white\",\"ticks\":\"\"},\"bgcolor\":\"#E5ECF6\",\"radialaxis\":{\"gridcolor\":\"white\",\"linecolor\":\"white\",\"ticks\":\"\"}},\"scene\":{\"xaxis\":{\"backgroundcolor\":\"#E5ECF6\",\"gridcolor\":\"white\",\"gridwidth\":2,\"linecolor\":\"white\",\"showbackground\":true,\"ticks\":\"\",\"zerolinecolor\":\"white\"},\"yaxis\":{\"backgroundcolor\":\"#E5ECF6\",\"gridcolor\":\"white\",\"gridwidth\":2,\"linecolor\":\"white\",\"showbackground\":true,\"ticks\":\"\",\"zerolinecolor\":\"white\"},\"zaxis\":{\"backgroundcolor\":\"#E5ECF6\",\"gridcolor\":\"white\",\"gridwidth\":2,\"linecolor\":\"white\",\"showbackground\":true,\"ticks\":\"\",\"zerolinecolor\":\"white\"}},\"shapedefaults\":{\"line\":{\"color\":\"#2a3f5f\"}},\"ternary\":{\"aaxis\":{\"gridcolor\":\"white\",\"linecolor\":\"white\",\"ticks\":\"\"},\"baxis\":{\"gridcolor\":\"white\",\"linecolor\":\"white\",\"ticks\":\"\"},\"bgcolor\":\"#E5ECF6\",\"caxis\":{\"gridcolor\":\"white\",\"linecolor\":\"white\",\"ticks\":\"\"}},\"title\":{\"x\":0.05},\"xaxis\":{\"automargin\":true,\"gridcolor\":\"white\",\"linecolor\":\"white\",\"ticks\":\"\",\"title\":{\"standoff\":15},\"zerolinecolor\":\"white\",\"zerolinewidth\":2},\"yaxis\":{\"automargin\":true,\"gridcolor\":\"white\",\"linecolor\":\"white\",\"ticks\":\"\",\"title\":{\"standoff\":15},\"zerolinecolor\":\"white\",\"zerolinewidth\":2}}},\"xaxis\":{\"anchor\":\"y\",\"domain\":[0.0,1.0],\"title\":{\"text\":\"x\"}},\"yaxis\":{\"anchor\":\"x\",\"domain\":[0.0,1.0],\"title\":{\"text\":\"y\"}}},                        {\"responsive\": true}                    ).then(function(){\n",
       "                            \n",
       "var gd = document.getElementById('4f7037b6-6f56-47d4-8a17-293f4bdf5d1a');\n",
       "var x = new MutationObserver(function (mutations, observer) {{\n",
       "        var display = window.getComputedStyle(gd).display;\n",
       "        if (!display || display === 'none') {{\n",
       "            console.log([gd, 'removed!']);\n",
       "            Plotly.purge(gd);\n",
       "            observer.disconnect();\n",
       "        }}\n",
       "}});\n",
       "\n",
       "// Listen for the removal of the full notebook cells\n",
       "var notebookContainer = gd.closest('#notebook-container');\n",
       "if (notebookContainer) {{\n",
       "    x.observe(notebookContainer, {childList: true});\n",
       "}}\n",
       "\n",
       "// Listen for the clearing of the current output cell\n",
       "var outputEl = gd.closest('.output');\n",
       "if (outputEl) {{\n",
       "    x.observe(outputEl, {childList: true});\n",
       "}}\n",
       "\n",
       "                        })                };                });            </script>        </div>"
      ]
     },
     "metadata": {},
     "output_type": "display_data"
    }
   ],
   "source": [
    "import plotly.express as px\n",
    "fig = px.scatter(x=[0, 1, 2, 3, 4], y=[0, 1, 4, 9, 16])\n",
    "fig.show()"
   ]
  },
  {
   "cell_type": "code",
   "execution_count": 4,
   "metadata": {},
   "outputs": [
    {
     "data": {
      "application/vnd.plotly.v1+json": {
       "config": {
        "plotlyServerURL": "https://plot.ly"
       },
       "data": [
        {
         "hovertemplate": "sepal_width=%{x}<br>sepal_length=%{y}<extra></extra>",
         "legendgroup": "",
         "marker": {
          "color": "#636efa",
          "symbol": "circle"
         },
         "mode": "markers",
         "name": "",
         "orientation": "v",
         "showlegend": false,
         "type": "scatter",
         "x": [
          3.5,
          3,
          3.2,
          3.1,
          3.6,
          3.9,
          3.4,
          3.4,
          2.9,
          3.1,
          3.7,
          3.4,
          3,
          3,
          4,
          4.4,
          3.9,
          3.5,
          3.8,
          3.8,
          3.4,
          3.7,
          3.6,
          3.3,
          3.4,
          3,
          3.4,
          3.5,
          3.4,
          3.2,
          3.1,
          3.4,
          4.1,
          4.2,
          3.1,
          3.2,
          3.5,
          3.1,
          3,
          3.4,
          3.5,
          2.3,
          3.2,
          3.5,
          3.8,
          3,
          3.8,
          3.2,
          3.7,
          3.3,
          3.2,
          3.2,
          3.1,
          2.3,
          2.8,
          2.8,
          3.3,
          2.4,
          2.9,
          2.7,
          2,
          3,
          2.2,
          2.9,
          2.9,
          3.1,
          3,
          2.7,
          2.2,
          2.5,
          3.2,
          2.8,
          2.5,
          2.8,
          2.9,
          3,
          2.8,
          3,
          2.9,
          2.6,
          2.4,
          2.4,
          2.7,
          2.7,
          3,
          3.4,
          3.1,
          2.3,
          3,
          2.5,
          2.6,
          3,
          2.6,
          2.3,
          2.7,
          3,
          2.9,
          2.9,
          2.5,
          2.8,
          3.3,
          2.7,
          3,
          2.9,
          3,
          3,
          2.5,
          2.9,
          2.5,
          3.6,
          3.2,
          2.7,
          3,
          2.5,
          2.8,
          3.2,
          3,
          3.8,
          2.6,
          2.2,
          3.2,
          2.8,
          2.8,
          2.7,
          3.3,
          3.2,
          2.8,
          3,
          2.8,
          3,
          2.8,
          3.8,
          2.8,
          2.8,
          2.6,
          3,
          3.4,
          3.1,
          3,
          3.1,
          3.1,
          3.1,
          2.7,
          3.2,
          3.3,
          3,
          2.5,
          3,
          3.4,
          3
         ],
         "xaxis": "x",
         "y": [
          5.1,
          4.9,
          4.7,
          4.6,
          5,
          5.4,
          4.6,
          5,
          4.4,
          4.9,
          5.4,
          4.8,
          4.8,
          4.3,
          5.8,
          5.7,
          5.4,
          5.1,
          5.7,
          5.1,
          5.4,
          5.1,
          4.6,
          5.1,
          4.8,
          5,
          5,
          5.2,
          5.2,
          4.7,
          4.8,
          5.4,
          5.2,
          5.5,
          4.9,
          5,
          5.5,
          4.9,
          4.4,
          5.1,
          5,
          4.5,
          4.4,
          5,
          5.1,
          4.8,
          5.1,
          4.6,
          5.3,
          5,
          7,
          6.4,
          6.9,
          5.5,
          6.5,
          5.7,
          6.3,
          4.9,
          6.6,
          5.2,
          5,
          5.9,
          6,
          6.1,
          5.6,
          6.7,
          5.6,
          5.8,
          6.2,
          5.6,
          5.9,
          6.1,
          6.3,
          6.1,
          6.4,
          6.6,
          6.8,
          6.7,
          6,
          5.7,
          5.5,
          5.5,
          5.8,
          6,
          5.4,
          6,
          6.7,
          6.3,
          5.6,
          5.5,
          5.5,
          6.1,
          5.8,
          5,
          5.6,
          5.7,
          5.7,
          6.2,
          5.1,
          5.7,
          6.3,
          5.8,
          7.1,
          6.3,
          6.5,
          7.6,
          4.9,
          7.3,
          6.7,
          7.2,
          6.5,
          6.4,
          6.8,
          5.7,
          5.8,
          6.4,
          6.5,
          7.7,
          7.7,
          6,
          6.9,
          5.6,
          7.7,
          6.3,
          6.7,
          7.2,
          6.2,
          6.1,
          6.4,
          7.2,
          7.4,
          7.9,
          6.4,
          6.3,
          6.1,
          7.7,
          6.3,
          6.4,
          6,
          6.9,
          6.7,
          6.9,
          5.8,
          6.8,
          6.7,
          6.7,
          6.3,
          6.5,
          6.2,
          5.9
         ],
         "yaxis": "y"
        }
       ],
       "layout": {
        "legend": {
         "tracegroupgap": 0
        },
        "margin": {
         "t": 60
        },
        "template": {
         "data": {
          "bar": [
           {
            "error_x": {
             "color": "#2a3f5f"
            },
            "error_y": {
             "color": "#2a3f5f"
            },
            "marker": {
             "line": {
              "color": "#E5ECF6",
              "width": 0.5
             },
             "pattern": {
              "fillmode": "overlay",
              "size": 10,
              "solidity": 0.2
             }
            },
            "type": "bar"
           }
          ],
          "barpolar": [
           {
            "marker": {
             "line": {
              "color": "#E5ECF6",
              "width": 0.5
             },
             "pattern": {
              "fillmode": "overlay",
              "size": 10,
              "solidity": 0.2
             }
            },
            "type": "barpolar"
           }
          ],
          "carpet": [
           {
            "aaxis": {
             "endlinecolor": "#2a3f5f",
             "gridcolor": "white",
             "linecolor": "white",
             "minorgridcolor": "white",
             "startlinecolor": "#2a3f5f"
            },
            "baxis": {
             "endlinecolor": "#2a3f5f",
             "gridcolor": "white",
             "linecolor": "white",
             "minorgridcolor": "white",
             "startlinecolor": "#2a3f5f"
            },
            "type": "carpet"
           }
          ],
          "choropleth": [
           {
            "colorbar": {
             "outlinewidth": 0,
             "ticks": ""
            },
            "type": "choropleth"
           }
          ],
          "contour": [
           {
            "colorbar": {
             "outlinewidth": 0,
             "ticks": ""
            },
            "colorscale": [
             [
              0,
              "#0d0887"
             ],
             [
              0.1111111111111111,
              "#46039f"
             ],
             [
              0.2222222222222222,
              "#7201a8"
             ],
             [
              0.3333333333333333,
              "#9c179e"
             ],
             [
              0.4444444444444444,
              "#bd3786"
             ],
             [
              0.5555555555555556,
              "#d8576b"
             ],
             [
              0.6666666666666666,
              "#ed7953"
             ],
             [
              0.7777777777777778,
              "#fb9f3a"
             ],
             [
              0.8888888888888888,
              "#fdca26"
             ],
             [
              1,
              "#f0f921"
             ]
            ],
            "type": "contour"
           }
          ],
          "contourcarpet": [
           {
            "colorbar": {
             "outlinewidth": 0,
             "ticks": ""
            },
            "type": "contourcarpet"
           }
          ],
          "heatmap": [
           {
            "colorbar": {
             "outlinewidth": 0,
             "ticks": ""
            },
            "colorscale": [
             [
              0,
              "#0d0887"
             ],
             [
              0.1111111111111111,
              "#46039f"
             ],
             [
              0.2222222222222222,
              "#7201a8"
             ],
             [
              0.3333333333333333,
              "#9c179e"
             ],
             [
              0.4444444444444444,
              "#bd3786"
             ],
             [
              0.5555555555555556,
              "#d8576b"
             ],
             [
              0.6666666666666666,
              "#ed7953"
             ],
             [
              0.7777777777777778,
              "#fb9f3a"
             ],
             [
              0.8888888888888888,
              "#fdca26"
             ],
             [
              1,
              "#f0f921"
             ]
            ],
            "type": "heatmap"
           }
          ],
          "heatmapgl": [
           {
            "colorbar": {
             "outlinewidth": 0,
             "ticks": ""
            },
            "colorscale": [
             [
              0,
              "#0d0887"
             ],
             [
              0.1111111111111111,
              "#46039f"
             ],
             [
              0.2222222222222222,
              "#7201a8"
             ],
             [
              0.3333333333333333,
              "#9c179e"
             ],
             [
              0.4444444444444444,
              "#bd3786"
             ],
             [
              0.5555555555555556,
              "#d8576b"
             ],
             [
              0.6666666666666666,
              "#ed7953"
             ],
             [
              0.7777777777777778,
              "#fb9f3a"
             ],
             [
              0.8888888888888888,
              "#fdca26"
             ],
             [
              1,
              "#f0f921"
             ]
            ],
            "type": "heatmapgl"
           }
          ],
          "histogram": [
           {
            "marker": {
             "pattern": {
              "fillmode": "overlay",
              "size": 10,
              "solidity": 0.2
             }
            },
            "type": "histogram"
           }
          ],
          "histogram2d": [
           {
            "colorbar": {
             "outlinewidth": 0,
             "ticks": ""
            },
            "colorscale": [
             [
              0,
              "#0d0887"
             ],
             [
              0.1111111111111111,
              "#46039f"
             ],
             [
              0.2222222222222222,
              "#7201a8"
             ],
             [
              0.3333333333333333,
              "#9c179e"
             ],
             [
              0.4444444444444444,
              "#bd3786"
             ],
             [
              0.5555555555555556,
              "#d8576b"
             ],
             [
              0.6666666666666666,
              "#ed7953"
             ],
             [
              0.7777777777777778,
              "#fb9f3a"
             ],
             [
              0.8888888888888888,
              "#fdca26"
             ],
             [
              1,
              "#f0f921"
             ]
            ],
            "type": "histogram2d"
           }
          ],
          "histogram2dcontour": [
           {
            "colorbar": {
             "outlinewidth": 0,
             "ticks": ""
            },
            "colorscale": [
             [
              0,
              "#0d0887"
             ],
             [
              0.1111111111111111,
              "#46039f"
             ],
             [
              0.2222222222222222,
              "#7201a8"
             ],
             [
              0.3333333333333333,
              "#9c179e"
             ],
             [
              0.4444444444444444,
              "#bd3786"
             ],
             [
              0.5555555555555556,
              "#d8576b"
             ],
             [
              0.6666666666666666,
              "#ed7953"
             ],
             [
              0.7777777777777778,
              "#fb9f3a"
             ],
             [
              0.8888888888888888,
              "#fdca26"
             ],
             [
              1,
              "#f0f921"
             ]
            ],
            "type": "histogram2dcontour"
           }
          ],
          "mesh3d": [
           {
            "colorbar": {
             "outlinewidth": 0,
             "ticks": ""
            },
            "type": "mesh3d"
           }
          ],
          "parcoords": [
           {
            "line": {
             "colorbar": {
              "outlinewidth": 0,
              "ticks": ""
             }
            },
            "type": "parcoords"
           }
          ],
          "pie": [
           {
            "automargin": true,
            "type": "pie"
           }
          ],
          "scatter": [
           {
            "marker": {
             "colorbar": {
              "outlinewidth": 0,
              "ticks": ""
             }
            },
            "type": "scatter"
           }
          ],
          "scatter3d": [
           {
            "line": {
             "colorbar": {
              "outlinewidth": 0,
              "ticks": ""
             }
            },
            "marker": {
             "colorbar": {
              "outlinewidth": 0,
              "ticks": ""
             }
            },
            "type": "scatter3d"
           }
          ],
          "scattercarpet": [
           {
            "marker": {
             "colorbar": {
              "outlinewidth": 0,
              "ticks": ""
             }
            },
            "type": "scattercarpet"
           }
          ],
          "scattergeo": [
           {
            "marker": {
             "colorbar": {
              "outlinewidth": 0,
              "ticks": ""
             }
            },
            "type": "scattergeo"
           }
          ],
          "scattergl": [
           {
            "marker": {
             "colorbar": {
              "outlinewidth": 0,
              "ticks": ""
             }
            },
            "type": "scattergl"
           }
          ],
          "scattermapbox": [
           {
            "marker": {
             "colorbar": {
              "outlinewidth": 0,
              "ticks": ""
             }
            },
            "type": "scattermapbox"
           }
          ],
          "scatterpolar": [
           {
            "marker": {
             "colorbar": {
              "outlinewidth": 0,
              "ticks": ""
             }
            },
            "type": "scatterpolar"
           }
          ],
          "scatterpolargl": [
           {
            "marker": {
             "colorbar": {
              "outlinewidth": 0,
              "ticks": ""
             }
            },
            "type": "scatterpolargl"
           }
          ],
          "scatterternary": [
           {
            "marker": {
             "colorbar": {
              "outlinewidth": 0,
              "ticks": ""
             }
            },
            "type": "scatterternary"
           }
          ],
          "surface": [
           {
            "colorbar": {
             "outlinewidth": 0,
             "ticks": ""
            },
            "colorscale": [
             [
              0,
              "#0d0887"
             ],
             [
              0.1111111111111111,
              "#46039f"
             ],
             [
              0.2222222222222222,
              "#7201a8"
             ],
             [
              0.3333333333333333,
              "#9c179e"
             ],
             [
              0.4444444444444444,
              "#bd3786"
             ],
             [
              0.5555555555555556,
              "#d8576b"
             ],
             [
              0.6666666666666666,
              "#ed7953"
             ],
             [
              0.7777777777777778,
              "#fb9f3a"
             ],
             [
              0.8888888888888888,
              "#fdca26"
             ],
             [
              1,
              "#f0f921"
             ]
            ],
            "type": "surface"
           }
          ],
          "table": [
           {
            "cells": {
             "fill": {
              "color": "#EBF0F8"
             },
             "line": {
              "color": "white"
             }
            },
            "header": {
             "fill": {
              "color": "#C8D4E3"
             },
             "line": {
              "color": "white"
             }
            },
            "type": "table"
           }
          ]
         },
         "layout": {
          "annotationdefaults": {
           "arrowcolor": "#2a3f5f",
           "arrowhead": 0,
           "arrowwidth": 1
          },
          "autotypenumbers": "strict",
          "coloraxis": {
           "colorbar": {
            "outlinewidth": 0,
            "ticks": ""
           }
          },
          "colorscale": {
           "diverging": [
            [
             0,
             "#8e0152"
            ],
            [
             0.1,
             "#c51b7d"
            ],
            [
             0.2,
             "#de77ae"
            ],
            [
             0.3,
             "#f1b6da"
            ],
            [
             0.4,
             "#fde0ef"
            ],
            [
             0.5,
             "#f7f7f7"
            ],
            [
             0.6,
             "#e6f5d0"
            ],
            [
             0.7,
             "#b8e186"
            ],
            [
             0.8,
             "#7fbc41"
            ],
            [
             0.9,
             "#4d9221"
            ],
            [
             1,
             "#276419"
            ]
           ],
           "sequential": [
            [
             0,
             "#0d0887"
            ],
            [
             0.1111111111111111,
             "#46039f"
            ],
            [
             0.2222222222222222,
             "#7201a8"
            ],
            [
             0.3333333333333333,
             "#9c179e"
            ],
            [
             0.4444444444444444,
             "#bd3786"
            ],
            [
             0.5555555555555556,
             "#d8576b"
            ],
            [
             0.6666666666666666,
             "#ed7953"
            ],
            [
             0.7777777777777778,
             "#fb9f3a"
            ],
            [
             0.8888888888888888,
             "#fdca26"
            ],
            [
             1,
             "#f0f921"
            ]
           ],
           "sequentialminus": [
            [
             0,
             "#0d0887"
            ],
            [
             0.1111111111111111,
             "#46039f"
            ],
            [
             0.2222222222222222,
             "#7201a8"
            ],
            [
             0.3333333333333333,
             "#9c179e"
            ],
            [
             0.4444444444444444,
             "#bd3786"
            ],
            [
             0.5555555555555556,
             "#d8576b"
            ],
            [
             0.6666666666666666,
             "#ed7953"
            ],
            [
             0.7777777777777778,
             "#fb9f3a"
            ],
            [
             0.8888888888888888,
             "#fdca26"
            ],
            [
             1,
             "#f0f921"
            ]
           ]
          },
          "colorway": [
           "#636efa",
           "#EF553B",
           "#00cc96",
           "#ab63fa",
           "#FFA15A",
           "#19d3f3",
           "#FF6692",
           "#B6E880",
           "#FF97FF",
           "#FECB52"
          ],
          "font": {
           "color": "#2a3f5f"
          },
          "geo": {
           "bgcolor": "white",
           "lakecolor": "white",
           "landcolor": "#E5ECF6",
           "showlakes": true,
           "showland": true,
           "subunitcolor": "white"
          },
          "hoverlabel": {
           "align": "left"
          },
          "hovermode": "closest",
          "mapbox": {
           "style": "light"
          },
          "paper_bgcolor": "white",
          "plot_bgcolor": "#E5ECF6",
          "polar": {
           "angularaxis": {
            "gridcolor": "white",
            "linecolor": "white",
            "ticks": ""
           },
           "bgcolor": "#E5ECF6",
           "radialaxis": {
            "gridcolor": "white",
            "linecolor": "white",
            "ticks": ""
           }
          },
          "scene": {
           "xaxis": {
            "backgroundcolor": "#E5ECF6",
            "gridcolor": "white",
            "gridwidth": 2,
            "linecolor": "white",
            "showbackground": true,
            "ticks": "",
            "zerolinecolor": "white"
           },
           "yaxis": {
            "backgroundcolor": "#E5ECF6",
            "gridcolor": "white",
            "gridwidth": 2,
            "linecolor": "white",
            "showbackground": true,
            "ticks": "",
            "zerolinecolor": "white"
           },
           "zaxis": {
            "backgroundcolor": "#E5ECF6",
            "gridcolor": "white",
            "gridwidth": 2,
            "linecolor": "white",
            "showbackground": true,
            "ticks": "",
            "zerolinecolor": "white"
           }
          },
          "shapedefaults": {
           "line": {
            "color": "#2a3f5f"
           }
          },
          "ternary": {
           "aaxis": {
            "gridcolor": "white",
            "linecolor": "white",
            "ticks": ""
           },
           "baxis": {
            "gridcolor": "white",
            "linecolor": "white",
            "ticks": ""
           },
           "bgcolor": "#E5ECF6",
           "caxis": {
            "gridcolor": "white",
            "linecolor": "white",
            "ticks": ""
           }
          },
          "title": {
           "x": 0.05
          },
          "xaxis": {
           "automargin": true,
           "gridcolor": "white",
           "linecolor": "white",
           "ticks": "",
           "title": {
            "standoff": 15
           },
           "zerolinecolor": "white",
           "zerolinewidth": 2
          },
          "yaxis": {
           "automargin": true,
           "gridcolor": "white",
           "linecolor": "white",
           "ticks": "",
           "title": {
            "standoff": 15
           },
           "zerolinecolor": "white",
           "zerolinewidth": 2
          }
         }
        },
        "xaxis": {
         "anchor": "y",
         "domain": [
          0,
          1
         ],
         "title": {
          "text": "sepal_width"
         }
        },
        "yaxis": {
         "anchor": "x",
         "domain": [
          0,
          1
         ],
         "title": {
          "text": "sepal_length"
         }
        }
       }
      },
      "text/html": [
       "<div>                            <div id=\"0dae8714-31e1-4b28-b689-6e8fc6cc18bc\" class=\"plotly-graph-div\" style=\"height:525px; width:100%;\"></div>            <script type=\"text/javascript\">                require([\"plotly\"], function(Plotly) {                    window.PLOTLYENV=window.PLOTLYENV || {};                                    if (document.getElementById(\"0dae8714-31e1-4b28-b689-6e8fc6cc18bc\")) {                    Plotly.newPlot(                        \"0dae8714-31e1-4b28-b689-6e8fc6cc18bc\",                        [{\"hovertemplate\":\"sepal_width=%{x}<br>sepal_length=%{y}<extra></extra>\",\"legendgroup\":\"\",\"marker\":{\"color\":\"#636efa\",\"symbol\":\"circle\"},\"mode\":\"markers\",\"name\":\"\",\"orientation\":\"v\",\"showlegend\":false,\"type\":\"scatter\",\"x\":[3.5,3.0,3.2,3.1,3.6,3.9,3.4,3.4,2.9,3.1,3.7,3.4,3.0,3.0,4.0,4.4,3.9,3.5,3.8,3.8,3.4,3.7,3.6,3.3,3.4,3.0,3.4,3.5,3.4,3.2,3.1,3.4,4.1,4.2,3.1,3.2,3.5,3.1,3.0,3.4,3.5,2.3,3.2,3.5,3.8,3.0,3.8,3.2,3.7,3.3,3.2,3.2,3.1,2.3,2.8,2.8,3.3,2.4,2.9,2.7,2.0,3.0,2.2,2.9,2.9,3.1,3.0,2.7,2.2,2.5,3.2,2.8,2.5,2.8,2.9,3.0,2.8,3.0,2.9,2.6,2.4,2.4,2.7,2.7,3.0,3.4,3.1,2.3,3.0,2.5,2.6,3.0,2.6,2.3,2.7,3.0,2.9,2.9,2.5,2.8,3.3,2.7,3.0,2.9,3.0,3.0,2.5,2.9,2.5,3.6,3.2,2.7,3.0,2.5,2.8,3.2,3.0,3.8,2.6,2.2,3.2,2.8,2.8,2.7,3.3,3.2,2.8,3.0,2.8,3.0,2.8,3.8,2.8,2.8,2.6,3.0,3.4,3.1,3.0,3.1,3.1,3.1,2.7,3.2,3.3,3.0,2.5,3.0,3.4,3.0],\"xaxis\":\"x\",\"y\":[5.1,4.9,4.7,4.6,5.0,5.4,4.6,5.0,4.4,4.9,5.4,4.8,4.8,4.3,5.8,5.7,5.4,5.1,5.7,5.1,5.4,5.1,4.6,5.1,4.8,5.0,5.0,5.2,5.2,4.7,4.8,5.4,5.2,5.5,4.9,5.0,5.5,4.9,4.4,5.1,5.0,4.5,4.4,5.0,5.1,4.8,5.1,4.6,5.3,5.0,7.0,6.4,6.9,5.5,6.5,5.7,6.3,4.9,6.6,5.2,5.0,5.9,6.0,6.1,5.6,6.7,5.6,5.8,6.2,5.6,5.9,6.1,6.3,6.1,6.4,6.6,6.8,6.7,6.0,5.7,5.5,5.5,5.8,6.0,5.4,6.0,6.7,6.3,5.6,5.5,5.5,6.1,5.8,5.0,5.6,5.7,5.7,6.2,5.1,5.7,6.3,5.8,7.1,6.3,6.5,7.6,4.9,7.3,6.7,7.2,6.5,6.4,6.8,5.7,5.8,6.4,6.5,7.7,7.7,6.0,6.9,5.6,7.7,6.3,6.7,7.2,6.2,6.1,6.4,7.2,7.4,7.9,6.4,6.3,6.1,7.7,6.3,6.4,6.0,6.9,6.7,6.9,5.8,6.8,6.7,6.7,6.3,6.5,6.2,5.9],\"yaxis\":\"y\"}],                        {\"legend\":{\"tracegroupgap\":0},\"margin\":{\"t\":60},\"template\":{\"data\":{\"bar\":[{\"error_x\":{\"color\":\"#2a3f5f\"},\"error_y\":{\"color\":\"#2a3f5f\"},\"marker\":{\"line\":{\"color\":\"#E5ECF6\",\"width\":0.5},\"pattern\":{\"fillmode\":\"overlay\",\"size\":10,\"solidity\":0.2}},\"type\":\"bar\"}],\"barpolar\":[{\"marker\":{\"line\":{\"color\":\"#E5ECF6\",\"width\":0.5},\"pattern\":{\"fillmode\":\"overlay\",\"size\":10,\"solidity\":0.2}},\"type\":\"barpolar\"}],\"carpet\":[{\"aaxis\":{\"endlinecolor\":\"#2a3f5f\",\"gridcolor\":\"white\",\"linecolor\":\"white\",\"minorgridcolor\":\"white\",\"startlinecolor\":\"#2a3f5f\"},\"baxis\":{\"endlinecolor\":\"#2a3f5f\",\"gridcolor\":\"white\",\"linecolor\":\"white\",\"minorgridcolor\":\"white\",\"startlinecolor\":\"#2a3f5f\"},\"type\":\"carpet\"}],\"choropleth\":[{\"colorbar\":{\"outlinewidth\":0,\"ticks\":\"\"},\"type\":\"choropleth\"}],\"contour\":[{\"colorbar\":{\"outlinewidth\":0,\"ticks\":\"\"},\"colorscale\":[[0.0,\"#0d0887\"],[0.1111111111111111,\"#46039f\"],[0.2222222222222222,\"#7201a8\"],[0.3333333333333333,\"#9c179e\"],[0.4444444444444444,\"#bd3786\"],[0.5555555555555556,\"#d8576b\"],[0.6666666666666666,\"#ed7953\"],[0.7777777777777778,\"#fb9f3a\"],[0.8888888888888888,\"#fdca26\"],[1.0,\"#f0f921\"]],\"type\":\"contour\"}],\"contourcarpet\":[{\"colorbar\":{\"outlinewidth\":0,\"ticks\":\"\"},\"type\":\"contourcarpet\"}],\"heatmap\":[{\"colorbar\":{\"outlinewidth\":0,\"ticks\":\"\"},\"colorscale\":[[0.0,\"#0d0887\"],[0.1111111111111111,\"#46039f\"],[0.2222222222222222,\"#7201a8\"],[0.3333333333333333,\"#9c179e\"],[0.4444444444444444,\"#bd3786\"],[0.5555555555555556,\"#d8576b\"],[0.6666666666666666,\"#ed7953\"],[0.7777777777777778,\"#fb9f3a\"],[0.8888888888888888,\"#fdca26\"],[1.0,\"#f0f921\"]],\"type\":\"heatmap\"}],\"heatmapgl\":[{\"colorbar\":{\"outlinewidth\":0,\"ticks\":\"\"},\"colorscale\":[[0.0,\"#0d0887\"],[0.1111111111111111,\"#46039f\"],[0.2222222222222222,\"#7201a8\"],[0.3333333333333333,\"#9c179e\"],[0.4444444444444444,\"#bd3786\"],[0.5555555555555556,\"#d8576b\"],[0.6666666666666666,\"#ed7953\"],[0.7777777777777778,\"#fb9f3a\"],[0.8888888888888888,\"#fdca26\"],[1.0,\"#f0f921\"]],\"type\":\"heatmapgl\"}],\"histogram\":[{\"marker\":{\"pattern\":{\"fillmode\":\"overlay\",\"size\":10,\"solidity\":0.2}},\"type\":\"histogram\"}],\"histogram2d\":[{\"colorbar\":{\"outlinewidth\":0,\"ticks\":\"\"},\"colorscale\":[[0.0,\"#0d0887\"],[0.1111111111111111,\"#46039f\"],[0.2222222222222222,\"#7201a8\"],[0.3333333333333333,\"#9c179e\"],[0.4444444444444444,\"#bd3786\"],[0.5555555555555556,\"#d8576b\"],[0.6666666666666666,\"#ed7953\"],[0.7777777777777778,\"#fb9f3a\"],[0.8888888888888888,\"#fdca26\"],[1.0,\"#f0f921\"]],\"type\":\"histogram2d\"}],\"histogram2dcontour\":[{\"colorbar\":{\"outlinewidth\":0,\"ticks\":\"\"},\"colorscale\":[[0.0,\"#0d0887\"],[0.1111111111111111,\"#46039f\"],[0.2222222222222222,\"#7201a8\"],[0.3333333333333333,\"#9c179e\"],[0.4444444444444444,\"#bd3786\"],[0.5555555555555556,\"#d8576b\"],[0.6666666666666666,\"#ed7953\"],[0.7777777777777778,\"#fb9f3a\"],[0.8888888888888888,\"#fdca26\"],[1.0,\"#f0f921\"]],\"type\":\"histogram2dcontour\"}],\"mesh3d\":[{\"colorbar\":{\"outlinewidth\":0,\"ticks\":\"\"},\"type\":\"mesh3d\"}],\"parcoords\":[{\"line\":{\"colorbar\":{\"outlinewidth\":0,\"ticks\":\"\"}},\"type\":\"parcoords\"}],\"pie\":[{\"automargin\":true,\"type\":\"pie\"}],\"scatter\":[{\"marker\":{\"colorbar\":{\"outlinewidth\":0,\"ticks\":\"\"}},\"type\":\"scatter\"}],\"scatter3d\":[{\"line\":{\"colorbar\":{\"outlinewidth\":0,\"ticks\":\"\"}},\"marker\":{\"colorbar\":{\"outlinewidth\":0,\"ticks\":\"\"}},\"type\":\"scatter3d\"}],\"scattercarpet\":[{\"marker\":{\"colorbar\":{\"outlinewidth\":0,\"ticks\":\"\"}},\"type\":\"scattercarpet\"}],\"scattergeo\":[{\"marker\":{\"colorbar\":{\"outlinewidth\":0,\"ticks\":\"\"}},\"type\":\"scattergeo\"}],\"scattergl\":[{\"marker\":{\"colorbar\":{\"outlinewidth\":0,\"ticks\":\"\"}},\"type\":\"scattergl\"}],\"scattermapbox\":[{\"marker\":{\"colorbar\":{\"outlinewidth\":0,\"ticks\":\"\"}},\"type\":\"scattermapbox\"}],\"scatterpolar\":[{\"marker\":{\"colorbar\":{\"outlinewidth\":0,\"ticks\":\"\"}},\"type\":\"scatterpolar\"}],\"scatterpolargl\":[{\"marker\":{\"colorbar\":{\"outlinewidth\":0,\"ticks\":\"\"}},\"type\":\"scatterpolargl\"}],\"scatterternary\":[{\"marker\":{\"colorbar\":{\"outlinewidth\":0,\"ticks\":\"\"}},\"type\":\"scatterternary\"}],\"surface\":[{\"colorbar\":{\"outlinewidth\":0,\"ticks\":\"\"},\"colorscale\":[[0.0,\"#0d0887\"],[0.1111111111111111,\"#46039f\"],[0.2222222222222222,\"#7201a8\"],[0.3333333333333333,\"#9c179e\"],[0.4444444444444444,\"#bd3786\"],[0.5555555555555556,\"#d8576b\"],[0.6666666666666666,\"#ed7953\"],[0.7777777777777778,\"#fb9f3a\"],[0.8888888888888888,\"#fdca26\"],[1.0,\"#f0f921\"]],\"type\":\"surface\"}],\"table\":[{\"cells\":{\"fill\":{\"color\":\"#EBF0F8\"},\"line\":{\"color\":\"white\"}},\"header\":{\"fill\":{\"color\":\"#C8D4E3\"},\"line\":{\"color\":\"white\"}},\"type\":\"table\"}]},\"layout\":{\"annotationdefaults\":{\"arrowcolor\":\"#2a3f5f\",\"arrowhead\":0,\"arrowwidth\":1},\"autotypenumbers\":\"strict\",\"coloraxis\":{\"colorbar\":{\"outlinewidth\":0,\"ticks\":\"\"}},\"colorscale\":{\"diverging\":[[0,\"#8e0152\"],[0.1,\"#c51b7d\"],[0.2,\"#de77ae\"],[0.3,\"#f1b6da\"],[0.4,\"#fde0ef\"],[0.5,\"#f7f7f7\"],[0.6,\"#e6f5d0\"],[0.7,\"#b8e186\"],[0.8,\"#7fbc41\"],[0.9,\"#4d9221\"],[1,\"#276419\"]],\"sequential\":[[0.0,\"#0d0887\"],[0.1111111111111111,\"#46039f\"],[0.2222222222222222,\"#7201a8\"],[0.3333333333333333,\"#9c179e\"],[0.4444444444444444,\"#bd3786\"],[0.5555555555555556,\"#d8576b\"],[0.6666666666666666,\"#ed7953\"],[0.7777777777777778,\"#fb9f3a\"],[0.8888888888888888,\"#fdca26\"],[1.0,\"#f0f921\"]],\"sequentialminus\":[[0.0,\"#0d0887\"],[0.1111111111111111,\"#46039f\"],[0.2222222222222222,\"#7201a8\"],[0.3333333333333333,\"#9c179e\"],[0.4444444444444444,\"#bd3786\"],[0.5555555555555556,\"#d8576b\"],[0.6666666666666666,\"#ed7953\"],[0.7777777777777778,\"#fb9f3a\"],[0.8888888888888888,\"#fdca26\"],[1.0,\"#f0f921\"]]},\"colorway\":[\"#636efa\",\"#EF553B\",\"#00cc96\",\"#ab63fa\",\"#FFA15A\",\"#19d3f3\",\"#FF6692\",\"#B6E880\",\"#FF97FF\",\"#FECB52\"],\"font\":{\"color\":\"#2a3f5f\"},\"geo\":{\"bgcolor\":\"white\",\"lakecolor\":\"white\",\"landcolor\":\"#E5ECF6\",\"showlakes\":true,\"showland\":true,\"subunitcolor\":\"white\"},\"hoverlabel\":{\"align\":\"left\"},\"hovermode\":\"closest\",\"mapbox\":{\"style\":\"light\"},\"paper_bgcolor\":\"white\",\"plot_bgcolor\":\"#E5ECF6\",\"polar\":{\"angularaxis\":{\"gridcolor\":\"white\",\"linecolor\":\"white\",\"ticks\":\"\"},\"bgcolor\":\"#E5ECF6\",\"radialaxis\":{\"gridcolor\":\"white\",\"linecolor\":\"white\",\"ticks\":\"\"}},\"scene\":{\"xaxis\":{\"backgroundcolor\":\"#E5ECF6\",\"gridcolor\":\"white\",\"gridwidth\":2,\"linecolor\":\"white\",\"showbackground\":true,\"ticks\":\"\",\"zerolinecolor\":\"white\"},\"yaxis\":{\"backgroundcolor\":\"#E5ECF6\",\"gridcolor\":\"white\",\"gridwidth\":2,\"linecolor\":\"white\",\"showbackground\":true,\"ticks\":\"\",\"zerolinecolor\":\"white\"},\"zaxis\":{\"backgroundcolor\":\"#E5ECF6\",\"gridcolor\":\"white\",\"gridwidth\":2,\"linecolor\":\"white\",\"showbackground\":true,\"ticks\":\"\",\"zerolinecolor\":\"white\"}},\"shapedefaults\":{\"line\":{\"color\":\"#2a3f5f\"}},\"ternary\":{\"aaxis\":{\"gridcolor\":\"white\",\"linecolor\":\"white\",\"ticks\":\"\"},\"baxis\":{\"gridcolor\":\"white\",\"linecolor\":\"white\",\"ticks\":\"\"},\"bgcolor\":\"#E5ECF6\",\"caxis\":{\"gridcolor\":\"white\",\"linecolor\":\"white\",\"ticks\":\"\"}},\"title\":{\"x\":0.05},\"xaxis\":{\"automargin\":true,\"gridcolor\":\"white\",\"linecolor\":\"white\",\"ticks\":\"\",\"title\":{\"standoff\":15},\"zerolinecolor\":\"white\",\"zerolinewidth\":2},\"yaxis\":{\"automargin\":true,\"gridcolor\":\"white\",\"linecolor\":\"white\",\"ticks\":\"\",\"title\":{\"standoff\":15},\"zerolinecolor\":\"white\",\"zerolinewidth\":2}}},\"xaxis\":{\"anchor\":\"y\",\"domain\":[0.0,1.0],\"title\":{\"text\":\"sepal_width\"}},\"yaxis\":{\"anchor\":\"x\",\"domain\":[0.0,1.0],\"title\":{\"text\":\"sepal_length\"}}},                        {\"responsive\": true}                    ).then(function(){\n",
       "                            \n",
       "var gd = document.getElementById('0dae8714-31e1-4b28-b689-6e8fc6cc18bc');\n",
       "var x = new MutationObserver(function (mutations, observer) {{\n",
       "        var display = window.getComputedStyle(gd).display;\n",
       "        if (!display || display === 'none') {{\n",
       "            console.log([gd, 'removed!']);\n",
       "            Plotly.purge(gd);\n",
       "            observer.disconnect();\n",
       "        }}\n",
       "}});\n",
       "\n",
       "// Listen for the removal of the full notebook cells\n",
       "var notebookContainer = gd.closest('#notebook-container');\n",
       "if (notebookContainer) {{\n",
       "    x.observe(notebookContainer, {childList: true});\n",
       "}}\n",
       "\n",
       "// Listen for the clearing of the current output cell\n",
       "var outputEl = gd.closest('.output');\n",
       "if (outputEl) {{\n",
       "    x.observe(outputEl, {childList: true});\n",
       "}}\n",
       "\n",
       "                        })                };                });            </script>        </div>"
      ]
     },
     "metadata": {},
     "output_type": "display_data"
    }
   ],
   "source": [
    "import plotly.express as px\n",
    "df = px.data.iris() # iris is a pandas DataFrame\n",
    "fig = px.scatter(df, x=\"sepal_width\", y=\"sepal_length\")\n",
    "fig.show()"
   ]
  },
  {
   "cell_type": "code",
   "execution_count": 5,
   "metadata": {
    "collapsed": true
   },
   "outputs": [],
   "source": [
    "import plotly.graph_objects as go\n",
    "fig = go.Figure(data=go.Bar(y=[2, 3, 1]))\n",
    "fig.write_html('first_figure.html', auto_open=True)"
   ]
  },
  {
   "cell_type": "code",
   "execution_count": 13,
   "metadata": {},
   "outputs": [
    {
     "data": {
      "text/plain": [
       "[<matplotlib.axis.XTick at 0x7fc2c1e3a8b0>,\n",
       " <matplotlib.axis.XTick at 0x7fc2c1e3a880>,\n",
       " <matplotlib.axis.XTick at 0x7fc2c1f0ed60>,\n",
       " <matplotlib.axis.XTick at 0x7fc3022ff700>,\n",
       " <matplotlib.axis.XTick at 0x7fc30201cd90>]"
      ]
     },
     "execution_count": 13,
     "metadata": {},
     "output_type": "execute_result"
    },
    {
     "data": {
      "image/png": "[encoded data removed]",
      "text/plain": [
       "<Figure size 504x360 with 1 Axes>"
      ]
     },
     "metadata": {},
     "output_type": "display_data"
    }
   ],
   "source": [
    "import seaborn as sns\n",
    "import matplotlib as mpl\n",
    "import matplotlib.pyplot as plt\n",
    "\n",
    "sns.set_theme(style=\"ticks\")\n",
    "\n",
    "diamonds = sns.load_dataset(\"diamonds\")\n",
    "\n",
    "f, ax = plt.subplots(figsize=(7, 5))\n",
    "sns.despine(f)\n",
    "\n",
    "sns.histplot(\n",
    "    diamonds,\n",
    "    x=\"price\", hue=\"cut\",\n",
    "    multiple=\"stack\",\n",
    "    palette=\"light:m_r\",\n",
    "    edgecolor=\".3\",\n",
    "    linewidth=.5,\n",
    "    log_scale=True,\n",
    ")\n",
    "ax.xaxis.set_major_formatter(mpl.ticker.ScalarFormatter())\n",
    "ax.set_xticks([500, 1000, 2000, 5000, 10000])"
   ]
  },
  {
   "cell_type": "markdown",
   "metadata": {},
   "source": [
    "#### Development"
   ]
  },
  {
   "cell_type": "code",
   "execution_count": null,
   "metadata": {
    "collapsed": true,
    "scrolled": true
   },
   "outputs": [],
   "source": [
    "cols = df3.columns.drop(df3['chrom'])\n",
    "cols\n",
    "df3 = df3.apply(pd.to_numeric, errors='coerce')\n",
    "\n",
    "df3.dtypes"
   ]
  },
  {
   "cell_type": "code",
   "execution_count": null,
   "metadata": {
    "collapsed": true,
    "scrolled": true
   },
   "outputs": [],
   "source": [
    "path3=\"/Users/dshipilina/GitHub/AfricanDivide/ChromLR24.repeat.out\""
   ]
  },
  {
   "cell_type": "code",
   "execution_count": null,
   "metadata": {
    "collapsed": true,
    "scrolled": true
   },
   "outputs": [],
   "source": [
    "df=make_repeat_df(\"/Users/dshipilina/GitHub/AfricanDivide/ChromLR24.repeat.out\")\n",
    "df3=make_repeat_df(\"/Users/dshipilina/GitHub/AfricanDivide/ChromLR40.repeat.out\")"
   ]
  },
  {
   "cell_type": "code",
   "execution_count": null,
   "metadata": {
    "collapsed": true,
    "scrolled": true
   },
   "outputs": [],
   "source": [
    "ml.rcParams['figure.figsize'] = (13, 1.5)\n",
    "sns.barplot(x=df3[\"begin\"], y=df3[\"repts\"] , color=\"lightgrey\")\n",
    "#plt.xticks(rotation=90)\n",
    "plt.tick_params(axis='x', labelsize=0)\n",
    "plt.rcParams['axes.spines.left'] = True\n",
    "plt.rcParams['axes.spines.right'] = False\n",
    "plt.rcParams['axes.spines.top'] = False\n",
    "plt.rcParams['axes.spines.bottom'] = True\n",
    "plt.xlabel(\"Position along the Z chromosome LR999924\")\n",
    "plt.ylabel(\"Number of repeats\")\n",
    "#plt.savefig(\"/Users/dshipilina/GitHub/repeat_24.png\",bbox_inches=\"tight\")\n",
    "plt.show()\n",
    "\n",
    "ml.rcParams['figure.figsize'] = (17, 1.5)\n",
    "sns.barplot(x=df[\"begin\"], y=df[\"repts\"] , color=\"lightgrey\")\n",
    "#plt.xticks(rotation=90)\n",
    "plt.tick_params(axis='x', labelsize=1)\n",
    "plt.rcParams['axes.spines.left'] = True\n",
    "plt.rcParams['axes.spines.right'] = False\n",
    "plt.rcParams['axes.spines.top'] = False\n",
    "plt.rcParams['axes.spines.bottom'] = True\n",
    "plt.xlabel(\"Position along the W chromosome LR999940\")\n",
    "plt.ylabel(\"Number of repeats\")\n",
    "#plt.savefig(\"/Users/dshipilina/GitHub/repeat_40.png\",bbox_inches=\"tight\")\n",
    "plt.show()\n",
    "\n",
    "#\"#faab36\", \"#249ea0\""
   ]
  },
  {
   "cell_type": "code",
   "execution_count": null,
   "metadata": {
    "collapsed": true,
    "scrolled": true
   },
   "outputs": [],
   "source": [
    "ml.rcParams['figure.figsize'] = (17, 1.5)\n",
    "sns.barplot(x=df[\"begin\"], y=df[\"repts\"] , color=\"lightgrey\")\n",
    "#plt.xticks(rotation=90)\n",
    "plt.tick_params(axis='x', labelsize=1)\n",
    "plt.rcParams['axes.spines.left'] = True\n",
    "plt.rcParams['axes.spines.right'] = False\n",
    "plt.rcParams['axes.spines.top'] = False\n",
    "plt.rcParams['axes.spines.bottom'] = True\n",
    "plt.xlabel(\"Position along the W chromosome LR999940\")\n",
    "plt.ylabel(\"Number of repeats\")\n",
    "#plt.savefig(\"/Users/dshipilina/GitHub/repeat_40.png\",bbox_inches=\"tight\")\n",
    "plt.show()"
   ]
  },
  {
   "cell_type": "code",
   "execution_count": null,
   "metadata": {
    "collapsed": true,
    "scrolled": true
   },
   "outputs": [],
   "source": [
    "def make_repeat_df(path):    \n",
    "    new2 = open(\"/Users/dshipilina/GitHub/AfricanDivide/ChromLR24.repeat.out\").read()\n",
    "    split_ = new2.split('\\n')\n",
    "    #print(split_[2])\n",
    "    eigve2_array=[]\n",
    "    #print(split_file2[2])\n",
    "    for i in split_:\n",
    "        ii=i.split()\n",
    "        eigve2_array+=[ii]\n",
    "\n",
    "    df=pd.DataFrame(eigve2_array)\n",
    "    df.columns=['chrom','begin','end','repts']\n",
    "    #df = df.drop(labels=[138], axis=0)\n",
    "    df[\"begin\"] = pd.to_numeric(df[\"begin\"], downcast=\"float\")\n",
    "    df[\"repts\"] = pd.to_numeric(df[\"repts\"], downcast=\"float\")\n",
    "    df = df[:-1]\n",
    "    return df"
   ]
  },
  {
   "cell_type": "code",
   "execution_count": null,
   "metadata": {
    "collapsed": true,
    "scrolled": true
   },
   "outputs": [],
   "source": [
    "def plot_repeats(df,mg_num): \n",
    "    ml.rcParams['figure.figsize'] = (mg_num, 1.5)\n",
    "    sns.barplot(x=df[\"begin\"], y=df[\"repts\"] , color=\"lightgrey\")\n",
    "    #plt.xticks(rotation=90)\n",
    "    plt.tick_params(axis='x', labelsize=1)\n",
    "    #plt.xticks(\" \")\n",
    "    plt.rcParams['axes.spines.left'] = True\n",
    "    plt.rcParams['axes.spines.right'] = False\n",
    "    plt.rcParams['axes.spines.top'] = False\n",
    "    plt.rcParams['axes.spines.bottom'] = True\n",
    "    #plt.xaxis.label.set_visible(False)\n",
    "    plt.xlabel('') #\"Position along the Z chromosome LR999924\")\n",
    "    plt.ylabel(\"Number of repeats\")\n",
    "    #plt.savefig(\"/Users/dshipilina/GitHub/repeat_24.png\",bbox_inches=\"tight\")\n",
    "    plt.show()"
   ]
  },
  {
   "cell_type": "code",
   "execution_count": null,
   "metadata": {
    "collapsed": true,
    "scrolled": true
   },
   "outputs": [],
   "source": [
    "plot_repeats(df3,13.8)\n",
    "plot_repeats(df,17)"
   ]
  },
  {
   "cell_type": "markdown",
   "metadata": {},
   "source": [
    "# PCA\n"
   ]
  },
  {
   "cell_type": "code",
   "execution_count": null,
   "metadata": {
    "collapsed": true,
    "scrolled": true
   },
   "outputs": [],
   "source": [
    "dfx"
   ]
  },
  {
   "cell_type": "markdown",
   "metadata": {
    "heading_collapsed": true
   },
   "source": [
    "## Dataset 1: Variants w/o singletons and doubletons "
   ]
  },
  {
   "cell_type": "markdown",
   "metadata": {
    "hidden": true
   },
   "source": [
    "First, PCA analysis was preformed for the data with only necessary filtering to retain maximum coverage.\n",
    "Short summary of filtering:\n",
    "- Input file from Aurora: `cardui_migrdiv_indv.vcf.gz`\n",
    "- Maximum missing % of individuals: 0.3\n",
    "- Minor allele frequency cutoff fixed to 0.006: which correspond to removing singletons only in dataset of 347 individuals \n",
    "- Variant depth set to maximum possible: 4 (see justification in Evernote)\n"
   ]
  },
  {
   "cell_type": "markdown",
   "metadata": {
    "heading_collapsed": true,
    "hidden": true
   },
   "source": [
    "### Creating data frames"
   ]
  },
  {
   "cell_type": "code",
   "execution_count": null,
   "metadata": {
    "collapsed": true,
    "hidden": true,
    "scrolled": false
   },
   "outputs": [],
   "source": [
    "eigvec = open(\"/Users/dshipilina/GitHub/AfricanDivide/PCA/vanessa.fullSFS.eigenvec\").read()\n",
    "split_eig = eigvec.split('\\n')\n",
    "eigvec_array=[]\n",
    "#print(split_file2[2])\n",
    "for i in split_eig:\n",
    "    ii=i.split()\n",
    "    eigvec_array+=[ii]\n",
    "    \n",
    "#print(eigvec_array[2])\n",
    "    \n",
    "popid = open(\"/Users/dshipilina/GitHub/AfricanDivide/popmap1.txt\").read()\n",
    "split_popid = popid.split('\\n')\n",
    "#print(txt2)\n",
    "popID_array=[]\n",
    "#print(split_file2[2])\n",
    "for i in split_popid:\n",
    "    ii=i.split()\n",
    "    popID_array+=[ii]\n",
    "\n",
    "df = pd.DataFrame(eigvec_array) # , columns = [\"ScaffoldID\", \"N_BUSCOs\",\"BUSCOs_coverage\", ])\n",
    "#remove extra labels and extra PCs\n",
    "df =df.drop(df.columns[[0,11,12,13,14,15,16,17,18,19,20,21]], axis=1)\n",
    "#remove empty row\n",
    "df = df.drop(labels=[347], axis=0)\n",
    "#rename columns\n",
    "df.columns=[\"FullID\", \"PCA1\",\"PCA2\",\"PCA3\",\"PCA4\",\"PCA5\",\"PCA6\",\"PCA7\",\"PCA8\",\"PCA9\"]\n",
    "cols = [\"PCA1\",\"PCA2\",\"PCA3\",\"PCA4\",\"PCA5\",\"PCA6\",\"PCA7\",\"PCA8\",\"PCA9\"]\n",
    "df[cols] = df[cols].apply(pd.to_numeric, errors='coerce', axis=1)\n",
    "#df[\"PCA1\"] = pd.to_numeric(df[\"PCA1\"], downcast=\"float\")\n",
    "#df[\"PCA2\"] = pd.to_numeric(df[\"PCA2\"], downcast=\"float\")\n",
    "#df[\"PCA3\"] = pd.to_numeric(df[\"PCA3\"], downcast=\"float\")\n",
    "\n",
    "#splitting names\n",
    "#print(df[\"FullID\"])\n",
    "dftmp=df[\"FullID\"].str.split('_',expand=True)\n",
    "#print(dftmp)\n",
    "dftmp.columns=[\"Location\", \"SampleID\"]\n",
    "dftmp\n",
    "\n",
    "#getting population IDs\n",
    "dftmp2 = pd.DataFrame(popID_array)\n",
    "dftmp2.columns=[\"pop\",\"popID\"]\n",
    "dftmp2\n",
    "\n",
    "#combining table\n",
    "df = pd.concat([dftmp,dftmp2,df],axis=1)\n",
    "df = df.drop(labels=[347], axis=0)\n",
    "df"
   ]
  },
  {
   "cell_type": "markdown",
   "metadata": {
    "heading_collapsed": true,
    "hidden": true
   },
   "source": [
    "### Plotting"
   ]
  },
  {
   "cell_type": "code",
   "execution_count": 11,
   "metadata": {
    "hidden": true,
    "scrolled": true
   },
   "outputs": [
    {
     "ename": "FileNotFoundError",
     "evalue": "[Errno 2] No such file or directory: '/Users/dariashipilina/GitHub/AfricanDivide/PCA/vanessa.fullSFS.eigenval'",
     "output_type": "error",
     "traceback": [
      "\u001b[0;31m---------------------------------------------------------------------------\u001b[0m",
      "\u001b[0;31mFileNotFoundError\u001b[0m                         Traceback (most recent call last)",
      "\u001b[0;32m<ipython-input-11-dfdb3529ae54>\u001b[0m in \u001b[0;36m<module>\u001b[0;34m\u001b[0m\n\u001b[1;32m      1\u001b[0m \u001b[0;31m#print(df['loc'])\u001b[0m\u001b[0;34m\u001b[0m\u001b[0;34m\u001b[0m\u001b[0;34m\u001b[0m\u001b[0m\n\u001b[0;32m----> 2\u001b[0;31m \u001b[0meigval\u001b[0m \u001b[0;34m=\u001b[0m \u001b[0mopen\u001b[0m\u001b[0;34m(\u001b[0m\u001b[0;34m\"/Users/dariashipilina/GitHub/AfricanDivide/PCA/vanessa.fullSFS.eigenval\"\u001b[0m\u001b[0;34m)\u001b[0m\u001b[0;34m.\u001b[0m\u001b[0mread\u001b[0m\u001b[0;34m(\u001b[0m\u001b[0;34m)\u001b[0m\u001b[0;34m\u001b[0m\u001b[0;34m\u001b[0m\u001b[0m\n\u001b[0m\u001b[1;32m      3\u001b[0m \u001b[0;31m#eigval = open(\"/Users/dshipilina/GitHub/AfricanDivide/PCA/vanessa.fullSFS.eigenval\").read()\u001b[0m\u001b[0;34m\u001b[0m\u001b[0;34m\u001b[0m\u001b[0;34m\u001b[0m\u001b[0m\n\u001b[1;32m      4\u001b[0m \u001b[0msplit_eigval\u001b[0m \u001b[0;34m=\u001b[0m \u001b[0meigval\u001b[0m\u001b[0;34m.\u001b[0m\u001b[0msplit\u001b[0m\u001b[0;34m(\u001b[0m\u001b[0;34m'\\n'\u001b[0m\u001b[0;34m)\u001b[0m\u001b[0;34m\u001b[0m\u001b[0;34m\u001b[0m\u001b[0m\n\u001b[1;32m      5\u001b[0m \u001b[0;31m#print(split_eigval[2])\u001b[0m\u001b[0;34m\u001b[0m\u001b[0;34m\u001b[0m\u001b[0;34m\u001b[0m\u001b[0m\n",
      "\u001b[0;31mFileNotFoundError\u001b[0m: [Errno 2] No such file or directory: '/Users/dariashipilina/GitHub/AfricanDivide/PCA/vanessa.fullSFS.eigenval'"
     ]
    }
   ],
   "source": [
    "#print(df['loc'])\n",
    "eigval = open(\"/Users/dariashipilina/GitHub/AfricanDivide/PCA/vanessa.fullSFS.eigenval\").read()\n",
    "#eigval = open(\"/Users/dshipilina/GitHub/AfricanDivide/PCA/vanessa.fullSFS.eigenval\").read()\n",
    "split_eigval = eigval.split('\\n')\n",
    "#print(split_eigval[2])\n",
    "\n",
    "\n",
    "flatui = [\"#faab36\", \"#249ea0\", \"#fd5900\", \"#005f60\"]\n",
    "sns.set_palette(flatui)\n",
    "sns.palplot(sns.color_palette())\n",
    "plt.show()\n",
    "\n",
    "#ax = sns.violinplot(x=\"Contents\", y=\"Flavour\", data=rd, color=\"lol\", inner=\"box\")\n",
    "\n",
    "#df[\"alpha\"] = np.where(df['popID']==\"NHE\", 1.0, 0.05)\n",
    "#df\n",
    "\n",
    "#sns.scatterplot(x=df['PCA1'], y=df['PCA2'],hue=df['popID'],\n",
    "                    # data=df[df[\"alpha\"] == 0.05], alpha=0.4)\n",
    "#sns.scatterplot(x=df['PCA1'], y=df['PCA2'], hue=df['popID'],data=df[df[\"alpha\"] == 1.0], alpha=1.0)\n",
    "\n",
    "#plt.show()\n",
    "sns.scatterplot(x=df['PCA1'], y=df['PCA2'], hue=df['popID'], s=40) #,alpha=0.4) #,kwargs={\"color\":\"darkred\",\"alpha\":0.3,\"s\":200})#,palette=\"dark\")\n",
    "sns.despine(offset=2, trim=True)\n",
    "plt.ylabel(\"PCA 2 (\"+ (split_eigval[1])+\"%)\")\n",
    "plt.xlabel(\"PCA 1 (\"+split_eigval[0]+\"%)\")\n",
    "ml.rcParams['figure.figsize'] = (7.0, 7.0)\n",
    "plt.legend(loc='best', bbox_to_anchor=(0.5, 0., 0.5, 0.5))\n",
    "plt.legend(frameon=False)\n",
    "#plt.savefig(\"/Users/dshipilina/GitHub/AfricanDivide/PCA/PCA_fullSFS_all.pdf\",bbox_inches=\"tight\")\n",
    "#plt.savefig(\"/Users/dshipilina/GitHub/AfricanDivide/PCA/PCA_fullSFS_all.png\",bbox_inches=\"tight\")\n",
    "plt.show()\n",
    "\n",
    "\n",
    "df[\"alpha\"] = np.where(df['popID']==\"NHE\", 0, 1)\n",
    "data=df[df[\"alpha\"] == 1]\n",
    "sns.scatterplot(x=data['PCA1'], y=data['PCA2'], hue=data['popID'])\n",
    "#plt.savefig(\"/Users/dshipilina/GitHub/AfricanDivide/PCA/PCA_fullSFS_all.pdf\",bbox_inches=\"tight\")\n",
    "#plt.savefig(\"/Users/dshipilina/GitHub/AfricanDivide/PCA/PCA_fullSFS_all.png\",bbox_inches=\"tight\")\n",
    "plt.show()\n",
    "\n",
    "#sns.scatterplot(x=df['PCA1'], y=df['PCA2'], hue=df['popID'],data=df[df[\"alpha\"] == 1.0], alpha=1.0)\n",
    "#sns.scatterplot(x=df['PCA1'], y=df['PCA2'], hue=df['popID'], s=40) #,alpha=0.4) #,kwargs={\"color\":\"darkred\",\"alpha\":0.3,\"s\":200})#,palette=\"dark\")\n",
    "#sns.despine(offset=2, trim=True)\n",
    "#plt.ylabel(\"PCA 2 (\"+ (split_eigval[1])+\"%)\")\n",
    "#plt.xlabel(\"PCA 1 (\"+split_eigval[0]+\"%)\")\n",
    "#ml.rcParams['figure.figsize'] = (7.0, 7.0)\n",
    "#plt.legend(loc='best', bbox_to_anchor=(0.5, 0., 0.5, 0.5))\n",
    "#plt.legend(frameon=False)\n",
    "#plt.savefig(\"/Users/dshipilina/GitHub/AfricanDivide/PCA/PCA_fullSFS_all.pdf\",bbox_inches=\"tight\")\n",
    "#plt.savefig(\"/Users/dshipilina/GitHub/AfricanDivide/PCA/PCA_fullSFS_all.png\",bbox_inches=\"tight\")\n",
    "#plt.show()\n",
    "\n",
    "\n",
    "\n",
    "\n",
    "\n",
    "#df\n",
    "\n",
    "#plt.plot(df['PCA1'], df['PCA2'],'o')#,palette=\"dark\")\n",
    "#sns.barplot(x=chroname, y=repcov) #, palette=\"deep\") #, ax=ax3)\n",
    "#plt.xticks(rotation=90)\n",
    "#plt.axis('off')\n",
    "#plt.xticks([0,100,200,300],[])\n",
    "#plt.xticks([0,100,200,300],[\"0\",\"100\",\"200\",\"300\"])\n",
    "#xtic=np.linspace(-0.075,0.015, num=4)\n",
    "#plt.xticks(xtic,[])\n",
    "#plt.xaxis.set_major_locator(plt.MaxNLocator(3))\n",
    "#plt.axis('equal')\n",
    "#plt.yticks([0,100,200,300],[])\n",
    "#plt.yticks()\n",
    "#plt.xaxis.set_tick_params(width=3)\n",
    "\n",
    "#plt.savefig(\"/Users/dshipilina/GitHub/AfricanDivide/PCA/PCA_rare_noLD_4pops_outlremoved.pdf\",bbox_inches=\"tight\")\n",
    "#plt.savefig(\"/Users/dshipilina/GitHub/AfricanDivide/PCA/PCA_rare_noLD_4pops_outlremoved.png\",bbox_inches=\"tight\")\n",
    "#plt.show()\n",
    "#print(np.linspace(-0.075,0.015, num=4))"
   ]
  },
  {
   "cell_type": "markdown",
   "metadata": {},
   "source": [
    "## Dataset 1: Variants w/o singletons and doubletons, no LD"
   ]
  },
  {
   "cell_type": "markdown",
   "metadata": {},
   "source": [
    "We observe distinct outliers in Southern Hemisphere, all belonging to Namibia sampling site. Such pattern, along with excessive grouping of other populations may be an effect of LD in the sample. Here we attempt to correct for LD, removing SNPs, where r^2>0.2 on 50Kb overlapping blocks (performed in plink)."
   ]
  },
  {
   "cell_type": "markdown",
   "metadata": {
    "heading_collapsed": true
   },
   "source": [
    "### Creating data frames"
   ]
  },
  {
   "cell_type": "code",
   "execution_count": null,
   "metadata": {
    "collapsed": true,
    "hidden": true,
    "scrolled": false
   },
   "outputs": [],
   "source": [
    "eigvec = open(\"/Users/dshipilina/GitHub/AfricanDivide/vanessa.fullSFS.noLD.eigenvec\").read()\n",
    "split_eig = eigvec.split('\\n')\n",
    "eigvec_array=[]\n",
    "#print(split_file2[2])\n",
    "for i in split_eig:\n",
    "    ii=i.split()\n",
    "    eigvec_array+=[ii]\n",
    "    \n",
    "#print(eigvec_array[2])\n",
    "    \n",
    "popid = open(\"/Users/dshipilina/GitHub/AfricanDivide/popmap1.txt\").read()\n",
    "split_popid = popid.split('\\n')\n",
    "#print(txt2)\n",
    "popID_array=[]\n",
    "#print(split_file2[2])\n",
    "for i in split_popid:\n",
    "    ii=i.split()\n",
    "    popID_array+=[ii]\n",
    "\n",
    "df = pd.DataFrame(eigvec_array) # , columns = [\"ScaffoldID\", \"N_BUSCOs\",\"BUSCOs_coverage\", ])\n",
    "#remove extra labels and extra PCs\n",
    "df =df.drop(df.columns[[0,11,12,13,14,15,16,17,18,19,20,21]], axis=1)\n",
    "#remove empty row\n",
    "df = df.drop(labels=[347], axis=0)\n",
    "#rename columns\n",
    "df.columns=[\"FullID\", \"PCA1\",\"PCA2\",\"PCA3\",\"PCA4\",\"PCA5\",\"PCA6\",\"PCA7\",\"PCA8\",\"PCA9\"]\n",
    "cols = [\"PCA1\",\"PCA2\",\"PCA3\",\"PCA4\",\"PCA5\",\"PCA6\",\"PCA7\",\"PCA8\",\"PCA9\"]\n",
    "df[cols] = df[cols].apply(pd.to_numeric, errors='coerce', axis=1)\n",
    "#df[\"PCA1\"] = pd.to_numeric(df[\"PCA1\"], downcast=\"float\")\n",
    "#df[\"PCA2\"] = pd.to_numeric(df[\"PCA2\"], downcast=\"float\")\n",
    "#df[\"PCA3\"] = pd.to_numeric(df[\"PCA3\"], downcast=\"float\")\n",
    "\n",
    "#splitting names\n",
    "#print(df[\"FullID\"])\n",
    "dftmp=df[\"FullID\"].str.split('_',expand=True)\n",
    "#print(dftmp)\n",
    "dftmp.columns=[\"Location\", \"SampleID\"]\n",
    "dftmp\n",
    "\n",
    "#getting population IDs\n",
    "dftmp2 = pd.DataFrame(popID_array)\n",
    "dftmp2.columns=[\"pop\",\"popID\"]\n",
    "dftmp2\n",
    "\n",
    "#combining table\n",
    "df = pd.concat([dftmp,dftmp2,df],axis=1)\n",
    "df = df.drop(labels=[347], axis=0)\n",
    "df"
   ]
  },
  {
   "cell_type": "markdown",
   "metadata": {},
   "source": [
    "### Plotting"
   ]
  },
  {
   "cell_type": "code",
   "execution_count": null,
   "metadata": {
    "collapsed": true,
    "scrolled": false
   },
   "outputs": [],
   "source": [
    "#print(df['loc'])\n",
    "eigval = open(\"/Users/dshipilina/GitHub/AfricanDivide/vanessa.fullSFS.noLD.eigenval\").read()\n",
    "split_eigval = eigval.split('\\n')\n",
    "#print(split_eigval[2])\n",
    "\n",
    "\n",
    "cardui = [\"#faab36\", \"#249ea0\", \"#fd5900\", \"#005f60\"]\n",
    "sns.set_palette(cardui)\n",
    "sns.palplot(sns.color_palette())\n",
    "plt.savefig(\"/Users/dshipilina/GitHub/AfricanDivide/PCA/color_scheme.png\",bbox_inches=\"tight\")\n",
    "plt.show()\n",
    "\n",
    "#ax = sns.violinplot(x=\"Contents\", y=\"Flavour\", data=rd, color=\"lol\", inner=\"box\")\n",
    "\n",
    "#df[\"alpha\"] = np.where(df['popID']==\"NHE\", 1.0, 0.05)\n",
    "#df\n",
    "\n",
    "#sns.scatterplot(x=df['PCA1'], y=df['PCA2'],hue=df['popID'],\n",
    "                    # data=df[df[\"alpha\"] == 0.05], alpha=0.4)\n",
    "#sns.scatterplot(x=df['PCA1'], y=df['PCA2'], hue=df['popID'],data=df[df[\"alpha\"] == 1.0], alpha=1.0)\n",
    "\n",
    "#plt.show()\n",
    "sns.scatterplot(x=df['PCA1'], y=df['PCA2'], hue=df['popID'], s=40,alpha=.8) #,alpha=0.4) #,kwargs={\"color\":\"darkred\",\"alpha\":0.3,\"s\":200})#,palette=\"dark\")\n",
    "sns.despine(offset=0, trim=False)\n",
    "plt.ylabel(\"PCA 2 (\"+ (split_eigval[1])+\"%)\")\n",
    "plt.xlabel(\"PCA 1 (\"+split_eigval[0]+\"%)\")\n",
    "ml.rcParams['figure.figsize'] = (7.0, 7.0)\n",
    "plt.legend(loc='best', bbox_to_anchor=(0.5, 0., 0.5, 0.5))\n",
    "plt.legend(frameon=False)\n",
    "plt.savefig(\"/Users/dshipilina/GitHub/AfricanDivide/PCA/PCA_fullSFS_noLD.pdf\",bbox_inches=\"tight\")\n",
    "plt.savefig(\"/Users/dshipilina/GitHub/AfricanDivide/PCA/PCA_fullSFS_noLD.png\",bbox_inches=\"tight\")\n",
    "plt.show()\n",
    "\n",
    "df[\"alpha\"] = np.where(df['popID']==\"NHE\", 0, 1)\n",
    "data=df[df[\"alpha\"] == 1]\n",
    "sns.scatterplot(x=data['PCA1'], y=data['PCA2'], hue=data['popID'])\n",
    "plt.ylabel(\"PCA 2 (\"+ (split_eigval[1])+\"%)\")\n",
    "plt.xlabel(\"PCA 1 (\"+split_eigval[0]+\"%)\")\n",
    "#sns.despine(offset=0, trim=True)\n",
    "plt.savefig(\"/Users/dshipilina/GitHub/AfricanDivide/PCA/PCA_fullSFS_noNHE.pdf\",bbox_inches=\"tight\")\n",
    "plt.savefig(\"/Users/dshipilina/GitHub/AfricanDivide/PCA/PCA_fullSFS_noNHE.png\",bbox_inches=\"tight\")\n",
    "plt.show()\n",
    "\n",
    "#df[\"alpha\"] = np.where(dfnor, 0, 1)\n",
    "data=df.loc[(df[\"popID\"] == \"SH\") | (df[\"popID\"] == \"SHEA\")]\n",
    "sns.scatterplot(x=data['PCA1'], y=data['PCA2'], hue=data['popID'], palette=\"YlOrBr\",alpha=.7,s=40)\n",
    "plt.ylabel(\"PCA 2 (\"+ (split_eigval[1])+\"%)\")\n",
    "plt.xlabel(\"PCA 1 (\"+split_eigval[0]+\"%)\")\n",
    "plt.show()\n",
    "data=df.loc[(df[\"popID\"] == \"SH\") | (df[\"popID\"] == \"SHEA\")]\n",
    "sns.scatterplot(x=data['PCA2'], y=data['PCA3'], hue=data['popID'], palette=\"YlOrBr\",alpha=.7,s=40)\n",
    "plt.ylabel(\"PCA 3 (\"+ (split_eigval[2])+\"%)\")\n",
    "plt.xlabel(\"PCA 2 (\"+split_eigval[1]+\"%)\")\n",
    "#sns.scatterplot(x=north['PCA1'], y=north['PCA2'], hue=north['popID'])\n",
    "#north"
   ]
  },
  {
   "cell_type": "code",
   "execution_count": null,
   "metadata": {
    "collapsed": true,
    "scrolled": false
   },
   "outputs": [],
   "source": [
    "#fig_dims = (6, 6)\n",
    "ml.rcParams['figure.figsize'] = (14.0, 7.0)\n",
    "fig, axs = plt.subplots(ncols=2)#,figsize=fig_dims)\n",
    "sns.scatterplot(x=data['PCA1'], y=data['PCA2'], hue=data['popID'], palette=\"YlOrBr\",alpha=.8,s=60, ax=axs[0])\n",
    "sns.scatterplot(x=data2['PCA2'], y=data2['PCA3'], hue=data2['popID'], palette=\"YlOrBr\",alpha=.8,s=60,ax=axs[1])\n",
    "#sns.boxplot(x='education',y='wage', data=df_melt, ax=axs[2])\n",
    "plt.savefig(\"/Users/dshipilina/GitHub/AfricanDivide/PCA/PCA_fullSFS_SouthPC123.pdf\",bbox_inches=\"tight\")\n",
    "plt.savefig(\"/Users/dshipilina/GitHub/AfricanDivide/PCA/PCA_fullSFS_SouthPC123.png\",bbox_inches=\"tight\")"
   ]
  },
  {
   "cell_type": "code",
   "execution_count": null,
   "metadata": {
    "collapsed": true,
    "scrolled": true
   },
   "outputs": [],
   "source": [
    "#fig_dims = (6, 6)\n",
    "#sns.set_palette(\"muted\")\n",
    " \n",
    "ml.rcParams['figure.figsize'] = (14.0, 7.0)\n",
    "fig, axs = plt.subplots(ncols=2)#,figsize=fig_dims)\n",
    "sns.scatterplot(x=data['PCA1'], y=data['PCA2'], hue=data['Location'],palette=\"tab10\",s=60, ax=axs[0])\n",
    "sns.scatterplot(x=data2['PCA2'], y=data2['PCA3'], hue=data2['Location'], palette=\"tab10\",s=60,ax=axs[1])\n",
    "#sns.boxplot(x='education',y='wage', data=df_melt, ax=axs[2])\n",
    "plt.savefig(\"/Users/dshipilina/GitHub/AfricanDivide/PCA/PCA_fullSFS_SouthLocs.pdf\",bbox_inches=\"tight\")\n",
    "plt.savefig(\"/Users/dshipilina/GitHub/AfricanDivide/PCA/PCA_fullSFS_SouthLocs.png\",bbox_inches=\"tight\")"
   ]
  },
  {
   "cell_type": "code",
   "execution_count": null,
   "metadata": {
    "collapsed": true,
    "scrolled": false
   },
   "outputs": [],
   "source": [
    "#fig_dims = (6, 6)\n",
    "data_north=df.loc[(df[\"popID\"] == \"NHE\") | (df[\"popID\"] == \"NHEA\")]\n",
    "\n",
    "ml.rcParams['figure.figsize'] = (14.0, 7.0)\n",
    "fig, axs = plt.subplots(ncols=2)#,figsize=fig_dims)\n",
    "sns.scatterplot(x=data_north['PCA1'], y=data_north['PCA2'], hue=data_north['popID'], palette=\"YlOrBr\",alpha=.8,s=60, ax=axs[0])\n",
    "sns.scatterplot(x=data_north['PCA2'], y=data_north['PCA3'], hue=data_north['popID'], palette=\"YlOrBr\",alpha=.8,s=60,ax=axs[1])\n",
    "#sns.boxplot(x='education',y='wage', data=df_melt, ax=axs[2])\n",
    "plt.savefig(\"/Users/dshipilina/GitHub/AfricanDivide/PCA/PCA_fullSFS_North.pdf\",bbox_inches=\"tight\")\n",
    "plt.savefig(\"/Users/dshipilina/GitHub/AfricanDivide/PCA/PCA_fullSFS_North.png\",bbox_inches=\"tight\") \n",
    "plt.show()\n",
    "    \n",
    "ml.rcParams['figure.figsize'] = (9.0, 9.0)\n",
    "#fig, axs = plt.subplots(ncols=2)#,figsize=fig_dims)\n",
    "#plt.legend(bbox_to_anchor=(0., 1.02, 1., .102), loc='lower left',\n",
    "         # ncol=5, mode=\"expand\", borderaxespad=0.4)\n",
    "sns.scatterplot(x=data_north['PCA1'], y=data_north['PCA2'], hue=data_north['Location'],palette=\"cubehelix\",s=30)\n",
    "plt.legend(bbox_to_anchor=(0., 1.02, 1., .102), loc='lower left', ncol=5, mode=\"expand\", borderaxespad=0.4)\n",
    "#plt.legend(loc='center left', bbox_to_anchor=(1, 0.5), ncol=2, mode=\"expand\", borderaxespad=0.4)\n",
    "#sns.scatterplot(x=data_north['PCA2'], y=data_north['PCA3'], hue=data_north['Location'], palette=\"tab10\",s=60,ax=axs[1])\n",
    "#plt.legend(loc='center left', bbox_to_anchor=(1, 0.5), ncol=2, mode=\"expand\", borderaxespad=0.4)\n",
    "#sns.boxplot(x='education',y='wage', data=df_melt, ax=axs[2])\n",
    "plt.savefig(\"/Users/dshipilina/GitHub/AfricanDivide/PCA/PCA_fullSFS_NorthLocs.pdf\",bbox_inches=\"tight\")\n",
    "plt.savefig(\"/Users/dshipilina/GitHub/AfricanDivide/PCA/PCA_fullSFS_NorthLocs.png\",bbox_inches=\"tight\")"
   ]
  },
  {
   "cell_type": "code",
   "execution_count": null,
   "metadata": {
    "collapsed": true,
    "scrolled": false
   },
   "outputs": [],
   "source": [
    "#data3=df.loc[(df[\"popID\"] == \"NHE\") | (df[\"popID\"] == \"NHEA\")]\n",
    "df.loc[df[\"PCA2\"] >= 0.2]\n",
    "#174 158 249\n",
    "df.loc[df[\"PCA2\"] <= -0.15]"
   ]
  },
  {
   "cell_type": "code",
   "execution_count": null,
   "metadata": {
    "collapsed": true,
    "scrolled": true
   },
   "outputs": [],
   "source": [
    "data = df.drop(labels=[174,158,249], axis=0)\n",
    "data_north=data.loc[(data[\"popID\"] == \"NHE\")]\n",
    "data_north\n",
    "\n",
    "ml.rcParams['figure.figsize'] = (9.0, 9.0)\n",
    "#fig, axs = plt.subplots(ncols=2)#,figsize=fig_dims)\n",
    "#plt.legend(bbox_to_anchor=(0., 1.02, 1., .102), loc='lower left',\n",
    "         # ncol=5, mode=\"expand\", borderaxespad=0.4)\n",
    "sns.scatterplot(x=data_north['PCA1'], y=data_north['PCA2'], hue=data_north['Location'],palette=\"icefire\",s=40)\n",
    "plt.legend(bbox_to_anchor=(0., 1.02, 1., .102), loc='lower left', ncol=5, mode=\"expand\", borderaxespad=0.4)\n",
    "#plt.legend(loc='center left', bbox_to_anchor=(1, 0.5), ncol=2, mode=\"expand\", borderaxespad=0.4)\n",
    "#sns.scatterplot(x=data_north['PCA2'], y=data_north['PCA3'], hue=data_north['Location'], palette=\"tab10\",s=60,ax=axs[1])\n",
    "#plt.legend(loc='center left', bbox_to_anchor=(1, 0.5), ncol=2, mode=\"expand\", borderaxespad=0.4)\n",
    "#sns.boxplot(x='education',y='wage', data=df_melt, ax=axs[2])\n",
    "plt.savefig(\"/Users/dshipilina/GitHub/AfricanDivide/PCA/PCA_fullSFS_NorthEzoom.pdf\",bbox_inches=\"tight\")\n",
    "plt.savefig(\"/Users/dshipilina/GitHub/AfricanDivide/PCA/PCA_fullSFS_NorthEzoom.png\",bbox_inches=\"tight\")"
   ]
  },
  {
   "cell_type": "markdown",
   "metadata": {
    "heading_collapsed": true
   },
   "source": [
    "## Dataset 2: Rare variants, no LD (Aurora)"
   ]
  },
  {
   "cell_type": "markdown",
   "metadata": {
    "hidden": true
   },
   "source": [
    "Here we briefly check population structure based on rare variants (MAF: 0.001-0.010, MAC: 1-4)"
   ]
  },
  {
   "cell_type": "markdown",
   "metadata": {
    "hidden": true
   },
   "source": [
    "### Creating data frames"
   ]
  },
  {
   "cell_type": "code",
   "execution_count": null,
   "metadata": {
    "collapsed": true,
    "hidden": true,
    "scrolled": false
   },
   "outputs": [],
   "source": [
    "eigvec = open(\"/Users/dshipilina/GitHub/AfricanDivide/PCA/vanessa.noLD.eigenvec\").read()\n",
    "#eigvec = open(\"/Users/dshipilina/GitHub/AfricanDivide/PCA/vanessa.fullSFS.eigenvec\").read()\n",
    "split_eig = eigvec.split('\\n')\n",
    "eigvec_array=[]\n",
    "#print(split_file2[2])\n",
    "for i in split_eig:\n",
    "    ii=i.split()\n",
    "    eigvec_array+=[ii]\n",
    "    \n",
    "#print(eigvec_array[2])\n",
    "    \n",
    "popid = open(\"/Users/dshipilina/GitHub/AfricanDivide/popmap1.txt\").read()\n",
    "split_popid = popid.split('\\n')\n",
    "#print(txt2)\n",
    "popID_array=[]\n",
    "#print(split_file2[2])\n",
    "for i in split_popid:\n",
    "    ii=i.split()\n",
    "    popID_array+=[ii]\n",
    "\n",
    "df = pd.DataFrame(eigvec_array) # , columns = [\"ScaffoldID\", \"N_BUSCOs\",\"BUSCOs_coverage\", ])\n",
    "#remove extra labels and extra PCs\n",
    "df =df.drop(df.columns[[0,11,12,13,14,15,16,17,18,19,20,21]], axis=1)\n",
    "#remove empty row\n",
    "df = df.drop(labels=[347], axis=0)\n",
    "#rename columns\n",
    "df.columns=[\"FullID\", \"PCA1\",\"PCA2\",\"PCA3\",\"PCA4\",\"PCA5\",\"PCA6\",\"PCA7\",\"PCA8\",\"PCA9\"]\n",
    "cols = [\"PCA1\",\"PCA2\",\"PCA3\",\"PCA4\",\"PCA5\",\"PCA6\",\"PCA7\",\"PCA8\",\"PCA9\"]\n",
    "df[cols] = df[cols].apply(pd.to_numeric, errors='coerce', axis=1)\n",
    "#df[\"PCA1\"] = pd.to_numeric(df[\"PCA1\"], downcast=\"float\")\n",
    "#df[\"PCA2\"] = pd.to_numeric(df[\"PCA2\"], downcast=\"float\")\n",
    "#df[\"PCA3\"] = pd.to_numeric(df[\"PCA3\"], downcast=\"float\")\n",
    "\n",
    "#splitting names\n",
    "#print(df[\"FullID\"])\n",
    "dftmp=df[\"FullID\"].str.split('_',expand=True)\n",
    "#print(dftmp)\n",
    "dftmp.columns=[\"Location\", \"SampleID\"]\n",
    "dftmp\n",
    "\n",
    "#getting population IDs\n",
    "dftmp2 = pd.DataFrame(popID_array)\n",
    "dftmp2.columns=[\"pop\",\"popID\"]\n",
    "dftmp2\n",
    "\n",
    "#combining table\n",
    "df = pd.concat([dftmp,dftmp2,df],axis=1)\n",
    "df = df.drop(labels=[347], axis=0)\n"
   ]
  },
  {
   "cell_type": "markdown",
   "metadata": {
    "hidden": true
   },
   "source": [
    "### Plotting"
   ]
  },
  {
   "cell_type": "code",
   "execution_count": null,
   "metadata": {
    "collapsed": true,
    "hidden": true,
    "scrolled": true
   },
   "outputs": [],
   "source": []
  },
  {
   "cell_type": "code",
   "execution_count": null,
   "metadata": {
    "collapsed": true,
    "hidden": true,
    "scrolled": true
   },
   "outputs": [],
   "source": [
    "flatui = [\"#faab36\", \"#249ea0\", \"#fd5900\", \"#005f60\"]\n",
    "sns.set_palette(flatui)\n",
    "sns.scatterplot(x=df['PCA1'], y=df['PCA2'], hue=df['popID'], s=40) #,alpha=0.4) #,kwargs={\"color\":\"darkred\",\"alpha\":0.3,\"s\":200})#,palette=\"dark\")\n",
    "sns.despine(offset=2, trim=True)\n",
    "plt.ylabel(\"PCA 2 (\"+ (split_eigval[1])+\"%)\")\n",
    "plt.xlabel(\"PCA 1 (\"+split_eigval[0]+\"%)\")\n",
    "ml.rcParams['figure.figsize'] = (7.0, 7.0)\n",
    "plt.legend(loc='best', bbox_to_anchor=(0.5, 0., 0.5, 0.5))\n",
    "plt.legend(frameon=False)\n",
    "plt.savefig(\"/Users/dshipilina/GitHub/AfricanDivide/PCA/PCA_rare_all.pdf\",bbox_inches=\"tight\")\n",
    "plt.savefig(\"/Users/dshipilina/GitHub/AfricanDivide/PCA/PCA_rare_all.png\",bbox_inches=\"tight\")\n",
    "plt.show()"
   ]
  },
  {
   "cell_type": "code",
   "execution_count": null,
   "metadata": {
    "collapsed": true,
    "hidden": true,
    "scrolled": false
   },
   "outputs": [],
   "source": [
    "eigvec = open(\"/Users/dshipilina/GitHub/AfricanDivide/PCA/vanessa.noLD.eigenvec\").read()\n",
    "split_eig = eigvec.split('\\n')\n",
    "eigvec_array=[]\n",
    "#print(split_file2[2])\n",
    "for i in split_eig:\n",
    "    ii=i.split()\n",
    "    eigvec_array+=[ii]\n",
    "    \n",
    "#print(eigvec_array[2])\n",
    "    \n",
    "popid = open(\"/Users/dshipilina/GitHub/AfricanDivide/popmap1.txt\").read()\n",
    "split_popid = popid.split('\\n')\n",
    "#print(txt2)\n",
    "popID_array=[]\n",
    "#print(split_file2[2])\n",
    "for i in split_popid:\n",
    "    ii=i.split()\n",
    "    popID_array+=[ii]\n",
    "\n",
    "df = pd.DataFrame(eigvec_array) # , columns = [\"ScaffoldID\", \"N_BUSCOs\",\"BUSCOs_coverage\", ])\n",
    "#remove extra labels and extra PCs\n",
    "df =df.drop(df.columns[[0,11,12,13,14,15,16,17,18,19,20,21]], axis=1)\n",
    "#remove empty row\n",
    "df = df.drop(labels=[347], axis=0)\n",
    "#rename columns\n",
    "df.columns=[\"FullID\", \"PCA1\",\"PCA2\",\"PCA3\",\"PCA4\",\"PCA5\",\"PCA6\",\"PCA7\",\"PCA8\",\"PCA9\"]\n",
    "df[\"PCA1\"] = pd.to_numeric(df[\"PCA1\"], downcast=\"float\")\n",
    "df[\"PCA2\"] = pd.to_numeric(df[\"PCA2\"], downcast=\"float\")\n",
    "df[\"PCA3\"] = pd.to_numeric(df[\"PCA3\"], downcast=\"float\")\n",
    "\n",
    "#splitting names\n",
    "#print(df[\"FullID\"])\n",
    "dftmp=df[\"FullID\"].str.split('_',expand=True)\n",
    "#print(dftmp)\n",
    "dftmp.columns=[\"Location\", \"SampleID\"]\n",
    "dftmp\n",
    "\n",
    "#getting population IDs\n",
    "dftmp2 = pd.DataFrame(popID_array)\n",
    "dftmp2.columns=[\"pop\",\"popID\"]\n",
    "#dftmp2 =dftmp2.drop(dftmp2.columns[0], axis=1)\n",
    "#dftmp2[\"hem\"] = dftmp2['popID'] \n",
    "#dftmp2=dftmp2[\"hem\"].str.split('H',expand=True)\n",
    "#dftmp2 =dftmp2.drop(dftmp2.columns[1], axis=1)\n",
    "#dftmp2.columns=[\"hem\"]\n",
    "dftmp2\n",
    "\n",
    "#combining table\n",
    "df = pd.concat([dftmp,dftmp2,df],axis=1)\n",
    "#remove outliers\n",
    "#df = df.drop(labels=[347,241,148], axis=0)\n",
    "df[0:50]"
   ]
  },
  {
   "cell_type": "code",
   "execution_count": null,
   "metadata": {
    "collapsed": true,
    "hidden": true,
    "scrolled": false
   },
   "outputs": [],
   "source": [
    "#print(df['loc'])\n",
    "#df = df.drop(labels=[241,148], axis=0)\n",
    "eigval = open(\"/Users/dshipilina/GitHub/AfricanDivide/PCA/vanessa.noLD.eigenval\").read()\n",
    "split_eigval = eigval.split('\\n')\n",
    "print(split_eigval[2])\n",
    "\n",
    "sns.scatterplot(x=df['PCA1'], y=df['PCA2'], hue=df['popID'])#,palette=\"dark\")\n",
    "#plt.plot(df['PCA1'], df['PCA2'],'o')#,palette=\"dark\")\n",
    "#sns.barplot(x=chroname, y=repcov) #, palette=\"deep\") #, ax=ax3)\n",
    "plt.ylabel(\"PCA 2 (\"+ (split_eigval[1])+\"%)\")\n",
    "plt.xlabel(\"PCA 1 (\"+split_eigval[0]+\"%)\")\n",
    "#plt.xticks(rotation=90)\n",
    "#plt.axis('off')\n",
    "#plt.xticks([0,100,200,300],[])\n",
    "#plt.xticks([0,100,200,300],[\"0\",\"100\",\"200\",\"300\"])\n",
    "#xtic=np.linspace(-0.075,0.015, num=4)\n",
    "#plt.xticks(xtic,[])\n",
    "#plt.xaxis.set_major_locator(plt.MaxNLocator(3))\n",
    "#plt.axis('equal')\n",
    "#plt.yticks([0,100,200,300],[])\n",
    "#plt.yticks()\n",
    "#plt.xaxis.set_tick_params(width=3)\n",
    "ml.rcParams['figure.figsize'] = (5.0, 5.0)\n",
    "#plt.legend(loc='center left') #mode=\"expand\") #loc='center left', bbox_to_anchor=(1, 0.5),\n",
    "           #ncol=2, mode=\"expand\", borderaxespad=0.4)\n",
    "plt.legend(loc='lower left')#, bbox_to_anchor=(0.5, 0., 0.5, 0.5))\n",
    "#plt.legend(bbox_to_anchor=(0., 1.0, 1., .102), loc='lower left') #,\n",
    "          #ncol=2, mode=\"expand\", borderaxespad=0.4)\n",
    "plt.rcParams['axes.spines.left'] = True\n",
    "plt.rcParams['axes.spines.right'] = False\n",
    "plt.rcParams['axes.spines.top'] = False\n",
    "plt.rcParams['axes.spines.bottom'] = True\n",
    "#plt.legend([])\n",
    "#plt.legend('',frameon=False)\n",
    "plt.savefig(\"/Users/dshipilina/GitHub/AfricanDivide/PCA/PCA_rare_noLD_outlremoved.pdf\",bbox_inches=\"tight\")\n",
    "plt.savefig(\"/Users/dshipilina/GitHub/AfricanDivide/PCA/PCA_rare_noLD_outlremoved.png\",bbox_inches=\"tight\")\n",
    "#plt.show()\n",
    "#print(np.linspace(-0.075,0.015, num=4))"
   ]
  },
  {
   "cell_type": "code",
   "execution_count": null,
   "metadata": {
    "collapsed": true,
    "hidden": true,
    "scrolled": true
   },
   "outputs": [],
   "source": [
    "#Check outliers\n",
    "\n",
    "#df['PCA1'].max()\n",
    "print(df['PCA1'].idxmin(axis = 0))\n",
    "print(df['PCA2'].idxmin(axis = 0))"
   ]
  },
  {
   "cell_type": "markdown",
   "metadata": {},
   "source": [
    "## Dataset 3"
   ]
  },
  {
   "cell_type": "code",
   "execution_count": null,
   "metadata": {
    "collapsed": true,
    "scrolled": false
   },
   "outputs": [],
   "source": [
    "eigvec = open(\"/Users/dshipilina/GitHub/AfricanDivide/vanessa.noMAF.noLD.eigenvec\").read()\n",
    "split_eig = eigvec.split('\\n')\n",
    "eigvec_array=[]\n",
    "#print(split_file2[2])\n",
    "for i in split_eig:\n",
    "    ii=i.split()\n",
    "    eigvec_array+=[ii]\n",
    "    \n",
    "#print(eigvec_array[2])\n",
    "    \n",
    "popid = open(\"/Users/dshipilina/GitHub/AfricanDivide/popmap1.txt\").read()\n",
    "split_popid = popid.split('\\n')\n",
    "#print(txt2)\n",
    "popID_array=[]\n",
    "#print(split_file2[2])\n",
    "for i in split_popid:\n",
    "    ii=i.split()\n",
    "    popID_array+=[ii]\n",
    "\n",
    "df = pd.DataFrame(eigvec_array) # , columns = [\"ScaffoldID\", \"N_BUSCOs\",\"BUSCOs_coverage\", ])\n",
    "#remove extra labels and extra PCs\n",
    "df =df.drop(df.columns[[0,11,12,13,14,15,16,17,18,19,20,21]], axis=1)\n",
    "#remove empty row\n",
    "df = df.drop(labels=[347], axis=0)\n",
    "#rename columns\n",
    "df.columns=[\"FullID\", \"PCA1\",\"PCA2\",\"PCA3\",\"PCA4\",\"PCA5\",\"PCA6\",\"PCA7\",\"PCA8\",\"PCA9\"]\n",
    "cols = [\"PCA1\",\"PCA2\",\"PCA3\",\"PCA4\",\"PCA5\",\"PCA6\",\"PCA7\",\"PCA8\",\"PCA9\"]\n",
    "df[cols] = df[cols].apply(pd.to_numeric, errors='coerce', axis=1)\n",
    "#df[\"PCA1\"] = pd.to_numeric(df[\"PCA1\"], downcast=\"float\")\n",
    "#df[\"PCA2\"] = pd.to_numeric(df[\"PCA2\"], downcast=\"float\")\n",
    "#df[\"PCA3\"] = pd.to_numeric(df[\"PCA3\"], downcast=\"float\")\n",
    "\n",
    "#splitting names\n",
    "#print(df[\"FullID\"])\n",
    "dftmp=df[\"FullID\"].str.split('_',expand=True)\n",
    "#print(dftmp)\n",
    "dftmp.columns=[\"Location\", \"SampleID\"]\n",
    "dftmp\n",
    "\n",
    "#getting population IDs\n",
    "dftmp2 = pd.DataFrame(popID_array)\n",
    "dftmp2.columns=[\"pop\",\"popID\"]\n",
    "dftmp2\n",
    "\n",
    "#combining table\n",
    "df = pd.concat([dftmp,dftmp2,df],axis=1)\n",
    "df = df.drop(labels=[347], axis=0)\n",
    "df"
   ]
  },
  {
   "cell_type": "code",
   "execution_count": null,
   "metadata": {
    "collapsed": true,
    "scrolled": true
   },
   "outputs": [],
   "source": [
    "#print(df['loc'])\n",
    "eigval = open(\"/Users/dshipilina/GitHub/AfricanDivide/vanessa.noMAF.noLD.eigenval\").read()\n",
    "split_eigval = eigval.split('\\n')\n",
    "#print(split_eigval[2])\n",
    "\n",
    "\n",
    "cardui = [\"#faab36\", \"#249ea0\", \"#fd5900\", \"#005f60\"]\n",
    "sns.set_palette(cardui)\n",
    "#sns.palplot(sns.color_palette())\n",
    "#plt.savefig(\"/Users/dshipilina/GitHub/AfricanDivide/PCA/color_scheme.png\",bbox_inches=\"tight\")\n",
    "plt.show()\n",
    "\n",
    "#ax = sns.violinplot(x=\"Contents\", y=\"Flavour\", data=rd, color=\"lol\", inner=\"box\")\n",
    "\n",
    "#df[\"alpha\"] = np.where(df['popID']==\"NHE\", 1.0, 0.05)\n",
    "#df\n",
    "\n",
    "#sns.scatterplot(x=df['PCA1'], y=df['PCA2'],hue=df['popID'],\n",
    "                    # data=df[df[\"alpha\"] == 0.05], alpha=0.4)\n",
    "#sns.scatterplot(x=df['PCA1'], y=df['PCA2'], hue=df['popID'],data=df[df[\"alpha\"] == 1.0], alpha=1.0)\n",
    "\n",
    "#plt.show()\n",
    "sns.scatterplot(x=df['PCA1'], y=df['PCA2'], color='grey')\n",
    "sns.scatterplot(xout, yout, color='orange', s=80)#, hue=df['popID'], s=20,alpha=.8) #,alpha=0.4) #,kwargs={\"color\":\"darkred\",\"alpha\":0.3,\"s\":200})#,palette=\"dark\")\n",
    "sns.despine(offset=0, trim=False)\n",
    "plt.ylabel(\"PCA 2 (\"+ (split_eigval[1])+\"%)\")\n",
    "plt.xlabel(\"PCA 1 (\"+split_eigval[0]+\"%)\")\n",
    "ml.rcParams['figure.figsize'] = (9.0, 9.0)\n",
    "plt.legend(loc='best', bbox_to_anchor=(0.5, 0., 0.5, 0.5))\n",
    "plt.legend(frameon=False)\n",
    "#plt.text(df['PCA1'],df['PCA2'],\"TOT\", color='red')\n",
    "plt.text(xout,yout,\"15D327\",size=16)#, color='red')\n",
    "#plt.savefig(\"/Users/dshipilina/GitHub/AfricanDivide/PCA/PCA_noMAF_noLD.pdf\",bbox_inches=\"tight\")\n",
    "#plt.savefig(\"/Users/dshipilina/GitHub/AfricanDivide/PCA/PCA_noMAF_noLD.png\",bbox_inches=\"tight\")\n",
    "plt.show()"
   ]
  },
  {
   "cell_type": "code",
   "execution_count": null,
   "metadata": {
    "collapsed": true,
    "scrolled": true
   },
   "outputs": [],
   "source": [
    "#dot labler\n",
    "xout=df['PCA1'][df[\"FullID\"]=='Namibia_15D327']\n",
    "yout=df['PCA2'][df[\"FullID\"]=='Namibia_15D327']"
   ]
  },
  {
   "cell_type": "markdown",
   "metadata": {},
   "source": [
    "# ADMIXTURE"
   ]
  },
  {
   "cell_type": "code",
   "execution_count": 1,
   "metadata": {
    "scrolled": true
   },
   "outputs": [
    {
     "ename": "FileNotFoundError",
     "evalue": "[Errno 2] No such file or directory: '/Users/dshipilina/GitHub/AfricanDivide/ADMIXTURE/cardui_migrdiv_indv_rarev_md25.2.Q'",
     "output_type": "error",
     "traceback": [
      "\u001b[0;31m---------------------------------------------------------------------------\u001b[0m",
      "\u001b[0;31mFileNotFoundError\u001b[0m                         Traceback (most recent call last)",
      "\u001b[0;32m<ipython-input-1-adcbb404a172>\u001b[0m in \u001b[0;36m<module>\u001b[0;34m\u001b[0m\n\u001b[0;32m----> 1\u001b[0;31m \u001b[0mnew\u001b[0m \u001b[0;34m=\u001b[0m \u001b[0mopen\u001b[0m\u001b[0;34m(\u001b[0m\u001b[0;34m\"/Users/dshipilina/GitHub/AfricanDivide/ADMIXTURE/cardui_migrdiv_indv_rarev_md25.2.Q\"\u001b[0m\u001b[0;34m)\u001b[0m\u001b[0;34m.\u001b[0m\u001b[0mread\u001b[0m\u001b[0;34m(\u001b[0m\u001b[0;34m)\u001b[0m\u001b[0;34m\u001b[0m\u001b[0;34m\u001b[0m\u001b[0m\n\u001b[0m\u001b[1;32m      2\u001b[0m \u001b[0msplit_\u001b[0m \u001b[0;34m=\u001b[0m \u001b[0mnew\u001b[0m\u001b[0;34m.\u001b[0m\u001b[0msplit\u001b[0m\u001b[0;34m(\u001b[0m\u001b[0;34m'\\n'\u001b[0m\u001b[0;34m)\u001b[0m\u001b[0;34m\u001b[0m\u001b[0;34m\u001b[0m\u001b[0m\n\u001b[1;32m      3\u001b[0m \u001b[0mprint\u001b[0m\u001b[0;34m(\u001b[0m\u001b[0msplit_\u001b[0m\u001b[0;34m[\u001b[0m\u001b[0;36m2\u001b[0m\u001b[0;34m]\u001b[0m\u001b[0;34m)\u001b[0m\u001b[0;34m\u001b[0m\u001b[0;34m\u001b[0m\u001b[0m\n\u001b[1;32m      4\u001b[0m \u001b[0meigve_array\u001b[0m\u001b[0;34m=\u001b[0m\u001b[0;34m[\u001b[0m\u001b[0;34m]\u001b[0m\u001b[0;34m\u001b[0m\u001b[0;34m\u001b[0m\u001b[0m\n\u001b[1;32m      5\u001b[0m \u001b[0;31m#print(split_file2[2])\u001b[0m\u001b[0;34m\u001b[0m\u001b[0;34m\u001b[0m\u001b[0;34m\u001b[0m\u001b[0m\n",
      "\u001b[0;31mFileNotFoundError\u001b[0m: [Errno 2] No such file or directory: '/Users/dshipilina/GitHub/AfricanDivide/ADMIXTURE/cardui_migrdiv_indv_rarev_md25.2.Q'"
     ]
    }
   ],
   "source": [
    "new = open(\"/Users/dshipilina/GitHub/AfricanDivide/ADMIXTURE/cardui_migrdiv_indv_rarev_md25.2.Q\").read()\n",
    "split_ = new.split('\\n')\n",
    "print(split_[2])\n",
    "eigve_array=[]\n",
    "#print(split_file2[2])\n",
    "for i in split_:\n",
    "    ii=i.split()\n",
    "    eigve_array+=[ii]\n",
    "\n",
    "df3=pd.DataFrame(eigve_array)\n",
    "df3.columns=['pop1','pop2']\n",
    "df3\n",
    "\n",
    "df4= pd.concat([df3,df],axis=1)\n",
    "#print(df4)\n",
    "df4[\"pop2\"] = pd.to_numeric(df4[\"pop2\"], downcast=\"float\")\n",
    "df4[\"pop1\"] = pd.to_numeric(df4[\"pop1\"], downcast=\"float\")\n",
    "#df4.sort_values(by=[\"pop2\"], inplace=True)\n",
    "df4 = df4.sort_values([\"popID\", \"pop1\",\"Location\"], ascending = (False, True,True))\n",
    "#print(df)\n",
    "df4 = df4.drop(labels=[347], axis=0)\n",
    "df4[100:150]"
   ]
  },
  {
   "cell_type": "code",
   "execution_count": null,
   "metadata": {
    "collapsed": true,
    "scrolled": true
   },
   "outputs": [],
   "source": [
    "ml.rcParams['figure.figsize'] = (32, 5)\n",
    "#index = range(len(df4[\"FullID\"]))\n",
    "plt.bar(df4[\"FullID\"],height=1)#,width=0.98)\n",
    "#plt.bar(df4[\"FullID\"],df4[\"pop1\"])#,width=0.98)\n",
    "#index = range(len(df4[\"FullID\"]))\n",
    "#plt.xticks(index, df4[\"FullID\"])  # set the X ticks and labels\n",
    "#sns.barplot(x=df4[\"FullID\"][0:50], y=np.ones(50), dodge=False) #,color='darkblue')#,edgecolor=\"darkblue\")\n",
    "sns.barplot(x=df4[\"FullID\"], y=df4[\"pop1\"], color='lightblue')\n",
    "plt.xticks(rotation=90)\n",
    "plt.tick_params(axis='x', labelsize=7)\n",
    "plt.rcParams['axes.spines.left'] = False\n",
    "plt.rcParams['axes.spines.right'] = True\n",
    "plt.rcParams['axes.spines.top'] = False\n",
    "plt.rcParams['axes.spines.bottom'] = True\n",
    "plt.xlabel(\"SHEA  SH   NHEA  NHE\")\n",
    "plt.ylabel(\"inferred allele frequences\")\n",
    "\n",
    "# show the graph\n",
    "#plt.savefig(\"/Users/dshipilina/GitHub/AfricanDivide/admixtureK2_v4.pdf\",bbox_inches=\"tight\")\n",
    "#plt.show"
   ]
  },
  {
   "cell_type": "code",
   "execution_count": null,
   "metadata": {
    "collapsed": true,
    "scrolled": true
   },
   "outputs": [],
   "source": [
    "sns.barplot(x=df3[\"\"], y=df4[\"pop1\"], color='lightblue')"
   ]
  },
  {
   "cell_type": "code",
   "execution_count": null,
   "metadata": {
    "collapsed": true,
    "scrolled": true
   },
   "outputs": [],
   "source": [
    "# new = open(\"/Users/dshipilina/GitHub/AfricanDivide/cardui_migrdiv_indv_rarev_md25.2.Q\").read()\n",
    "# split_ = new.split('\\n')\n",
    "# print(split_[2])\n",
    "# eigve_array=[]\n",
    "# #print(split_file2[2])\n",
    "# for i in split_:\n",
    "#     ii=i.split()\n",
    "#     eigve_array+=[ii]\n",
    "\n",
    "# df3=pd.DataFrame(eigve_array)\n",
    "# df3.columns=['pop1','pop2']\n",
    "# df3\n",
    "\n",
    "# df4= pd.concat([df3,df],axis=1)\n",
    "# #print(df4)\n",
    "# #df4[\"pop2\"] = pd.to_numeric(df4[\"pop2\"], downcast=\"float\")\n",
    "# df4[\"pop1\"] = pd.to_numeric(df4[\"pop1\"], downcast=\"float\")\n",
    "# #df4.sort_values(by=[\"pop2\"], inplace=True)\n",
    "# df4.sort_values([\"pop\", \"popID\"])#, ascending = (False, True))\n",
    "# #print(df)\n",
    "# #df4 = df4.drop(labels=[347], axis=0)\n",
    "# df4[167:190]"
   ]
  },
  {
   "cell_type": "code",
   "execution_count": null,
   "metadata": {
    "collapsed": true,
    "scrolled": true
   },
   "outputs": [],
   "source": [
    "# ml.rcParams['figure.figsize'] = (30, 5)\n",
    "# #index = range(len(df4[\"FullID\"]))\n",
    "# plt.bar(df5[\"FullID\"],height=1)#,width=0.98)\n",
    "# #plt.bar(df4[\"FullID\"],df4[\"pop1\"])#,width=0.98)\n",
    "# #index = range(len(df4[\"FullID\"]))\n",
    "# #plt.xticks(index, df4[\"FullID\"])  # set the X ticks and labels\n",
    "# #sns.barplot(x=df4[\"FullID\"][0:50], y=np.ones(50), dodge=False) #,color='darkblue')#,edgecolor=\"darkblue\")\n",
    "# sns.barplot(x=df5[\"FullID\"], y=df5[\"pop1\"], color='lightblue')\n",
    "# plt.xticks(rotation=90)\n",
    "# plt.tick_params(axis='x', labelsize=8)\n",
    "# plt.rcParams['axes.spines.left'] = False\n",
    "# #plt.rcParams['axes.spines.right'] = False\n",
    "# plt.rcParams['axes.spines.top'] = False\n",
    "# #plt.rcParams['axes.spines.bottom'] = False\n",
    "# plt.xlabel(\"\")\n",
    "# plt.ylabel(\"inferred allele frequences\")\n",
    "# index = range(len(df5[\"FullID\"]))\n",
    "# plt.xticks(index, df5[\"FullID\"])\n",
    "\n",
    "# # show the graph\n",
    "# plt.savefig(\"/Users/dshipilina/GitHub/AfricanDivide/admixtureK2_v5.pdf\",bbox_inches=\"tight\")\n",
    "# plt.show"
   ]
  },
  {
   "cell_type": "code",
   "execution_count": null,
   "metadata": {
    "collapsed": true,
    "scrolled": true
   },
   "outputs": [],
   "source": [
    "# new = open(\"/Users/dshipilina/GitHub/AfricanDivide/cardui_migrdiv_indv_rarev_md25.2.Q\").read()\n",
    "# split_ = new.split('\\n')\n",
    "# print(split_[2])\n",
    "# eigve_array=[]\n",
    "# #print(split_file2[2])\n",
    "# for i in split_:\n",
    "#     ii=i.split()\n",
    "#     eigve_array+=[ii]\n",
    "\n",
    "# df3=pd.DataFrame(eigve_array)\n",
    "# df3.columns=['pop1','pop2']\n",
    "# df3\n",
    "\n",
    "# df4= pd.concat([df3,df],axis=1)\n",
    "# print(df4)\n",
    "# df4[\"pop2\"] = pd.to_numeric(df4[\"pop2\"], downcast=\"float\")\n",
    "# df4[\"pop1\"] = pd.to_numeric(df4[\"pop1\"], downcast=\"float\")\n",
    "# df4.sort_values(by=[\"pop2\"], inplace=True)\n",
    "# print(df4)\n",
    "# #sns.axes_style(\"whitegrid\")\n",
    "# ml.rcParams['figure.figsize'] = (30, 5)\n",
    "# plt.bar(df4[\"FullID\"],height=1)#,width=0.98)\n",
    "# plt.bar(df4[\"FullID\"],df4[\"pop1\"])#,width=0.98)\n",
    "# index = range(len(df4[\"FullID\"]))\n",
    "# plt.xticks(index, df4[\"FullID\"])  # set the X ticks and labels\n",
    "# #bar1 = sns.barplot(x=df4[\"FullID\"][0:50], y=np.ones(50), dodge=False) #,color='darkblue')#,edgecolor=\"darkblue\")\n",
    "# #bar2 = sns.barplot(x=df4[\"FullID\"], y=df4[\"pop1\"], color='lightblue',edgecolor=\"none\")\n",
    "# plt.xticks(rotation=90)\n",
    "# plt.tick_params(axis='x', labelsize=6)\n",
    "# #plt.rcParams['axes.spines.left'] = False\n",
    "# plt.rcParams['axes.spines.right'] = False\n",
    "# #plt.rcParams['axes.spines.top'] = False\n",
    "# plt.rcParams['axes.spines.bottom'] = False\n",
    "\n",
    "# #plt.show()  \n",
    "\n",
    "# #plt.bar(df4[\"FullID\"],height=1)\n",
    "\n",
    "# #print(df4[\"pop1\"])\n",
    "# #tips = sns.load_dataset(\"tips\")\n",
    "# #tips\n",
    "                         \n",
    "\n",
    "# # bar chart 2 -> bottom bars (group of 'smoker=Yes')\n",
    "# #bar2 = sns.barplot(x=\"day\", y=\"total_bill\", data=smoker, color='lightblue')\n",
    "\n",
    "# # add legend\n",
    "# #top_bar = mpatches.Patch(color='darkblue', label='smoker = No')\n",
    "# #bottom_bar = mpatches.Patch(color='lightblue', label='smoker = Yes')\n",
    "# #plt.legend(handles=[top_bar, bottom_bar])\n",
    "\n",
    "# # show the graph\n",
    "# #plt.show()\n",
    "# plt.savefig(\"/Users/dshipilina/GitHub/AfricanDivide/admixtureK2_3.pdf\",bbox_inches=\"tight\")"
   ]
  }
 ],
 "metadata": {
  "kernelspec": {
   "display_name": "Python 3",
   "language": "python",
   "name": "python3"
  },
  "language_info": {
   "codemirror_mode": {
    "name": "ipython",
    "version": 3
   },
   "file_extension": ".py",
   "mimetype": "text/x-python",
   "name": "python",
   "nbconvert_exporter": "python",
   "pygments_lexer": "ipython3",
   "version": "3.6.3"
  },
  "toc": {
   "base_numbering": 1,
   "nav_menu": {
    "height": "395px",
    "width": "410px"
   },
   "number_sections": false,
   "sideBar": true,
   "skip_h1_title": false,
   "title_cell": "Table of Contents",
   "title_sidebar": "Contents",
   "toc_cell": false,
   "toc_position": {
    "height": "calc(100% - 180px)",
    "left": "10px",
    "top": "150px",
    "width": "165px"
   },
   "toc_section_display": true,
   "toc_window_display": false
  }
 },
 "nbformat": 4,
 "nbformat_minor": 2
}
