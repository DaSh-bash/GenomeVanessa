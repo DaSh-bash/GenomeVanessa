{
 "cells": [
  {
   "cell_type": "code",
   "execution_count": 2,
   "metadata": {
    "collapsed": true
   },
   "outputs": [],
   "source": [
    "import os\n",
    "import numpy as np\n",
    "import scipy\n",
    "from collections import Counter\n",
    "import sys\n",
    "from IPython.display import SVG\n",
    "import time\n",
    "import matplotlib.pyplot as plt\n",
    "import pandas as pd\n",
    "import seaborn as sns\n",
    "import itertools\n",
    "import matplotlib as ml\n",
    "import re"
   ]
  },
  {
   "cell_type": "code",
   "execution_count": 3,
   "metadata": {
    "collapsed": true
   },
   "outputs": [],
   "source": [
    "%matplotlib inline\n",
    "font = {'family' : 'Sans', 'weight' : 'normal','size': 16}\n",
    "ml.rc('font', **font)\n",
    "ml.rcParams['figure.figsize'] = (5.0, 5.0)\n",
    "ml.rcParams['text.usetex'] =False\n",
    "ml.rc('font', family='serif',size=12)\n"
   ]
  },
  {
   "cell_type": "code",
   "execution_count": 42,
   "metadata": {},
   "outputs": [
    {
     "name": "stdout",
     "output_type": "stream",
     "text": [
      "OG0000020 46\n"
     ]
    },
    {
     "data": {
      "image/png": "[encoded data removed]",
      "text/plain": [
       "<matplotlib.figure.Figure at 0x11ae77048>"
      ]
     },
     "metadata": {},
     "output_type": "display_data"
    }
   ],
   "source": [
    "new = open(\"/Users/dshipilina/GitHub/GenomeVanessa/VanessaAnnotation/TopGO_Data_Prep/BadiRate_summary.txt\").read()\n",
    "split_ = new.split('\\n')\n",
    "print(split_[2])\n",
    "eigve_array=[]\n",
    "#print(split_file2[2])\n",
    "for i in split_:\n",
    "    ii=i.split()\n",
    "    eigve_array+=[ii]\n",
    "\n",
    "df3=pd.DataFrame(eigve_array)\n",
    "df3.columns =[\"orthogroup\", \"N_genes\"]\n",
    "df3 = df3[:-1]\n",
    "#df3 = df3.apply(pd.to_numeric, errors='coerce')\n",
    "df3[\"N_genes\"] = pd.to_numeric(df3[\"N_genes\"], downcast=\"float\")\n",
    "df3\n",
    "\n",
    "#df3.hist()\n",
    "    #df3, x=\"orthogroup\", col=\"N_genes\",\n",
    "    #binwidth=3, height=3, facet_kws=dict(margin_titles=True),\n",
    "#)\n",
    "ml.rcParams['figure.figsize'] = (12.0, 5.0)\n",
    "#plt.plot(x=0)\n",
    "plt.xticks(rotation=90)\n",
    "plt.tick_params(axis='x', labelsize=7)\n",
    "plt.rcParams['axes.spines.left'] = True\n",
    "plt.rcParams['axes.spines.right'] = False\n",
    "plt.rcParams['axes.spines.top'] = False\n",
    "plt.rcParams['axes.spines.bottom'] = True\n",
    "plt.xlabel(\"Position along the chromosome\")\n",
    "plt.ylabel(\"Number of repeats\")\n",
    "x=df3[\"orthogroup\"]\n",
    "y=df3[\"N_genes\"]\n",
    "#plt.bar(x,y) #,hue=df3[\"N_genes\"],palette=\"cool\")\n",
    "\n",
    "graph= sns.barplot(x,y,color=\"#faab36\") #df3[\"N_genes\"])\n",
    "## ax = sns.countplot(x=\"class\", data=titanic)\n",
    "ml.rcParams['figure.figsize'] = (17.0, 5.0)\n",
    "#plt.plot(x=0)\n",
    "plt.xticks(rotation=90)\n",
    "plt.tick_params(axis='x', labelsize=7)\n",
    "plt.rcParams['axes.spines.left'] = True\n",
    "plt.rcParams['axes.spines.right'] = False\n",
    "plt.rcParams['axes.spines.top'] = False\n",
    "plt.rcParams['axes.spines.bottom'] = True\n",
    "plt.xlabel(\"Orthogroups\")\n",
    "plt.ylabel(\"Number of genes\")\n",
    "#Graph is created and stored in the variable 'graph'\n",
    "#graph = sns.barplot(x=\"sepal_width\",y=\"petal_width\",data=dataset)\n",
    "#Drawing a horizontal line at point 1.25\n",
    "graph.axhline(0,linewidth=1,color=\"grey\")\n",
    "plt.show()\n",
    "#df3"
   ]
  },
  {
   "cell_type": "code",
   "execution_count": null,
   "metadata": {
    "collapsed": true
   },
   "outputs": [],
   "source": [
    "plt.savefig(\"/Users/dshipilina/GitHub/Genome.pdf\",bbox_inches=\"tight\")"
   ]
  }
 ],
 "metadata": {
  "kernelspec": {
   "display_name": "Python 3",
   "language": "python",
   "name": "python3"
  },
  "language_info": {
   "codemirror_mode": {
    "name": "ipython",
    "version": 3
   },
   "file_extension": ".py",
   "mimetype": "text/x-python",
   "name": "python",
   "nbconvert_exporter": "python",
   "pygments_lexer": "ipython3",
   "version": "3.6.3"
  },
  "toc": {
   "base_numbering": 1,
   "nav_menu": {},
   "number_sections": true,
   "sideBar": true,
   "skip_h1_title": false,
   "title_cell": "Table of Contents",
   "title_sidebar": "Contents",
   "toc_cell": false,
   "toc_position": {},
   "toc_section_display": true,
   "toc_window_display": false
  }
 },
 "nbformat": 4,
 "nbformat_minor": 2
}
